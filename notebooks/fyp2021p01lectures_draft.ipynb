{
 "cells": [
  {
   "cell_type": "markdown",
   "metadata": {},
   "source": [
    "# Jupyter Lectures, First Year Project 2021"
   ]
  },
  {
   "cell_type": "markdown",
   "metadata": {},
   "source": [
    "## Project 1 - Road collisions analysis, ITU Copenhagen"
   ]
  },
  {
   "cell_type": "markdown",
   "metadata": {},
   "source": [
    "**Instructor: Michael Szell**"
   ]
  },
  {
   "cell_type": "markdown",
   "metadata": {},
   "source": [
    "Course page: https://learnit.itu.dk/local/coursebase/view.php?ciid=590"
   ]
  },
  {
   "cell_type": "markdown",
   "metadata": {},
   "source": [
    "This notebook contains all the code developed in the course lectures to wrangle and explore the data set from the project.\n",
    "\n",
    "Contact: Michael Szell (misz@itu.dk)  \n",
    "Created: 2021-01-29  \n",
    "Last modified: 2021-01-29"
   ]
  },
  {
   "cell_type": "markdown",
   "metadata": {},
   "source": [
    "<hr>"
   ]
  },
  {
   "cell_type": "markdown",
   "metadata": {},
   "source": [
    "# Lecture 1: First data exploration"
   ]
  },
  {
   "cell_type": "markdown",
   "metadata": {},
   "source": [
    "### Imports"
   ]
  },
  {
   "cell_type": "code",
   "execution_count": 58,
   "metadata": {},
   "outputs": [
    {
     "name": "stdout",
     "output_type": "stream",
     "text": [
      "Loaded functions.\n",
      "\n"
     ]
    }
   ],
   "source": [
    "import numpy as np\n",
    "import matplotlib as plt\n",
    "import csv\n",
    "import pandas as pd\n",
    "import seaborn as sns\n",
    "from pathlib import Path\n",
    "\n",
    "%run -i ../scripts/functions.py\n",
    "\n"
   ]
  },
  {
   "cell_type": "markdown",
   "metadata": {},
   "source": [
    "### Constants"
   ]
  },
  {
   "cell_type": "markdown",
   "metadata": {},
   "source": [
    "Constants are written all caps: https://www.python.org/dev/peps/pep-0008/#constants"
   ]
  },
  {
   "cell_type": "code",
   "execution_count": 2,
   "metadata": {},
   "outputs": [],
   "source": [
    "PATH = {\n",
    "    'raw': Path('../data/raw/'),\n",
    "    'processed': Path('../data/processed/'),\n",
    "    'interim': Path('../data/interim/'),\n",
    "    'references': Path('../references')\n",
    "}\n",
    "\n",
    "#DATA paths\n",
    "PATH['accident'] = PATH['interim'] / \"bradford_accidents.csv\"\n",
    "PATH['casual'] = PATH['interim'] / \"bradford_casualties.csv\"\n",
    "PATH['vehicles'] = PATH['interim'] / \"bradford_vehicles.csv\"\n",
    "\n",
    "#Other paths\n",
    "PATH['var_lookup'] = PATH['references'] / 'variable lookup.xls'"
   ]
  },
  {
   "cell_type": "code",
   "execution_count": 103,
   "metadata": {},
   "outputs": [
    {
     "data": {
      "text/plain": [
       "{'Introduction': Empty DataFrame\n",
       " Columns: []\n",
       " Index: [Road Accidents and Safety Data, The data is supplied in comma separated ASCII format., The ACC_Index field give a unique index for each accident and links to Vehicle and Casualty data. Casualties are linked to vehicles by “VEHREF”., This data guide lists the value labels and for each variable., The value “-1” is exported for NULL or out of range values.”, The Longitude and Latitude data is based on WGS 1984.],\n",
       " 'Export_Variables':                                                                           Unnamed: 1  \\\n",
       " VARIABLES                                                                              \n",
       " NaN                                                                              NaN   \n",
       " Accident Circumstances                                                       Vehicle   \n",
       " Accident Index                                                        Accident Index   \n",
       " Police Force                                                       Vehicle Reference   \n",
       " Accident Severity                                                       Vehicle Type   \n",
       " Number of Vehicles                                           Towing and Articulation   \n",
       " Number of Casualties                                               Vehicle Manoeuvre   \n",
       " Date (DD/MM/YYYY)                                   Vehicle Location-Restricted Lane   \n",
       " Day of Week                                                        Junction Location   \n",
       " Time (HH:MM)                                                Skidding and Overturning   \n",
       " Location Easting OSGR (Null if not known)                  Hit Object in Carriageway   \n",
       " Location Northing OSGR (Null if not known)               Vehicle Leaving Carriageway   \n",
       " Longitude (Null if not known)                             Hit Object off Carriageway   \n",
       " Latitude (Null if not known)                                     1st Point of Impact   \n",
       " Local Authority (District)                               Was Vehicle Left Hand Drive   \n",
       " Local Authority (Highway Authority - ONS code)             Journey Purpose of Driver   \n",
       " 1st Road Class                                                         Sex of Driver   \n",
       " 1st Road Number                                                        Age of Driver   \n",
       " Road Type                                                         Age Band of Driver   \n",
       " Speed limit                                                          Engine Capacity   \n",
       " Junction Detail                                              Vehicle Propulsion Code   \n",
       " Junction Control                                        Age of Vehicle (manufacture)   \n",
       " 2nd Road Class                                                     Driver IMD Decile   \n",
       " 2nd Road Number                                                Driver Home Area Type   \n",
       " Pedestrian Crossing-Human Control                                                NaN   \n",
       " Pedestrian Crossing-Physical Facilities                                          NaN   \n",
       " Light Conditions                                                                 NaN   \n",
       " Weather Conditions                                                               NaN   \n",
       " Road Surface Conditions                                                          NaN   \n",
       " Special Conditions at Site                                                       NaN   \n",
       " Carriageway Hazards                                                              NaN   \n",
       " Urban or Rural Area                                                              NaN   \n",
       " Did Police Officer Attend Scene of Accident                                      NaN   \n",
       " Lower Super Ouput Area of Accident_Location (En...                               NaN   \n",
       " \n",
       "                                                                                         Unnamed: 2  \n",
       " VARIABLES                                                                                           \n",
       " NaN                                                                                            NaN  \n",
       " Accident Circumstances                                                                    Casualty  \n",
       " Accident Index                                                                      Accident Index  \n",
       " Police Force                                                                     Vehicle Reference  \n",
       " Accident Severity                                                               Casualty Reference  \n",
       " Number of Vehicles                                                                  Casualty Class  \n",
       " Number of Casualties                                                               Sex of Casualty  \n",
       " Date (DD/MM/YYYY)                                                                  Age of Casualty  \n",
       " Day of Week                                                                   Age Band of Casualty  \n",
       " Time (HH:MM)                                                                     Casualty Severity  \n",
       " Location Easting OSGR (Null if not known)                                      Pedestrian Location  \n",
       " Location Northing OSGR (Null if not known)                                     Pedestrian Movement  \n",
       " Longitude (Null if not known)                                                        Car Passenger  \n",
       " Latitude (Null if not known)                                                Bus or Coach Passenger  \n",
       " Local Authority (District)                          Pedestrian Road Maintenance Worker (From 2011)  \n",
       " Local Authority (Highway Authority - ONS code)                                       Casualty Type  \n",
       " 1st Road Class                                                                 Casualty IMD Decile  \n",
       " 1st Road Number                                                            Casualty Home Area Type  \n",
       " Road Type                                                                                      NaN  \n",
       " Speed limit                                                                                    NaN  \n",
       " Junction Detail                                                                                NaN  \n",
       " Junction Control                                                                               NaN  \n",
       " 2nd Road Class                                                                                 NaN  \n",
       " 2nd Road Number                                                                                NaN  \n",
       " Pedestrian Crossing-Human Control                                                              NaN  \n",
       " Pedestrian Crossing-Physical Facilities                                                        NaN  \n",
       " Light Conditions                                                                               NaN  \n",
       " Weather Conditions                                                                             NaN  \n",
       " Road Surface Conditions                                                                        NaN  \n",
       " Special Conditions at Site                                                                     NaN  \n",
       " Carriageway Hazards                                                                            NaN  \n",
       " Urban or Rural Area                                                                            NaN  \n",
       " Did Police Officer Attend Scene of Accident                                                    NaN  \n",
       " Lower Super Ouput Area of Accident_Location (En...                                             NaN  ,\n",
       " 'Police_Force':                       label\n",
       " code                       \n",
       " 1       Metropolitan Police\n",
       " 3                   Cumbria\n",
       " 4                Lancashire\n",
       " 5                Merseyside\n",
       " 6        Greater Manchester\n",
       " 7                  Cheshire\n",
       " 10              Northumbria\n",
       " 11                   Durham\n",
       " 12          North Yorkshire\n",
       " 13           West Yorkshire\n",
       " 14          South Yorkshire\n",
       " 16               Humberside\n",
       " 17                Cleveland\n",
       " 20            West Midlands\n",
       " 21            Staffordshire\n",
       " 22              West Mercia\n",
       " 23             Warwickshire\n",
       " 30               Derbyshire\n",
       " 31          Nottinghamshire\n",
       " 32             Lincolnshire\n",
       " 33           Leicestershire\n",
       " 34         Northamptonshire\n",
       " 35           Cambridgeshire\n",
       " 36                  Norfolk\n",
       " 37                  Suffolk\n",
       " 40             Bedfordshire\n",
       " 41            Hertfordshire\n",
       " 42                    Essex\n",
       " 43            Thames Valley\n",
       " 44                Hampshire\n",
       " 45                   Surrey\n",
       " 46                     Kent\n",
       " 47                   Sussex\n",
       " 48           City of London\n",
       " 50       Devon and Cornwall\n",
       " 52        Avon and Somerset\n",
       " 53          Gloucestershire\n",
       " 54                Wiltshire\n",
       " 55                   Dorset\n",
       " 60              North Wales\n",
       " 61                    Gwent\n",
       " 62              South Wales\n",
       " 63              Dyfed-Powys\n",
       " 91                 Northern\n",
       " 92                 Grampian\n",
       " 93                  Tayside\n",
       " 94                     Fife\n",
       " 95      Lothian and Borders\n",
       " 96                  Central\n",
       " 97              Strathclyde\n",
       " 98    Dumfries and Galloway,\n",
       " 'Accident_Severity':         label\n",
       " code         \n",
       " 1       Fatal\n",
       " 2     Serious\n",
       " 3      Slight,\n",
       " 'Day_of_Week':           label\n",
       " code           \n",
       " 1        Sunday\n",
       " 2        Monday\n",
       " 3       Tuesday\n",
       " 4     Wednesday\n",
       " 5      Thursday\n",
       " 6        Friday\n",
       " 7      Saturday,\n",
       " 'Local_Authority_(District)':                   label\n",
       " code                   \n",
       " 1           Westminster\n",
       " 2                Camden\n",
       " 3             Islington\n",
       " 4               Hackney\n",
       " 5         Tower Hamlets\n",
       " ...                 ...\n",
       " 937      South Ayrshire\n",
       " 938   South Lanarkshire\n",
       " 939            Stirling\n",
       " 940        West Lothian\n",
       " 941       Western Isles\n",
       " \n",
       " [416 rows x 1 columns],\n",
       " 'Local_Authority_(Highway)':                           Label\n",
       " Code                           \n",
       " S12000033         Aberdeen City\n",
       " S12000034         Aberdeenshire\n",
       " S12000041                 Angus\n",
       " S12000035         Argyll & Bute\n",
       " E09000002  Barking and Dagenham\n",
       " ...                         ...\n",
       " E06000041             Wokingham\n",
       " E08000031         Wolverhampton\n",
       " E10000034        Worcestershire\n",
       " W06000006               Wrexham\n",
       " E06000014                  York\n",
       " \n",
       " [207 rows x 1 columns],\n",
       " '1st_Road_Class':              label\n",
       " code              \n",
       " 1         Motorway\n",
       " 2             A(M)\n",
       " 3                A\n",
       " 4                B\n",
       " 5                C\n",
       " 6     Unclassified,\n",
       " 'Road_Type':                              label\n",
       " code                              \n",
       "  1                      Roundabout\n",
       "  2                  One way street\n",
       "  3                Dual carriageway\n",
       "  6              Single carriageway\n",
       "  7                       Slip road\n",
       "  9                         Unknown\n",
       "  12       One way street/Slip road\n",
       " -1    Data missing or out of range,\n",
       " 'Speed_Limit':                              label\n",
       " code                              \n",
       "  20                         20 MPH\n",
       "  30                         30 MPH\n",
       "  40                         40 MPH\n",
       "  50                         50 MPH\n",
       "  60                         60 MPH\n",
       "  70                         70 MPH\n",
       " -1    Data missing or out of range,\n",
       " 'Junction_Detail':                                     label\n",
       " code                                     \n",
       "  0    Not at junction or within 20 metres\n",
       "  1                             Roundabout\n",
       "  2                        Mini-roundabout\n",
       "  3                T or staggered junction\n",
       "  5                              Slip road\n",
       "  6                             Crossroads\n",
       "  7      More than 4 arms (not roundabout)\n",
       "  8              Private drive or entrance\n",
       "  9                         Other junction\n",
       " -1           Data missing or out of range,\n",
       " 'Junction_Control':                                     label\n",
       " code                                     \n",
       "  0    Not at junction or within 20 metres\n",
       "  1                      Authorised person\n",
       "  2                    Auto traffic signal\n",
       "  3                              Stop sign\n",
       "  4               Give way or uncontrolled\n",
       " -1           Data missing or out of range,\n",
       " '2nd_Road_Class':                                     label\n",
       " code                                     \n",
       " 0     Not at junction or within 20 metres\n",
       " 1                                Motorway\n",
       " 2                                    A(M)\n",
       " 3                                       A\n",
       " 4                                       B\n",
       " 5                                       C\n",
       " 6                            Unclassified,\n",
       " 'Ped_Cross_-_Human':                                    label\n",
       " code                                    \n",
       "  0                None within 50 metres \n",
       "  1     Control by school crossing patrol\n",
       "  2    Control by other authorised person\n",
       " -1          Data missing or out of range,\n",
       " 'Ped_Cross_-_Physical':                                                   label\n",
       " code                                                   \n",
       "  0     No physical crossing facilities within 50 metres\n",
       "  1                                                Zebra\n",
       "  4    Pelican, puffin, toucan or similar non-junctio...\n",
       "  5          Pedestrian phase at traffic signal junction\n",
       "  7                                 Footbridge or subway\n",
       "  8                                       Central refuge\n",
       " -1                         Data missing or out of range,\n",
       " 'Light_Conditions':                              label\n",
       " code                              \n",
       "  1                        Daylight\n",
       "  4           Darkness - lights lit\n",
       "  5         Darkness - lights unlit\n",
       "  6          Darkness - no lighting\n",
       "  7     Darkness - lighting unknown\n",
       " -1    Data missing or out of range,\n",
       " 'Weather':                              label\n",
       " code                              \n",
       "  1              Fine no high winds\n",
       "  2           Raining no high winds\n",
       "  3           Snowing no high winds\n",
       "  4               Fine + high winds\n",
       "  5            Raining + high winds\n",
       "  6            Snowing + high winds\n",
       "  7                     Fog or mist\n",
       "  8                           Other\n",
       "  9                         Unknown\n",
       " -1    Data missing or out of range,\n",
       " 'Road_Surface':                              label\n",
       " code                              \n",
       "  1                             Dry\n",
       "  2                     Wet or damp\n",
       "  3                            Snow\n",
       "  4                    Frost or ice\n",
       "  5            Flood over 3cm. deep\n",
       "  6                   Oil or diesel\n",
       "  7                             Mud\n",
       " -1    Data missing or out of range,\n",
       " 'Special_Conditions_at_Site':                                            label\n",
       " code                                            \n",
       "  0                                          None\n",
       "  1                     Auto traffic signal - out\n",
       "  2                    Auto signal part defective\n",
       "  3    Road sign or marking defective or obscured\n",
       "  4                                     Roadworks\n",
       "  5                        Road surface defective\n",
       "  6                                 Oil or diesel\n",
       "  7                                           Mud\n",
       " -1                  Data missing or out of range,\n",
       " 'Carriageway_Hazards':                                                 label\n",
       " code                                                 \n",
       "  0                                               None\n",
       "  1                               Vehicle load on road\n",
       "  2                               Other object on road\n",
       "  3                                  Previous accident\n",
       "  4                                        Dog on road\n",
       "  5                               Other animal on road\n",
       "  6            Pedestrian in carriageway - not injured\n",
       "  7    Any animal in carriageway (except ridden horse)\n",
       " -1                       Data missing or out of range,\n",
       " 'Urban_Rural':             label\n",
       " code             \n",
       " 1           Urban\n",
       " 2           Rural\n",
       " 3     Unallocated,\n",
       " 'Police_Officer_Attend':                                                   label\n",
       " code                                                   \n",
       " 1                                                   Yes\n",
       " 2                                                    No\n",
       " 3     No - accident was reported using a self comple...,\n",
       " 'Vehicle_Type':                                       label\n",
       " code                                       \n",
       "  1                              Pedal cycle\n",
       "  2                Motorcycle 50cc and under\n",
       "  3               Motorcycle 125cc and under\n",
       "  4    Motorcycle over 125cc and up to 500cc\n",
       "  5                    Motorcycle over 500cc\n",
       "  8                    Taxi/Private hire car\n",
       "  9                                      Car\n",
       "  10        Minibus (8 - 16 passenger seats)\n",
       "  11    Bus or coach (17 or more pass seats)\n",
       "  16                            Ridden horse\n",
       "  17                    Agricultural vehicle\n",
       "  18                                    Tram\n",
       "  19     Van / Goods 3.5 tonnes mgw or under\n",
       "  20         Goods over 3.5t. and under 7.5t\n",
       "  21           Goods 7.5 tonnes mgw and over\n",
       "  22                        Mobility scooter\n",
       "  23                     Electric motorcycle\n",
       "  90                           Other vehicle\n",
       "  97                 Motorcycle - unknown cc\n",
       "  98          Goods vehicle - unknown weight\n",
       " -1             Data missing or out of range,\n",
       " 'Towing_and_Articulation':                              label\n",
       " code                              \n",
       "  0             No tow/articulation\n",
       "  1             Articulated vehicle\n",
       "  2      Double or multiple trailer\n",
       "  3                         Caravan\n",
       "  4                  Single trailer\n",
       "  5                       Other tow\n",
       " -1    Data missing or out of range,\n",
       " 'Vehicle_Manoeuvre':                                     label\n",
       " code                                     \n",
       "  1                              Reversing\n",
       "  2                                 Parked\n",
       "  3                Waiting to go - held up\n",
       "  4                    Slowing or stopping\n",
       "  5                             Moving off\n",
       "  6                                 U-turn\n",
       "  7                           Turning left\n",
       "  8                   Waiting to turn left\n",
       "  9                          Turning right\n",
       "  10                 Waiting to turn right\n",
       "  11                 Changing lane to left\n",
       "  12                Changing lane to right\n",
       "  13   Overtaking moving vehicle - offside\n",
       "  14   Overtaking static vehicle - offside\n",
       "  15                 Overtaking - nearside\n",
       "  16            Going ahead left-hand bend\n",
       "  17           Going ahead right-hand bend\n",
       "  18                     Going ahead other\n",
       " -1           Data missing or out of range,\n",
       " 'Vehicle_Location':                                                   label\n",
       " code                                                   \n",
       "  0               On main c'way - not in restricted lane\n",
       "  1                                Tram/Light rail track\n",
       "  2                                             Bus lane\n",
       "  3                     Busway (including guided busway)\n",
       "  4                     Cycle lane (on main carriageway)\n",
       "  5    Cycleway or shared use footway (not part of  m...\n",
       "  6                           On lay-by or hard shoulder\n",
       "  7                     Entering lay-by or hard shoulder\n",
       "  8                      Leaving lay-by or hard shoulder\n",
       "  9                                   Footway (pavement)\n",
       "  10                                  Not on carriageway\n",
       " -1                         Data missing or out of range,\n",
       " 'Junction_Location':                                                   label\n",
       " code                                                   \n",
       "  0               Not at or within 20 metres of junction\n",
       "  1    Approaching junction or waiting/parked at junc...\n",
       "  2    Cleared junction or waiting/parked at junction...\n",
       "  3                                   Leaving roundabout\n",
       "  4                                  Entering roundabout\n",
       "  5                                    Leaving main road\n",
       "  6                                   Entering main road\n",
       "  7                              Entering from slip road\n",
       "  8         Mid Junction - on roundabout or on main road\n",
       " -1                         Data missing or out of range,\n",
       " 'Skidding_and_Overturning':                              label\n",
       " code                              \n",
       "  0                            None\n",
       "  1                         Skidded\n",
       "  2          Skidded and overturned\n",
       "  3                      Jackknifed\n",
       "  4       Jackknifed and overturned\n",
       "  5                      Overturned\n",
       " -1    Data missing or out of range,\n",
       " 'Hit_Object_in_Carriageway':                                  label\n",
       " code                                  \n",
       "  0                                None\n",
       "  1                   Previous accident\n",
       "  2                          Road works\n",
       "  4                      Parked vehicle\n",
       "  5                       Bridge (roof)\n",
       "  6                       Bridge (side)\n",
       "  7                   Bollard or refuge\n",
       "  8                Open door of vehicle\n",
       "  9        Central island of roundabout\n",
       "  10                               Kerb\n",
       "  11                       Other object\n",
       "  12   Any animal (except ridden horse)\n",
       " -1        Data missing or out of range,\n",
       " 'Veh_Leaving_Carriageway':                                       label\n",
       " code                                       \n",
       "  0                Did not leave carriageway\n",
       "  1                                 Nearside\n",
       "  2                   Nearside and rebounded\n",
       "  3               Straight ahead at junction\n",
       "  4        Offside on to central reservation\n",
       "  5     Offside on to centrl res + rebounded\n",
       "  6    Offside - crossed central reservation\n",
       "  7                                  Offside\n",
       "  8                    Offside and rebounded\n",
       " -1             Data missing or out of range,\n",
       " 'Hit_Object_Off_Carriageway':                               label\n",
       " code                               \n",
       "  0                             None\n",
       "  1      Road sign or traffic signal\n",
       "  2                        Lamp post\n",
       "  3    Telegraph or electricity pole\n",
       "  4                             Tree\n",
       "  5          Bus stop or bus shelter\n",
       "  6            Central crash barrier\n",
       "  7       Near/Offside crash barrier\n",
       "  8               Submerged in water\n",
       "  9                    Entered ditch\n",
       "  10          Other permanent object\n",
       "  11                   Wall or fence\n",
       " -1     Data missing or out of range,\n",
       " '1st_Point_of_Impact':                              label\n",
       " code                              \n",
       "  0                  Did not impact\n",
       "  1                           Front\n",
       "  2                            Back\n",
       "  3                         Offside\n",
       "  4                        Nearside\n",
       " -1    Data missing or out of range,\n",
       " 'Was_Vehicle_Left_Hand_Drive':                              label\n",
       " code                              \n",
       "  1                              No\n",
       "  2                             Yes\n",
       " -1    Data missing or out of range,\n",
       " 'Journey_Purpose':                              label\n",
       " code                              \n",
       "  1         Journey as part of work\n",
       "  2          Commuting to/from work\n",
       "  3     Taking pupil to/from school\n",
       "  4     Pupil riding to/from school\n",
       "  5                           Other\n",
       "  6                       Not known\n",
       "  15      Other/Not known (2005-10)\n",
       " -1    Data missing or out of range,\n",
       " 'Sex_of_Driver':                              label\n",
       " code                              \n",
       "  1                            Male\n",
       "  2                          Female\n",
       "  3                       Not known\n",
       " -1    Data missing or out of range,\n",
       " 'Age_Band':                              label\n",
       " code                              \n",
       "  1                           0 - 5\n",
       "  2                          6 - 10\n",
       "  3                         11 - 15\n",
       "  4                         16 - 20\n",
       "  5                         21 - 25\n",
       "  6                         26 - 35\n",
       "  7                         36 - 45\n",
       "  8                         46 - 55\n",
       "  9                         56 - 65\n",
       "  10                        66 - 75\n",
       "  11                        Over 75\n",
       " -1    Data missing or out of range,\n",
       " 'Vehicle_Propulsion_Code':                     label\n",
       " code                     \n",
       " 1                  Petrol\n",
       " 2               Heavy oil\n",
       " 3                Electric\n",
       " 4                   Steam\n",
       " 5                     Gas\n",
       " 6        Petrol/Gas (LPG)\n",
       " 7             Gas/Bi-fuel\n",
       " 8         Hybrid electric\n",
       " 9              Gas Diesel\n",
       " 10    New fuel technology\n",
       " 11             Fuel cells\n",
       " 12        Electric diesel\n",
       "  M              Undefined,\n",
       " 'Casualty_Class':                 label\n",
       " code                 \n",
       " 1     Driver or rider\n",
       " 2           Passenger\n",
       " 3          Pedestrian,\n",
       " 'Sex_of_Casualty':                              label\n",
       " code                              \n",
       "  1                            Male\n",
       "  2                          Female\n",
       " -1    Data missing or out of range,\n",
       " 'Age_of_Casualty':                               label\n",
       " code                               \n",
       " 0-120                         0-120\n",
       " -1     Data missing or out of range,\n",
       " 'Casualty_Severity':         label\n",
       " code         \n",
       " 1       Fatal\n",
       " 2     Serious\n",
       " 3      Slight,\n",
       " 'Ped_Location':                                                   label\n",
       " code                                                   \n",
       "  0                                     Not a Pedestrian\n",
       "  1             Crossing on pedestrian crossing facility\n",
       "  2                   Crossing in zig-zag approach lines\n",
       "  3                       Crossing in zig-zag exit lines\n",
       "  4    Crossing elsewhere within 50m. of pedestrian c...\n",
       "  5                   In carriageway, crossing elsewhere\n",
       "  6                                  On footway or verge\n",
       "  7     On refuge, central island or central reservation\n",
       "  8    In centre of carriageway - not on refuge, isla...\n",
       "  9                         In carriageway, not crossing\n",
       "  10                                    Unknown or other\n",
       " -1                         Data missing or out of range,\n",
       " 'Ped_Movement':                                                   label\n",
       " code                                                   \n",
       "  0                                     Not a Pedestrian\n",
       "  1                      Crossing from driver's nearside\n",
       "  2    Crossing from nearside - masked by parked or s...\n",
       "  3                       Crossing from driver's offside\n",
       "  4    Crossing from offside - masked by  parked or s...\n",
       "  5    In carriageway, stationary - not crossing  (st...\n",
       "  6    In carriageway, stationary - not crossing  (st...\n",
       "  7         Walking along in carriageway, facing traffic\n",
       "  8        Walking along in carriageway, back to traffic\n",
       "  9                                     Unknown or other\n",
       " -1                         Data missing or out of range,\n",
       " 'Car_Passenger':                              label\n",
       " code                              \n",
       "  0               Not car passenger\n",
       "  1            Front seat passenger\n",
       "  2             Rear seat passenger\n",
       " -1    Data missing or out of range,\n",
       " 'Bus_Passenger':                              label\n",
       " code                              \n",
       "  0    Not a bus or coach passenger\n",
       "  1                        Boarding\n",
       "  2                       Alighting\n",
       "  3              Standing passenger\n",
       "  4                Seated passenger\n",
       " -1    Data missing or out of range,\n",
       " 'Ped_Road_Maintenance_Worker':                              label\n",
       " code                              \n",
       "  0             No / Not applicable\n",
       "  1                             Yes\n",
       "  2                       Not Known\n",
       " -1    Data missing or out of range,\n",
       " 'Casualty_Type':                                                   label\n",
       " code                                                   \n",
       " 0                                            Pedestrian\n",
       " 1                                               Cyclist\n",
       " 2          Motorcycle 50cc and under rider or passenger\n",
       " 3         Motorcycle 125cc and under rider or passenger\n",
       " 4     Motorcycle over 125cc and up to 500cc rider or...\n",
       " 5              Motorcycle over 500cc rider or passenger\n",
       " 8                        Taxi/Private hire car occupant\n",
       " 9                                          Car occupant\n",
       " 10            Minibus (8 - 16 passenger seats) occupant\n",
       " 11        Bus or coach occupant (17 or more pass seats)\n",
       " 16                                          Horse rider\n",
       " 17                        Agricultural vehicle occupant\n",
       " 18                                        Tram occupant\n",
       " 19    Van / Goods vehicle (3.5 tonnes mgw or under) ...\n",
       " 20    Goods vehicle (over 3.5t. and under 7.5t.) occ...\n",
       " 21     Goods vehicle (7.5 tonnes mgw and over) occupant\n",
       " 22                               Mobility scooter rider\n",
       " 23               Electric motorcycle rider or passenger\n",
       " 90                               Other vehicle occupant\n",
       " 97           Motorcycle - unknown cc rider or passenger\n",
       " 98              Goods vehicle (unknown weight) occupant,\n",
       " 'IMD_Decile':                              label\n",
       " code                              \n",
       "  1               Most deprived 10%\n",
       "  2            More deprived 10-20%\n",
       "  3            More deprived 20-30%\n",
       "  4            More deprived 30-40%\n",
       "  5            More deprived 40-50%\n",
       "  6            Less deprived 40-50%\n",
       "  7            Less deprived 30-40%\n",
       "  8            Less deprived 20-30%\n",
       "  9            Less deprived 10-20%\n",
       "  10             Least deprived 10%\n",
       " -1    Data missing or out of range,\n",
       " 'Home_Area_Type':                              label\n",
       " code                              \n",
       "  1                      Urban area\n",
       "  2                      Small town\n",
       "  3                           Rural\n",
       " -1    Data missing or out of range}"
      ]
     },
     "execution_count": 103,
     "metadata": {},
     "output_type": "execute_result"
    }
   ],
   "source": [
    "# sheet_name=none gives all sheets \n",
    "VAR_LOOKUP = pd.read_excel(PATH['var_lookup'], sheet_name = None, index_col = 0)\n",
    "FLD_LOOKUP = {}\n",
    "for sheet_name in VAR_LOOKUP:\n",
    "    # add underscores in field name since its missing in excel\n",
    "    FLD_LOOKUP[sheet_name.replace(\" \", \"_\")] = VAR_LOOKUP[sheet_name]\n",
    "\n",
    "#for backwards compatitilyty. todo:remove\n",
    "VAR_LOOKUP = FLD_LOOKUP\n",
    "FLD_LOOKUP"
   ]
  },
  {
   "cell_type": "code",
   "execution_count": 4,
   "metadata": {},
   "outputs": [],
   "source": [
    "# interesting function to create \"Categorical\" objects\n",
    "# Todo: maybe \n",
    "# https://pandas.pydata.org/pandas-docs/stable/reference/api/pandas.Categorical.from_codes.html#pandas.Categorical.from_codes\n",
    "#pd.Categorical.from_codes(VAR_LOOKUP.)"
   ]
  },
  {
   "cell_type": "markdown",
   "metadata": {},
   "source": [
    "### Load raw data"
   ]
  },
  {
   "cell_type": "markdown",
   "metadata": {},
   "source": [
    "The data were downloaded from here on Jan 4th: https://data.gov.uk/dataset/road-accidents-safety-data  \n",
    "That page was updated afterwards (Jan 8th), so local and online data may be inconsistent."
   ]
  },
  {
   "cell_type": "markdown",
   "metadata": {},
   "source": [
    "How are missing values handled?  \n",
    "According to the datasheet for the dataset, \"-1\" means \"not avaliable\", so we handle these values as such using a Panda DataFrame"
   ]
  },
  {
   "cell_type": "code",
   "execution_count": 5,
   "metadata": {},
   "outputs": [],
   "source": [
    "# Dict to store our data\n",
    "DATA = {}\n",
    "\n",
    "# Read data and explicitly define some data types for columns\n",
    "DATA['accident'] = pd.read_csv(PATH['accident'], dtype={0: 'string', 31: 'string'}, encoding='utf-8-sig', na_values=\"-1\")\n",
    "\n",
    "DATA['casual'] = pd.read_csv(PATH['casual'], dtype={0: 'string'}, encoding='utf-8-sig', na_values=\"-1\")\n",
    "\n",
    "DATA['vehicles'] = pd.read_csv(PATH['vehicles'], dtype={0: 'string'}, encoding='utf-8-sig', na_values=\"-1\") # Maybe useful later: add index_col=0"
   ]
  },
  {
   "cell_type": "markdown",
   "metadata": {},
   "source": [
    "We first explore one data table, the accidents."
   ]
  },
  {
   "cell_type": "code",
   "execution_count": 6,
   "metadata": {
    "scrolled": false
   },
   "outputs": [
    {
     "data": {
      "text/plain": [
       "array([0, 3, 1, 7, 4, 5])"
      ]
     },
     "execution_count": 6,
     "metadata": {},
     "output_type": "execute_result"
    }
   ],
   "source": [
    "pd.unique(DATA['accident']['Special_Conditions_at_Site'])"
   ]
  },
  {
   "cell_type": "code",
   "execution_count": 7,
   "metadata": {},
   "outputs": [
    {
     "data": {
      "text/plain": [
       "Index(['Accident_Index', 'Location_Easting_OSGR', 'Location_Northing_OSGR',\n",
       "       'Longitude', 'Latitude', 'Police_Force', 'Accident_Severity',\n",
       "       'Number_of_Vehicles', 'Number_of_Casualties', 'Date', 'Day_of_Week',\n",
       "       'Time', 'Local_Authority_(District)', 'Local_Authority_(Highway)',\n",
       "       '1st_Road_Class', '1st_Road_Number', 'Road_Type', 'Speed_limit',\n",
       "       'Junction_Detail', 'Junction_Control', '2nd_Road_Class',\n",
       "       '2nd_Road_Number', 'Pedestrian_Crossing-Human_Control',\n",
       "       'Pedestrian_Crossing-Physical_Facilities', 'Light_Conditions',\n",
       "       'Weather_Conditions', 'Road_Surface_Conditions',\n",
       "       'Special_Conditions_at_Site', 'Carriageway_Hazards',\n",
       "       'Urban_or_Rural_Area', 'Did_Police_Officer_Attend_Scene_of_Accident',\n",
       "       'LSOA_of_Accident_Location'],\n",
       "      dtype='object')"
      ]
     },
     "execution_count": 7,
     "metadata": {},
     "output_type": "execute_result"
    }
   ],
   "source": [
    "HEADERS = {\n",
    "    'accident': DATA['accident'].columns,\n",
    "    'casual': DATA['casual'].columns,\n",
    "    'vehicles': DATA['vehicles'].columns\n",
    "}\n",
    "\n",
    "HEADERS['accident']"
   ]
  },
  {
   "cell_type": "markdown",
   "metadata": {},
   "source": [
    "It is always good to start with a \"sneak preview\":"
   ]
  },
  {
   "cell_type": "code",
   "execution_count": 8,
   "metadata": {
    "scrolled": true
   },
   "outputs": [
    {
     "data": {
      "text/html": [
       "<div>\n",
       "<style scoped>\n",
       "    .dataframe tbody tr th:only-of-type {\n",
       "        vertical-align: middle;\n",
       "    }\n",
       "\n",
       "    .dataframe tbody tr th {\n",
       "        vertical-align: top;\n",
       "    }\n",
       "\n",
       "    .dataframe thead th {\n",
       "        text-align: right;\n",
       "    }\n",
       "</style>\n",
       "<table border=\"1\" class=\"dataframe\">\n",
       "  <thead>\n",
       "    <tr style=\"text-align: right;\">\n",
       "      <th></th>\n",
       "      <th>Accident_Index</th>\n",
       "      <th>Location_Easting_OSGR</th>\n",
       "      <th>Location_Northing_OSGR</th>\n",
       "      <th>Longitude</th>\n",
       "      <th>Latitude</th>\n",
       "      <th>Police_Force</th>\n",
       "      <th>Accident_Severity</th>\n",
       "      <th>Number_of_Vehicles</th>\n",
       "      <th>Number_of_Casualties</th>\n",
       "      <th>Date</th>\n",
       "      <th>...</th>\n",
       "      <th>Pedestrian_Crossing-Human_Control</th>\n",
       "      <th>Pedestrian_Crossing-Physical_Facilities</th>\n",
       "      <th>Light_Conditions</th>\n",
       "      <th>Weather_Conditions</th>\n",
       "      <th>Road_Surface_Conditions</th>\n",
       "      <th>Special_Conditions_at_Site</th>\n",
       "      <th>Carriageway_Hazards</th>\n",
       "      <th>Urban_or_Rural_Area</th>\n",
       "      <th>Did_Police_Officer_Attend_Scene_of_Accident</th>\n",
       "      <th>LSOA_of_Accident_Location</th>\n",
       "    </tr>\n",
       "  </thead>\n",
       "  <tbody>\n",
       "    <tr>\n",
       "      <th>0</th>\n",
       "      <td>2019136111019</td>\n",
       "      <td>417000.0</td>\n",
       "      <td>433017.0</td>\n",
       "      <td>-1.743423</td>\n",
       "      <td>53.793206</td>\n",
       "      <td>13</td>\n",
       "      <td>3</td>\n",
       "      <td>2</td>\n",
       "      <td>1</td>\n",
       "      <td>01/01/2019</td>\n",
       "      <td>...</td>\n",
       "      <td>0</td>\n",
       "      <td>0</td>\n",
       "      <td>4</td>\n",
       "      <td>1</td>\n",
       "      <td>1</td>\n",
       "      <td>0</td>\n",
       "      <td>0</td>\n",
       "      <td>1</td>\n",
       "      <td>1</td>\n",
       "      <td>E01010606</td>\n",
       "    </tr>\n",
       "    <tr>\n",
       "      <th>1</th>\n",
       "      <td>2019136111467</td>\n",
       "      <td>419018.0</td>\n",
       "      <td>433809.0</td>\n",
       "      <td>-1.712742</td>\n",
       "      <td>53.800255</td>\n",
       "      <td>13</td>\n",
       "      <td>3</td>\n",
       "      <td>3</td>\n",
       "      <td>2</td>\n",
       "      <td>02/01/2019</td>\n",
       "      <td>...</td>\n",
       "      <td>0</td>\n",
       "      <td>0</td>\n",
       "      <td>1</td>\n",
       "      <td>1</td>\n",
       "      <td>1</td>\n",
       "      <td>0</td>\n",
       "      <td>0</td>\n",
       "      <td>1</td>\n",
       "      <td>1</td>\n",
       "      <td>E01010618</td>\n",
       "    </tr>\n",
       "    <tr>\n",
       "      <th>2</th>\n",
       "      <td>2019136121066</td>\n",
       "      <td>418157.0</td>\n",
       "      <td>430906.0</td>\n",
       "      <td>-1.725984</td>\n",
       "      <td>53.774194</td>\n",
       "      <td>13</td>\n",
       "      <td>3</td>\n",
       "      <td>2</td>\n",
       "      <td>1</td>\n",
       "      <td>02/01/2019</td>\n",
       "      <td>...</td>\n",
       "      <td>0</td>\n",
       "      <td>0</td>\n",
       "      <td>1</td>\n",
       "      <td>1</td>\n",
       "      <td>1</td>\n",
       "      <td>0</td>\n",
       "      <td>0</td>\n",
       "      <td>1</td>\n",
       "      <td>1</td>\n",
       "      <td>E01010615</td>\n",
       "    </tr>\n",
       "    <tr>\n",
       "      <th>3</th>\n",
       "      <td>2019136131015</td>\n",
       "      <td>415321.0</td>\n",
       "      <td>438238.0</td>\n",
       "      <td>-1.768652</td>\n",
       "      <td>53.840183</td>\n",
       "      <td>13</td>\n",
       "      <td>3</td>\n",
       "      <td>2</td>\n",
       "      <td>2</td>\n",
       "      <td>03/01/2019</td>\n",
       "      <td>...</td>\n",
       "      <td>0</td>\n",
       "      <td>5</td>\n",
       "      <td>1</td>\n",
       "      <td>1</td>\n",
       "      <td>1</td>\n",
       "      <td>0</td>\n",
       "      <td>0</td>\n",
       "      <td>1</td>\n",
       "      <td>1</td>\n",
       "      <td>E01010571</td>\n",
       "    </tr>\n",
       "    <tr>\n",
       "      <th>4</th>\n",
       "      <td>2019136131184</td>\n",
       "      <td>415008.0</td>\n",
       "      <td>431561.0</td>\n",
       "      <td>-1.773732</td>\n",
       "      <td>53.780180</td>\n",
       "      <td>13</td>\n",
       "      <td>3</td>\n",
       "      <td>1</td>\n",
       "      <td>1</td>\n",
       "      <td>03/01/2019</td>\n",
       "      <td>...</td>\n",
       "      <td>0</td>\n",
       "      <td>0</td>\n",
       "      <td>1</td>\n",
       "      <td>1</td>\n",
       "      <td>1</td>\n",
       "      <td>0</td>\n",
       "      <td>0</td>\n",
       "      <td>1</td>\n",
       "      <td>2</td>\n",
       "      <td>E01010735</td>\n",
       "    </tr>\n",
       "  </tbody>\n",
       "</table>\n",
       "<p>5 rows × 32 columns</p>\n",
       "</div>"
      ],
      "text/plain": [
       "  Accident_Index  Location_Easting_OSGR  Location_Northing_OSGR  Longitude  \\\n",
       "0  2019136111019               417000.0                433017.0  -1.743423   \n",
       "1  2019136111467               419018.0                433809.0  -1.712742   \n",
       "2  2019136121066               418157.0                430906.0  -1.725984   \n",
       "3  2019136131015               415321.0                438238.0  -1.768652   \n",
       "4  2019136131184               415008.0                431561.0  -1.773732   \n",
       "\n",
       "    Latitude  Police_Force  Accident_Severity  Number_of_Vehicles  \\\n",
       "0  53.793206            13                  3                   2   \n",
       "1  53.800255            13                  3                   3   \n",
       "2  53.774194            13                  3                   2   \n",
       "3  53.840183            13                  3                   2   \n",
       "4  53.780180            13                  3                   1   \n",
       "\n",
       "   Number_of_Casualties        Date  ...  Pedestrian_Crossing-Human_Control  \\\n",
       "0                     1  01/01/2019  ...                                  0   \n",
       "1                     2  02/01/2019  ...                                  0   \n",
       "2                     1  02/01/2019  ...                                  0   \n",
       "3                     2  03/01/2019  ...                                  0   \n",
       "4                     1  03/01/2019  ...                                  0   \n",
       "\n",
       "  Pedestrian_Crossing-Physical_Facilities  Light_Conditions  \\\n",
       "0                                       0                 4   \n",
       "1                                       0                 1   \n",
       "2                                       0                 1   \n",
       "3                                       5                 1   \n",
       "4                                       0                 1   \n",
       "\n",
       "  Weather_Conditions  Road_Surface_Conditions  Special_Conditions_at_Site  \\\n",
       "0                  1                        1                           0   \n",
       "1                  1                        1                           0   \n",
       "2                  1                        1                           0   \n",
       "3                  1                        1                           0   \n",
       "4                  1                        1                           0   \n",
       "\n",
       "   Carriageway_Hazards  Urban_or_Rural_Area  \\\n",
       "0                    0                    1   \n",
       "1                    0                    1   \n",
       "2                    0                    1   \n",
       "3                    0                    1   \n",
       "4                    0                    1   \n",
       "\n",
       "   Did_Police_Officer_Attend_Scene_of_Accident  LSOA_of_Accident_Location  \n",
       "0                                            1                  E01010606  \n",
       "1                                            1                  E01010618  \n",
       "2                                            1                  E01010615  \n",
       "3                                            1                  E01010571  \n",
       "4                                            2                  E01010735  \n",
       "\n",
       "[5 rows x 32 columns]"
      ]
     },
     "execution_count": 8,
     "metadata": {},
     "output_type": "execute_result"
    }
   ],
   "source": [
    "DATA['accident'][:5]"
   ]
  },
  {
   "cell_type": "markdown",
   "metadata": {},
   "source": [
    "Reminder and documentation on structured arrays:  \n",
    "https://numpy.org/devdocs/user/basics.rec.html"
   ]
  },
  {
   "cell_type": "markdown",
   "metadata": {},
   "source": [
    "#### Insight: Mixed variable types"
   ]
  },
  {
   "cell_type": "markdown",
   "metadata": {},
   "source": [
    "Number of records"
   ]
  },
  {
   "cell_type": "code",
   "execution_count": 9,
   "metadata": {},
   "outputs": [
    {
     "data": {
      "text/plain": [
       "(833, 32)"
      ]
     },
     "execution_count": 9,
     "metadata": {},
     "output_type": "execute_result"
    }
   ],
   "source": [
    "DATA['accident'].shape"
   ]
  },
  {
   "cell_type": "markdown",
   "metadata": {},
   "source": [
    "Number of fields"
   ]
  },
  {
   "cell_type": "code",
   "execution_count": 10,
   "metadata": {},
   "outputs": [
    {
     "data": {
      "text/plain": [
       "(32, 23, 16)"
      ]
     },
     "execution_count": 10,
     "metadata": {},
     "output_type": "execute_result"
    }
   ],
   "source": [
    "len(DATA['accident'].dtypes), len(DATA['vehicles'].dtypes), len(DATA['casual'].dtypes)\n"
   ]
  },
  {
   "cell_type": "markdown",
   "metadata": {},
   "source": [
    "**\"Data in the wild\" puzzle: Why is the first field \"\\ufeffAccident_Index\" and not \"Accident_Index\"?**"
   ]
  },
  {
   "cell_type": "markdown",
   "metadata": {},
   "source": [
    "Fields"
   ]
  },
  {
   "cell_type": "code",
   "execution_count": 11,
   "metadata": {
    "scrolled": false
   },
   "outputs": [
    {
     "data": {
      "text/plain": [
       "Accident_Index                       string\n",
       "Vehicle_Reference                     int64\n",
       "Vehicle_Type                          int64\n",
       "Towing_and_Articulation               int64\n",
       "Vehicle_Manoeuvre                     int64\n",
       "Vehicle_Location-Restricted_Lane      int64\n",
       "Junction_Location                     int64\n",
       "Skidding_and_Overturning              int64\n",
       "Hit_Object_in_Carriageway             int64\n",
       "Vehicle_Leaving_Carriageway           int64\n",
       "Hit_Object_off_Carriageway            int64\n",
       "1st_Point_of_Impact                   int64\n",
       "Was_Vehicle_Left_Hand_Drive?          int64\n",
       "Journey_Purpose_of_Driver             int64\n",
       "Sex_of_Driver                         int64\n",
       "Age_of_Driver                       float64\n",
       "Age_Band_of_Driver                  float64\n",
       "Engine_Capacity_(CC)                float64\n",
       "Propulsion_Code                     float64\n",
       "Age_of_Vehicle                      float64\n",
       "Driver_IMD_Decile                   float64\n",
       "Driver_Home_Area_Type               float64\n",
       "Vehicle_IMD_Decile                  float64\n",
       "dtype: object"
      ]
     },
     "execution_count": 11,
     "metadata": {},
     "output_type": "execute_result"
    }
   ],
   "source": [
    "DATA['vehicles'].dtypes"
   ]
  },
  {
   "cell_type": "markdown",
   "metadata": {},
   "source": [
    "<hr>"
   ]
  },
  {
   "cell_type": "markdown",
   "metadata": {},
   "source": [
    "We explore the other two tables the same way."
   ]
  },
  {
   "cell_type": "code",
   "execution_count": 12,
   "metadata": {
    "scrolled": true
   },
   "outputs": [
    {
     "data": {
      "text/plain": [
       "Accident_Index                       string\n",
       "Vehicle_Reference                     int64\n",
       "Vehicle_Type                          int64\n",
       "Towing_and_Articulation               int64\n",
       "Vehicle_Manoeuvre                     int64\n",
       "Vehicle_Location-Restricted_Lane      int64\n",
       "Junction_Location                     int64\n",
       "Skidding_and_Overturning              int64\n",
       "Hit_Object_in_Carriageway             int64\n",
       "Vehicle_Leaving_Carriageway           int64\n",
       "Hit_Object_off_Carriageway            int64\n",
       "1st_Point_of_Impact                   int64\n",
       "Was_Vehicle_Left_Hand_Drive?          int64\n",
       "Journey_Purpose_of_Driver             int64\n",
       "Sex_of_Driver                         int64\n",
       "Age_of_Driver                       float64\n",
       "Age_Band_of_Driver                  float64\n",
       "Engine_Capacity_(CC)                float64\n",
       "Propulsion_Code                     float64\n",
       "Age_of_Vehicle                      float64\n",
       "Driver_IMD_Decile                   float64\n",
       "Driver_Home_Area_Type               float64\n",
       "Vehicle_IMD_Decile                  float64\n",
       "dtype: object"
      ]
     },
     "execution_count": 12,
     "metadata": {},
     "output_type": "execute_result"
    }
   ],
   "source": [
    "DATA['vehicles'].dtypes"
   ]
  },
  {
   "cell_type": "code",
   "execution_count": 13,
   "metadata": {
    "scrolled": true
   },
   "outputs": [
    {
     "data": {
      "text/plain": [
       "Accident_Index                         string\n",
       "Vehicle_Reference                       int64\n",
       "Casualty_Reference                      int64\n",
       "Casualty_Class                          int64\n",
       "Sex_of_Casualty                         int64\n",
       "Age_of_Casualty                         int64\n",
       "Age_Band_of_Casualty                    int64\n",
       "Casualty_Severity                       int64\n",
       "Pedestrian_Location                     int64\n",
       "Pedestrian_Movement                     int64\n",
       "Car_Passenger                           int64\n",
       "Bus_or_Coach_Passenger                  int64\n",
       "Pedestrian_Road_Maintenance_Worker      int64\n",
       "Casualty_Type                           int64\n",
       "Casualty_Home_Area_Type               float64\n",
       "Casualty_IMD_Decile                   float64\n",
       "dtype: object"
      ]
     },
     "execution_count": 13,
     "metadata": {},
     "output_type": "execute_result"
    }
   ],
   "source": [
    "DATA['casual'].dtypes"
   ]
  },
  {
   "cell_type": "markdown",
   "metadata": {},
   "source": [
    "## Index checking for the 3 data sets\n",
    "Our dataset contains an indexed column named \"accident_index\" for each of the 3 tables. We do some sanity checks for this index.\n",
    "\n",
    "### Check if DATA['vehicles'] accident index column maps to an accident_index in DATA['accidents]\n",
    "\n",
    "A= accident  \n",
    "B= vehicles\n",
    "\n",
    "So we get all the vehicle records that does not connect to accident_records\n",
    "\n",
    "<img src=\"../references/right_excluding_join.png\" alt=\"source: http://www.codeproject.com/KB/database/Visual_SQL_Joins/RIGHT_EXCLUDING_JOIN.png\">\n",
    "\n",
    "\n"
   ]
  },
  {
   "cell_type": "code",
   "execution_count": 14,
   "metadata": {
    "scrolled": true
   },
   "outputs": [
    {
     "name": "stdout",
     "output_type": "stream",
     "text": [
      "in accident right excluding joined with vehicles there is 0 vehicle-records which does not have a related accident information\n"
     ]
    }
   ],
   "source": [
    "# https://stackoverflow.com/questions/53645882/pandas-merging-101\n",
    "DATA['accident_r_exc_join'] = DATA['accident'].merge(DATA['vehicles'], on='Accident_Index', how='right', indicator=True)\\\n",
    "    .query('_merge == \"right_only\"').drop('_merge', 1)\n",
    "\n",
    "print(\"in accident right excluding joined with vehicles there is\", DATA['accident_r_exc_join'].shape[0], \"vehicle-records which does not have a related accident information\")"
   ]
  },
  {
   "cell_type": "markdown",
   "metadata": {},
   "source": [
    "Conclusion: all the accident_indexes in the vechicle records seems correct\n",
    "\n",
    "### Check if DATA['casualties'] accident index column maps to an accident_index in DATA['accidents]\n",
    "\n",
    "A= accident  \n",
    "B= casualties\n",
    "\n",
    "So we get all the casualties records that does not connect to accident_records\n",
    "\n",
    "<img src=\"../references/right_excluding_join.png\" alt=\"source: http://www.codeproject.com/KB/database/Visual_SQL_Joins/RIGHT_EXCLUDING_JOIN.png\">\n",
    "\n",
    "\n"
   ]
  },
  {
   "cell_type": "code",
   "execution_count": 15,
   "metadata": {},
   "outputs": [
    {
     "name": "stdout",
     "output_type": "stream",
     "text": [
      "in accident right excluding joined with casualties there is 0 casualty-records which does not have a related accident information\n"
     ]
    }
   ],
   "source": [
    "DATA['accident_r_exc_join'] = DATA['accident'].merge(DATA['casual'], on='Accident_Index', how='right', indicator=True)\\\n",
    "    .query('_merge == \"right_only\"').drop('_merge', 1)\n",
    "\n",
    "print(\"in accident right excluding joined with casualties there is\", DATA['accident_r_exc_join'].shape[0], \"casualty-records which does not have a related accident information\")"
   ]
  },
  {
   "cell_type": "markdown",
   "metadata": {},
   "source": [
    "Conclusion: all the accident_indexes in the casualty records seems correct"
   ]
  },
  {
   "cell_type": "markdown",
   "metadata": {},
   "source": [
    "# Lecture 2: Command line wrangling and dealing with missing data"
   ]
  },
  {
   "cell_type": "markdown",
   "metadata": {},
   "source": [
    "A faster way of getting basic insights into a new data set than by using numpy is by using command line tools."
   ]
  },
  {
   "cell_type": "markdown",
   "metadata": {},
   "source": [
    "Let's get a first overview using `head`. There are 3 data tables: Accidents, Casualties, and Vehicles."
   ]
  },
  {
   "cell_type": "code",
   "execution_count": 16,
   "metadata": {
    "scrolled": false
   },
   "outputs": [
    {
     "name": "stdout",
     "output_type": "stream",
     "text": [
      "Accident_Index,Location_Easting_OSGR,Location_Northing_OSGR,Longitude,Latitude,Police_Force,Accident_Severity,Number_of_Vehicles,Number_of_Casualties,Date,Day_of_Week,Time,Local_Authority_(District),Local_Authority_(Highway),1st_Road_Class,1st_Road_Number,Road_Type,Speed_limit,Junction_Detail,Junction_Control,2nd_Road_Class,2nd_Road_Number,Pedestrian_Crossing-Human_Control,Pedestrian_Crossing-Physical_Facilities,Light_Conditions,Weather_Conditions,Road_Surface_Conditions,Special_Conditions_at_Site,Carriageway_Hazards,Urban_or_Rural_Area,Did_Police_Officer_Attend_Scene_of_Accident,LSOA_of_Accident_Location\r\n",
      "2019136111019,417000.0,433017.0,-1.743423,53.793206,13,3,2,1,01/01/2019,3,08:00,200,E08000032,3,650,6,30,6,4,3,647,0,0,4,1,1,0,0,1,1,E01010606\r\n",
      "2019136111467,419018.0,433809.0,-1.712742,53.800255,13,3,3,2,02/01/2019,4,13:20,200,E08000032,6,0,6,30,0,-1,-1,0,0,0,1,1,1,0,0,1,1,E01010618\r\n",
      "2019136121066,418157.0,430906.0,-1.725984,53.774194,13,3,2,1,02/01/2019,4,15:45,200,E08000032,3,650,3,40,5,4,6,0,0,0,1,1,1,0,0,1,1,E01010615\r\n",
      "2019136131015,415321.0,438238.0,-1.768652,53.840183,13,3,2,2,03/01/2019,5,15:11,200,E08000032,3,6038,6,30,3,4,6,0,0,5,1,1,1,0,0,1,1,E01010571\r\n"
     ]
    }
   ],
   "source": [
    "!head -n 5 \"../data/interim/bradford_accidents.csv\""
   ]
  },
  {
   "cell_type": "markdown",
   "metadata": {},
   "source": [
    "### General insights"
   ]
  },
  {
   "cell_type": "markdown",
   "metadata": {},
   "source": [
    "#### Link between data tables"
   ]
  },
  {
   "cell_type": "markdown",
   "metadata": {},
   "source": [
    "Records between data tables are linked through their `Accident_Index`.\n",
    "\n",
    "Looking at the first Accident_Index 2019010128300, we can see there seems to be a one-to-many relation between accident->casualty and accident->vehicle, meaning there can be multiple casualties and vehicles involved in one accident (makes sense).\n",
    "\n",
    "https://en.wikipedia.org/wiki/One-to-many_(data_model)"
   ]
  },
  {
   "cell_type": "markdown",
   "metadata": {},
   "source": [
    "#### Dimensions"
   ]
  },
  {
   "cell_type": "markdown",
   "metadata": {},
   "source": [
    "Number of records"
   ]
  },
  {
   "cell_type": "markdown",
   "metadata": {},
   "source": [
    "https://en.wikipedia.org/wiki/Wc_(Unix)"
   ]
  },
  {
   "cell_type": "code",
   "execution_count": 17,
   "metadata": {},
   "outputs": [
    {
     "name": "stdout",
     "output_type": "stream",
     "text": [
      "834 ../data/interim/bradford_accidents.csv\r\n"
     ]
    }
   ],
   "source": [
    "!wc -l \"../data/interim/bradford_accidents.csv\""
   ]
  },
  {
   "cell_type": "markdown",
   "metadata": {},
   "source": [
    "Number of fields (in first line)"
   ]
  },
  {
   "cell_type": "markdown",
   "metadata": {},
   "source": [
    "https://www.geeksforgeeks.org/awk-command-unixlinux-examples/"
   ]
  },
  {
   "cell_type": "code",
   "execution_count": 18,
   "metadata": {
    "scrolled": true
   },
   "outputs": [
    {
     "name": "stdout",
     "output_type": "stream",
     "text": [
      "32\r\n"
     ]
    }
   ],
   "source": [
    "!head -n 1 \"../data/interim/bradford_accidents.csv\" | awk -F \",\" \"{print NF}\""
   ]
  },
  {
   "cell_type": "markdown",
   "metadata": {},
   "source": [
    "See and count all fields"
   ]
  },
  {
   "cell_type": "markdown",
   "metadata": {},
   "source": [
    "https://en.wikipedia.org/wiki/Tr_(Unix)\n",
    "https://en.wikipedia.org/wiki/Nl_(Unix)"
   ]
  },
  {
   "cell_type": "code",
   "execution_count": 19,
   "metadata": {},
   "outputs": [
    {
     "name": "stdout",
     "output_type": "stream",
     "text": [
      "     1\tAccident_Index\r\n",
      "     2\tLocation_Easting_OSGR\r\n",
      "     3\tLocation_Northing_OSGR\r\n",
      "     4\tLongitude\r\n",
      "     5\tLatitude\r\n",
      "     6\tPolice_Force\r\n",
      "     7\tAccident_Severity\r\n",
      "     8\tNumber_of_Vehicles\r\n",
      "     9\tNumber_of_Casualties\r\n",
      "    10\tDate\r\n",
      "    11\tDay_of_Week\r\n",
      "    12\tTime\r\n",
      "    13\tLocal_Authority_(District)\r\n",
      "    14\tLocal_Authority_(Highway)\r\n",
      "    15\t1st_Road_Class\r\n",
      "    16\t1st_Road_Number\r\n",
      "    17\tRoad_Type\r\n",
      "    18\tSpeed_limit\r\n",
      "    19\tJunction_Detail\r\n",
      "    20\tJunction_Control\r\n",
      "    21\t2nd_Road_Class\r\n",
      "    22\t2nd_Road_Number\r\n",
      "    23\tPedestrian_Crossing-Human_Control\r\n",
      "    24\tPedestrian_Crossing-Physical_Facilities\r\n",
      "    25\tLight_Conditions\r\n",
      "    26\tWeather_Conditions\r\n",
      "    27\tRoad_Surface_Conditions\r\n",
      "    28\tSpecial_Conditions_at_Site\r\n",
      "    29\tCarriageway_Hazards\r\n",
      "    30\tUrban_or_Rural_Area\r\n",
      "    31\tDid_Police_Officer_Attend_Scene_of_Accident\r\n",
      "    32\tLSOA_of_Accident_Location\r\n"
     ]
    }
   ],
   "source": [
    "!head -n 1 \"../data/interim/bradford_accidents.csv\" | tr \",\" \"\\n\" | nl"
   ]
  },
  {
   "cell_type": "markdown",
   "metadata": {},
   "source": [
    "### Sanity checks"
   ]
  },
  {
   "cell_type": "markdown",
   "metadata": {},
   "source": [
    "Has each record the same number of fields?"
   ]
  },
  {
   "cell_type": "markdown",
   "metadata": {},
   "source": [
    "https://shapeshed.com/unix-uniq/  \n",
    "https://www.putorius.net/uniq-command-linux.html"
   ]
  },
  {
   "cell_type": "code",
   "execution_count": 20,
   "metadata": {},
   "outputs": [
    {
     "name": "stdout",
     "output_type": "stream",
     "text": [
      "32\r\n"
     ]
    }
   ],
   "source": [
    "!awk -F \",\" \"{print NF}\" \"../data/interim/bradford_accidents.csv\" | sort | uniq -d"
   ]
  },
  {
   "cell_type": "markdown",
   "metadata": {},
   "source": [
    "How many duplicate lines are there? (If more than 0, there could be a problem)"
   ]
  },
  {
   "cell_type": "code",
   "execution_count": 21,
   "metadata": {
    "scrolled": true,
    "tags": []
   },
   "outputs": [
    {
     "name": "stdout",
     "output_type": "stream",
     "text": [
      "0\r\n"
     ]
    }
   ],
   "source": [
    "!sort \"../data/interim/bradford_accidents.csv\" | uniq -d | wc -l"
   ]
  },
  {
   "cell_type": "markdown",
   "metadata": {},
   "source": [
    "More advanced stuff with `awk`: https://datafix.com.au/BASHing/2020-05-20.html"
   ]
  },
  {
   "cell_type": "markdown",
   "metadata": {},
   "source": [
    "## Dealing with missing data"
   ]
  },
  {
   "cell_type": "markdown",
   "metadata": {},
   "source": [
    "Using a masked array:  \n",
    "https://numpy.org/devdocs/reference/maskedarray.baseclass.html#numpy.ma.MaskedArray"
   ]
  },
  {
   "cell_type": "code",
   "execution_count": 22,
   "metadata": {},
   "outputs": [
    {
     "data": {
      "text/html": [
       "<div>\n",
       "<style scoped>\n",
       "    .dataframe tbody tr th:only-of-type {\n",
       "        vertical-align: middle;\n",
       "    }\n",
       "\n",
       "    .dataframe tbody tr th {\n",
       "        vertical-align: top;\n",
       "    }\n",
       "\n",
       "    .dataframe thead th {\n",
       "        text-align: right;\n",
       "    }\n",
       "</style>\n",
       "<table border=\"1\" class=\"dataframe\">\n",
       "  <thead>\n",
       "    <tr style=\"text-align: right;\">\n",
       "      <th></th>\n",
       "      <th>Accident_Index</th>\n",
       "      <th>Location_Easting_OSGR</th>\n",
       "      <th>Location_Northing_OSGR</th>\n",
       "      <th>Longitude</th>\n",
       "      <th>Latitude</th>\n",
       "      <th>Police_Force</th>\n",
       "      <th>Accident_Severity</th>\n",
       "      <th>Number_of_Vehicles</th>\n",
       "      <th>Number_of_Casualties</th>\n",
       "      <th>Date</th>\n",
       "      <th>...</th>\n",
       "      <th>Pedestrian_Crossing-Human_Control</th>\n",
       "      <th>Pedestrian_Crossing-Physical_Facilities</th>\n",
       "      <th>Light_Conditions</th>\n",
       "      <th>Weather_Conditions</th>\n",
       "      <th>Road_Surface_Conditions</th>\n",
       "      <th>Special_Conditions_at_Site</th>\n",
       "      <th>Carriageway_Hazards</th>\n",
       "      <th>Urban_or_Rural_Area</th>\n",
       "      <th>Did_Police_Officer_Attend_Scene_of_Accident</th>\n",
       "      <th>LSOA_of_Accident_Location</th>\n",
       "    </tr>\n",
       "  </thead>\n",
       "  <tbody>\n",
       "    <tr>\n",
       "      <th>0</th>\n",
       "      <td>False</td>\n",
       "      <td>False</td>\n",
       "      <td>False</td>\n",
       "      <td>False</td>\n",
       "      <td>False</td>\n",
       "      <td>False</td>\n",
       "      <td>False</td>\n",
       "      <td>False</td>\n",
       "      <td>False</td>\n",
       "      <td>False</td>\n",
       "      <td>...</td>\n",
       "      <td>False</td>\n",
       "      <td>False</td>\n",
       "      <td>False</td>\n",
       "      <td>False</td>\n",
       "      <td>False</td>\n",
       "      <td>False</td>\n",
       "      <td>False</td>\n",
       "      <td>False</td>\n",
       "      <td>False</td>\n",
       "      <td>False</td>\n",
       "    </tr>\n",
       "    <tr>\n",
       "      <th>1</th>\n",
       "      <td>False</td>\n",
       "      <td>False</td>\n",
       "      <td>False</td>\n",
       "      <td>False</td>\n",
       "      <td>False</td>\n",
       "      <td>False</td>\n",
       "      <td>False</td>\n",
       "      <td>False</td>\n",
       "      <td>False</td>\n",
       "      <td>False</td>\n",
       "      <td>...</td>\n",
       "      <td>False</td>\n",
       "      <td>False</td>\n",
       "      <td>False</td>\n",
       "      <td>False</td>\n",
       "      <td>False</td>\n",
       "      <td>False</td>\n",
       "      <td>False</td>\n",
       "      <td>False</td>\n",
       "      <td>False</td>\n",
       "      <td>False</td>\n",
       "    </tr>\n",
       "    <tr>\n",
       "      <th>2</th>\n",
       "      <td>False</td>\n",
       "      <td>False</td>\n",
       "      <td>False</td>\n",
       "      <td>False</td>\n",
       "      <td>False</td>\n",
       "      <td>False</td>\n",
       "      <td>False</td>\n",
       "      <td>False</td>\n",
       "      <td>False</td>\n",
       "      <td>False</td>\n",
       "      <td>...</td>\n",
       "      <td>False</td>\n",
       "      <td>False</td>\n",
       "      <td>False</td>\n",
       "      <td>False</td>\n",
       "      <td>False</td>\n",
       "      <td>False</td>\n",
       "      <td>False</td>\n",
       "      <td>False</td>\n",
       "      <td>False</td>\n",
       "      <td>False</td>\n",
       "    </tr>\n",
       "    <tr>\n",
       "      <th>3</th>\n",
       "      <td>False</td>\n",
       "      <td>False</td>\n",
       "      <td>False</td>\n",
       "      <td>False</td>\n",
       "      <td>False</td>\n",
       "      <td>False</td>\n",
       "      <td>False</td>\n",
       "      <td>False</td>\n",
       "      <td>False</td>\n",
       "      <td>False</td>\n",
       "      <td>...</td>\n",
       "      <td>False</td>\n",
       "      <td>False</td>\n",
       "      <td>False</td>\n",
       "      <td>False</td>\n",
       "      <td>False</td>\n",
       "      <td>False</td>\n",
       "      <td>False</td>\n",
       "      <td>False</td>\n",
       "      <td>False</td>\n",
       "      <td>False</td>\n",
       "    </tr>\n",
       "    <tr>\n",
       "      <th>4</th>\n",
       "      <td>False</td>\n",
       "      <td>False</td>\n",
       "      <td>False</td>\n",
       "      <td>False</td>\n",
       "      <td>False</td>\n",
       "      <td>False</td>\n",
       "      <td>False</td>\n",
       "      <td>False</td>\n",
       "      <td>False</td>\n",
       "      <td>False</td>\n",
       "      <td>...</td>\n",
       "      <td>False</td>\n",
       "      <td>False</td>\n",
       "      <td>False</td>\n",
       "      <td>False</td>\n",
       "      <td>False</td>\n",
       "      <td>False</td>\n",
       "      <td>False</td>\n",
       "      <td>False</td>\n",
       "      <td>False</td>\n",
       "      <td>False</td>\n",
       "    </tr>\n",
       "  </tbody>\n",
       "</table>\n",
       "<p>5 rows × 32 columns</p>\n",
       "</div>"
      ],
      "text/plain": [
       "   Accident_Index  Location_Easting_OSGR  Location_Northing_OSGR  Longitude  \\\n",
       "0           False                  False                   False      False   \n",
       "1           False                  False                   False      False   \n",
       "2           False                  False                   False      False   \n",
       "3           False                  False                   False      False   \n",
       "4           False                  False                   False      False   \n",
       "\n",
       "   Latitude  Police_Force  Accident_Severity  Number_of_Vehicles  \\\n",
       "0     False         False              False               False   \n",
       "1     False         False              False               False   \n",
       "2     False         False              False               False   \n",
       "3     False         False              False               False   \n",
       "4     False         False              False               False   \n",
       "\n",
       "   Number_of_Casualties   Date  ...  Pedestrian_Crossing-Human_Control  \\\n",
       "0                 False  False  ...                              False   \n",
       "1                 False  False  ...                              False   \n",
       "2                 False  False  ...                              False   \n",
       "3                 False  False  ...                              False   \n",
       "4                 False  False  ...                              False   \n",
       "\n",
       "   Pedestrian_Crossing-Physical_Facilities  Light_Conditions  \\\n",
       "0                                    False             False   \n",
       "1                                    False             False   \n",
       "2                                    False             False   \n",
       "3                                    False             False   \n",
       "4                                    False             False   \n",
       "\n",
       "   Weather_Conditions  Road_Surface_Conditions  Special_Conditions_at_Site  \\\n",
       "0               False                    False                       False   \n",
       "1               False                    False                       False   \n",
       "2               False                    False                       False   \n",
       "3               False                    False                       False   \n",
       "4               False                    False                       False   \n",
       "\n",
       "   Carriageway_Hazards  Urban_or_Rural_Area  \\\n",
       "0                False                False   \n",
       "1                False                False   \n",
       "2                False                False   \n",
       "3                False                False   \n",
       "4                False                False   \n",
       "\n",
       "   Did_Police_Officer_Attend_Scene_of_Accident  LSOA_of_Accident_Location  \n",
       "0                                        False                      False  \n",
       "1                                        False                      False  \n",
       "2                                        False                      False  \n",
       "3                                        False                      False  \n",
       "4                                        False                      False  \n",
       "\n",
       "[5 rows x 32 columns]"
      ]
     },
     "execution_count": 22,
     "metadata": {},
     "output_type": "execute_result"
    }
   ],
   "source": [
    "DATA['accident'][:5].isnull()"
   ]
  },
  {
   "cell_type": "markdown",
   "metadata": {},
   "source": [
    "How many values in total?  \n",
    "Which fields are missing?"
   ]
  },
  {
   "cell_type": "code",
   "execution_count": 23,
   "metadata": {},
   "outputs": [
    {
     "data": {
      "text/plain": [
       "(685, 25971)"
      ]
     },
     "execution_count": 23,
     "metadata": {},
     "output_type": "execute_result"
    }
   ],
   "source": [
    "# DATA['accident'].isnull().sum(), \"--- sum ---\", DATA['accident'].isnull().sum().sum()\n",
    "\n",
    "# Pandas: first sum the missing values row-wise, then sum all the row-wise sums to one single sum\n",
    "# Missing                            Not missing\n",
    "DATA['accident'].isna().sum().sum(), DATA['accident'].notna().sum().sum()"
   ]
  },
  {
   "cell_type": "markdown",
   "metadata": {},
   "source": [
    "Summary of missing values:"
   ]
  },
  {
   "cell_type": "code",
   "execution_count": 24,
   "metadata": {},
   "outputs": [
    {
     "data": {
      "text/plain": [
       "1      13:20\n",
       "4      08:05\n",
       "5      17:22\n",
       "6      14:35\n",
       "8      17:15\n",
       "       ...  \n",
       "821    17:15\n",
       "825    13:42\n",
       "826    17:45\n",
       "827    23:45\n",
       "830    12:18\n",
       "Name: Time, Length: 343, dtype: object"
      ]
     },
     "execution_count": 24,
     "metadata": {},
     "output_type": "execute_result"
    }
   ],
   "source": [
    "# Overview of missing values in columns\n",
    "DATA['accident'].isna().any()\n",
    "\n",
    "# Get only the names of the columns with missing values\n",
    "DATA['accident'].columns[DATA['accident'].isna().any()]\n",
    "\n",
    "# Return the rows with missing values\n",
    "DATA['accident'][DATA['accident'].isna().any(axis=1)]['Time']"
   ]
  },
  {
   "cell_type": "markdown",
   "metadata": {},
   "source": [
    "## Task 1 - Frequency of road collisions in your city for..."
   ]
  },
  {
   "cell_type": "markdown",
   "metadata": {},
   "source": [
    "### a) ...different age groups"
   ]
  },
  {
   "cell_type": "code",
   "execution_count": 25,
   "metadata": {},
   "outputs": [
    {
     "data": {
      "text/plain": [
       "6     176\n",
       "7     170\n",
       "4     161\n",
       "8     149\n",
       "5     141\n",
       "9      85\n",
       "3      75\n",
       "10     49\n",
       "2      42\n",
       "1      37\n",
       "11     32\n",
       "Name: Age_Band_of_Casualty, dtype: int64"
      ]
     },
     "execution_count": 25,
     "metadata": {},
     "output_type": "execute_result"
    }
   ],
   "source": [
    "# Age analysis\n",
    "DATA['casual']['Age_Band_of_Casualty'].value_counts()"
   ]
  },
  {
   "cell_type": "markdown",
   "metadata": {},
   "source": [
    "### b) ...in different times\n",
    "(during the day, the week, or year)"
   ]
  },
  {
   "cell_type": "code",
   "execution_count": 26,
   "metadata": {},
   "outputs": [
    {
     "data": {
      "text/plain": [
       "5    139\n",
       "4    135\n",
       "6    129\n",
       "3    122\n",
       "2    111\n",
       "7    109\n",
       "1     88\n",
       "Name: Day_of_Week, dtype: int64"
      ]
     },
     "execution_count": 26,
     "metadata": {},
     "output_type": "execute_result"
    }
   ],
   "source": [
    "# Time analysis\n",
    "DATA['accident']['Day_of_Week'].value_counts()"
   ]
  },
  {
   "cell_type": "markdown",
   "metadata": {},
   "source": [
    "### c) ...and for differences in one other condition."
   ]
  },
  {
   "cell_type": "code",
   "execution_count": 27,
   "metadata": {},
   "outputs": [
    {
     "data": {
      "text/plain": [
       "0    873\n",
       "1     98\n",
       "3     50\n",
       "9     45\n",
       "2     20\n",
       "4     13\n",
       "5      9\n",
       "7      5\n",
       "6      3\n",
       "8      1\n",
       "Name: Pedestrian_Movement, dtype: int64"
      ]
     },
     "execution_count": 27,
     "metadata": {},
     "output_type": "execute_result"
    }
   ],
   "source": [
    "# Movement analysis - Task 1, c\n",
    "DATA['casual']['Pedestrian_Movement'].value_counts()"
   ]
  },
  {
   "cell_type": "markdown",
   "metadata": {},
   "source": [
    "<hr>"
   ]
  },
  {
   "cell_type": "markdown",
   "metadata": {},
   "source": [
    "# Lecture 3: Visual data exploration, Connecting tables, Association test"
   ]
  },
  {
   "cell_type": "markdown",
   "metadata": {},
   "source": [
    "## Visual exploratory data analysis (\"Plot your data\")"
   ]
  },
  {
   "cell_type": "markdown",
   "metadata": {},
   "source": [
    "### Bar plots of categorical variables"
   ]
  },
  {
   "cell_type": "code",
   "execution_count": 28,
   "metadata": {},
   "outputs": [
    {
     "data": {
      "text/plain": [
       "Index(['Accident_Index', 'Location_Easting_OSGR', 'Location_Northing_OSGR',\n",
       "       'Longitude', 'Latitude', 'Police_Force', 'Accident_Severity',\n",
       "       'Number_of_Vehicles', 'Number_of_Casualties', 'Date', 'Day_of_Week',\n",
       "       'Time', 'Local_Authority_(District)', 'Local_Authority_(Highway)',\n",
       "       '1st_Road_Class', '1st_Road_Number', 'Road_Type', 'Speed_limit',\n",
       "       'Junction_Detail', 'Junction_Control', '2nd_Road_Class',\n",
       "       '2nd_Road_Number', 'Pedestrian_Crossing-Human_Control',\n",
       "       'Pedestrian_Crossing-Physical_Facilities', 'Light_Conditions',\n",
       "       'Weather_Conditions', 'Road_Surface_Conditions',\n",
       "       'Special_Conditions_at_Site', 'Carriageway_Hazards',\n",
       "       'Urban_or_Rural_Area', 'Did_Police_Officer_Attend_Scene_of_Accident',\n",
       "       'LSOA_of_Accident_Location'],\n",
       "      dtype='object')"
      ]
     },
     "execution_count": 28,
     "metadata": {},
     "output_type": "execute_result"
    }
   ],
   "source": [
    "HEADERS['accident']"
   ]
  },
  {
   "cell_type": "code",
   "execution_count": 29,
   "metadata": {},
   "outputs": [
    {
     "data": {
      "text/plain": [
       "0    3\n",
       "1    4\n",
       "2    4\n",
       "3    5\n",
       "Name: Day_of_Week, dtype: int64"
      ]
     },
     "execution_count": 29,
     "metadata": {},
     "output_type": "execute_result"
    }
   ],
   "source": [
    "DATA['accident']['Day_of_Week'][:4]"
   ]
  },
  {
   "cell_type": "markdown",
   "metadata": {},
   "source": [
    "We were lucky because the categories 1,2,3 were \"nice\". But usually they aren't, so we need to explicitly map to integers:"
   ]
  },
  {
   "cell_type": "code",
   "execution_count": null,
   "metadata": {
    "scrolled": true
   },
   "outputs": [],
   "source": []
  },
  {
   "cell_type": "markdown",
   "metadata": {},
   "source": [
    "Instead of copy-pasting code, let's write a function."
   ]
  },
  {
   "cell_type": "code",
   "execution_count": null,
   "metadata": {
    "scrolled": false
   },
   "outputs": [],
   "source": []
  },
  {
   "cell_type": "markdown",
   "metadata": {},
   "source": [
    "Typing the variable lookup manually is cumbersome. Can we read the excel directly?  \n",
    "pandas can: https://pandas.pydata.org/pandas-docs/stable/reference/api/pandas.read_excel.html"
   ]
  },
  {
   "cell_type": "code",
   "execution_count": null,
   "metadata": {},
   "outputs": [],
   "source": []
  },
  {
   "cell_type": "markdown",
   "metadata": {},
   "source": [
    "### Histograms of numerical variables"
   ]
  },
  {
   "cell_type": "code",
   "execution_count": null,
   "metadata": {},
   "outputs": [],
   "source": []
  },
  {
   "cell_type": "markdown",
   "metadata": {},
   "source": [
    "### Categorical scatterplots"
   ]
  },
  {
   "cell_type": "markdown",
   "metadata": {},
   "source": [
    "Scatterplots are good for relating two numerical variables. If we have one numerical versus one categorical variable, we can do a box plot. But could we also visualize all data points? Yes: https://seaborn.pydata.org/tutorial/categorical.html"
   ]
  },
  {
   "cell_type": "code",
   "execution_count": null,
   "metadata": {},
   "outputs": [],
   "source": []
  },
  {
   "cell_type": "markdown",
   "metadata": {},
   "source": [
    "## Connecting tables with np.isin()"
   ]
  },
  {
   "cell_type": "markdown",
   "metadata": {},
   "source": [
    "**Question: How many babies and toddlers died on UK roads in June 2019?**"
   ]
  },
  {
   "cell_type": "markdown",
   "metadata": {},
   "source": [
    "Numpy has the fucntion isin() to select for a list of indices: https://numpy.org/doc/stable/reference/generated/numpy.isin.html"
   ]
  },
  {
   "cell_type": "code",
   "execution_count": null,
   "metadata": {},
   "outputs": [],
   "source": []
  },
  {
   "cell_type": "markdown",
   "metadata": {},
   "source": [
    "**Question: Who killed them?**"
   ]
  },
  {
   "cell_type": "markdown",
   "metadata": {},
   "source": [
    "Homework"
   ]
  },
  {
   "cell_type": "markdown",
   "metadata": {},
   "source": [
    "## Association test between two categorical variables \n",
    "**(Pearson $\\chi^2$ test of independence)**"
   ]
  },
  {
   "cell_type": "markdown",
   "metadata": {},
   "source": [
    "Inspired by:  \n",
    "https://peterstatistics.com/CrashCourse/3-TwoVarUnpair/NomNom/NomNom-2a-Test.html  \n",
    "https://bit.ly/3kbwKEL"
   ]
  },
  {
   "cell_type": "markdown",
   "metadata": {},
   "source": [
    "**Let us ask: Is there a statistically significant association between accident severity and speed limit?**  \n",
    "We ask because speed limit is something that the city government can regulate."
   ]
  },
  {
   "cell_type": "markdown",
   "metadata": {},
   "source": [
    "### Hypothesis testing"
   ]
  },
  {
   "cell_type": "markdown",
   "metadata": {},
   "source": [
    "We are now in the realm of [Statistical hypothesis testing](https://en.wikipedia.org/wiki/Statistical_hypothesis_testing). In general, we must first state and compare two hypotheses:\n",
    "\n",
    "- $H_0$ (null hypothesis): There is no statistically significant relationship between accident severity and speed limit.\n",
    "- $H_\\alpha$ (alternative hypothesis): There is a statistically significant relationship between accident severity and speed limit.\n",
    "\n",
    "We must then 1) state+check statistical assumptions, 2) choose an appropriate test and test statistic $T$, 3) derive the distribution for the test statistic, 4) select a significance level $\\alpha$, usually 0.01 or 0.05, 5) calculate the observed test statistic $t_{\\mathrm obs}$, 6) calculate the [p-value](https://en.wikipedia.org/wiki/P-value). \n",
    "\n",
    "If the p-value $< \\alpha$, then the null hypothesis will be rejected."
   ]
  },
  {
   "cell_type": "markdown",
   "metadata": {},
   "source": [
    "### Pearson $\\chi^2$ test of independence"
   ]
  },
  {
   "cell_type": "markdown",
   "metadata": {},
   "source": [
    "To test association between two categorical variables, one uses the [Pearson chi-square test of independence](https://en.wikipedia.org/wiki/Pearson%27s_chi-squared_test). If the significance of this test (p-value) is below a significance level (typically 0.05), the two variables have a significant association.\n",
    "\n",
    "The Pearson chi-square test should only be used if most cells have an expected count above 5, and the minimum expected count is at least 1."
   ]
  },
  {
   "cell_type": "code",
   "execution_count": null,
   "metadata": {},
   "outputs": [],
   "source": []
  },
  {
   "cell_type": "markdown",
   "metadata": {},
   "source": [
    "We crosstabulate using pandas:\n",
    "https://pandas.pydata.org/pandas-docs/stable/reference/api/pandas.crosstab.html\n",
    "\n",
    "The cross tabulation is also known as contingency table."
   ]
  },
  {
   "cell_type": "code",
   "execution_count": null,
   "metadata": {},
   "outputs": [],
   "source": []
  },
  {
   "cell_type": "markdown",
   "metadata": {},
   "source": [
    "The idea is now to compare these observed values with expected values.  \n",
    "The expected values can be calculated using:\n",
    "\\begin{equation*}\n",
    "E_{i,j} = \\frac{R_i \\times C_j}{N}\n",
    "\\end{equation*}\n",
    "The $E_{i,j}$ indicates the expected count in row i, column j. The $R_i$ is the row total of row i, and $C_j$ the column total of column j. The $N$ is the grand total."
   ]
  },
  {
   "cell_type": "code",
   "execution_count": null,
   "metadata": {},
   "outputs": [],
   "source": []
  },
  {
   "cell_type": "markdown",
   "metadata": {},
   "source": [
    "That was the manual way of doing it. `chi2_contingency()` can do it for us automatically:"
   ]
  },
  {
   "cell_type": "code",
   "execution_count": null,
   "metadata": {
    "scrolled": false
   },
   "outputs": [],
   "source": []
  },
  {
   "cell_type": "markdown",
   "metadata": {},
   "source": [
    "We now know that the association is significant, but how strong is it?  \n",
    "Cramer's V, for example, can give an answer: https://en.wikipedia.org/wiki/Cram%C3%A9r%27s_V\n",
    "\n",
    "The formula is:\n",
    "\\begin{equation*}\n",
    "V=\\sqrt{\\frac{\\chi^{2} / N}{\\min (c-1, r-1)}}\n",
    "\\end{equation*}\n",
    "where $c$ is the number of columns, $r$ is the number of rows."
   ]
  },
  {
   "cell_type": "code",
   "execution_count": null,
   "metadata": {},
   "outputs": [],
   "source": []
  },
  {
   "cell_type": "markdown",
   "metadata": {},
   "source": [
    "Let us visualize this and make a human-readable plot and report below."
   ]
  },
  {
   "cell_type": "code",
   "execution_count": null,
   "metadata": {
    "scrolled": false
   },
   "outputs": [],
   "source": []
  },
  {
   "cell_type": "markdown",
   "metadata": {},
   "source": [
    "**Conclusion**"
   ]
  },
  {
   "cell_type": "markdown",
   "metadata": {},
   "source": [
    "What about statistical tests for different combinations of numerical/categorical variables?\n",
    "<img src=\"../references/flowchart-for-choosing-a-statistical-test.png\" width=\"600px\"/>"
   ]
  },
  {
   "cell_type": "markdown",
   "metadata": {},
   "source": [
    "<hr>"
   ]
  },
  {
   "cell_type": "markdown",
   "metadata": {},
   "source": [
    "## Excercise 03"
   ]
  },
  {
   "cell_type": "markdown",
   "metadata": {},
   "source": [
    "- Check that all Number_of_Vehicles and Number_of_Casualties values in the accidents table are correct, by counting all the corresponding records in the vehicles and casualties tables.\n"
   ]
  },
  {
   "cell_type": "code",
   "execution_count": 30,
   "metadata": {},
   "outputs": [
    {
     "data": {
      "text/plain": [
       "'for each accident_index in accidents_data\\n    store acc_vehi = Number_of_Vehicles involved in accident\\n    store acc_casult = Number_of_Casualties involved in accident\\n    store vechi_index_count and count how many times accident_index appear in vechicles\\n    store casual_index_count and count how many times accident_index appear in casualties\\n\\n    if acc_vehi != vechi_index_count:\\n        store anomaly\\n    \\n    if acc_casult != casual_index_count:\\n        store anaomly\\n\\nreport summary'"
      ]
     },
     "execution_count": 30,
     "metadata": {},
     "output_type": "execute_result"
    }
   ],
   "source": [
    "'''for each accident_index in accidents_data\n",
    "    store acc_vehi = Number_of_Vehicles involved in accident\n",
    "    store acc_casult = Number_of_Casualties involved in accident\n",
    "    store vechi_index_count and count how many times accident_index appear in vechicles\n",
    "    store casual_index_count and count how many times accident_index appear in casualties\n",
    "\n",
    "    if acc_vehi != vechi_index_count:\n",
    "        store anomaly\n",
    "    \n",
    "    if acc_casult != casual_index_count:\n",
    "        store anaomly\n",
    "\n",
    "report summary'''"
   ]
  },
  {
   "cell_type": "markdown",
   "metadata": {},
   "source": [
    "- Try out categorical scatterplots to explore combinations of numerical and categorical variables (and possible a third categorical variable for hue), where this makes sense."
   ]
  },
  {
   "cell_type": "code",
   "execution_count": 31,
   "metadata": {
    "scrolled": true
   },
   "outputs": [
    {
     "data": {
      "text/html": [
       "<div>\n",
       "<style scoped>\n",
       "    .dataframe tbody tr th:only-of-type {\n",
       "        vertical-align: middle;\n",
       "    }\n",
       "\n",
       "    .dataframe tbody tr th {\n",
       "        vertical-align: top;\n",
       "    }\n",
       "\n",
       "    .dataframe thead th {\n",
       "        text-align: right;\n",
       "    }\n",
       "</style>\n",
       "<table border=\"1\" class=\"dataframe\">\n",
       "  <thead>\n",
       "    <tr style=\"text-align: right;\">\n",
       "      <th></th>\n",
       "      <th>label</th>\n",
       "    </tr>\n",
       "    <tr>\n",
       "      <th>code</th>\n",
       "      <th></th>\n",
       "    </tr>\n",
       "  </thead>\n",
       "  <tbody>\n",
       "    <tr>\n",
       "      <th>0</th>\n",
       "      <td>Pedestrian</td>\n",
       "    </tr>\n",
       "    <tr>\n",
       "      <th>1</th>\n",
       "      <td>Cyclist</td>\n",
       "    </tr>\n",
       "    <tr>\n",
       "      <th>2</th>\n",
       "      <td>Motorcycle 50cc and under rider or passenger</td>\n",
       "    </tr>\n",
       "    <tr>\n",
       "      <th>3</th>\n",
       "      <td>Motorcycle 125cc and under rider or passenger</td>\n",
       "    </tr>\n",
       "    <tr>\n",
       "      <th>4</th>\n",
       "      <td>Motorcycle over 125cc and up to 500cc rider or...</td>\n",
       "    </tr>\n",
       "    <tr>\n",
       "      <th>5</th>\n",
       "      <td>Motorcycle over 500cc rider or passenger</td>\n",
       "    </tr>\n",
       "    <tr>\n",
       "      <th>8</th>\n",
       "      <td>Taxi/Private hire car occupant</td>\n",
       "    </tr>\n",
       "    <tr>\n",
       "      <th>9</th>\n",
       "      <td>Car occupant</td>\n",
       "    </tr>\n",
       "    <tr>\n",
       "      <th>10</th>\n",
       "      <td>Minibus (8 - 16 passenger seats) occupant</td>\n",
       "    </tr>\n",
       "    <tr>\n",
       "      <th>11</th>\n",
       "      <td>Bus or coach occupant (17 or more pass seats)</td>\n",
       "    </tr>\n",
       "    <tr>\n",
       "      <th>16</th>\n",
       "      <td>Horse rider</td>\n",
       "    </tr>\n",
       "    <tr>\n",
       "      <th>17</th>\n",
       "      <td>Agricultural vehicle occupant</td>\n",
       "    </tr>\n",
       "    <tr>\n",
       "      <th>18</th>\n",
       "      <td>Tram occupant</td>\n",
       "    </tr>\n",
       "    <tr>\n",
       "      <th>19</th>\n",
       "      <td>Van / Goods vehicle (3.5 tonnes mgw or under) ...</td>\n",
       "    </tr>\n",
       "    <tr>\n",
       "      <th>20</th>\n",
       "      <td>Goods vehicle (over 3.5t. and under 7.5t.) occ...</td>\n",
       "    </tr>\n",
       "    <tr>\n",
       "      <th>21</th>\n",
       "      <td>Goods vehicle (7.5 tonnes mgw and over) occupant</td>\n",
       "    </tr>\n",
       "    <tr>\n",
       "      <th>22</th>\n",
       "      <td>Mobility scooter rider</td>\n",
       "    </tr>\n",
       "    <tr>\n",
       "      <th>23</th>\n",
       "      <td>Electric motorcycle rider or passenger</td>\n",
       "    </tr>\n",
       "    <tr>\n",
       "      <th>90</th>\n",
       "      <td>Other vehicle occupant</td>\n",
       "    </tr>\n",
       "    <tr>\n",
       "      <th>97</th>\n",
       "      <td>Motorcycle - unknown cc rider or passenger</td>\n",
       "    </tr>\n",
       "    <tr>\n",
       "      <th>98</th>\n",
       "      <td>Goods vehicle (unknown weight) occupant</td>\n",
       "    </tr>\n",
       "  </tbody>\n",
       "</table>\n",
       "</div>"
      ],
      "text/plain": [
       "                                                  label\n",
       "code                                                   \n",
       "0                                            Pedestrian\n",
       "1                                               Cyclist\n",
       "2          Motorcycle 50cc and under rider or passenger\n",
       "3         Motorcycle 125cc and under rider or passenger\n",
       "4     Motorcycle over 125cc and up to 500cc rider or...\n",
       "5              Motorcycle over 500cc rider or passenger\n",
       "8                        Taxi/Private hire car occupant\n",
       "9                                          Car occupant\n",
       "10            Minibus (8 - 16 passenger seats) occupant\n",
       "11        Bus or coach occupant (17 or more pass seats)\n",
       "16                                          Horse rider\n",
       "17                        Agricultural vehicle occupant\n",
       "18                                        Tram occupant\n",
       "19    Van / Goods vehicle (3.5 tonnes mgw or under) ...\n",
       "20    Goods vehicle (over 3.5t. and under 7.5t.) occ...\n",
       "21     Goods vehicle (7.5 tonnes mgw and over) occupant\n",
       "22                               Mobility scooter rider\n",
       "23               Electric motorcycle rider or passenger\n",
       "90                               Other vehicle occupant\n",
       "97           Motorcycle - unknown cc rider or passenger\n",
       "98              Goods vehicle (unknown weight) occupant"
      ]
     },
     "execution_count": 31,
     "metadata": {},
     "output_type": "execute_result"
    }
   ],
   "source": [
    "VAR_LOOKUP[\"Casualty Type\"]"
   ]
  },
  {
   "cell_type": "code",
   "execution_count": 32,
   "metadata": {},
   "outputs": [],
   "source": [
    "# Filter\n",
    "casualty_type_pedestrian = DATA['casual'][\"Casualty_Type\"] == 0\n",
    "casualty_type_cyclist = DATA['casual'][\"Casualty_Type\"] == 1\n",
    "casualty_type_car = DATA['casual'][\"Casualty_Type\"] == 9\n",
    "no_unkown_age = DATA[\"casual\"][\"Age_of_Casualty\"] > -1\n",
    "\n",
    "mask = (casualty_type_pedestrian | casualty_type_cyclist | casualty_type_car) & (no_unkown_age)\n",
    "mask[600:] = False # Restrict to at most 600 points. should be removed at some point!\n"
   ]
  },
  {
   "cell_type": "code",
   "execution_count": 33,
   "metadata": {},
   "outputs": [
    {
     "name": "stderr",
     "output_type": "stream",
     "text": [
      "/home/ts/anaconda3/lib/python3.8/site-packages/seaborn/categorical.py:1296: UserWarning: 7.7% of the points cannot be placed; you may want to decrease the size of the markers or use stripplot.\n",
      "  warnings.warn(msg, UserWarning)\n"
     ]
    },
    {
     "data": {
      "text/html": [
       "<div>\n",
       "<style scoped>\n",
       "    .dataframe tbody tr th:only-of-type {\n",
       "        vertical-align: middle;\n",
       "    }\n",
       "\n",
       "    .dataframe tbody tr th {\n",
       "        vertical-align: top;\n",
       "    }\n",
       "\n",
       "    .dataframe thead th {\n",
       "        text-align: right;\n",
       "    }\n",
       "</style>\n",
       "<table border=\"1\" class=\"dataframe\">\n",
       "  <thead>\n",
       "    <tr style=\"text-align: right;\">\n",
       "      <th></th>\n",
       "      <th>Casualty_Type</th>\n",
       "      <th>Age_of_Casualty</th>\n",
       "    </tr>\n",
       "  </thead>\n",
       "  <tbody>\n",
       "    <tr>\n",
       "      <th>0</th>\n",
       "      <td>9</td>\n",
       "      <td>56</td>\n",
       "    </tr>\n",
       "    <tr>\n",
       "      <th>1</th>\n",
       "      <td>9</td>\n",
       "      <td>50</td>\n",
       "    </tr>\n",
       "    <tr>\n",
       "      <th>2</th>\n",
       "      <td>9</td>\n",
       "      <td>46</td>\n",
       "    </tr>\n",
       "    <tr>\n",
       "      <th>4</th>\n",
       "      <td>9</td>\n",
       "      <td>52</td>\n",
       "    </tr>\n",
       "    <tr>\n",
       "      <th>5</th>\n",
       "      <td>9</td>\n",
       "      <td>38</td>\n",
       "    </tr>\n",
       "    <tr>\n",
       "      <th>...</th>\n",
       "      <td>...</td>\n",
       "      <td>...</td>\n",
       "    </tr>\n",
       "    <tr>\n",
       "      <th>595</th>\n",
       "      <td>9</td>\n",
       "      <td>55</td>\n",
       "    </tr>\n",
       "    <tr>\n",
       "      <th>596</th>\n",
       "      <td>9</td>\n",
       "      <td>27</td>\n",
       "    </tr>\n",
       "    <tr>\n",
       "      <th>597</th>\n",
       "      <td>9</td>\n",
       "      <td>51</td>\n",
       "    </tr>\n",
       "    <tr>\n",
       "      <th>598</th>\n",
       "      <td>9</td>\n",
       "      <td>54</td>\n",
       "    </tr>\n",
       "    <tr>\n",
       "      <th>599</th>\n",
       "      <td>9</td>\n",
       "      <td>21</td>\n",
       "    </tr>\n",
       "  </tbody>\n",
       "</table>\n",
       "<p>533 rows × 2 columns</p>\n",
       "</div>"
      ],
      "text/plain": [
       "     Casualty_Type  Age_of_Casualty\n",
       "0                9               56\n",
       "1                9               50\n",
       "2                9               46\n",
       "4                9               52\n",
       "5                9               38\n",
       "..             ...              ...\n",
       "595              9               55\n",
       "596              9               27\n",
       "597              9               51\n",
       "598              9               54\n",
       "599              9               21\n",
       "\n",
       "[533 rows x 2 columns]"
      ]
     },
     "execution_count": 33,
     "metadata": {},
     "output_type": "execute_result"
    },
    {
     "data": {
      "image/png": "[encoded data removed]",
      "text/plain": [
       "<Figure size 360x360 with 1 Axes>"
      ]
     },
     "metadata": {
      "needs_background": "light"
     },
     "output_type": "display_data"
    }
   ],
   "source": [
    "cat_data_1 = DATA[\"casual\"][\"Casualty_Type\"][mask]\n",
    "cat_data_2 = DATA[\"casual\"][\"Age_of_Casualty\"][mask]\n",
    "\n",
    "# Concaternate the data using columns (axis1)\n",
    "con_cat_data = pd.concat([cat_data_1, cat_data_2], axis=1)\n",
    "\n",
    "# Plot\n",
    "fig = sns.catplot(x = 'Casualty_Type', y = 'Age_of_Casualty', data=con_cat_data, kind = \"swarm\") # also show: violin\n",
    "\n",
    "fig.set_xticklabels([\"Pedestrian\", \"Cyclist\", \"Car occupant\"]);\n",
    "\n",
    "con_cat_data\n"
   ]
  },
  {
   "cell_type": "markdown",
   "metadata": {},
   "source": [
    "### Accident severity distrubution"
   ]
  },
  {
   "cell_type": "code",
   "execution_count": 34,
   "metadata": {},
   "outputs": [
    {
     "data": {
      "text/plain": [
       "[Text(0, 0, 'Fatal'), Text(1, 0, 'Serious'), Text(2, 0, 'Slight')]"
      ]
     },
     "execution_count": 34,
     "metadata": {},
     "output_type": "execute_result"
    },
    {
     "data": {
      "image/png": "[encoded data removed]",
      "text/plain": [
       "<Figure size 432x288 with 1 Axes>"
      ]
     },
     "metadata": {
      "needs_background": "light"
     },
     "output_type": "display_data"
    }
   ],
   "source": [
    "plt = {}\n",
    "plt[1] = sns.countplot(x='Accident_Severity', data=DATA['accident'])\n",
    "plt[1].set_xticklabels(VAR_LOOKUP['Accident Severity']['label'])"
   ]
  },
  {
   "cell_type": "markdown",
   "metadata": {},
   "source": [
    "### one numerical versus one categorical variable:\n",
    "\n",
    "Scatterplot of vehicle age vs accident sevirity\n",
    "\n",
    "eg accident number 434 had 2 vehicles involved. the mean age of the vechile is 20 years, and the accident severity is FATAL \n"
   ]
  },
  {
   "cell_type": "code",
   "execution_count": 35,
   "metadata": {},
   "outputs": [
    {
     "data": {
      "text/plain": [
       "array([nan, 12., 16.,  8.,  1.,  9., 10.,  2., 11.,  5.,  7., 14., 13.,\n",
       "        4., 15., 18.,  3.,  6., 35., 21., 17., 19., 20., 30., 22., 24.])"
      ]
     },
     "execution_count": 35,
     "metadata": {},
     "output_type": "execute_result"
    }
   ],
   "source": [
    "#problem: -1 is a legal age of vehcile. -1 means N/A\n",
    "# now solved by loading data with specified NA values\n",
    "pd.unique(DATA['vehicles']['Age_of_Vehicle'])"
   ]
  },
  {
   "cell_type": "code",
   "execution_count": 36,
   "metadata": {},
   "outputs": [
    {
     "name": "stdout",
     "output_type": "stream",
     "text": [
      "DATA['vehi_acc_inner'].shape\n",
      "(1451, 54)\n",
      "DATA['vehicles'].shape\n",
      "(1451, 23)\n",
      "DATA['accident'].shape\n",
      "(833, 32)\n"
     ]
    }
   ],
   "source": [
    "#x_data = DATA['vehicles']['Age_of_Vehicle']\n",
    "#y_data = DATA['accident']['Accident_Severity']\n",
    "# we are only interested in the accidents where we both have vheicles and accident information, so inner join.\n",
    "# validate : “one_to_one” or “1:1”: check if merge keys are unique in both left and right datasets.\n",
    "DATA['vehi_acc_inner'] = pd.merge(DATA['accident'], DATA['vehicles'], on='Accident_Index', how='inner', validate=\"one_to_many\")\n",
    "\n",
    "print(\"DATA['vehi_acc_inner'].shape\", DATA['vehi_acc_inner'].shape, \"DATA['vehicles'].shape\", DATA['vehicles'].shape, \"DATA['accident'].shape\", DATA['accident'].shape, sep=\"\\n\")\n"
   ]
  },
  {
   "cell_type": "code",
   "execution_count": 37,
   "metadata": {},
   "outputs": [],
   "source": [
    "#problem: we need the average age of vehcicles, in case there is more vehciles per accident, so we only get 1 row = 1 accident\n",
    "# solution: groupy by accident index and calcualte the mean value of vehcicle age involved in accident\n",
    "# https://pandas.pydata.org/pandas-docs/stable/reference/api/pandas.core.groupby.GroupBy.mean.html\n",
    "data_analysis = {}\n",
    "data_analysis['1'] = DATA['vehi_acc_inner'].groupby('Accident_Index').mean(numeric_only=True)"
   ]
  },
  {
   "cell_type": "markdown",
   "metadata": {},
   "source": [
    "Lets make sure that we dont have any duplicate acc rows left, and that the grouping worked by checking for unique items:"
   ]
  },
  {
   "cell_type": "code",
   "execution_count": 38,
   "metadata": {},
   "outputs": [
    {
     "data": {
      "text/plain": [
       "833"
      ]
     },
     "execution_count": 38,
     "metadata": {},
     "output_type": "execute_result"
    }
   ],
   "source": [
    "# get how many unique accident indexs there is\n",
    "len(pd.unique(data_analysis['1'].index))"
   ]
  },
  {
   "cell_type": "markdown",
   "metadata": {},
   "source": [
    "same amount of rows, we assume the joining and grouping went well. we now try to plot this.\n",
    "one row= one obeservation"
   ]
  },
  {
   "cell_type": "markdown",
   "metadata": {},
   "source": [
    "### Car age vs accident severity\n",
    "\n",
    "there might be more than one vehicle involved in an accident, so we take the mean age of the vehicles"
   ]
  },
  {
   "cell_type": "code",
   "execution_count": 39,
   "metadata": {},
   "outputs": [
    {
     "name": "stderr",
     "output_type": "stream",
     "text": [
      "/home/ts/anaconda3/lib/python3.8/site-packages/seaborn/categorical.py:1296: UserWarning: 30.1% of the points cannot be placed; you may want to decrease the size of the markers or use stripplot.\n",
      "  warnings.warn(msg, UserWarning)\n"
     ]
    },
    {
     "data": {
      "text/plain": [
       "<seaborn.axisgrid.FacetGrid at 0x7f9612e1baf0>"
      ]
     },
     "execution_count": 39,
     "metadata": {},
     "output_type": "execute_result"
    },
    {
     "data": {
      "image/png": "[encoded data removed]",
      "text/plain": [
       "<Figure size 360x360 with 1 Axes>"
      ]
     },
     "metadata": {
      "needs_background": "light"
     },
     "output_type": "display_data"
    }
   ],
   "source": [
    "# use swarm to prevent points overlapping\n",
    "fig = sns.catplot(x='Accident_Severity', y='Age_of_Vehicle', data=data_analysis['1'], kind=\"swarm\")\n",
    "fig.set_axis_labels(\"Accident Severity\", \"Mean Age of Vehicles involved (years)\")\n",
    "fig.set_xticklabels(VAR_LOOKUP['Accident Severity']['label'])"
   ]
  },
  {
   "cell_type": "markdown",
   "metadata": {},
   "source": [
    "### categorical variable vs categorical variable\n",
    "Accident Severity vs Special_Conditions_at_Site"
   ]
  },
  {
   "cell_type": "code",
   "execution_count": 40,
   "metadata": {},
   "outputs": [],
   "source": [
    "def get_unique_label_var_lookup(dataset=None, colname=None):\n",
    "    '''\n",
    "    :param dataset: A Pandas DataFrame, eg DATA['accident']\n",
    "    :param column: Column name as string, with underscores\n",
    "    '''\n",
    "    # problem: not all labels are used in 'Special Conditions at Site'\n",
    "    # solution: remove the labelse not present from VAR_LOOKUP['Special Conditions at Site']\n",
    "    # used_label_codes = pd.unique(DATA['accident']['Special_Conditions_at_Site'])\n",
    "    used_label_codes = pd.unique(dataset[colname])\n",
    "    \n",
    "    # replace underscores with spaces so VAR_LOOKUP works\n",
    "    colname = colname.replace(\"_\", \" \")\n",
    "\n",
    "    # Save all labels for this column.\n",
    "    all_labels = VAR_LOOKUP[colname]\n",
    "\n",
    "    # set default values of the relevant labels we want to keep\n",
    "    unique_label_var_lookup = VAR_LOOKUP[colname]\n",
    "\n",
    "    for i, label_code in enumerate(all_labels['code']):\n",
    "        if label_code not in used_label_codes:\n",
    "            unique_label_var_lookup.drop(i, inplace=True)\n",
    "\n",
    "    return unique_label_var_lookup"
   ]
  },
  {
   "cell_type": "code",
   "execution_count": 41,
   "metadata": {},
   "outputs": [
    {
     "data": {
      "text/html": [
       "<div>\n",
       "<style scoped>\n",
       "    .dataframe tbody tr th:only-of-type {\n",
       "        vertical-align: middle;\n",
       "    }\n",
       "\n",
       "    .dataframe tbody tr th {\n",
       "        vertical-align: top;\n",
       "    }\n",
       "\n",
       "    .dataframe thead th {\n",
       "        text-align: right;\n",
       "    }\n",
       "</style>\n",
       "<table border=\"1\" class=\"dataframe\">\n",
       "  <thead>\n",
       "    <tr style=\"text-align: right;\">\n",
       "      <th></th>\n",
       "      <th>label</th>\n",
       "    </tr>\n",
       "    <tr>\n",
       "      <th>code</th>\n",
       "      <th></th>\n",
       "    </tr>\n",
       "  </thead>\n",
       "  <tbody>\n",
       "    <tr>\n",
       "      <th>0</th>\n",
       "      <td>None</td>\n",
       "    </tr>\n",
       "    <tr>\n",
       "      <th>1</th>\n",
       "      <td>Auto traffic signal - out</td>\n",
       "    </tr>\n",
       "    <tr>\n",
       "      <th>2</th>\n",
       "      <td>Auto signal part defective</td>\n",
       "    </tr>\n",
       "    <tr>\n",
       "      <th>3</th>\n",
       "      <td>Road sign or marking defective or obscured</td>\n",
       "    </tr>\n",
       "    <tr>\n",
       "      <th>4</th>\n",
       "      <td>Roadworks</td>\n",
       "    </tr>\n",
       "    <tr>\n",
       "      <th>5</th>\n",
       "      <td>Road surface defective</td>\n",
       "    </tr>\n",
       "    <tr>\n",
       "      <th>6</th>\n",
       "      <td>Oil or diesel</td>\n",
       "    </tr>\n",
       "    <tr>\n",
       "      <th>7</th>\n",
       "      <td>Mud</td>\n",
       "    </tr>\n",
       "    <tr>\n",
       "      <th>-1</th>\n",
       "      <td>Data missing or out of range</td>\n",
       "    </tr>\n",
       "  </tbody>\n",
       "</table>\n",
       "</div>"
      ],
      "text/plain": [
       "                                           label\n",
       "code                                            \n",
       " 0                                          None\n",
       " 1                     Auto traffic signal - out\n",
       " 2                    Auto signal part defective\n",
       " 3    Road sign or marking defective or obscured\n",
       " 4                                     Roadworks\n",
       " 5                        Road surface defective\n",
       " 6                                 Oil or diesel\n",
       " 7                                           Mud\n",
       "-1                  Data missing or out of range"
      ]
     },
     "execution_count": 41,
     "metadata": {},
     "output_type": "execute_result"
    }
   ],
   "source": [
    "VAR_LOOKUP['Special Conditions at Site']"
   ]
  },
  {
   "cell_type": "code",
   "execution_count": 42,
   "metadata": {},
   "outputs": [
    {
     "data": {
      "text/html": [
       "<div>\n",
       "<style scoped>\n",
       "    .dataframe tbody tr th:only-of-type {\n",
       "        vertical-align: middle;\n",
       "    }\n",
       "\n",
       "    .dataframe tbody tr th {\n",
       "        vertical-align: top;\n",
       "    }\n",
       "\n",
       "    .dataframe thead th {\n",
       "        text-align: right;\n",
       "    }\n",
       "</style>\n",
       "<table border=\"1\" class=\"dataframe\">\n",
       "  <thead>\n",
       "    <tr style=\"text-align: right;\">\n",
       "      <th></th>\n",
       "      <th>label</th>\n",
       "    </tr>\n",
       "    <tr>\n",
       "      <th>code</th>\n",
       "      <th></th>\n",
       "    </tr>\n",
       "  </thead>\n",
       "  <tbody>\n",
       "    <tr>\n",
       "      <th>0</th>\n",
       "      <td>None</td>\n",
       "    </tr>\n",
       "    <tr>\n",
       "      <th>1</th>\n",
       "      <td>Auto traffic signal - out</td>\n",
       "    </tr>\n",
       "    <tr>\n",
       "      <th>2</th>\n",
       "      <td>Auto signal part defective</td>\n",
       "    </tr>\n",
       "    <tr>\n",
       "      <th>3</th>\n",
       "      <td>Road sign or marking defective or obscured</td>\n",
       "    </tr>\n",
       "    <tr>\n",
       "      <th>4</th>\n",
       "      <td>Roadworks</td>\n",
       "    </tr>\n",
       "    <tr>\n",
       "      <th>5</th>\n",
       "      <td>Road surface defective</td>\n",
       "    </tr>\n",
       "    <tr>\n",
       "      <th>6</th>\n",
       "      <td>Oil or diesel</td>\n",
       "    </tr>\n",
       "    <tr>\n",
       "      <th>7</th>\n",
       "      <td>Mud</td>\n",
       "    </tr>\n",
       "    <tr>\n",
       "      <th>-1</th>\n",
       "      <td>Data missing or out of range</td>\n",
       "    </tr>\n",
       "  </tbody>\n",
       "</table>\n",
       "</div>"
      ],
      "text/plain": [
       "                                           label\n",
       "code                                            \n",
       " 0                                          None\n",
       " 1                     Auto traffic signal - out\n",
       " 2                    Auto signal part defective\n",
       " 3    Road sign or marking defective or obscured\n",
       " 4                                     Roadworks\n",
       " 5                        Road surface defective\n",
       " 6                                 Oil or diesel\n",
       " 7                                           Mud\n",
       "-1                  Data missing or out of range"
      ]
     },
     "execution_count": 42,
     "metadata": {},
     "output_type": "execute_result"
    }
   ],
   "source": [
    "VAR_LOOKUP['Special Conditions at Site']"
   ]
  },
  {
   "cell_type": "markdown",
   "metadata": {},
   "source": [
    "Problem: how do we know which order to label in?  \n",
    "\n",
    "Answer from seaborn: Unlike with numerical data, it is not always obvious how to order the levels of the categorical variable along its axis. In general, the seaborn categorical plotting functions try to infer the order of categories from the data. If your data have a pandas Categorical datatype, then the default order of the categories can be set there. If the variable passed to the categorical axis looks numerical, the levels will be sorted. But the data are still treated as categorical and drawn at ordinal positions on the categorical axes (specifically, at 0, 1, …) even when numbers are used to label them:"
   ]
  },
  {
   "cell_type": "code",
   "execution_count": 43,
   "metadata": {},
   "outputs": [
    {
     "data": {
      "text/plain": [
       "code\n",
       " 0                                          None\n",
       " 1                     Auto traffic signal - out\n",
       " 2                    Auto signal part defective\n",
       " 3    Road sign or marking defective or obscured\n",
       " 4                                     Roadworks\n",
       " 5                        Road surface defective\n",
       " 6                                 Oil or diesel\n",
       " 7                                           Mud\n",
       "-1                  Data missing or out of range\n",
       "Name: label, dtype: object"
      ]
     },
     "execution_count": 43,
     "metadata": {},
     "output_type": "execute_result"
    }
   ],
   "source": [
    "VAR_LOOKUP['Special Conditions at Site']['label']"
   ]
  },
  {
   "cell_type": "code",
   "execution_count": 44,
   "metadata": {},
   "outputs": [
    {
     "data": {
      "text/plain": [
       "array([0, 3, 1, 7, 4, 5])"
      ]
     },
     "execution_count": 44,
     "metadata": {},
     "output_type": "execute_result"
    }
   ],
   "source": [
    " pd.unique(DATA['accident']['Special_Conditions_at_Site'])"
   ]
  },
  {
   "cell_type": "markdown",
   "metadata": {},
   "source": [
    "Problem: sns creates its own index on y axis  \n",
    "solution: specify Categorical data type for each col we use"
   ]
  },
  {
   "cell_type": "code",
   "execution_count": 45,
   "metadata": {},
   "outputs": [
    {
     "data": {
      "text/plain": [
       "0      0\n",
       "1      0\n",
       "2      0\n",
       "3      0\n",
       "4      0\n",
       "      ..\n",
       "828    0\n",
       "829    0\n",
       "830    0\n",
       "831    0\n",
       "832    0\n",
       "Name: Special_Conditions_at_Site, Length: 833, dtype: category\n",
       "Categories (6, int64): [0, 1, 3, 4, 5, 7]"
      ]
     },
     "execution_count": 45,
     "metadata": {},
     "output_type": "execute_result"
    }
   ],
   "source": [
    "# copy=false change all DATA['accident'] objects \n",
    "DATA['accident']['Accident_Severity'].astype(dtype=\"category\", copy=False)\n",
    "DATA['accident']['Special_Conditions_at_Site'].astype(dtype=\"category\", copy=False)"
   ]
  },
  {
   "cell_type": "markdown",
   "metadata": {},
   "source": [
    "### Accident Severity vs Special_Conditions_at_Site"
   ]
  },
  {
   "cell_type": "code",
   "execution_count": 46,
   "metadata": {},
   "outputs": [
    {
     "data": {
      "image/png": "[encoded data removed]",
      "text/plain": [
       "<Figure size 360x360 with 1 Axes>"
      ]
     },
     "metadata": {
      "needs_background": "light"
     },
     "output_type": "display_data"
    }
   ],
   "source": [
    "plt[2] = sns.catplot(x='Accident_Severity', y='Special_Conditions_at_Site', data=DATA['accident'])\n",
    "\n",
    "x_labels = VAR_LOOKUP['Accident Severity']['label'].astype(dtype=\"category\", copy=False)\n",
    "\n",
    "plt2labels = plt[2].set_xticklabels(x_labels)\n",
    "#print(plt2labels)\n",
    "\n",
    "y_labels = pd.Categorical.from_codes(codes=VAR_LOOKUP['Special Conditions at Site'].index, categories=VAR_LOOKUP['Special Conditions at Site']['label'])\n",
    "\n",
    "#y_labels = get_unique_label_var_lookup(dataset=DATA['accident'], colname='Special_Conditions_at_Site')\n",
    "#y_labels\n",
    "#plt[2].set_yticklabels(y_labels)"
   ]
  },
  {
   "cell_type": "markdown",
   "metadata": {},
   "source": [
    "## Scatterplot matrix\n"
   ]
  },
  {
   "cell_type": "code",
   "execution_count": 47,
   "metadata": {},
   "outputs": [
    {
     "data": {
      "text/plain": [
       "'\\ndefine relevant variables in list\\nmake subplot thingy\\nfor varaible in relevant\\n    for variable in relevant\\n    pd scatterplot  var1 vs var2\\n'"
      ]
     },
     "execution_count": 47,
     "metadata": {},
     "output_type": "execute_result"
    }
   ],
   "source": [
    "'''\n",
    "define relevant variables in list\n",
    "make subplot thingy\n",
    "for varaible in relevant\n",
    "    for variable in relevant\n",
    "    pd scatterplot  var1 vs var2\n",
    "'''"
   ]
  },
  {
   "cell_type": "code",
   "execution_count": 52,
   "metadata": {},
   "outputs": [],
   "source": [
    "rvl_fields_cat = ['Accident_Severity',\\\n",
    "              'Number_of_Casualties', \\\n",
    "              '1st_Road_Class', \\\n",
    "              '1st_Road_Number', \\\n",
    "              'Road_Type', \\\n",
    "              'Speed_limit', \\\n",
    "              'Junction_Detail', \\\n",
    "              'Junction_Control', \\\n",
    "              '2nd_Road_Class', \\\n",
    "              '2nd_Road_Number', \\\n",
    "              'Pedestrian_Crossing-Human_Control', \\\n",
    "              'Pedestrian_Crossing-Physical_Facilities', \\\n",
    "              'Road_Surface_Conditions', \\\n",
    "             'Special_Conditions_at_Site',\n",
    "              'Urban_or_Rural_Area',\\\n",
    "             ]\n",
    "\n",
    "rvl_fields_num = [''\n",
    "              'Number_of_Vehicles', \\]\n",
    "#todo: sort by categorical and numeric\n",
    "# todo: test assumption that catagorical has to be at x axis for stripplot()\n",
    "#    \"This function always treats one of the variables as categorical and draws data at ordinal positions (0, 1, … n) on the relevant axis, even when the data has a numeric or date type.\"\"\n",
    "#DATA['accident'].columns\n"
   ]
  },
  {
   "cell_type": "code",
   "execution_count": 110,
   "metadata": {},
   "outputs": [
    {
     "name": "stdout",
     "output_type": "stream",
     "text": [
      "0 0 Accident_Severity Accident_Severity\n",
      "0 1 Accident_Severity Number_of_Vehicles\n",
      "1 0 Number_of_Vehicles Accident_Severity\n",
      "1 1 Number_of_Vehicles Number_of_Vehicles\n"
     ]
    },
    {
     "data": {
      "image/png": "[encoded data removed]",
      "text/plain": [
       "<Figure size 720x504 with 4 Axes>"
      ]
     },
     "metadata": {
      "needs_background": "light"
     },
     "output_type": "display_data"
    }
   ],
   "source": [
    "nfields= len(rvl_fields)-1\n",
    "figs, axs = plt.pyplot.subplots(nrows=2, ncols=2, figsize=(10, 7))\n",
    "\n",
    "rows, cols = range(0,2), range(0,2) #range(nfields)\n",
    "\n",
    "for row in rows:\n",
    "    for col in cols:\n",
    "        \n",
    "        print(row, col, rvl_fields[row], rvl_fields[col])\n",
    "        field_x = rvl_fields[row]\n",
    "        field_y = rvl_fields[col]\n",
    "        \n",
    "        sns.stripplot(x=field_x , y=field_y, data=DATA['accident'], ax=axs[row, col])\n",
    "        \n",
    "        field_x_label = field_x.replace(\"_\", \" \")\n",
    "        field_y_label = field_y.replace(\"_\", \" \")\n",
    "        \n",
    "        try:\n",
    "            axs[row][col].set_xlabel(VAR_LOOKUP[field_x_label])\n",
    "        except KeyError:\n",
    "            axs[row][col].set_xlabel(field_x_label)\n",
    "            \n",
    "        try:\n",
    "            axs[row][col].set_ylabel(VAR_LOOKUP[field_y_label])\n",
    "        except KeyError:\n",
    "            axs[row][col].set_xlabel(field_y_label)\n"
   ]
  },
  {
   "cell_type": "code",
   "execution_count": 111,
   "metadata": {},
   "outputs": [
    {
     "data": {
      "text/html": [
       "<div>\n",
       "<style scoped>\n",
       "    .dataframe tbody tr th:only-of-type {\n",
       "        vertical-align: middle;\n",
       "    }\n",
       "\n",
       "    .dataframe tbody tr th {\n",
       "        vertical-align: top;\n",
       "    }\n",
       "\n",
       "    .dataframe thead th {\n",
       "        text-align: right;\n",
       "    }\n",
       "</style>\n",
       "<table border=\"1\" class=\"dataframe\">\n",
       "  <thead>\n",
       "    <tr style=\"text-align: right;\">\n",
       "      <th></th>\n",
       "      <th>Accident_Index</th>\n",
       "      <th>Location_Easting_OSGR</th>\n",
       "      <th>Location_Northing_OSGR</th>\n",
       "      <th>Longitude</th>\n",
       "      <th>Latitude</th>\n",
       "      <th>Police_Force</th>\n",
       "      <th>Accident_Severity</th>\n",
       "      <th>Number_of_Vehicles</th>\n",
       "      <th>Number_of_Casualties</th>\n",
       "      <th>Date</th>\n",
       "      <th>...</th>\n",
       "      <th>Pedestrian_Crossing-Human_Control</th>\n",
       "      <th>Pedestrian_Crossing-Physical_Facilities</th>\n",
       "      <th>Light_Conditions</th>\n",
       "      <th>Weather_Conditions</th>\n",
       "      <th>Road_Surface_Conditions</th>\n",
       "      <th>Special_Conditions_at_Site</th>\n",
       "      <th>Carriageway_Hazards</th>\n",
       "      <th>Urban_or_Rural_Area</th>\n",
       "      <th>Did_Police_Officer_Attend_Scene_of_Accident</th>\n",
       "      <th>LSOA_of_Accident_Location</th>\n",
       "    </tr>\n",
       "  </thead>\n",
       "  <tbody>\n",
       "    <tr>\n",
       "      <th>0</th>\n",
       "      <td>2019136111019</td>\n",
       "      <td>417000.0</td>\n",
       "      <td>433017.0</td>\n",
       "      <td>-1.743423</td>\n",
       "      <td>53.793206</td>\n",
       "      <td>13</td>\n",
       "      <td>3</td>\n",
       "      <td>2</td>\n",
       "      <td>1</td>\n",
       "      <td>01/01/2019</td>\n",
       "      <td>...</td>\n",
       "      <td>0</td>\n",
       "      <td>0</td>\n",
       "      <td>4</td>\n",
       "      <td>1</td>\n",
       "      <td>1</td>\n",
       "      <td>0</td>\n",
       "      <td>0</td>\n",
       "      <td>1</td>\n",
       "      <td>1</td>\n",
       "      <td>E01010606</td>\n",
       "    </tr>\n",
       "    <tr>\n",
       "      <th>1</th>\n",
       "      <td>2019136111467</td>\n",
       "      <td>419018.0</td>\n",
       "      <td>433809.0</td>\n",
       "      <td>-1.712742</td>\n",
       "      <td>53.800255</td>\n",
       "      <td>13</td>\n",
       "      <td>3</td>\n",
       "      <td>3</td>\n",
       "      <td>2</td>\n",
       "      <td>02/01/2019</td>\n",
       "      <td>...</td>\n",
       "      <td>0</td>\n",
       "      <td>0</td>\n",
       "      <td>1</td>\n",
       "      <td>1</td>\n",
       "      <td>1</td>\n",
       "      <td>0</td>\n",
       "      <td>0</td>\n",
       "      <td>1</td>\n",
       "      <td>1</td>\n",
       "      <td>E01010618</td>\n",
       "    </tr>\n",
       "    <tr>\n",
       "      <th>2</th>\n",
       "      <td>2019136121066</td>\n",
       "      <td>418157.0</td>\n",
       "      <td>430906.0</td>\n",
       "      <td>-1.725984</td>\n",
       "      <td>53.774194</td>\n",
       "      <td>13</td>\n",
       "      <td>3</td>\n",
       "      <td>2</td>\n",
       "      <td>1</td>\n",
       "      <td>02/01/2019</td>\n",
       "      <td>...</td>\n",
       "      <td>0</td>\n",
       "      <td>0</td>\n",
       "      <td>1</td>\n",
       "      <td>1</td>\n",
       "      <td>1</td>\n",
       "      <td>0</td>\n",
       "      <td>0</td>\n",
       "      <td>1</td>\n",
       "      <td>1</td>\n",
       "      <td>E01010615</td>\n",
       "    </tr>\n",
       "    <tr>\n",
       "      <th>3</th>\n",
       "      <td>2019136131015</td>\n",
       "      <td>415321.0</td>\n",
       "      <td>438238.0</td>\n",
       "      <td>-1.768652</td>\n",
       "      <td>53.840183</td>\n",
       "      <td>13</td>\n",
       "      <td>3</td>\n",
       "      <td>2</td>\n",
       "      <td>2</td>\n",
       "      <td>03/01/2019</td>\n",
       "      <td>...</td>\n",
       "      <td>0</td>\n",
       "      <td>5</td>\n",
       "      <td>1</td>\n",
       "      <td>1</td>\n",
       "      <td>1</td>\n",
       "      <td>0</td>\n",
       "      <td>0</td>\n",
       "      <td>1</td>\n",
       "      <td>1</td>\n",
       "      <td>E01010571</td>\n",
       "    </tr>\n",
       "    <tr>\n",
       "      <th>4</th>\n",
       "      <td>2019136131184</td>\n",
       "      <td>415008.0</td>\n",
       "      <td>431561.0</td>\n",
       "      <td>-1.773732</td>\n",
       "      <td>53.780180</td>\n",
       "      <td>13</td>\n",
       "      <td>3</td>\n",
       "      <td>1</td>\n",
       "      <td>1</td>\n",
       "      <td>03/01/2019</td>\n",
       "      <td>...</td>\n",
       "      <td>0</td>\n",
       "      <td>0</td>\n",
       "      <td>1</td>\n",
       "      <td>1</td>\n",
       "      <td>1</td>\n",
       "      <td>0</td>\n",
       "      <td>0</td>\n",
       "      <td>1</td>\n",
       "      <td>2</td>\n",
       "      <td>E01010735</td>\n",
       "    </tr>\n",
       "    <tr>\n",
       "      <th>...</th>\n",
       "      <td>...</td>\n",
       "      <td>...</td>\n",
       "      <td>...</td>\n",
       "      <td>...</td>\n",
       "      <td>...</td>\n",
       "      <td>...</td>\n",
       "      <td>...</td>\n",
       "      <td>...</td>\n",
       "      <td>...</td>\n",
       "      <td>...</td>\n",
       "      <td>...</td>\n",
       "      <td>...</td>\n",
       "      <td>...</td>\n",
       "      <td>...</td>\n",
       "      <td>...</td>\n",
       "      <td>...</td>\n",
       "      <td>...</td>\n",
       "      <td>...</td>\n",
       "      <td>...</td>\n",
       "      <td>...</td>\n",
       "      <td>...</td>\n",
       "    </tr>\n",
       "    <tr>\n",
       "      <th>828</th>\n",
       "      <td>2019136CT1224</td>\n",
       "      <td>414657.0</td>\n",
       "      <td>436490.0</td>\n",
       "      <td>-1.778826</td>\n",
       "      <td>53.824491</td>\n",
       "      <td>13</td>\n",
       "      <td>3</td>\n",
       "      <td>2</td>\n",
       "      <td>1</td>\n",
       "      <td>29/12/2019</td>\n",
       "      <td>...</td>\n",
       "      <td>0</td>\n",
       "      <td>0</td>\n",
       "      <td>4</td>\n",
       "      <td>1</td>\n",
       "      <td>1</td>\n",
       "      <td>0</td>\n",
       "      <td>0</td>\n",
       "      <td>1</td>\n",
       "      <td>1</td>\n",
       "      <td>E01010789</td>\n",
       "    </tr>\n",
       "    <tr>\n",
       "      <th>829</th>\n",
       "      <td>2019136CT1457</td>\n",
       "      <td>406199.0</td>\n",
       "      <td>442184.0</td>\n",
       "      <td>-1.907201</td>\n",
       "      <td>53.875835</td>\n",
       "      <td>13</td>\n",
       "      <td>3</td>\n",
       "      <td>1</td>\n",
       "      <td>1</td>\n",
       "      <td>30/12/2019</td>\n",
       "      <td>...</td>\n",
       "      <td>0</td>\n",
       "      <td>0</td>\n",
       "      <td>4</td>\n",
       "      <td>1</td>\n",
       "      <td>1</td>\n",
       "      <td>0</td>\n",
       "      <td>0</td>\n",
       "      <td>1</td>\n",
       "      <td>1</td>\n",
       "      <td>E01010727</td>\n",
       "    </tr>\n",
       "    <tr>\n",
       "      <th>830</th>\n",
       "      <td>2019136CU0568</td>\n",
       "      <td>410720.0</td>\n",
       "      <td>447541.0</td>\n",
       "      <td>-1.838251</td>\n",
       "      <td>53.923910</td>\n",
       "      <td>13</td>\n",
       "      <td>3</td>\n",
       "      <td>1</td>\n",
       "      <td>1</td>\n",
       "      <td>30/12/2019</td>\n",
       "      <td>...</td>\n",
       "      <td>0</td>\n",
       "      <td>0</td>\n",
       "      <td>1</td>\n",
       "      <td>1</td>\n",
       "      <td>1</td>\n",
       "      <td>0</td>\n",
       "      <td>0</td>\n",
       "      <td>1</td>\n",
       "      <td>1</td>\n",
       "      <td>E01010697</td>\n",
       "    </tr>\n",
       "    <tr>\n",
       "      <th>831</th>\n",
       "      <td>2019136CU0969</td>\n",
       "      <td>414168.0</td>\n",
       "      <td>434455.0</td>\n",
       "      <td>-1.786347</td>\n",
       "      <td>53.806214</td>\n",
       "      <td>13</td>\n",
       "      <td>3</td>\n",
       "      <td>2</td>\n",
       "      <td>1</td>\n",
       "      <td>30/12/2019</td>\n",
       "      <td>...</td>\n",
       "      <td>0</td>\n",
       "      <td>0</td>\n",
       "      <td>1</td>\n",
       "      <td>1</td>\n",
       "      <td>2</td>\n",
       "      <td>0</td>\n",
       "      <td>0</td>\n",
       "      <td>1</td>\n",
       "      <td>2</td>\n",
       "      <td>E01010809</td>\n",
       "    </tr>\n",
       "    <tr>\n",
       "      <th>832</th>\n",
       "      <td>2019137141255</td>\n",
       "      <td>414670.0</td>\n",
       "      <td>434882.0</td>\n",
       "      <td>-1.778704</td>\n",
       "      <td>53.810038</td>\n",
       "      <td>13</td>\n",
       "      <td>3</td>\n",
       "      <td>1</td>\n",
       "      <td>1</td>\n",
       "      <td>31/12/2019</td>\n",
       "      <td>...</td>\n",
       "      <td>0</td>\n",
       "      <td>0</td>\n",
       "      <td>1</td>\n",
       "      <td>1</td>\n",
       "      <td>1</td>\n",
       "      <td>0</td>\n",
       "      <td>0</td>\n",
       "      <td>1</td>\n",
       "      <td>2</td>\n",
       "      <td>E01010807</td>\n",
       "    </tr>\n",
       "  </tbody>\n",
       "</table>\n",
       "<p>833 rows × 32 columns</p>\n",
       "</div>"
      ],
      "text/plain": [
       "    Accident_Index  Location_Easting_OSGR  Location_Northing_OSGR  Longitude  \\\n",
       "0    2019136111019               417000.0                433017.0  -1.743423   \n",
       "1    2019136111467               419018.0                433809.0  -1.712742   \n",
       "2    2019136121066               418157.0                430906.0  -1.725984   \n",
       "3    2019136131015               415321.0                438238.0  -1.768652   \n",
       "4    2019136131184               415008.0                431561.0  -1.773732   \n",
       "..             ...                    ...                     ...        ...   \n",
       "828  2019136CT1224               414657.0                436490.0  -1.778826   \n",
       "829  2019136CT1457               406199.0                442184.0  -1.907201   \n",
       "830  2019136CU0568               410720.0                447541.0  -1.838251   \n",
       "831  2019136CU0969               414168.0                434455.0  -1.786347   \n",
       "832  2019137141255               414670.0                434882.0  -1.778704   \n",
       "\n",
       "      Latitude  Police_Force  Accident_Severity  Number_of_Vehicles  \\\n",
       "0    53.793206            13                  3                   2   \n",
       "1    53.800255            13                  3                   3   \n",
       "2    53.774194            13                  3                   2   \n",
       "3    53.840183            13                  3                   2   \n",
       "4    53.780180            13                  3                   1   \n",
       "..         ...           ...                ...                 ...   \n",
       "828  53.824491            13                  3                   2   \n",
       "829  53.875835            13                  3                   1   \n",
       "830  53.923910            13                  3                   1   \n",
       "831  53.806214            13                  3                   2   \n",
       "832  53.810038            13                  3                   1   \n",
       "\n",
       "     Number_of_Casualties        Date  ...  Pedestrian_Crossing-Human_Control  \\\n",
       "0                       1  01/01/2019  ...                                  0   \n",
       "1                       2  02/01/2019  ...                                  0   \n",
       "2                       1  02/01/2019  ...                                  0   \n",
       "3                       2  03/01/2019  ...                                  0   \n",
       "4                       1  03/01/2019  ...                                  0   \n",
       "..                    ...         ...  ...                                ...   \n",
       "828                     1  29/12/2019  ...                                  0   \n",
       "829                     1  30/12/2019  ...                                  0   \n",
       "830                     1  30/12/2019  ...                                  0   \n",
       "831                     1  30/12/2019  ...                                  0   \n",
       "832                     1  31/12/2019  ...                                  0   \n",
       "\n",
       "    Pedestrian_Crossing-Physical_Facilities  Light_Conditions  \\\n",
       "0                                         0                 4   \n",
       "1                                         0                 1   \n",
       "2                                         0                 1   \n",
       "3                                         5                 1   \n",
       "4                                         0                 1   \n",
       "..                                      ...               ...   \n",
       "828                                       0                 4   \n",
       "829                                       0                 4   \n",
       "830                                       0                 1   \n",
       "831                                       0                 1   \n",
       "832                                       0                 1   \n",
       "\n",
       "    Weather_Conditions  Road_Surface_Conditions  Special_Conditions_at_Site  \\\n",
       "0                    1                        1                           0   \n",
       "1                    1                        1                           0   \n",
       "2                    1                        1                           0   \n",
       "3                    1                        1                           0   \n",
       "4                    1                        1                           0   \n",
       "..                 ...                      ...                         ...   \n",
       "828                  1                        1                           0   \n",
       "829                  1                        1                           0   \n",
       "830                  1                        1                           0   \n",
       "831                  1                        2                           0   \n",
       "832                  1                        1                           0   \n",
       "\n",
       "     Carriageway_Hazards  Urban_or_Rural_Area  \\\n",
       "0                      0                    1   \n",
       "1                      0                    1   \n",
       "2                      0                    1   \n",
       "3                      0                    1   \n",
       "4                      0                    1   \n",
       "..                   ...                  ...   \n",
       "828                    0                    1   \n",
       "829                    0                    1   \n",
       "830                    0                    1   \n",
       "831                    0                    1   \n",
       "832                    0                    1   \n",
       "\n",
       "     Did_Police_Officer_Attend_Scene_of_Accident  LSOA_of_Accident_Location  \n",
       "0                                              1                  E01010606  \n",
       "1                                              1                  E01010618  \n",
       "2                                              1                  E01010615  \n",
       "3                                              1                  E01010571  \n",
       "4                                              2                  E01010735  \n",
       "..                                           ...                        ...  \n",
       "828                                            1                  E01010789  \n",
       "829                                            1                  E01010727  \n",
       "830                                            1                  E01010697  \n",
       "831                                            2                  E01010809  \n",
       "832                                            2                  E01010807  \n",
       "\n",
       "[833 rows x 32 columns]"
      ]
     },
     "execution_count": 111,
     "metadata": {},
     "output_type": "execute_result"
    }
   ],
   "source": [
    "DATA['accident']"
   ]
  },
  {
   "cell_type": "markdown",
   "metadata": {},
   "source": [
    "<hr>"
   ]
  },
  {
   "cell_type": "markdown",
   "metadata": {},
   "source": [
    "# Lecture 4: Spatial filtering"
   ]
  },
  {
   "cell_type": "code",
   "execution_count": null,
   "metadata": {},
   "outputs": [],
   "source": []
  },
  {
   "cell_type": "markdown",
   "metadata": {},
   "source": [
    "## Filtering with external table"
   ]
  },
  {
   "cell_type": "code",
   "execution_count": null,
   "metadata": {},
   "outputs": [],
   "source": []
  },
  {
   "cell_type": "markdown",
   "metadata": {},
   "source": [
    "Let's select all rows for the city name:"
   ]
  },
  {
   "cell_type": "code",
   "execution_count": null,
   "metadata": {},
   "outputs": [],
   "source": []
  },
  {
   "cell_type": "markdown",
   "metadata": {},
   "source": [
    "We want to use this list of LSOA11 codes to restrict our accident data set."
   ]
  },
  {
   "cell_type": "code",
   "execution_count": null,
   "metadata": {},
   "outputs": [],
   "source": []
  },
  {
   "cell_type": "markdown",
   "metadata": {},
   "source": [
    "Filter"
   ]
  },
  {
   "cell_type": "code",
   "execution_count": null,
   "metadata": {},
   "outputs": [],
   "source": []
  },
  {
   "cell_type": "markdown",
   "metadata": {},
   "source": [
    "Export"
   ]
  },
  {
   "cell_type": "code",
   "execution_count": null,
   "metadata": {},
   "outputs": [],
   "source": []
  },
  {
   "cell_type": "markdown",
   "metadata": {},
   "source": [
    "## Spatial filtering with shapely"
   ]
  },
  {
   "cell_type": "code",
   "execution_count": null,
   "metadata": {},
   "outputs": [],
   "source": []
  },
  {
   "cell_type": "markdown",
   "metadata": {},
   "source": [
    "Jupyter visualizes shapely objects!"
   ]
  },
  {
   "cell_type": "code",
   "execution_count": null,
   "metadata": {},
   "outputs": [],
   "source": []
  },
  {
   "cell_type": "markdown",
   "metadata": {},
   "source": [
    "Let's get all accident coordinates (from the whole UK)"
   ]
  },
  {
   "cell_type": "code",
   "execution_count": null,
   "metadata": {},
   "outputs": [],
   "source": []
  },
  {
   "cell_type": "markdown",
   "metadata": {},
   "source": [
    "`contains()` and `within()` check for point inclusion:"
   ]
  },
  {
   "cell_type": "code",
   "execution_count": null,
   "metadata": {},
   "outputs": [],
   "source": []
  },
  {
   "cell_type": "markdown",
   "metadata": {},
   "source": [
    "Limit vehicles and casualties to these AccidentIndices"
   ]
  },
  {
   "cell_type": "code",
   "execution_count": null,
   "metadata": {},
   "outputs": [],
   "source": []
  },
  {
   "cell_type": "markdown",
   "metadata": {},
   "source": [
    "What does it mean?  \n",
    "See: https://www.computerhope.com/unix/udiff.htm"
   ]
  },
  {
   "cell_type": "markdown",
   "metadata": {},
   "source": [
    "<hr>"
   ]
  },
  {
   "cell_type": "markdown",
   "metadata": {},
   "source": [
    "# Lecture 5: Visualizing spatial data"
   ]
  },
  {
   "cell_type": "code",
   "execution_count": null,
   "metadata": {},
   "outputs": [],
   "source": []
  },
  {
   "cell_type": "markdown",
   "metadata": {},
   "source": [
    "Inspired by: https://alysivji.github.io/getting-started-with-folium.html"
   ]
  },
  {
   "cell_type": "code",
   "execution_count": null,
   "metadata": {},
   "outputs": [],
   "source": []
  },
  {
   "cell_type": "markdown",
   "metadata": {},
   "source": [
    "The heatmap is built with KDE:  \n",
    "https://en.wikipedia.org/wiki/Kernel_density_estimation"
   ]
  },
  {
   "cell_type": "markdown",
   "metadata": {},
   "source": [
    "We can also add automatic clusters:"
   ]
  },
  {
   "cell_type": "code",
   "execution_count": null,
   "metadata": {},
   "outputs": [],
   "source": []
  }
 ],
 "metadata": {
  "kernelspec": {
   "display_name": "Python 3",
   "language": "python",
   "name": "python3"
  },
  "language_info": {
   "codemirror_mode": {
    "name": "ipython",
    "version": 3
   },
   "file_extension": ".py",
   "mimetype": "text/x-python",
   "name": "python",
   "nbconvert_exporter": "python",
   "pygments_lexer": "ipython3",
   "version": "3.8.5"
  }
 },
 "nbformat": 4,
 "nbformat_minor": 2
}
