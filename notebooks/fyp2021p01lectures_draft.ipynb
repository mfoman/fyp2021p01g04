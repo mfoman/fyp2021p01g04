{
 "cells": [
  {
   "cell_type": "markdown",
   "metadata": {},
   "source": [
    "# Jupyter Lectures, First Year Project 2021"
   ]
  },
  {
   "cell_type": "markdown",
   "metadata": {},
   "source": [
    "## Project 1 - Road collisions analysis, ITU Copenhagen"
   ]
  },
  {
   "cell_type": "markdown",
   "metadata": {},
   "source": [
    "**Instructor: Michael Szell**"
   ]
  },
  {
   "cell_type": "markdown",
   "metadata": {},
   "source": [
    "Course page: https://learnit.itu.dk/local/coursebase/view.php?ciid=590"
   ]
  },
  {
   "cell_type": "markdown",
   "metadata": {},
   "source": [
    "This notebook contains all the code developed in the course lectures to wrangle and explore the data set from the project.\n",
    "\n",
    "Contact: Michael Szell (misz@itu.dk)  \n",
    "Created: 2021-01-29  \n",
    "Last modified: 2021-01-29"
   ]
  },
  {
   "cell_type": "markdown",
   "metadata": {},
   "source": [
    "<hr>"
   ]
  },
  {
   "cell_type": "markdown",
   "metadata": {},
   "source": [
    "# Lecture 1: First data exploration"
   ]
  },
  {
   "cell_type": "markdown",
   "metadata": {},
   "source": [
    "### Imports"
   ]
  },
  {
   "cell_type": "code",
   "execution_count": 1,
   "metadata": {},
   "outputs": [
    {
     "output_type": "stream",
     "name": "stdout",
     "text": [
      "Loaded functions.\n\n"
     ]
    }
   ],
   "source": [
    "import numpy as np\n",
    "import matplotlib as plt\n",
    "import csv\n",
    "import pandas as pd\n",
    "import seaborn as sns\n",
    "from pathlib import Path\n",
    "\n",
    "%run -i ../scripts/functions.py\n",
    "\n"
   ]
  },
  {
   "cell_type": "markdown",
   "metadata": {},
   "source": [
    "### Constants"
   ]
  },
  {
   "cell_type": "markdown",
   "metadata": {},
   "source": [
    "Constants are written all caps: https://www.python.org/dev/peps/pep-0008/#constants"
   ]
  },
  {
   "cell_type": "code",
   "execution_count": 2,
   "metadata": {},
   "outputs": [],
   "source": [
    "PATH = {\n",
    "    'raw': Path('../data/raw/'),\n",
    "    'processed': Path('../data/processed/'),\n",
    "    'interim': Path('../data/interim/'),\n",
    "    'references': Path('../references')\n",
    "}\n",
    "\n",
    "PATH['accident'] = PATH['interim'] / \"bradford_accidents.csv\"\n",
    "PATH['casual'] = PATH['interim'] / \"bradford_casualties.csv\"\n",
    "PATH['vehicles'] = PATH['interim'] / \"bradford_vehicles.csv\"\n",
    "\n",
    "PATH['var_lookup'] = PATH['references'] / 'variable lookup.xls'"
   ]
  },
  {
   "cell_type": "code",
   "execution_count": 3,
   "metadata": {},
   "outputs": [
    {
     "output_type": "execute_result",
     "data": {
      "text/plain": [
       "   code      label\n",
       "0     1     Sunday\n",
       "1     2     Monday\n",
       "2     3    Tuesday\n",
       "3     4  Wednesday\n",
       "4     5   Thursday\n",
       "5     6     Friday\n",
       "6     7   Saturday"
      ],
      "text/html": "<div>\n<style scoped>\n    .dataframe tbody tr th:only-of-type {\n        vertical-align: middle;\n    }\n\n    .dataframe tbody tr th {\n        vertical-align: top;\n    }\n\n    .dataframe thead th {\n        text-align: right;\n    }\n</style>\n<table border=\"1\" class=\"dataframe\">\n  <thead>\n    <tr style=\"text-align: right;\">\n      <th></th>\n      <th>code</th>\n      <th>label</th>\n    </tr>\n  </thead>\n  <tbody>\n    <tr>\n      <th>0</th>\n      <td>1</td>\n      <td>Sunday</td>\n    </tr>\n    <tr>\n      <th>1</th>\n      <td>2</td>\n      <td>Monday</td>\n    </tr>\n    <tr>\n      <th>2</th>\n      <td>3</td>\n      <td>Tuesday</td>\n    </tr>\n    <tr>\n      <th>3</th>\n      <td>4</td>\n      <td>Wednesday</td>\n    </tr>\n    <tr>\n      <th>4</th>\n      <td>5</td>\n      <td>Thursday</td>\n    </tr>\n    <tr>\n      <th>5</th>\n      <td>6</td>\n      <td>Friday</td>\n    </tr>\n    <tr>\n      <th>6</th>\n      <td>7</td>\n      <td>Saturday</td>\n    </tr>\n  </tbody>\n</table>\n</div>"
     },
     "metadata": {},
     "execution_count": 3
    }
   ],
   "source": [
    "# sheet_name=none gives all sheets \n",
    "VAR_LOOKUP = pd.read_excel(PATH['var_lookup'], sheet_name = None)\n",
    "\n",
    "# No underscores in field name\n",
    "VAR_LOOKUP['Day of Week']"
   ]
  },
  {
   "cell_type": "markdown",
   "metadata": {},
   "source": [
    "### Load raw data"
   ]
  },
  {
   "cell_type": "markdown",
   "metadata": {},
   "source": [
    "The data were downloaded from here on Jan 4th: https://data.gov.uk/dataset/road-accidents-safety-data  \n",
    "That page was updated afterwards (Jan 8th), so local and online data may be inconsistent."
   ]
  },
  {
   "cell_type": "markdown",
   "metadata": {},
   "source": [
    "We first explore one data table, the accidents."
   ]
  },
  {
   "cell_type": "code",
   "execution_count": 53,
   "metadata": {},
   "outputs": [],
   "source": [
    "#dict to store specific per-column NA values.  \n",
    "NA_VALUES_VEHICLES = {\n",
    "    19: '-1' #Age_of_Vehicle\n",
    "}"
   ]
  },
  {
   "cell_type": "code",
   "execution_count": 54,
   "metadata": {},
   "outputs": [],
   "source": [
    "# Dict to store our data\n",
    "DATA = {}\n",
    "\n",
    "# Read data and explicitly define some data types for columns\n",
    "DATA['accident'] = pd.read_csv(PATH['accident'], dtype={0: 'string', 31: 'string'}, encoding='utf-8-sig')\n",
    "\n",
    "DATA['casual'] = pd.read_csv(PATH['casual'], dtype={0: 'string'}, encoding='utf-8-sig')\n",
    "\n",
    "DATA['vehicles'] = pd.read_csv(PATH['vehicles'], dtype={0: 'string'}, encoding='utf-8-sig', na_values=NA_VALUES_VEHICLES) # Maybe useful later: add index_col=0"
   ]
  },
  {
   "cell_type": "code",
   "execution_count": 5,
   "metadata": {},
   "outputs": [
    {
     "output_type": "execute_result",
     "data": {
      "text/plain": [
       "Index(['Accident_Index', 'Location_Easting_OSGR', 'Location_Northing_OSGR',\n",
       "       'Longitude', 'Latitude', 'Police_Force', 'Accident_Severity',\n",
       "       'Number_of_Vehicles', 'Number_of_Casualties', 'Date', 'Day_of_Week',\n",
       "       'Time', 'Local_Authority_(District)', 'Local_Authority_(Highway)',\n",
       "       '1st_Road_Class', '1st_Road_Number', 'Road_Type', 'Speed_limit',\n",
       "       'Junction_Detail', 'Junction_Control', '2nd_Road_Class',\n",
       "       '2nd_Road_Number', 'Pedestrian_Crossing-Human_Control',\n",
       "       'Pedestrian_Crossing-Physical_Facilities', 'Light_Conditions',\n",
       "       'Weather_Conditions', 'Road_Surface_Conditions',\n",
       "       'Special_Conditions_at_Site', 'Carriageway_Hazards',\n",
       "       'Urban_or_Rural_Area', 'Did_Police_Officer_Attend_Scene_of_Accident',\n",
       "       'LSOA_of_Accident_Location'],\n",
       "      dtype='object')"
      ]
     },
     "metadata": {},
     "execution_count": 5
    }
   ],
   "source": [
    "HEADERS = {\n",
    "    'accident': DATA['accident'].columns,\n",
    "    'casual': DATA['casual'].columns,\n",
    "    'vehicles': DATA['vehicles'].columns\n",
    "}\n",
    "\n",
    "HEADERS['accident']"
   ]
  },
  {
   "cell_type": "markdown",
   "metadata": {},
   "source": [
    "It is always good to start with a \"sneak preview\":"
   ]
  },
  {
   "cell_type": "code",
   "execution_count": 6,
   "metadata": {
    "scrolled": true
   },
   "outputs": [
    {
     "output_type": "execute_result",
     "data": {
      "text/plain": [
       "  Accident_Index  Location_Easting_OSGR  Location_Northing_OSGR  Longitude  \\\n",
       "0  2019136111019               417000.0                433017.0  -1.743423   \n",
       "1  2019136111467               419018.0                433809.0  -1.712742   \n",
       "2  2019136121066               418157.0                430906.0  -1.725984   \n",
       "3  2019136131015               415321.0                438238.0  -1.768652   \n",
       "4  2019136131184               415008.0                431561.0  -1.773732   \n",
       "\n",
       "    Latitude  Police_Force  Accident_Severity  Number_of_Vehicles  \\\n",
       "0  53.793206            13                  3                   2   \n",
       "1  53.800255            13                  3                   3   \n",
       "2  53.774194            13                  3                   2   \n",
       "3  53.840183            13                  3                   2   \n",
       "4  53.780180            13                  3                   1   \n",
       "\n",
       "   Number_of_Casualties        Date  ...  Pedestrian_Crossing-Human_Control  \\\n",
       "0                     1  01/01/2019  ...                                  0   \n",
       "1                     2  02/01/2019  ...                                  0   \n",
       "2                     1  02/01/2019  ...                                  0   \n",
       "3                     2  03/01/2019  ...                                  0   \n",
       "4                     1  03/01/2019  ...                                  0   \n",
       "\n",
       "  Pedestrian_Crossing-Physical_Facilities  Light_Conditions  \\\n",
       "0                                       0                 4   \n",
       "1                                       0                 1   \n",
       "2                                       0                 1   \n",
       "3                                       5                 1   \n",
       "4                                       0                 1   \n",
       "\n",
       "  Weather_Conditions  Road_Surface_Conditions  Special_Conditions_at_Site  \\\n",
       "0                  1                        1                           0   \n",
       "1                  1                        1                           0   \n",
       "2                  1                        1                           0   \n",
       "3                  1                        1                           0   \n",
       "4                  1                        1                           0   \n",
       "\n",
       "   Carriageway_Hazards  Urban_or_Rural_Area  \\\n",
       "0                    0                    1   \n",
       "1                    0                    1   \n",
       "2                    0                    1   \n",
       "3                    0                    1   \n",
       "4                    0                    1   \n",
       "\n",
       "   Did_Police_Officer_Attend_Scene_of_Accident  LSOA_of_Accident_Location  \n",
       "0                                            1                  E01010606  \n",
       "1                                            1                  E01010618  \n",
       "2                                            1                  E01010615  \n",
       "3                                            1                  E01010571  \n",
       "4                                            2                  E01010735  \n",
       "\n",
       "[5 rows x 32 columns]"
      ],
      "text/html": "<div>\n<style scoped>\n    .dataframe tbody tr th:only-of-type {\n        vertical-align: middle;\n    }\n\n    .dataframe tbody tr th {\n        vertical-align: top;\n    }\n\n    .dataframe thead th {\n        text-align: right;\n    }\n</style>\n<table border=\"1\" class=\"dataframe\">\n  <thead>\n    <tr style=\"text-align: right;\">\n      <th></th>\n      <th>Accident_Index</th>\n      <th>Location_Easting_OSGR</th>\n      <th>Location_Northing_OSGR</th>\n      <th>Longitude</th>\n      <th>Latitude</th>\n      <th>Police_Force</th>\n      <th>Accident_Severity</th>\n      <th>Number_of_Vehicles</th>\n      <th>Number_of_Casualties</th>\n      <th>Date</th>\n      <th>...</th>\n      <th>Pedestrian_Crossing-Human_Control</th>\n      <th>Pedestrian_Crossing-Physical_Facilities</th>\n      <th>Light_Conditions</th>\n      <th>Weather_Conditions</th>\n      <th>Road_Surface_Conditions</th>\n      <th>Special_Conditions_at_Site</th>\n      <th>Carriageway_Hazards</th>\n      <th>Urban_or_Rural_Area</th>\n      <th>Did_Police_Officer_Attend_Scene_of_Accident</th>\n      <th>LSOA_of_Accident_Location</th>\n    </tr>\n  </thead>\n  <tbody>\n    <tr>\n      <th>0</th>\n      <td>2019136111019</td>\n      <td>417000.0</td>\n      <td>433017.0</td>\n      <td>-1.743423</td>\n      <td>53.793206</td>\n      <td>13</td>\n      <td>3</td>\n      <td>2</td>\n      <td>1</td>\n      <td>01/01/2019</td>\n      <td>...</td>\n      <td>0</td>\n      <td>0</td>\n      <td>4</td>\n      <td>1</td>\n      <td>1</td>\n      <td>0</td>\n      <td>0</td>\n      <td>1</td>\n      <td>1</td>\n      <td>E01010606</td>\n    </tr>\n    <tr>\n      <th>1</th>\n      <td>2019136111467</td>\n      <td>419018.0</td>\n      <td>433809.0</td>\n      <td>-1.712742</td>\n      <td>53.800255</td>\n      <td>13</td>\n      <td>3</td>\n      <td>3</td>\n      <td>2</td>\n      <td>02/01/2019</td>\n      <td>...</td>\n      <td>0</td>\n      <td>0</td>\n      <td>1</td>\n      <td>1</td>\n      <td>1</td>\n      <td>0</td>\n      <td>0</td>\n      <td>1</td>\n      <td>1</td>\n      <td>E01010618</td>\n    </tr>\n    <tr>\n      <th>2</th>\n      <td>2019136121066</td>\n      <td>418157.0</td>\n      <td>430906.0</td>\n      <td>-1.725984</td>\n      <td>53.774194</td>\n      <td>13</td>\n      <td>3</td>\n      <td>2</td>\n      <td>1</td>\n      <td>02/01/2019</td>\n      <td>...</td>\n      <td>0</td>\n      <td>0</td>\n      <td>1</td>\n      <td>1</td>\n      <td>1</td>\n      <td>0</td>\n      <td>0</td>\n      <td>1</td>\n      <td>1</td>\n      <td>E01010615</td>\n    </tr>\n    <tr>\n      <th>3</th>\n      <td>2019136131015</td>\n      <td>415321.0</td>\n      <td>438238.0</td>\n      <td>-1.768652</td>\n      <td>53.840183</td>\n      <td>13</td>\n      <td>3</td>\n      <td>2</td>\n      <td>2</td>\n      <td>03/01/2019</td>\n      <td>...</td>\n      <td>0</td>\n      <td>5</td>\n      <td>1</td>\n      <td>1</td>\n      <td>1</td>\n      <td>0</td>\n      <td>0</td>\n      <td>1</td>\n      <td>1</td>\n      <td>E01010571</td>\n    </tr>\n    <tr>\n      <th>4</th>\n      <td>2019136131184</td>\n      <td>415008.0</td>\n      <td>431561.0</td>\n      <td>-1.773732</td>\n      <td>53.780180</td>\n      <td>13</td>\n      <td>3</td>\n      <td>1</td>\n      <td>1</td>\n      <td>03/01/2019</td>\n      <td>...</td>\n      <td>0</td>\n      <td>0</td>\n      <td>1</td>\n      <td>1</td>\n      <td>1</td>\n      <td>0</td>\n      <td>0</td>\n      <td>1</td>\n      <td>2</td>\n      <td>E01010735</td>\n    </tr>\n  </tbody>\n</table>\n<p>5 rows × 32 columns</p>\n</div>"
     },
     "metadata": {},
     "execution_count": 6
    }
   ],
   "source": [
    "DATA['accident'][:5]"
   ]
  },
  {
   "cell_type": "markdown",
   "metadata": {},
   "source": [
    "Reminder and documentation on structured arrays:  \n",
    "https://numpy.org/devdocs/user/basics.rec.html"
   ]
  },
  {
   "cell_type": "markdown",
   "metadata": {},
   "source": [
    "#### Insight: Mixed variable types"
   ]
  },
  {
   "cell_type": "markdown",
   "metadata": {},
   "source": [
    "Number of records"
   ]
  },
  {
   "cell_type": "code",
   "execution_count": 7,
   "metadata": {},
   "outputs": [
    {
     "output_type": "execute_result",
     "data": {
      "text/plain": [
       "(833, 32)"
      ]
     },
     "metadata": {},
     "execution_count": 7
    }
   ],
   "source": [
    "DATA['accident'].shape"
   ]
  },
  {
   "cell_type": "markdown",
   "metadata": {},
   "source": [
    "Number of fields"
   ]
  },
  {
   "cell_type": "code",
   "execution_count": 8,
   "metadata": {},
   "outputs": [
    {
     "output_type": "execute_result",
     "data": {
      "text/plain": [
       "(32, 23, 16)"
      ]
     },
     "metadata": {},
     "execution_count": 8
    }
   ],
   "source": [
    "len(DATA['accident'].dtypes), len(DATA['vehicles'].dtypes), len(DATA['casual'].dtypes)\n"
   ]
  },
  {
   "cell_type": "markdown",
   "metadata": {},
   "source": [
    "**\"Data in the wild\" puzzle: Why is the first field \"\\ufeffAccident_Index\" and not \"Accident_Index\"?**"
   ]
  },
  {
   "cell_type": "markdown",
   "metadata": {},
   "source": [
    "Fields"
   ]
  },
  {
   "cell_type": "code",
   "execution_count": 44,
   "metadata": {
    "scrolled": false
   },
   "outputs": [
    {
     "output_type": "execute_result",
     "data": {
      "text/plain": [
       "Accident_Index                      string\n",
       "Vehicle_Reference                    int64\n",
       "Vehicle_Type                         int64\n",
       "Towing_and_Articulation              int64\n",
       "Vehicle_Manoeuvre                    int64\n",
       "Vehicle_Location-Restricted_Lane     int64\n",
       "Junction_Location                    int64\n",
       "Skidding_and_Overturning             int64\n",
       "Hit_Object_in_Carriageway            int64\n",
       "Vehicle_Leaving_Carriageway          int64\n",
       "Hit_Object_off_Carriageway           int64\n",
       "1st_Point_of_Impact                  int64\n",
       "Was_Vehicle_Left_Hand_Drive?         int64\n",
       "Journey_Purpose_of_Driver            int64\n",
       "Sex_of_Driver                        int64\n",
       "Age_of_Driver                        int64\n",
       "Age_Band_of_Driver                   int64\n",
       "Engine_Capacity_(CC)                 int64\n",
       "Propulsion_Code                      int64\n",
       "Age_of_Vehicle                       int64\n",
       "Driver_IMD_Decile                    int64\n",
       "Driver_Home_Area_Type                int64\n",
       "Vehicle_IMD_Decile                   int64\n",
       "dtype: object"
      ]
     },
     "metadata": {},
     "execution_count": 44
    }
   ],
   "source": [
    "DATA['vehicles'].dtypes"
   ]
  },
  {
   "cell_type": "markdown",
   "metadata": {},
   "source": [
    "Homework: Explore the other two tables the same way."
   ]
  },
  {
   "cell_type": "markdown",
   "metadata": {},
   "source": [
    "<hr>"
   ]
  },
  {
   "cell_type": "code",
   "execution_count": 10,
   "metadata": {},
   "outputs": [
    {
     "output_type": "execute_result",
     "data": {
      "text/plain": [
       "Accident_Index                      string\n",
       "Vehicle_Reference                    int64\n",
       "Vehicle_Type                         int64\n",
       "Towing_and_Articulation              int64\n",
       "Vehicle_Manoeuvre                    int64\n",
       "Vehicle_Location-Restricted_Lane     int64\n",
       "Junction_Location                    int64\n",
       "Skidding_and_Overturning             int64\n",
       "Hit_Object_in_Carriageway            int64\n",
       "Vehicle_Leaving_Carriageway          int64\n",
       "Hit_Object_off_Carriageway           int64\n",
       "1st_Point_of_Impact                  int64\n",
       "Was_Vehicle_Left_Hand_Drive?         int64\n",
       "Journey_Purpose_of_Driver            int64\n",
       "Sex_of_Driver                        int64\n",
       "Age_of_Driver                        int64\n",
       "Age_Band_of_Driver                   int64\n",
       "Engine_Capacity_(CC)                 int64\n",
       "Propulsion_Code                      int64\n",
       "Age_of_Vehicle                       int64\n",
       "Driver_IMD_Decile                    int64\n",
       "Driver_Home_Area_Type                int64\n",
       "Vehicle_IMD_Decile                   int64\n",
       "dtype: object"
      ]
     },
     "metadata": {},
     "execution_count": 10
    }
   ],
   "source": [
    "DATA['vehicles'].dtypes"
   ]
  },
  {
   "cell_type": "code",
   "execution_count": 11,
   "metadata": {},
   "outputs": [
    {
     "output_type": "execute_result",
     "data": {
      "text/plain": [
       "Accident_Index                        string\n",
       "Vehicle_Reference                      int64\n",
       "Casualty_Reference                     int64\n",
       "Casualty_Class                         int64\n",
       "Sex_of_Casualty                        int64\n",
       "Age_of_Casualty                        int64\n",
       "Age_Band_of_Casualty                   int64\n",
       "Casualty_Severity                      int64\n",
       "Pedestrian_Location                    int64\n",
       "Pedestrian_Movement                    int64\n",
       "Car_Passenger                          int64\n",
       "Bus_or_Coach_Passenger                 int64\n",
       "Pedestrian_Road_Maintenance_Worker     int64\n",
       "Casualty_Type                          int64\n",
       "Casualty_Home_Area_Type                int64\n",
       "Casualty_IMD_Decile                    int64\n",
       "dtype: object"
      ]
     },
     "metadata": {},
     "execution_count": 11
    }
   ],
   "source": [
    "DATA['casual'].dtypes"
   ]
  },
  {
   "cell_type": "markdown",
   "metadata": {},
   "source": [
    "# Lecture 2: Command line wrangling and dealing with missing data"
   ]
  },
  {
   "cell_type": "markdown",
   "metadata": {},
   "source": [
    "A faster way of getting basic insights into a new data set than by using numpy is by using command line tools."
   ]
  },
  {
   "cell_type": "markdown",
   "metadata": {},
   "source": [
    "Let's get a first overview using `head`. There are 3 data tables: Accidents, Casualties, and Vehicles."
   ]
  },
  {
   "cell_type": "code",
   "execution_count": 12,
   "metadata": {
    "scrolled": false
   },
   "outputs": [
    {
     "output_type": "stream",
     "name": "stdout",
     "text": [
      "Accident_Index,Location_Easting_OSGR,Location_Northing_OSGR,Longitude,Latitude,Police_Force,Accident_Severity,Number_of_Vehicles,Number_of_Casualties,Date,Day_of_Week,Time,Local_Authority_(District),Local_Authority_(Highway),1st_Road_Class,1st_Road_Number,Road_Type,Speed_limit,Junction_Detail,Junction_Control,2nd_Road_Class,2nd_Road_Number,Pedestrian_Crossing-Human_Control,Pedestrian_Crossing-Physical_Facilities,Light_Conditions,Weather_Conditions,Road_Surface_Conditions,Special_Conditions_at_Site,Carriageway_Hazards,Urban_or_Rural_Area,Did_Police_Officer_Attend_Scene_of_Accident,LSOA_of_Accident_Location\n2019136111019,417000.0,433017.0,-1.743423,53.793206,13,3,2,1,01/01/2019,3,08:00,200,E08000032,3,650,6,30,6,4,3,647,0,0,4,1,1,0,0,1,1,E01010606\n2019136111467,419018.0,433809.0,-1.712742,53.800255,13,3,3,2,02/01/2019,4,13:20,200,E08000032,6,0,6,30,0,-1,-1,0,0,0,1,1,1,0,0,1,1,E01010618\n2019136121066,418157.0,430906.0,-1.725984,53.774194,13,3,2,1,02/01/2019,4,15:45,200,E08000032,3,650,3,40,5,4,6,0,0,0,1,1,1,0,0,1,1,E01010615\n2019136131015,415321.0,438238.0,-1.768652,53.840183,13,3,2,2,03/01/2019,5,15:11,200,E08000032,3,6038,6,30,3,4,6,0,0,5,1,1,1,0,0,1,1,E01010571\n"
     ]
    }
   ],
   "source": [
    "!head -n 5 \"../data/interim/bradford_accidents.csv\""
   ]
  },
  {
   "cell_type": "markdown",
   "metadata": {},
   "source": [
    "### General insights"
   ]
  },
  {
   "cell_type": "markdown",
   "metadata": {},
   "source": [
    "#### Link between data tables"
   ]
  },
  {
   "cell_type": "markdown",
   "metadata": {},
   "source": [
    "Records between data tables are linked through their `Accident_Index`.\n",
    "\n",
    "Looking at the first Accident_Index 2019010128300, we can see there seems to be a one-to-many relation between accident->casualty and accident->vehicle, meaning there can be multiple casualties and vehicles involved in one accident (makes sense).\n",
    "\n",
    "https://en.wikipedia.org/wiki/One-to-many_(data_model)"
   ]
  },
  {
   "cell_type": "markdown",
   "metadata": {},
   "source": [
    "#### Dimensions"
   ]
  },
  {
   "cell_type": "markdown",
   "metadata": {},
   "source": [
    "Number of records"
   ]
  },
  {
   "cell_type": "markdown",
   "metadata": {},
   "source": [
    "https://en.wikipedia.org/wiki/Wc_(Unix)"
   ]
  },
  {
   "cell_type": "code",
   "execution_count": 13,
   "metadata": {},
   "outputs": [
    {
     "output_type": "stream",
     "name": "stdout",
     "text": [
      "834 ../data/interim/bradford_accidents.csv\n"
     ]
    }
   ],
   "source": [
    "!wc -l \"../data/interim/bradford_accidents.csv\""
   ]
  },
  {
   "cell_type": "markdown",
   "metadata": {},
   "source": [
    "Number of fields (in first line)"
   ]
  },
  {
   "cell_type": "markdown",
   "metadata": {},
   "source": [
    "https://www.geeksforgeeks.org/awk-command-unixlinux-examples/"
   ]
  },
  {
   "cell_type": "code",
   "execution_count": 14,
   "metadata": {
    "scrolled": true
   },
   "outputs": [
    {
     "output_type": "stream",
     "name": "stdout",
     "text": [
      "32\n"
     ]
    }
   ],
   "source": [
    "!head -n 1 \"../data/interim/bradford_accidents.csv\" | awk -F \",\" \"{print NF}\""
   ]
  },
  {
   "cell_type": "markdown",
   "metadata": {},
   "source": [
    "See and count all fields"
   ]
  },
  {
   "cell_type": "markdown",
   "metadata": {},
   "source": [
    "https://en.wikipedia.org/wiki/Tr_(Unix)\n",
    "https://en.wikipedia.org/wiki/Nl_(Unix)"
   ]
  },
  {
   "cell_type": "code",
   "execution_count": 15,
   "metadata": {},
   "outputs": [
    {
     "output_type": "stream",
     "name": "stdout",
     "text": [
      "     1\tAccident_Index\n",
      "     2\tLocation_Easting_OSGR\n",
      "     3\tLocation_Northing_OSGR\n",
      "     4\tLongitude\n",
      "     5\tLatitude\n",
      "     6\tPolice_Force\n",
      "     7\tAccident_Severity\n",
      "     8\tNumber_of_Vehicles\n",
      "     9\tNumber_of_Casualties\n",
      "    10\tDate\n",
      "    11\tDay_of_Week\n",
      "    12\tTime\n",
      "    13\tLocal_Authority_(District)\n",
      "    14\tLocal_Authority_(Highway)\n",
      "    15\t1st_Road_Class\n",
      "    16\t1st_Road_Number\n",
      "    17\tRoad_Type\n",
      "    18\tSpeed_limit\n",
      "    19\tJunction_Detail\n",
      "    20\tJunction_Control\n",
      "    21\t2nd_Road_Class\n",
      "    22\t2nd_Road_Number\n",
      "    23\tPedestrian_Crossing-Human_Control\n",
      "    24\tPedestrian_Crossing-Physical_Facilities\n",
      "    25\tLight_Conditions\n",
      "    26\tWeather_Conditions\n",
      "    27\tRoad_Surface_Conditions\n",
      "    28\tSpecial_Conditions_at_Site\n",
      "    29\tCarriageway_Hazards\n",
      "    30\tUrban_or_Rural_Area\n",
      "    31\tDid_Police_Officer_Attend_Scene_of_Accident\n",
      "    32\tLSOA_of_Accident_Location\n"
     ]
    }
   ],
   "source": [
    "!head -n 1 \"../data/interim/bradford_accidents.csv\" | tr \",\" \"\\n\" | nl"
   ]
  },
  {
   "cell_type": "markdown",
   "metadata": {},
   "source": [
    "### Sanity checks"
   ]
  },
  {
   "cell_type": "markdown",
   "metadata": {},
   "source": [
    "Has each record the same number of fields?"
   ]
  },
  {
   "cell_type": "markdown",
   "metadata": {},
   "source": [
    "https://shapeshed.com/unix-uniq/  \n",
    "https://www.putorius.net/uniq-command-linux.html"
   ]
  },
  {
   "cell_type": "code",
   "execution_count": 16,
   "metadata": {},
   "outputs": [
    {
     "output_type": "stream",
     "name": "stdout",
     "text": [
      "32\n"
     ]
    }
   ],
   "source": [
    "!awk -F \",\" \"{print NF}\" \"../data/interim/bradford_accidents.csv\" | sort | uniq -d"
   ]
  },
  {
   "cell_type": "markdown",
   "metadata": {},
   "source": [
    "How many duplicate lines are there? (If more than 0, there could be a problem)"
   ]
  },
  {
   "cell_type": "code",
   "execution_count": 17,
   "metadata": {
    "scrolled": true,
    "tags": []
   },
   "outputs": [
    {
     "output_type": "stream",
     "name": "stdout",
     "text": [
      "0\n"
     ]
    }
   ],
   "source": [
    "!sort \"../data/interim/bradford_accidents.csv\" | uniq -d | wc -l"
   ]
  },
  {
   "cell_type": "markdown",
   "metadata": {},
   "source": [
    "More advanced stuff with `awk`: https://datafix.com.au/BASHing/2020-05-20.html"
   ]
  },
  {
   "cell_type": "markdown",
   "metadata": {},
   "source": [
    "## Dealing with missing data"
   ]
  },
  {
   "cell_type": "markdown",
   "metadata": {},
   "source": [
    "Using a masked array:  \n",
    "https://numpy.org/devdocs/reference/maskedarray.baseclass.html#numpy.ma.MaskedArray"
   ]
  },
  {
   "cell_type": "code",
   "execution_count": 18,
   "metadata": {},
   "outputs": [
    {
     "output_type": "execute_result",
     "data": {
      "text/plain": [
       "   Accident_Index  Location_Easting_OSGR  Location_Northing_OSGR  Longitude  \\\n",
       "0           False                  False                   False      False   \n",
       "1           False                  False                   False      False   \n",
       "2           False                  False                   False      False   \n",
       "3           False                  False                   False      False   \n",
       "4           False                  False                   False      False   \n",
       "\n",
       "   Latitude  Police_Force  Accident_Severity  Number_of_Vehicles  \\\n",
       "0     False         False              False               False   \n",
       "1     False         False              False               False   \n",
       "2     False         False              False               False   \n",
       "3     False         False              False               False   \n",
       "4     False         False              False               False   \n",
       "\n",
       "   Number_of_Casualties   Date  ...  Pedestrian_Crossing-Human_Control  \\\n",
       "0                 False  False  ...                              False   \n",
       "1                 False  False  ...                              False   \n",
       "2                 False  False  ...                              False   \n",
       "3                 False  False  ...                              False   \n",
       "4                 False  False  ...                              False   \n",
       "\n",
       "   Pedestrian_Crossing-Physical_Facilities  Light_Conditions  \\\n",
       "0                                    False             False   \n",
       "1                                    False             False   \n",
       "2                                    False             False   \n",
       "3                                    False             False   \n",
       "4                                    False             False   \n",
       "\n",
       "   Weather_Conditions  Road_Surface_Conditions  Special_Conditions_at_Site  \\\n",
       "0               False                    False                       False   \n",
       "1               False                    False                       False   \n",
       "2               False                    False                       False   \n",
       "3               False                    False                       False   \n",
       "4               False                    False                       False   \n",
       "\n",
       "   Carriageway_Hazards  Urban_or_Rural_Area  \\\n",
       "0                False                False   \n",
       "1                False                False   \n",
       "2                False                False   \n",
       "3                False                False   \n",
       "4                False                False   \n",
       "\n",
       "   Did_Police_Officer_Attend_Scene_of_Accident  LSOA_of_Accident_Location  \n",
       "0                                        False                      False  \n",
       "1                                        False                      False  \n",
       "2                                        False                      False  \n",
       "3                                        False                      False  \n",
       "4                                        False                      False  \n",
       "\n",
       "[5 rows x 32 columns]"
      ],
      "text/html": "<div>\n<style scoped>\n    .dataframe tbody tr th:only-of-type {\n        vertical-align: middle;\n    }\n\n    .dataframe tbody tr th {\n        vertical-align: top;\n    }\n\n    .dataframe thead th {\n        text-align: right;\n    }\n</style>\n<table border=\"1\" class=\"dataframe\">\n  <thead>\n    <tr style=\"text-align: right;\">\n      <th></th>\n      <th>Accident_Index</th>\n      <th>Location_Easting_OSGR</th>\n      <th>Location_Northing_OSGR</th>\n      <th>Longitude</th>\n      <th>Latitude</th>\n      <th>Police_Force</th>\n      <th>Accident_Severity</th>\n      <th>Number_of_Vehicles</th>\n      <th>Number_of_Casualties</th>\n      <th>Date</th>\n      <th>...</th>\n      <th>Pedestrian_Crossing-Human_Control</th>\n      <th>Pedestrian_Crossing-Physical_Facilities</th>\n      <th>Light_Conditions</th>\n      <th>Weather_Conditions</th>\n      <th>Road_Surface_Conditions</th>\n      <th>Special_Conditions_at_Site</th>\n      <th>Carriageway_Hazards</th>\n      <th>Urban_or_Rural_Area</th>\n      <th>Did_Police_Officer_Attend_Scene_of_Accident</th>\n      <th>LSOA_of_Accident_Location</th>\n    </tr>\n  </thead>\n  <tbody>\n    <tr>\n      <th>0</th>\n      <td>False</td>\n      <td>False</td>\n      <td>False</td>\n      <td>False</td>\n      <td>False</td>\n      <td>False</td>\n      <td>False</td>\n      <td>False</td>\n      <td>False</td>\n      <td>False</td>\n      <td>...</td>\n      <td>False</td>\n      <td>False</td>\n      <td>False</td>\n      <td>False</td>\n      <td>False</td>\n      <td>False</td>\n      <td>False</td>\n      <td>False</td>\n      <td>False</td>\n      <td>False</td>\n    </tr>\n    <tr>\n      <th>1</th>\n      <td>False</td>\n      <td>False</td>\n      <td>False</td>\n      <td>False</td>\n      <td>False</td>\n      <td>False</td>\n      <td>False</td>\n      <td>False</td>\n      <td>False</td>\n      <td>False</td>\n      <td>...</td>\n      <td>False</td>\n      <td>False</td>\n      <td>False</td>\n      <td>False</td>\n      <td>False</td>\n      <td>False</td>\n      <td>False</td>\n      <td>False</td>\n      <td>False</td>\n      <td>False</td>\n    </tr>\n    <tr>\n      <th>2</th>\n      <td>False</td>\n      <td>False</td>\n      <td>False</td>\n      <td>False</td>\n      <td>False</td>\n      <td>False</td>\n      <td>False</td>\n      <td>False</td>\n      <td>False</td>\n      <td>False</td>\n      <td>...</td>\n      <td>False</td>\n      <td>False</td>\n      <td>False</td>\n      <td>False</td>\n      <td>False</td>\n      <td>False</td>\n      <td>False</td>\n      <td>False</td>\n      <td>False</td>\n      <td>False</td>\n    </tr>\n    <tr>\n      <th>3</th>\n      <td>False</td>\n      <td>False</td>\n      <td>False</td>\n      <td>False</td>\n      <td>False</td>\n      <td>False</td>\n      <td>False</td>\n      <td>False</td>\n      <td>False</td>\n      <td>False</td>\n      <td>...</td>\n      <td>False</td>\n      <td>False</td>\n      <td>False</td>\n      <td>False</td>\n      <td>False</td>\n      <td>False</td>\n      <td>False</td>\n      <td>False</td>\n      <td>False</td>\n      <td>False</td>\n    </tr>\n    <tr>\n      <th>4</th>\n      <td>False</td>\n      <td>False</td>\n      <td>False</td>\n      <td>False</td>\n      <td>False</td>\n      <td>False</td>\n      <td>False</td>\n      <td>False</td>\n      <td>False</td>\n      <td>False</td>\n      <td>...</td>\n      <td>False</td>\n      <td>False</td>\n      <td>False</td>\n      <td>False</td>\n      <td>False</td>\n      <td>False</td>\n      <td>False</td>\n      <td>False</td>\n      <td>False</td>\n      <td>False</td>\n    </tr>\n  </tbody>\n</table>\n<p>5 rows × 32 columns</p>\n</div>"
     },
     "metadata": {},
     "execution_count": 18
    }
   ],
   "source": [
    "DATA['accident'][:5].isnull()"
   ]
  },
  {
   "cell_type": "markdown",
   "metadata": {},
   "source": [
    "How many values in total?  \n",
    "Which fields are missing?"
   ]
  },
  {
   "cell_type": "code",
   "execution_count": 19,
   "metadata": {},
   "outputs": [
    {
     "output_type": "execute_result",
     "data": {
      "text/plain": [
       "(3, 26653)"
      ]
     },
     "metadata": {},
     "execution_count": 19
    }
   ],
   "source": [
    "# DATA['accident'].isnull().sum(), \"--- sum ---\", DATA['accident'].isnull().sum().sum()\n",
    "\n",
    "# Pandas: first sum the missing values row-wise, then sum all the row-wise sums to one single sum\n",
    "# Missing                            Not missing\n",
    "DATA['accident'].isna().sum().sum(), DATA['accident'].notna().sum().sum()"
   ]
  },
  {
   "cell_type": "markdown",
   "metadata": {},
   "source": [
    "Summary of missing values:"
   ]
  },
  {
   "cell_type": "code",
   "execution_count": 20,
   "metadata": {},
   "outputs": [
    {
     "output_type": "execute_result",
     "data": {
      "text/plain": [
       "17     NaN\n",
       "166    NaN\n",
       "812    NaN\n",
       "Name: Time, dtype: object"
      ]
     },
     "metadata": {},
     "execution_count": 20
    }
   ],
   "source": [
    "# Overview of missing values in columns\n",
    "DATA['accident'].isna().any()\n",
    "\n",
    "# Get only the names of the columns with missing values\n",
    "DATA['accident'].columns[DATA['accident'].isna().any()]\n",
    "\n",
    "# Return the rows with missing values\n",
    "DATA['accident'][DATA['accident'].isna().any(axis=1)]['Time']"
   ]
  },
  {
   "cell_type": "markdown",
   "metadata": {},
   "source": [
    "## Task 1 - Frequency of road collisions in your city for..."
   ]
  },
  {
   "cell_type": "markdown",
   "metadata": {},
   "source": [
    "### a) ...different age groups"
   ]
  },
  {
   "cell_type": "code",
   "execution_count": 21,
   "metadata": {},
   "outputs": [
    {
     "output_type": "execute_result",
     "data": {
      "text/plain": [
       "6     176\n",
       "7     170\n",
       "4     161\n",
       "8     149\n",
       "5     141\n",
       "9      85\n",
       "3      75\n",
       "10     49\n",
       "2      42\n",
       "1      37\n",
       "11     32\n",
       "Name: Age_Band_of_Casualty, dtype: int64"
      ]
     },
     "metadata": {},
     "execution_count": 21
    }
   ],
   "source": [
    "# Age analysis\n",
    "DATA['casual']['Age_Band_of_Casualty'].value_counts()"
   ]
  },
  {
   "cell_type": "markdown",
   "metadata": {},
   "source": [
    "### b) ...in different times\n",
    "(during the day, the week, or year)"
   ]
  },
  {
   "cell_type": "code",
   "execution_count": 22,
   "metadata": {},
   "outputs": [
    {
     "output_type": "execute_result",
     "data": {
      "text/plain": [
       "5    139\n",
       "4    135\n",
       "6    129\n",
       "3    122\n",
       "2    111\n",
       "7    109\n",
       "1     88\n",
       "Name: Day_of_Week, dtype: int64"
      ]
     },
     "metadata": {},
     "execution_count": 22
    }
   ],
   "source": [
    "# Time analysis\n",
    "DATA['accident']['Day_of_Week'].value_counts()"
   ]
  },
  {
   "cell_type": "markdown",
   "metadata": {},
   "source": [
    "### c) ...and for differences in one other condition."
   ]
  },
  {
   "cell_type": "code",
   "execution_count": 23,
   "metadata": {},
   "outputs": [
    {
     "output_type": "execute_result",
     "data": {
      "text/plain": [
       "0    873\n",
       "1     98\n",
       "3     50\n",
       "9     45\n",
       "2     20\n",
       "4     13\n",
       "5      9\n",
       "7      5\n",
       "6      3\n",
       "8      1\n",
       "Name: Pedestrian_Movement, dtype: int64"
      ]
     },
     "metadata": {},
     "execution_count": 23
    }
   ],
   "source": [
    "# Movement analysis - Task 1, c\n",
    "DATA['casual']['Pedestrian_Movement'].value_counts()"
   ]
  },
  {
   "cell_type": "markdown",
   "metadata": {},
   "source": [
    "<hr>"
   ]
  },
  {
   "cell_type": "markdown",
   "metadata": {},
   "source": [
    "# Lecture 3: Visual data exploration, Connecting tables, Association test"
   ]
  },
  {
   "cell_type": "markdown",
   "metadata": {},
   "source": [
    "## Visual exploratory data analysis (\"Plot your data\")"
   ]
  },
  {
   "cell_type": "markdown",
   "metadata": {},
   "source": [
    "### Bar plots of categorical variables"
   ]
  },
  {
   "cell_type": "code",
   "execution_count": 24,
   "metadata": {},
   "outputs": [
    {
     "output_type": "execute_result",
     "data": {
      "text/plain": [
       "Index(['Accident_Index', 'Location_Easting_OSGR', 'Location_Northing_OSGR',\n",
       "       'Longitude', 'Latitude', 'Police_Force', 'Accident_Severity',\n",
       "       'Number_of_Vehicles', 'Number_of_Casualties', 'Date', 'Day_of_Week',\n",
       "       'Time', 'Local_Authority_(District)', 'Local_Authority_(Highway)',\n",
       "       '1st_Road_Class', '1st_Road_Number', 'Road_Type', 'Speed_limit',\n",
       "       'Junction_Detail', 'Junction_Control', '2nd_Road_Class',\n",
       "       '2nd_Road_Number', 'Pedestrian_Crossing-Human_Control',\n",
       "       'Pedestrian_Crossing-Physical_Facilities', 'Light_Conditions',\n",
       "       'Weather_Conditions', 'Road_Surface_Conditions',\n",
       "       'Special_Conditions_at_Site', 'Carriageway_Hazards',\n",
       "       'Urban_or_Rural_Area', 'Did_Police_Officer_Attend_Scene_of_Accident',\n",
       "       'LSOA_of_Accident_Location'],\n",
       "      dtype='object')"
      ]
     },
     "metadata": {},
     "execution_count": 24
    }
   ],
   "source": [
    "HEADERS['accident']"
   ]
  },
  {
   "cell_type": "code",
   "execution_count": 25,
   "metadata": {},
   "outputs": [
    {
     "output_type": "execute_result",
     "data": {
      "text/plain": [
       "0    3\n",
       "1    4\n",
       "2    4\n",
       "3    5\n",
       "Name: Day_of_Week, dtype: int64"
      ]
     },
     "metadata": {},
     "execution_count": 25
    }
   ],
   "source": [
    "DATA['accident']['Day_of_Week'][:4]"
   ]
  },
  {
   "cell_type": "markdown",
   "metadata": {},
   "source": [
    "We were lucky because the categories 1,2,3 were \"nice\". But usually they aren't, so we need to explicitly map to integers:"
   ]
  },
  {
   "cell_type": "code",
   "execution_count": null,
   "metadata": {
    "scrolled": true
   },
   "outputs": [],
   "source": []
  },
  {
   "cell_type": "markdown",
   "metadata": {},
   "source": [
    "Instead of copy-pasting code, let's write a function."
   ]
  },
  {
   "cell_type": "code",
   "execution_count": null,
   "metadata": {
    "scrolled": false
   },
   "outputs": [],
   "source": []
  },
  {
   "cell_type": "markdown",
   "metadata": {},
   "source": [
    "Typing the variable lookup manually is cumbersome. Can we read the excel directly?  \n",
    "pandas can: https://pandas.pydata.org/pandas-docs/stable/reference/api/pandas.read_excel.html"
   ]
  },
  {
   "cell_type": "code",
   "execution_count": null,
   "metadata": {},
   "outputs": [],
   "source": []
  },
  {
   "cell_type": "markdown",
   "metadata": {},
   "source": [
    "### Histograms of numerical variables"
   ]
  },
  {
   "cell_type": "code",
   "execution_count": null,
   "metadata": {},
   "outputs": [],
   "source": []
  },
  {
   "cell_type": "markdown",
   "metadata": {},
   "source": [
    "### Categorical scatterplots"
   ]
  },
  {
   "cell_type": "markdown",
   "metadata": {},
   "source": [
    "Scatterplots are good for relating two numerical variables. If we have one numerical versus one categorical variable, we can do a box plot. But could we also visualize all data points? Yes: https://seaborn.pydata.org/tutorial/categorical.html"
   ]
  },
  {
   "cell_type": "code",
   "execution_count": null,
   "metadata": {},
   "outputs": [],
   "source": []
  },
  {
   "cell_type": "markdown",
   "metadata": {},
   "source": [
    "## Connecting tables with np.isin()"
   ]
  },
  {
   "cell_type": "markdown",
   "metadata": {},
   "source": [
    "**Question: How many babies and toddlers died on UK roads in June 2019?**"
   ]
  },
  {
   "cell_type": "markdown",
   "metadata": {},
   "source": [
    "Numpy has the fucntion isin() to select for a list of indices: https://numpy.org/doc/stable/reference/generated/numpy.isin.html"
   ]
  },
  {
   "cell_type": "code",
   "execution_count": null,
   "metadata": {},
   "outputs": [],
   "source": []
  },
  {
   "cell_type": "markdown",
   "metadata": {},
   "source": [
    "**Question: Who killed them?**"
   ]
  },
  {
   "cell_type": "markdown",
   "metadata": {},
   "source": [
    "Homework"
   ]
  },
  {
   "cell_type": "markdown",
   "metadata": {},
   "source": [
    "## Association test between two categorical variables \n",
    "**(Pearson $\\chi^2$ test of independence)**"
   ]
  },
  {
   "cell_type": "markdown",
   "metadata": {},
   "source": [
    "Inspired by:  \n",
    "https://peterstatistics.com/CrashCourse/3-TwoVarUnpair/NomNom/NomNom-2a-Test.html  \n",
    "https://bit.ly/3kbwKEL"
   ]
  },
  {
   "cell_type": "markdown",
   "metadata": {},
   "source": [
    "**Let us ask: Is there a statistically significant association between accident severity and speed limit?**  \n",
    "We ask because speed limit is something that the city government can regulate."
   ]
  },
  {
   "cell_type": "markdown",
   "metadata": {},
   "source": [
    "### Hypothesis testing"
   ]
  },
  {
   "cell_type": "markdown",
   "metadata": {},
   "source": [
    "We are now in the realm of [Statistical hypothesis testing](https://en.wikipedia.org/wiki/Statistical_hypothesis_testing). In general, we must first state and compare two hypotheses:\n",
    "\n",
    "- $H_0$ (null hypothesis): There is no statistically significant relationship between accident severity and speed limit.\n",
    "- $H_\\alpha$ (alternative hypothesis): There is a statistically significant relationship between accident severity and speed limit.\n",
    "\n",
    "We must then 1) state+check statistical assumptions, 2) choose an appropriate test and test statistic $T$, 3) derive the distribution for the test statistic, 4) select a significance level $\\alpha$, usually 0.01 or 0.05, 5) calculate the observed test statistic $t_{\\mathrm obs}$, 6) calculate the [p-value](https://en.wikipedia.org/wiki/P-value). \n",
    "\n",
    "If the p-value $< \\alpha$, then the null hypothesis will be rejected."
   ]
  },
  {
   "cell_type": "markdown",
   "metadata": {},
   "source": [
    "### Pearson $\\chi^2$ test of independence"
   ]
  },
  {
   "cell_type": "markdown",
   "metadata": {},
   "source": [
    "To test association between two categorical variables, one uses the [Pearson chi-square test of independence](https://en.wikipedia.org/wiki/Pearson%27s_chi-squared_test). If the significance of this test (p-value) is below a significance level (typically 0.05), the two variables have a significant association.\n",
    "\n",
    "The Pearson chi-square test should only be used if most cells have an expected count above 5, and the minimum expected count is at least 1."
   ]
  },
  {
   "cell_type": "code",
   "execution_count": null,
   "metadata": {},
   "outputs": [],
   "source": []
  },
  {
   "cell_type": "markdown",
   "metadata": {},
   "source": [
    "We crosstabulate using pandas:\n",
    "https://pandas.pydata.org/pandas-docs/stable/reference/api/pandas.crosstab.html\n",
    "\n",
    "The cross tabulation is also known as contingency table."
   ]
  },
  {
   "cell_type": "code",
   "execution_count": null,
   "metadata": {},
   "outputs": [],
   "source": []
  },
  {
   "cell_type": "markdown",
   "metadata": {},
   "source": [
    "The idea is now to compare these observed values with expected values.  \n",
    "The expected values can be calculated using:\n",
    "\\begin{equation*}\n",
    "E_{i,j} = \\frac{R_i \\times C_j}{N}\n",
    "\\end{equation*}\n",
    "The $E_{i,j}$ indicates the expected count in row i, column j. The $R_i$ is the row total of row i, and $C_j$ the column total of column j. The $N$ is the grand total."
   ]
  },
  {
   "cell_type": "code",
   "execution_count": null,
   "metadata": {},
   "outputs": [],
   "source": []
  },
  {
   "cell_type": "markdown",
   "metadata": {},
   "source": [
    "That was the manual way of doing it. `chi2_contingency()` can do it for us automatically:"
   ]
  },
  {
   "cell_type": "code",
   "execution_count": null,
   "metadata": {
    "scrolled": false
   },
   "outputs": [],
   "source": []
  },
  {
   "cell_type": "markdown",
   "metadata": {},
   "source": [
    "We now know that the association is significant, but how strong is it?  \n",
    "Cramer's V, for example, can give an answer: https://en.wikipedia.org/wiki/Cram%C3%A9r%27s_V\n",
    "\n",
    "The formula is:\n",
    "\\begin{equation*}\n",
    "V=\\sqrt{\\frac{\\chi^{2} / N}{\\min (c-1, r-1)}}\n",
    "\\end{equation*}\n",
    "where $c$ is the number of columns, $r$ is the number of rows."
   ]
  },
  {
   "cell_type": "code",
   "execution_count": null,
   "metadata": {},
   "outputs": [],
   "source": []
  },
  {
   "cell_type": "markdown",
   "metadata": {},
   "source": [
    "Let us visualize this and make a human-readable plot and report below."
   ]
  },
  {
   "cell_type": "code",
   "execution_count": null,
   "metadata": {
    "scrolled": false
   },
   "outputs": [],
   "source": []
  },
  {
   "cell_type": "markdown",
   "metadata": {},
   "source": [
    "**Conclusion**"
   ]
  },
  {
   "cell_type": "markdown",
   "metadata": {},
   "source": [
    "What about statistical tests for different combinations of numerical/categorical variables?\n",
    "<img src=\"../references/flowchart-for-choosing-a-statistical-test.png\" width=\"600px\"/>"
   ]
  },
  {
   "cell_type": "markdown",
   "metadata": {},
   "source": [
    "<hr>"
   ]
  },
  {
   "cell_type": "markdown",
   "metadata": {},
   "source": [
    "## Excercise 03"
   ]
  },
  {
   "cell_type": "markdown",
   "metadata": {},
   "source": [
    "- Check that all Number_of_Vehicles and Number_of_Casualties values in the accidents table are correct, by counting all the corresponding records in the vehicles and casualties tables.\n"
   ]
  },
  {
   "cell_type": "code",
   "execution_count": 28,
   "metadata": {},
   "outputs": [
    {
     "output_type": "execute_result",
     "data": {
      "text/plain": [
       "'for each accident_index in accidents_data\\n    store acc_vehi = Number_of_Vehicles involved in accident\\n    store acc_casult = Number_of_Casualties involved in accident\\n    store vechi_index_count and count how many times accident_index appear in vechicles\\n    store casual_index_count and count how many times accident_index appear in casualties\\n\\n    if acc_vehi != vechi_index_count:\\n        store anomaly\\n    \\n    if acc_casult != casual_index_count:\\n        store anaomly\\n\\nreport summary'"
      ]
     },
     "metadata": {},
     "execution_count": 28
    }
   ],
   "source": [
    "'''for each accident_index in accidents_data\n",
    "    store acc_vehi = Number_of_Vehicles involved in accident\n",
    "    store acc_casult = Number_of_Casualties involved in accident\n",
    "    store vechi_index_count and count how many times accident_index appear in vechicles\n",
    "    store casual_index_count and count how many times accident_index appear in casualties\n",
    "\n",
    "    if acc_vehi != vechi_index_count:\n",
    "        store anomaly\n",
    "    \n",
    "    if acc_casult != casual_index_count:\n",
    "        store anaomly\n",
    "\n",
    "report summary'''"
   ]
  },
  {
   "source": [
    "### Check if DATA['vehicles'] accident index column maps to an accident_index in DATA['accidents]\n",
    "\n",
    "A= accident  \n",
    "B= vehicles\n",
    "\n",
    "So we get all the vehicle records that does not connect to accident_records\n",
    "\n",
    "<img src=\"../references/right_excluding_join.png\" alt=\"source: http://www.codeproject.com/KB/database/Visual_SQL_Joins/RIGHT_EXCLUDING_JOIN.png\">\n",
    "\n",
    "\n"
   ],
   "cell_type": "markdown",
   "metadata": {}
  },
  {
   "cell_type": "code",
   "execution_count": 29,
   "metadata": {},
   "outputs": [
    {
     "output_type": "stream",
     "name": "stdout",
     "text": [
      "in accident right excluding joined with vehicles there is 0 vehicle-records which does not have a related accident information\n"
     ]
    }
   ],
   "source": [
    "# https://stackoverflow.com/questions/53645882/pandas-merging-101\n",
    "DATA['accident_r_exc_join'] = DATA['accident'].merge(DATA['vehicles'], on='Accident_Index', how='right', indicator=True)\\\n",
    "    .query('_merge == \"right_only\"').drop('_merge', 1)\n",
    "\n",
    "print(\"in accident right excluding joined with vehicles there is\", DATA['accident_r_exc_join'].shape[0], \"vehicle-records which does not have a related accident information\")"
   ]
  },
  {
   "source": [
    "Conclusion: all the accident_indexes in the vechicle records seems correct\n",
    "\n",
    "### Check if DATA['casualties'] accident index column maps to an accident_index in DATA['accidents]\n",
    "\n",
    "A= accident  \n",
    "B= casualties\n",
    "\n",
    "So we get all the casualties records that does not connect to accident_records\n",
    "\n",
    "<img src=\"../references/right_excluding_join.png\" alt=\"source: http://www.codeproject.com/KB/database/Visual_SQL_Joins/RIGHT_EXCLUDING_JOIN.png\">\n",
    "\n",
    "\n"
   ],
   "cell_type": "markdown",
   "metadata": {}
  },
  {
   "cell_type": "code",
   "execution_count": 30,
   "metadata": {},
   "outputs": [
    {
     "output_type": "stream",
     "name": "stdout",
     "text": [
      "in accident right excluding joined with casualties there is 0 casualty-records which does not have a related accident information\n"
     ]
    }
   ],
   "source": [
    "DATA['accident_r_exc_join'] = DATA['accident'].merge(DATA['casual'], on='Accident_Index', how='right', indicator=True)\\\n",
    "    .query('_merge == \"right_only\"').drop('_merge', 1)\n",
    "\n",
    "print(\"in accident right excluding joined with casualties there is\", DATA['accident_r_exc_join'].shape[0], \"casualty-records which does not have a related accident information\")"
   ]
  },
  {
   "source": [
    "Conclusion: all the accident_indexes in the casualty records seems correct"
   ],
   "cell_type": "markdown",
   "metadata": {}
  },
  {
   "cell_type": "markdown",
   "metadata": {},
   "source": [
    "- Try out categorical scatterplots to explore combinations of numerical and categorical variables (and possible a third categorical variable for hue), where this makes sense."
   ]
  },
  {
   "cell_type": "code",
   "execution_count": 31,
   "metadata": {
    "scrolled": true
   },
   "outputs": [
    {
     "output_type": "execute_result",
     "data": {
      "text/plain": [
       "    code                                              label\n",
       "0      0                                         Pedestrian\n",
       "1      1                                            Cyclist\n",
       "2      2       Motorcycle 50cc and under rider or passenger\n",
       "3      3      Motorcycle 125cc and under rider or passenger\n",
       "4      4  Motorcycle over 125cc and up to 500cc rider or...\n",
       "5      5           Motorcycle over 500cc rider or passenger\n",
       "6      8                     Taxi/Private hire car occupant\n",
       "7      9                                       Car occupant\n",
       "8     10          Minibus (8 - 16 passenger seats) occupant\n",
       "9     11      Bus or coach occupant (17 or more pass seats)\n",
       "10    16                                        Horse rider\n",
       "11    17                      Agricultural vehicle occupant\n",
       "12    18                                      Tram occupant\n",
       "13    19  Van / Goods vehicle (3.5 tonnes mgw or under) ...\n",
       "14    20  Goods vehicle (over 3.5t. and under 7.5t.) occ...\n",
       "15    21   Goods vehicle (7.5 tonnes mgw and over) occupant\n",
       "16    22                             Mobility scooter rider\n",
       "17    23             Electric motorcycle rider or passenger\n",
       "18    90                             Other vehicle occupant\n",
       "19    97         Motorcycle - unknown cc rider or passenger\n",
       "20    98            Goods vehicle (unknown weight) occupant"
      ],
      "text/html": "<div>\n<style scoped>\n    .dataframe tbody tr th:only-of-type {\n        vertical-align: middle;\n    }\n\n    .dataframe tbody tr th {\n        vertical-align: top;\n    }\n\n    .dataframe thead th {\n        text-align: right;\n    }\n</style>\n<table border=\"1\" class=\"dataframe\">\n  <thead>\n    <tr style=\"text-align: right;\">\n      <th></th>\n      <th>code</th>\n      <th>label</th>\n    </tr>\n  </thead>\n  <tbody>\n    <tr>\n      <th>0</th>\n      <td>0</td>\n      <td>Pedestrian</td>\n    </tr>\n    <tr>\n      <th>1</th>\n      <td>1</td>\n      <td>Cyclist</td>\n    </tr>\n    <tr>\n      <th>2</th>\n      <td>2</td>\n      <td>Motorcycle 50cc and under rider or passenger</td>\n    </tr>\n    <tr>\n      <th>3</th>\n      <td>3</td>\n      <td>Motorcycle 125cc and under rider or passenger</td>\n    </tr>\n    <tr>\n      <th>4</th>\n      <td>4</td>\n      <td>Motorcycle over 125cc and up to 500cc rider or...</td>\n    </tr>\n    <tr>\n      <th>5</th>\n      <td>5</td>\n      <td>Motorcycle over 500cc rider or passenger</td>\n    </tr>\n    <tr>\n      <th>6</th>\n      <td>8</td>\n      <td>Taxi/Private hire car occupant</td>\n    </tr>\n    <tr>\n      <th>7</th>\n      <td>9</td>\n      <td>Car occupant</td>\n    </tr>\n    <tr>\n      <th>8</th>\n      <td>10</td>\n      <td>Minibus (8 - 16 passenger seats) occupant</td>\n    </tr>\n    <tr>\n      <th>9</th>\n      <td>11</td>\n      <td>Bus or coach occupant (17 or more pass seats)</td>\n    </tr>\n    <tr>\n      <th>10</th>\n      <td>16</td>\n      <td>Horse rider</td>\n    </tr>\n    <tr>\n      <th>11</th>\n      <td>17</td>\n      <td>Agricultural vehicle occupant</td>\n    </tr>\n    <tr>\n      <th>12</th>\n      <td>18</td>\n      <td>Tram occupant</td>\n    </tr>\n    <tr>\n      <th>13</th>\n      <td>19</td>\n      <td>Van / Goods vehicle (3.5 tonnes mgw or under) ...</td>\n    </tr>\n    <tr>\n      <th>14</th>\n      <td>20</td>\n      <td>Goods vehicle (over 3.5t. and under 7.5t.) occ...</td>\n    </tr>\n    <tr>\n      <th>15</th>\n      <td>21</td>\n      <td>Goods vehicle (7.5 tonnes mgw and over) occupant</td>\n    </tr>\n    <tr>\n      <th>16</th>\n      <td>22</td>\n      <td>Mobility scooter rider</td>\n    </tr>\n    <tr>\n      <th>17</th>\n      <td>23</td>\n      <td>Electric motorcycle rider or passenger</td>\n    </tr>\n    <tr>\n      <th>18</th>\n      <td>90</td>\n      <td>Other vehicle occupant</td>\n    </tr>\n    <tr>\n      <th>19</th>\n      <td>97</td>\n      <td>Motorcycle - unknown cc rider or passenger</td>\n    </tr>\n    <tr>\n      <th>20</th>\n      <td>98</td>\n      <td>Goods vehicle (unknown weight) occupant</td>\n    </tr>\n  </tbody>\n</table>\n</div>"
     },
     "metadata": {},
     "execution_count": 31
    }
   ],
   "source": [
    "VAR_LOOKUP[\"Casualty Type\"]"
   ]
  },
  {
   "cell_type": "code",
   "execution_count": 32,
   "metadata": {},
   "outputs": [],
   "source": [
    "# Filter\n",
    "casualty_type_pedestrian = DATA['casual'][\"Casualty_Type\"] == 0\n",
    "casualty_type_cyclist = DATA['casual'][\"Casualty_Type\"] == 1\n",
    "casualty_type_car = DATA['casual'][\"Casualty_Type\"] == 9\n",
    "no_unkown_age = DATA[\"casual\"][\"Age_of_Casualty\"] > -1\n",
    "\n",
    "mask = (casualty_type_pedestrian | casualty_type_cyclist | casualty_type_car) & (no_unkown_age)\n",
    "mask[600:] = False # Restrict to at most 600 points. should be removed at some point!\n"
   ]
  },
  {
   "cell_type": "code",
   "execution_count": 33,
   "metadata": {},
   "outputs": [
    {
     "output_type": "execute_result",
     "data": {
      "text/plain": [
       "     Casualty_Type  Age_of_Casualty\n",
       "0                9               56\n",
       "1                9               50\n",
       "2                9               46\n",
       "4                9               52\n",
       "5                9               38\n",
       "..             ...              ...\n",
       "595              9               55\n",
       "596              9               27\n",
       "597              9               51\n",
       "598              9               54\n",
       "599              9               21\n",
       "\n",
       "[533 rows x 2 columns]"
      ],
      "text/html": "<div>\n<style scoped>\n    .dataframe tbody tr th:only-of-type {\n        vertical-align: middle;\n    }\n\n    .dataframe tbody tr th {\n        vertical-align: top;\n    }\n\n    .dataframe thead th {\n        text-align: right;\n    }\n</style>\n<table border=\"1\" class=\"dataframe\">\n  <thead>\n    <tr style=\"text-align: right;\">\n      <th></th>\n      <th>Casualty_Type</th>\n      <th>Age_of_Casualty</th>\n    </tr>\n  </thead>\n  <tbody>\n    <tr>\n      <th>0</th>\n      <td>9</td>\n      <td>56</td>\n    </tr>\n    <tr>\n      <th>1</th>\n      <td>9</td>\n      <td>50</td>\n    </tr>\n    <tr>\n      <th>2</th>\n      <td>9</td>\n      <td>46</td>\n    </tr>\n    <tr>\n      <th>4</th>\n      <td>9</td>\n      <td>52</td>\n    </tr>\n    <tr>\n      <th>5</th>\n      <td>9</td>\n      <td>38</td>\n    </tr>\n    <tr>\n      <th>...</th>\n      <td>...</td>\n      <td>...</td>\n    </tr>\n    <tr>\n      <th>595</th>\n      <td>9</td>\n      <td>55</td>\n    </tr>\n    <tr>\n      <th>596</th>\n      <td>9</td>\n      <td>27</td>\n    </tr>\n    <tr>\n      <th>597</th>\n      <td>9</td>\n      <td>51</td>\n    </tr>\n    <tr>\n      <th>598</th>\n      <td>9</td>\n      <td>54</td>\n    </tr>\n    <tr>\n      <th>599</th>\n      <td>9</td>\n      <td>21</td>\n    </tr>\n  </tbody>\n</table>\n<p>533 rows × 2 columns</p>\n</div>"
     },
     "metadata": {},
     "execution_count": 33
    },
    {
     "output_type": "display_data",
     "data": {
      "text/plain": "<Figure size 360x360 with 1 Axes>",
      "image/svg+xml": "<?xml version=\"1.0\" encoding=\"utf-8\" standalone=\"no\"?>\n<!DOCTYPE svg PUBLIC \"-//W3C//DTD SVG 1.1//EN\"\n  \"http://www.w3.org/Graphics/SVG/1.1/DTD/svg11.dtd\">\n<!-- Created with matplotlib (https://matplotlib.org/) -->\n<svg height=\"366.434375pt\" version=\"1.1\" viewBox=\"0 0 366.85625 366.434375\" width=\"366.85625pt\" xmlns=\"http://www.w3.org/2000/svg\" xmlns:xlink=\"http://www.w3.org/1999/xlink\">\n <metadata>\n  <rdf:RDF xmlns:cc=\"http://creativecommons.org/ns#\" xmlns:dc=\"http://purl.org/dc/elements/1.1/\" xmlns:rdf=\"http://www.w3.org/1999/02/22-rdf-syntax-ns#\">\n   <cc:Work>\n    <dc:type rdf:resource=\"http://purl.org/dc/dcmitype/StillImage\"/>\n    <dc:date>2021-02-19T11:13:24.964341</dc:date>\n    <dc:format>image/svg+xml</dc:format>\n    <dc:creator>\n     <cc:Agent>\n      <dc:title>Matplotlib v3.3.4, https://matplotlib.org/</dc:title>\n     </cc:Agent>\n    </dc:creator>\n   </cc:Work>\n  </rdf:RDF>\n </metadata>\n <defs>\n  <style type=\"text/css\">*{stroke-linecap:butt;stroke-linejoin:round;}</style>\n </defs>\n <g id=\"figure_1\">\n  <g id=\"patch_1\">\n   <path d=\"M 0 366.434375 \nL 366.85625 366.434375 \nL 366.85625 0 \nL 0 0 \nz\n\" style=\"fill:none;\"/>\n  </g>\n  <g id=\"axes_1\">\n   <g id=\"patch_2\">\n    <path d=\"M 40.88125 328.6 \nL 359.65625 328.6 \nL 359.65625 7.2 \nL 40.88125 7.2 \nz\n\" style=\"fill:#ffffff;\"/>\n   </g>\n   <g id=\"matplotlib.axis_1\">\n    <g id=\"xtick_1\">\n     <g id=\"line2d_1\">\n      <defs>\n       <path d=\"M 0 0 \nL 0 3.5 \n\" id=\"m27ab0b07f5\" style=\"stroke:#000000;stroke-width:0.8;\"/>\n      </defs>\n      <g>\n       <use style=\"stroke:#000000;stroke-width:0.8;\" x=\"94.010417\" xlink:href=\"#m27ab0b07f5\" y=\"328.6\"/>\n      </g>\n     </g>\n     <g id=\"text_1\">\n      <!-- Pedestrian -->\n      <g transform=\"translate(67.607292 343.198437)scale(0.1 -0.1)\">\n       <defs>\n        <path d=\"M 19.671875 64.796875 \nL 19.671875 37.40625 \nL 32.078125 37.40625 \nQ 38.96875 37.40625 42.71875 40.96875 \nQ 46.484375 44.53125 46.484375 51.125 \nQ 46.484375 57.671875 42.71875 61.234375 \nQ 38.96875 64.796875 32.078125 64.796875 \nz\nM 9.8125 72.90625 \nL 32.078125 72.90625 \nQ 44.34375 72.90625 50.609375 67.359375 \nQ 56.890625 61.8125 56.890625 51.125 \nQ 56.890625 40.328125 50.609375 34.8125 \nQ 44.34375 29.296875 32.078125 29.296875 \nL 19.671875 29.296875 \nL 19.671875 0 \nL 9.8125 0 \nz\n\" id=\"DejaVuSans-80\"/>\n        <path d=\"M 56.203125 29.59375 \nL 56.203125 25.203125 \nL 14.890625 25.203125 \nQ 15.484375 15.921875 20.484375 11.0625 \nQ 25.484375 6.203125 34.421875 6.203125 \nQ 39.59375 6.203125 44.453125 7.46875 \nQ 49.3125 8.734375 54.109375 11.28125 \nL 54.109375 2.78125 \nQ 49.265625 0.734375 44.1875 -0.34375 \nQ 39.109375 -1.421875 33.890625 -1.421875 \nQ 20.796875 -1.421875 13.15625 6.1875 \nQ 5.515625 13.8125 5.515625 26.8125 \nQ 5.515625 40.234375 12.765625 48.109375 \nQ 20.015625 56 32.328125 56 \nQ 43.359375 56 49.78125 48.890625 \nQ 56.203125 41.796875 56.203125 29.59375 \nz\nM 47.21875 32.234375 \nQ 47.125 39.59375 43.09375 43.984375 \nQ 39.0625 48.390625 32.421875 48.390625 \nQ 24.90625 48.390625 20.390625 44.140625 \nQ 15.875 39.890625 15.1875 32.171875 \nz\n\" id=\"DejaVuSans-101\"/>\n        <path d=\"M 45.40625 46.390625 \nL 45.40625 75.984375 \nL 54.390625 75.984375 \nL 54.390625 0 \nL 45.40625 0 \nL 45.40625 8.203125 \nQ 42.578125 3.328125 38.25 0.953125 \nQ 33.9375 -1.421875 27.875 -1.421875 \nQ 17.96875 -1.421875 11.734375 6.484375 \nQ 5.515625 14.40625 5.515625 27.296875 \nQ 5.515625 40.1875 11.734375 48.09375 \nQ 17.96875 56 27.875 56 \nQ 33.9375 56 38.25 53.625 \nQ 42.578125 51.265625 45.40625 46.390625 \nz\nM 14.796875 27.296875 \nQ 14.796875 17.390625 18.875 11.75 \nQ 22.953125 6.109375 30.078125 6.109375 \nQ 37.203125 6.109375 41.296875 11.75 \nQ 45.40625 17.390625 45.40625 27.296875 \nQ 45.40625 37.203125 41.296875 42.84375 \nQ 37.203125 48.484375 30.078125 48.484375 \nQ 22.953125 48.484375 18.875 42.84375 \nQ 14.796875 37.203125 14.796875 27.296875 \nz\n\" id=\"DejaVuSans-100\"/>\n        <path d=\"M 44.28125 53.078125 \nL 44.28125 44.578125 \nQ 40.484375 46.53125 36.375 47.5 \nQ 32.28125 48.484375 27.875 48.484375 \nQ 21.1875 48.484375 17.84375 46.4375 \nQ 14.5 44.390625 14.5 40.28125 \nQ 14.5 37.15625 16.890625 35.375 \nQ 19.28125 33.59375 26.515625 31.984375 \nL 29.59375 31.296875 \nQ 39.15625 29.25 43.1875 25.515625 \nQ 47.21875 21.78125 47.21875 15.09375 \nQ 47.21875 7.46875 41.1875 3.015625 \nQ 35.15625 -1.421875 24.609375 -1.421875 \nQ 20.21875 -1.421875 15.453125 -0.5625 \nQ 10.6875 0.296875 5.421875 2 \nL 5.421875 11.28125 \nQ 10.40625 8.6875 15.234375 7.390625 \nQ 20.0625 6.109375 24.8125 6.109375 \nQ 31.15625 6.109375 34.5625 8.28125 \nQ 37.984375 10.453125 37.984375 14.40625 \nQ 37.984375 18.0625 35.515625 20.015625 \nQ 33.0625 21.96875 24.703125 23.78125 \nL 21.578125 24.515625 \nQ 13.234375 26.265625 9.515625 29.90625 \nQ 5.8125 33.546875 5.8125 39.890625 \nQ 5.8125 47.609375 11.28125 51.796875 \nQ 16.75 56 26.8125 56 \nQ 31.78125 56 36.171875 55.265625 \nQ 40.578125 54.546875 44.28125 53.078125 \nz\n\" id=\"DejaVuSans-115\"/>\n        <path d=\"M 18.3125 70.21875 \nL 18.3125 54.6875 \nL 36.8125 54.6875 \nL 36.8125 47.703125 \nL 18.3125 47.703125 \nL 18.3125 18.015625 \nQ 18.3125 11.328125 20.140625 9.421875 \nQ 21.96875 7.515625 27.59375 7.515625 \nL 36.8125 7.515625 \nL 36.8125 0 \nL 27.59375 0 \nQ 17.1875 0 13.234375 3.875 \nQ 9.28125 7.765625 9.28125 18.015625 \nL 9.28125 47.703125 \nL 2.6875 47.703125 \nL 2.6875 54.6875 \nL 9.28125 54.6875 \nL 9.28125 70.21875 \nz\n\" id=\"DejaVuSans-116\"/>\n        <path d=\"M 41.109375 46.296875 \nQ 39.59375 47.171875 37.8125 47.578125 \nQ 36.03125 48 33.890625 48 \nQ 26.265625 48 22.1875 43.046875 \nQ 18.109375 38.09375 18.109375 28.8125 \nL 18.109375 0 \nL 9.078125 0 \nL 9.078125 54.6875 \nL 18.109375 54.6875 \nL 18.109375 46.1875 \nQ 20.953125 51.171875 25.484375 53.578125 \nQ 30.03125 56 36.53125 56 \nQ 37.453125 56 38.578125 55.875 \nQ 39.703125 55.765625 41.0625 55.515625 \nz\n\" id=\"DejaVuSans-114\"/>\n        <path d=\"M 9.421875 54.6875 \nL 18.40625 54.6875 \nL 18.40625 0 \nL 9.421875 0 \nz\nM 9.421875 75.984375 \nL 18.40625 75.984375 \nL 18.40625 64.59375 \nL 9.421875 64.59375 \nz\n\" id=\"DejaVuSans-105\"/>\n        <path d=\"M 34.28125 27.484375 \nQ 23.390625 27.484375 19.1875 25 \nQ 14.984375 22.515625 14.984375 16.5 \nQ 14.984375 11.71875 18.140625 8.90625 \nQ 21.296875 6.109375 26.703125 6.109375 \nQ 34.1875 6.109375 38.703125 11.40625 \nQ 43.21875 16.703125 43.21875 25.484375 \nL 43.21875 27.484375 \nz\nM 52.203125 31.203125 \nL 52.203125 0 \nL 43.21875 0 \nL 43.21875 8.296875 \nQ 40.140625 3.328125 35.546875 0.953125 \nQ 30.953125 -1.421875 24.3125 -1.421875 \nQ 15.921875 -1.421875 10.953125 3.296875 \nQ 6 8.015625 6 15.921875 \nQ 6 25.140625 12.171875 29.828125 \nQ 18.359375 34.515625 30.609375 34.515625 \nL 43.21875 34.515625 \nL 43.21875 35.40625 \nQ 43.21875 41.609375 39.140625 45 \nQ 35.0625 48.390625 27.6875 48.390625 \nQ 23 48.390625 18.546875 47.265625 \nQ 14.109375 46.140625 10.015625 43.890625 \nL 10.015625 52.203125 \nQ 14.9375 54.109375 19.578125 55.046875 \nQ 24.21875 56 28.609375 56 \nQ 40.484375 56 46.34375 49.84375 \nQ 52.203125 43.703125 52.203125 31.203125 \nz\n\" id=\"DejaVuSans-97\"/>\n        <path d=\"M 54.890625 33.015625 \nL 54.890625 0 \nL 45.90625 0 \nL 45.90625 32.71875 \nQ 45.90625 40.484375 42.875 44.328125 \nQ 39.84375 48.1875 33.796875 48.1875 \nQ 26.515625 48.1875 22.3125 43.546875 \nQ 18.109375 38.921875 18.109375 30.90625 \nL 18.109375 0 \nL 9.078125 0 \nL 9.078125 54.6875 \nL 18.109375 54.6875 \nL 18.109375 46.1875 \nQ 21.34375 51.125 25.703125 53.5625 \nQ 30.078125 56 35.796875 56 \nQ 45.21875 56 50.046875 50.171875 \nQ 54.890625 44.34375 54.890625 33.015625 \nz\n\" id=\"DejaVuSans-110\"/>\n       </defs>\n       <use xlink:href=\"#DejaVuSans-80\"/>\n       <use x=\"56.677734\" xlink:href=\"#DejaVuSans-101\"/>\n       <use x=\"118.201172\" xlink:href=\"#DejaVuSans-100\"/>\n       <use x=\"181.677734\" xlink:href=\"#DejaVuSans-101\"/>\n       <use x=\"243.201172\" xlink:href=\"#DejaVuSans-115\"/>\n       <use x=\"295.300781\" xlink:href=\"#DejaVuSans-116\"/>\n       <use x=\"334.509766\" xlink:href=\"#DejaVuSans-114\"/>\n       <use x=\"375.623047\" xlink:href=\"#DejaVuSans-105\"/>\n       <use x=\"403.40625\" xlink:href=\"#DejaVuSans-97\"/>\n       <use x=\"464.685547\" xlink:href=\"#DejaVuSans-110\"/>\n      </g>\n     </g>\n    </g>\n    <g id=\"xtick_2\">\n     <g id=\"line2d_2\">\n      <g>\n       <use style=\"stroke:#000000;stroke-width:0.8;\" x=\"200.26875\" xlink:href=\"#m27ab0b07f5\" y=\"328.6\"/>\n      </g>\n     </g>\n     <g id=\"text_2\">\n      <!-- Cyclist -->\n      <g transform=\"translate(183.725781 343.198437)scale(0.1 -0.1)\">\n       <defs>\n        <path d=\"M 64.40625 67.28125 \nL 64.40625 56.890625 \nQ 59.421875 61.53125 53.78125 63.8125 \nQ 48.140625 66.109375 41.796875 66.109375 \nQ 29.296875 66.109375 22.65625 58.46875 \nQ 16.015625 50.828125 16.015625 36.375 \nQ 16.015625 21.96875 22.65625 14.328125 \nQ 29.296875 6.6875 41.796875 6.6875 \nQ 48.140625 6.6875 53.78125 8.984375 \nQ 59.421875 11.28125 64.40625 15.921875 \nL 64.40625 5.609375 \nQ 59.234375 2.09375 53.4375 0.328125 \nQ 47.65625 -1.421875 41.21875 -1.421875 \nQ 24.65625 -1.421875 15.125 8.703125 \nQ 5.609375 18.84375 5.609375 36.375 \nQ 5.609375 53.953125 15.125 64.078125 \nQ 24.65625 74.21875 41.21875 74.21875 \nQ 47.75 74.21875 53.53125 72.484375 \nQ 59.328125 70.75 64.40625 67.28125 \nz\n\" id=\"DejaVuSans-67\"/>\n        <path d=\"M 32.171875 -5.078125 \nQ 28.375 -14.84375 24.75 -17.8125 \nQ 21.140625 -20.796875 15.09375 -20.796875 \nL 7.90625 -20.796875 \nL 7.90625 -13.28125 \nL 13.1875 -13.28125 \nQ 16.890625 -13.28125 18.9375 -11.515625 \nQ 21 -9.765625 23.484375 -3.21875 \nL 25.09375 0.875 \nL 2.984375 54.6875 \nL 12.5 54.6875 \nL 29.59375 11.921875 \nL 46.6875 54.6875 \nL 56.203125 54.6875 \nz\n\" id=\"DejaVuSans-121\"/>\n        <path d=\"M 48.78125 52.59375 \nL 48.78125 44.1875 \nQ 44.96875 46.296875 41.140625 47.34375 \nQ 37.3125 48.390625 33.40625 48.390625 \nQ 24.65625 48.390625 19.8125 42.84375 \nQ 14.984375 37.3125 14.984375 27.296875 \nQ 14.984375 17.28125 19.8125 11.734375 \nQ 24.65625 6.203125 33.40625 6.203125 \nQ 37.3125 6.203125 41.140625 7.25 \nQ 44.96875 8.296875 48.78125 10.40625 \nL 48.78125 2.09375 \nQ 45.015625 0.34375 40.984375 -0.53125 \nQ 36.96875 -1.421875 32.421875 -1.421875 \nQ 20.0625 -1.421875 12.78125 6.34375 \nQ 5.515625 14.109375 5.515625 27.296875 \nQ 5.515625 40.671875 12.859375 48.328125 \nQ 20.21875 56 33.015625 56 \nQ 37.15625 56 41.109375 55.140625 \nQ 45.0625 54.296875 48.78125 52.59375 \nz\n\" id=\"DejaVuSans-99\"/>\n        <path d=\"M 9.421875 75.984375 \nL 18.40625 75.984375 \nL 18.40625 0 \nL 9.421875 0 \nz\n\" id=\"DejaVuSans-108\"/>\n       </defs>\n       <use xlink:href=\"#DejaVuSans-67\"/>\n       <use x=\"69.824219\" xlink:href=\"#DejaVuSans-121\"/>\n       <use x=\"129.003906\" xlink:href=\"#DejaVuSans-99\"/>\n       <use x=\"183.984375\" xlink:href=\"#DejaVuSans-108\"/>\n       <use x=\"211.767578\" xlink:href=\"#DejaVuSans-105\"/>\n       <use x=\"239.550781\" xlink:href=\"#DejaVuSans-115\"/>\n       <use x=\"291.650391\" xlink:href=\"#DejaVuSans-116\"/>\n      </g>\n     </g>\n    </g>\n    <g id=\"xtick_3\">\n     <g id=\"line2d_3\">\n      <g>\n       <use style=\"stroke:#000000;stroke-width:0.8;\" x=\"306.527083\" xlink:href=\"#m27ab0b07f5\" y=\"328.6\"/>\n      </g>\n     </g>\n     <g id=\"text_3\">\n      <!-- Car occupant -->\n      <g transform=\"translate(273.233333 343.198437)scale(0.1 -0.1)\">\n       <defs>\n        <path id=\"DejaVuSans-32\"/>\n        <path d=\"M 30.609375 48.390625 \nQ 23.390625 48.390625 19.1875 42.75 \nQ 14.984375 37.109375 14.984375 27.296875 \nQ 14.984375 17.484375 19.15625 11.84375 \nQ 23.34375 6.203125 30.609375 6.203125 \nQ 37.796875 6.203125 41.984375 11.859375 \nQ 46.1875 17.53125 46.1875 27.296875 \nQ 46.1875 37.015625 41.984375 42.703125 \nQ 37.796875 48.390625 30.609375 48.390625 \nz\nM 30.609375 56 \nQ 42.328125 56 49.015625 48.375 \nQ 55.71875 40.765625 55.71875 27.296875 \nQ 55.71875 13.875 49.015625 6.21875 \nQ 42.328125 -1.421875 30.609375 -1.421875 \nQ 18.84375 -1.421875 12.171875 6.21875 \nQ 5.515625 13.875 5.515625 27.296875 \nQ 5.515625 40.765625 12.171875 48.375 \nQ 18.84375 56 30.609375 56 \nz\n\" id=\"DejaVuSans-111\"/>\n        <path d=\"M 8.5 21.578125 \nL 8.5 54.6875 \nL 17.484375 54.6875 \nL 17.484375 21.921875 \nQ 17.484375 14.15625 20.5 10.265625 \nQ 23.53125 6.390625 29.59375 6.390625 \nQ 36.859375 6.390625 41.078125 11.03125 \nQ 45.3125 15.671875 45.3125 23.6875 \nL 45.3125 54.6875 \nL 54.296875 54.6875 \nL 54.296875 0 \nL 45.3125 0 \nL 45.3125 8.40625 \nQ 42.046875 3.421875 37.71875 1 \nQ 33.40625 -1.421875 27.6875 -1.421875 \nQ 18.265625 -1.421875 13.375 4.4375 \nQ 8.5 10.296875 8.5 21.578125 \nz\nM 31.109375 56 \nz\n\" id=\"DejaVuSans-117\"/>\n        <path d=\"M 18.109375 8.203125 \nL 18.109375 -20.796875 \nL 9.078125 -20.796875 \nL 9.078125 54.6875 \nL 18.109375 54.6875 \nL 18.109375 46.390625 \nQ 20.953125 51.265625 25.265625 53.625 \nQ 29.59375 56 35.59375 56 \nQ 45.5625 56 51.78125 48.09375 \nQ 58.015625 40.1875 58.015625 27.296875 \nQ 58.015625 14.40625 51.78125 6.484375 \nQ 45.5625 -1.421875 35.59375 -1.421875 \nQ 29.59375 -1.421875 25.265625 0.953125 \nQ 20.953125 3.328125 18.109375 8.203125 \nz\nM 48.6875 27.296875 \nQ 48.6875 37.203125 44.609375 42.84375 \nQ 40.53125 48.484375 33.40625 48.484375 \nQ 26.265625 48.484375 22.1875 42.84375 \nQ 18.109375 37.203125 18.109375 27.296875 \nQ 18.109375 17.390625 22.1875 11.75 \nQ 26.265625 6.109375 33.40625 6.109375 \nQ 40.53125 6.109375 44.609375 11.75 \nQ 48.6875 17.390625 48.6875 27.296875 \nz\n\" id=\"DejaVuSans-112\"/>\n       </defs>\n       <use xlink:href=\"#DejaVuSans-67\"/>\n       <use x=\"69.824219\" xlink:href=\"#DejaVuSans-97\"/>\n       <use x=\"131.103516\" xlink:href=\"#DejaVuSans-114\"/>\n       <use x=\"172.216797\" xlink:href=\"#DejaVuSans-32\"/>\n       <use x=\"204.003906\" xlink:href=\"#DejaVuSans-111\"/>\n       <use x=\"265.185547\" xlink:href=\"#DejaVuSans-99\"/>\n       <use x=\"320.166016\" xlink:href=\"#DejaVuSans-99\"/>\n       <use x=\"375.146484\" xlink:href=\"#DejaVuSans-117\"/>\n       <use x=\"438.525391\" xlink:href=\"#DejaVuSans-112\"/>\n       <use x=\"502.001953\" xlink:href=\"#DejaVuSans-97\"/>\n       <use x=\"563.28125\" xlink:href=\"#DejaVuSans-110\"/>\n       <use x=\"626.660156\" xlink:href=\"#DejaVuSans-116\"/>\n      </g>\n     </g>\n    </g>\n    <g id=\"text_4\">\n     <!-- Casualty_Type -->\n     <g transform=\"translate(164.584375 356.876562)scale(0.1 -0.1)\">\n      <defs>\n       <path d=\"M 50.984375 -16.609375 \nL 50.984375 -23.578125 \nL -0.984375 -23.578125 \nL -0.984375 -16.609375 \nz\n\" id=\"DejaVuSans-95\"/>\n       <path d=\"M -0.296875 72.90625 \nL 61.375 72.90625 \nL 61.375 64.59375 \nL 35.5 64.59375 \nL 35.5 0 \nL 25.59375 0 \nL 25.59375 64.59375 \nL -0.296875 64.59375 \nz\n\" id=\"DejaVuSans-84\"/>\n      </defs>\n      <use xlink:href=\"#DejaVuSans-67\"/>\n      <use x=\"69.824219\" xlink:href=\"#DejaVuSans-97\"/>\n      <use x=\"131.103516\" xlink:href=\"#DejaVuSans-115\"/>\n      <use x=\"183.203125\" xlink:href=\"#DejaVuSans-117\"/>\n      <use x=\"246.582031\" xlink:href=\"#DejaVuSans-97\"/>\n      <use x=\"307.861328\" xlink:href=\"#DejaVuSans-108\"/>\n      <use x=\"335.644531\" xlink:href=\"#DejaVuSans-116\"/>\n      <use x=\"374.853516\" xlink:href=\"#DejaVuSans-121\"/>\n      <use x=\"434.033203\" xlink:href=\"#DejaVuSans-95\"/>\n      <use x=\"484.033203\" xlink:href=\"#DejaVuSans-84\"/>\n      <use x=\"529.492188\" xlink:href=\"#DejaVuSans-121\"/>\n      <use x=\"588.671875\" xlink:href=\"#DejaVuSans-112\"/>\n      <use x=\"652.148438\" xlink:href=\"#DejaVuSans-101\"/>\n     </g>\n    </g>\n   </g>\n   <g id=\"matplotlib.axis_2\">\n    <g id=\"ytick_1\">\n     <g id=\"line2d_4\">\n      <defs>\n       <path d=\"M 0 0 \nL -3.5 0 \n\" id=\"mee9ea6c33f\" style=\"stroke:#000000;stroke-width:0.8;\"/>\n      </defs>\n      <g>\n       <use style=\"stroke:#000000;stroke-width:0.8;\" x=\"40.88125\" xlink:href=\"#mee9ea6c33f\" y=\"317.273851\"/>\n      </g>\n     </g>\n     <g id=\"text_5\">\n      <!-- 0 -->\n      <g transform=\"translate(27.51875 321.07307)scale(0.1 -0.1)\">\n       <defs>\n        <path d=\"M 31.78125 66.40625 \nQ 24.171875 66.40625 20.328125 58.90625 \nQ 16.5 51.421875 16.5 36.375 \nQ 16.5 21.390625 20.328125 13.890625 \nQ 24.171875 6.390625 31.78125 6.390625 \nQ 39.453125 6.390625 43.28125 13.890625 \nQ 47.125 21.390625 47.125 36.375 \nQ 47.125 51.421875 43.28125 58.90625 \nQ 39.453125 66.40625 31.78125 66.40625 \nz\nM 31.78125 74.21875 \nQ 44.046875 74.21875 50.515625 64.515625 \nQ 56.984375 54.828125 56.984375 36.375 \nQ 56.984375 17.96875 50.515625 8.265625 \nQ 44.046875 -1.421875 31.78125 -1.421875 \nQ 19.53125 -1.421875 13.0625 8.265625 \nQ 6.59375 17.96875 6.59375 36.375 \nQ 6.59375 54.828125 13.0625 64.515625 \nQ 19.53125 74.21875 31.78125 74.21875 \nz\n\" id=\"DejaVuSans-48\"/>\n       </defs>\n       <use xlink:href=\"#DejaVuSans-48\"/>\n      </g>\n     </g>\n    </g>\n    <g id=\"ytick_2\">\n     <g id=\"line2d_5\">\n      <g>\n       <use style=\"stroke:#000000;stroke-width:0.8;\" x=\"40.88125\" xlink:href=\"#mee9ea6c33f\" y=\"251.615015\"/>\n      </g>\n     </g>\n     <g id=\"text_6\">\n      <!-- 20 -->\n      <g transform=\"translate(21.15625 255.414234)scale(0.1 -0.1)\">\n       <defs>\n        <path d=\"M 19.1875 8.296875 \nL 53.609375 8.296875 \nL 53.609375 0 \nL 7.328125 0 \nL 7.328125 8.296875 \nQ 12.9375 14.109375 22.625 23.890625 \nQ 32.328125 33.6875 34.8125 36.53125 \nQ 39.546875 41.84375 41.421875 45.53125 \nQ 43.3125 49.21875 43.3125 52.78125 \nQ 43.3125 58.59375 39.234375 62.25 \nQ 35.15625 65.921875 28.609375 65.921875 \nQ 23.96875 65.921875 18.8125 64.3125 \nQ 13.671875 62.703125 7.8125 59.421875 \nL 7.8125 69.390625 \nQ 13.765625 71.78125 18.9375 73 \nQ 24.125 74.21875 28.421875 74.21875 \nQ 39.75 74.21875 46.484375 68.546875 \nQ 53.21875 62.890625 53.21875 53.421875 \nQ 53.21875 48.921875 51.53125 44.890625 \nQ 49.859375 40.875 45.40625 35.40625 \nQ 44.1875 33.984375 37.640625 27.21875 \nQ 31.109375 20.453125 19.1875 8.296875 \nz\n\" id=\"DejaVuSans-50\"/>\n       </defs>\n       <use xlink:href=\"#DejaVuSans-50\"/>\n       <use x=\"63.623047\" xlink:href=\"#DejaVuSans-48\"/>\n      </g>\n     </g>\n    </g>\n    <g id=\"ytick_3\">\n     <g id=\"line2d_6\">\n      <g>\n       <use style=\"stroke:#000000;stroke-width:0.8;\" x=\"40.88125\" xlink:href=\"#mee9ea6c33f\" y=\"185.95618\"/>\n      </g>\n     </g>\n     <g id=\"text_7\">\n      <!-- 40 -->\n      <g transform=\"translate(21.15625 189.755399)scale(0.1 -0.1)\">\n       <defs>\n        <path d=\"M 37.796875 64.3125 \nL 12.890625 25.390625 \nL 37.796875 25.390625 \nz\nM 35.203125 72.90625 \nL 47.609375 72.90625 \nL 47.609375 25.390625 \nL 58.015625 25.390625 \nL 58.015625 17.1875 \nL 47.609375 17.1875 \nL 47.609375 0 \nL 37.796875 0 \nL 37.796875 17.1875 \nL 4.890625 17.1875 \nL 4.890625 26.703125 \nz\n\" id=\"DejaVuSans-52\"/>\n       </defs>\n       <use xlink:href=\"#DejaVuSans-52\"/>\n       <use x=\"63.623047\" xlink:href=\"#DejaVuSans-48\"/>\n      </g>\n     </g>\n    </g>\n    <g id=\"ytick_4\">\n     <g id=\"line2d_7\">\n      <g>\n       <use style=\"stroke:#000000;stroke-width:0.8;\" x=\"40.88125\" xlink:href=\"#mee9ea6c33f\" y=\"120.297344\"/>\n      </g>\n     </g>\n     <g id=\"text_8\">\n      <!-- 60 -->\n      <g transform=\"translate(21.15625 124.096563)scale(0.1 -0.1)\">\n       <defs>\n        <path d=\"M 33.015625 40.375 \nQ 26.375 40.375 22.484375 35.828125 \nQ 18.609375 31.296875 18.609375 23.390625 \nQ 18.609375 15.53125 22.484375 10.953125 \nQ 26.375 6.390625 33.015625 6.390625 \nQ 39.65625 6.390625 43.53125 10.953125 \nQ 47.40625 15.53125 47.40625 23.390625 \nQ 47.40625 31.296875 43.53125 35.828125 \nQ 39.65625 40.375 33.015625 40.375 \nz\nM 52.59375 71.296875 \nL 52.59375 62.3125 \nQ 48.875 64.0625 45.09375 64.984375 \nQ 41.3125 65.921875 37.59375 65.921875 \nQ 27.828125 65.921875 22.671875 59.328125 \nQ 17.53125 52.734375 16.796875 39.40625 \nQ 19.671875 43.65625 24.015625 45.921875 \nQ 28.375 48.1875 33.59375 48.1875 \nQ 44.578125 48.1875 50.953125 41.515625 \nQ 57.328125 34.859375 57.328125 23.390625 \nQ 57.328125 12.15625 50.6875 5.359375 \nQ 44.046875 -1.421875 33.015625 -1.421875 \nQ 20.359375 -1.421875 13.671875 8.265625 \nQ 6.984375 17.96875 6.984375 36.375 \nQ 6.984375 53.65625 15.1875 63.9375 \nQ 23.390625 74.21875 37.203125 74.21875 \nQ 40.921875 74.21875 44.703125 73.484375 \nQ 48.484375 72.75 52.59375 71.296875 \nz\n\" id=\"DejaVuSans-54\"/>\n       </defs>\n       <use xlink:href=\"#DejaVuSans-54\"/>\n       <use x=\"63.623047\" xlink:href=\"#DejaVuSans-48\"/>\n      </g>\n     </g>\n    </g>\n    <g id=\"ytick_5\">\n     <g id=\"line2d_8\">\n      <g>\n       <use style=\"stroke:#000000;stroke-width:0.8;\" x=\"40.88125\" xlink:href=\"#mee9ea6c33f\" y=\"54.638509\"/>\n      </g>\n     </g>\n     <g id=\"text_9\">\n      <!-- 80 -->\n      <g transform=\"translate(21.15625 58.437727)scale(0.1 -0.1)\">\n       <defs>\n        <path d=\"M 31.78125 34.625 \nQ 24.75 34.625 20.71875 30.859375 \nQ 16.703125 27.09375 16.703125 20.515625 \nQ 16.703125 13.921875 20.71875 10.15625 \nQ 24.75 6.390625 31.78125 6.390625 \nQ 38.8125 6.390625 42.859375 10.171875 \nQ 46.921875 13.96875 46.921875 20.515625 \nQ 46.921875 27.09375 42.890625 30.859375 \nQ 38.875 34.625 31.78125 34.625 \nz\nM 21.921875 38.8125 \nQ 15.578125 40.375 12.03125 44.71875 \nQ 8.5 49.078125 8.5 55.328125 \nQ 8.5 64.0625 14.71875 69.140625 \nQ 20.953125 74.21875 31.78125 74.21875 \nQ 42.671875 74.21875 48.875 69.140625 \nQ 55.078125 64.0625 55.078125 55.328125 \nQ 55.078125 49.078125 51.53125 44.71875 \nQ 48 40.375 41.703125 38.8125 \nQ 48.828125 37.15625 52.796875 32.3125 \nQ 56.78125 27.484375 56.78125 20.515625 \nQ 56.78125 9.90625 50.3125 4.234375 \nQ 43.84375 -1.421875 31.78125 -1.421875 \nQ 19.734375 -1.421875 13.25 4.234375 \nQ 6.78125 9.90625 6.78125 20.515625 \nQ 6.78125 27.484375 10.78125 32.3125 \nQ 14.796875 37.15625 21.921875 38.8125 \nz\nM 18.3125 54.390625 \nQ 18.3125 48.734375 21.84375 45.5625 \nQ 25.390625 42.390625 31.78125 42.390625 \nQ 38.140625 42.390625 41.71875 45.5625 \nQ 45.3125 48.734375 45.3125 54.390625 \nQ 45.3125 60.0625 41.71875 63.234375 \nQ 38.140625 66.40625 31.78125 66.40625 \nQ 25.390625 66.40625 21.84375 63.234375 \nQ 18.3125 60.0625 18.3125 54.390625 \nz\n\" id=\"DejaVuSans-56\"/>\n       </defs>\n       <use xlink:href=\"#DejaVuSans-56\"/>\n       <use x=\"63.623047\" xlink:href=\"#DejaVuSans-48\"/>\n      </g>\n     </g>\n    </g>\n    <g id=\"text_10\">\n     <!-- Age_of_Casualty -->\n     <g transform=\"translate(14.798438 209.092187)rotate(-90)scale(0.1 -0.1)\">\n      <defs>\n       <path d=\"M 34.1875 63.1875 \nL 20.796875 26.90625 \nL 47.609375 26.90625 \nz\nM 28.609375 72.90625 \nL 39.796875 72.90625 \nL 67.578125 0 \nL 57.328125 0 \nL 50.6875 18.703125 \nL 17.828125 18.703125 \nL 11.1875 0 \nL 0.78125 0 \nz\n\" id=\"DejaVuSans-65\"/>\n       <path d=\"M 45.40625 27.984375 \nQ 45.40625 37.75 41.375 43.109375 \nQ 37.359375 48.484375 30.078125 48.484375 \nQ 22.859375 48.484375 18.828125 43.109375 \nQ 14.796875 37.75 14.796875 27.984375 \nQ 14.796875 18.265625 18.828125 12.890625 \nQ 22.859375 7.515625 30.078125 7.515625 \nQ 37.359375 7.515625 41.375 12.890625 \nQ 45.40625 18.265625 45.40625 27.984375 \nz\nM 54.390625 6.78125 \nQ 54.390625 -7.171875 48.1875 -13.984375 \nQ 42 -20.796875 29.203125 -20.796875 \nQ 24.46875 -20.796875 20.265625 -20.09375 \nQ 16.0625 -19.390625 12.109375 -17.921875 \nL 12.109375 -9.1875 \nQ 16.0625 -11.328125 19.921875 -12.34375 \nQ 23.78125 -13.375 27.78125 -13.375 \nQ 36.625 -13.375 41.015625 -8.765625 \nQ 45.40625 -4.15625 45.40625 5.171875 \nL 45.40625 9.625 \nQ 42.625 4.78125 38.28125 2.390625 \nQ 33.9375 0 27.875 0 \nQ 17.828125 0 11.671875 7.65625 \nQ 5.515625 15.328125 5.515625 27.984375 \nQ 5.515625 40.671875 11.671875 48.328125 \nQ 17.828125 56 27.875 56 \nQ 33.9375 56 38.28125 53.609375 \nQ 42.625 51.21875 45.40625 46.390625 \nL 45.40625 54.6875 \nL 54.390625 54.6875 \nz\n\" id=\"DejaVuSans-103\"/>\n       <path d=\"M 37.109375 75.984375 \nL 37.109375 68.5 \nL 28.515625 68.5 \nQ 23.6875 68.5 21.796875 66.546875 \nQ 19.921875 64.59375 19.921875 59.515625 \nL 19.921875 54.6875 \nL 34.71875 54.6875 \nL 34.71875 47.703125 \nL 19.921875 47.703125 \nL 19.921875 0 \nL 10.890625 0 \nL 10.890625 47.703125 \nL 2.296875 47.703125 \nL 2.296875 54.6875 \nL 10.890625 54.6875 \nL 10.890625 58.5 \nQ 10.890625 67.625 15.140625 71.796875 \nQ 19.390625 75.984375 28.609375 75.984375 \nz\n\" id=\"DejaVuSans-102\"/>\n      </defs>\n      <use xlink:href=\"#DejaVuSans-65\"/>\n      <use x=\"68.408203\" xlink:href=\"#DejaVuSans-103\"/>\n      <use x=\"131.884766\" xlink:href=\"#DejaVuSans-101\"/>\n      <use x=\"193.408203\" xlink:href=\"#DejaVuSans-95\"/>\n      <use x=\"243.408203\" xlink:href=\"#DejaVuSans-111\"/>\n      <use x=\"304.589844\" xlink:href=\"#DejaVuSans-102\"/>\n      <use x=\"339.794922\" xlink:href=\"#DejaVuSans-95\"/>\n      <use x=\"389.794922\" xlink:href=\"#DejaVuSans-67\"/>\n      <use x=\"459.619141\" xlink:href=\"#DejaVuSans-97\"/>\n      <use x=\"520.898438\" xlink:href=\"#DejaVuSans-115\"/>\n      <use x=\"572.998047\" xlink:href=\"#DejaVuSans-117\"/>\n      <use x=\"636.376953\" xlink:href=\"#DejaVuSans-97\"/>\n      <use x=\"697.65625\" xlink:href=\"#DejaVuSans-108\"/>\n      <use x=\"725.439453\" xlink:href=\"#DejaVuSans-116\"/>\n      <use x=\"764.648438\" xlink:href=\"#DejaVuSans-121\"/>\n     </g>\n    </g>\n   </g>\n   <g id=\"patch_3\">\n    <path d=\"M 40.88125 328.6 \nL 40.88125 7.2 \n\" style=\"fill:none;stroke:#000000;stroke-linecap:square;stroke-linejoin:miter;stroke-width:0.8;\"/>\n   </g>\n   <g id=\"patch_4\">\n    <path d=\"M 40.88125 328.6 \nL 359.65625 328.6 \n\" style=\"fill:none;stroke:#000000;stroke-linecap:square;stroke-linejoin:miter;stroke-width:0.8;\"/>\n   </g>\n   <g id=\"PathCollection_1\">\n    <defs>\n     <path d=\"M 0 2.5 \nC 0.663008 2.5 1.29895 2.236584 1.767767 1.767767 \nC 2.236584 1.29895 2.5 0.663008 2.5 -0 \nC 2.5 -0.663008 2.236584 -1.29895 1.767767 -1.767767 \nC 1.29895 -2.236584 0.663008 -2.5 0 -2.5 \nC -0.663008 -2.5 -1.29895 -2.236584 -1.767767 -1.767767 \nC -2.236584 -1.29895 -2.5 -0.663008 -2.5 0 \nC -2.5 0.663008 -2.236584 1.29895 -1.767767 1.767767 \nC -1.29895 2.236584 -0.663008 2.5 0 2.5 \nz\n\" id=\"C0_0_b9dc3aa9f6\"/>\n    </defs>\n    <g clip-path=\"url(#p29738b820d)\">\n     <use style=\"fill:#1f77b4;\" x=\"94.010417\" xlink:href=\"#C0_0_b9dc3aa9f6\" y=\"310.707967\"/>\n    </g>\n    <g clip-path=\"url(#p29738b820d)\">\n     <use style=\"fill:#1f77b4;\" x=\"88.569465\" xlink:href=\"#C0_0_b9dc3aa9f6\" y=\"310.707967\"/>\n    </g>\n    <g clip-path=\"url(#p29738b820d)\">\n     <use style=\"fill:#1f77b4;\" x=\"99.451368\" xlink:href=\"#C0_0_b9dc3aa9f6\" y=\"310.707967\"/>\n    </g>\n    <g clip-path=\"url(#p29738b820d)\">\n     <use style=\"fill:#1f77b4;\" x=\"84.427347\" xlink:href=\"#C0_0_b9dc3aa9f6\" y=\"307.425026\"/>\n    </g>\n    <g clip-path=\"url(#p29738b820d)\">\n     <use style=\"fill:#1f77b4;\" x=\"103.593486\" xlink:href=\"#C0_0_b9dc3aa9f6\" y=\"307.425026\"/>\n    </g>\n    <g clip-path=\"url(#p29738b820d)\">\n     <use style=\"fill:#1f77b4;\" x=\"78.986395\" xlink:href=\"#C0_0_b9dc3aa9f6\" y=\"307.425026\"/>\n    </g>\n    <g clip-path=\"url(#p29738b820d)\">\n     <use style=\"fill:#1f77b4;\" x=\"94.010417\" xlink:href=\"#C0_0_b9dc3aa9f6\" y=\"304.142084\"/>\n    </g>\n    <g clip-path=\"url(#p29738b820d)\">\n     <use style=\"fill:#1f77b4;\" x=\"88.569465\" xlink:href=\"#C0_0_b9dc3aa9f6\" y=\"304.142084\"/>\n    </g>\n    <g clip-path=\"url(#p29738b820d)\">\n     <use style=\"fill:#1f77b4;\" x=\"98.152535\" xlink:href=\"#C0_0_b9dc3aa9f6\" y=\"300.859142\"/>\n    </g>\n    <g clip-path=\"url(#p29738b820d)\">\n     <use style=\"fill:#1f77b4;\" x=\"84.427347\" xlink:href=\"#C0_0_b9dc3aa9f6\" y=\"300.859142\"/>\n    </g>\n    <g clip-path=\"url(#p29738b820d)\">\n     <use style=\"fill:#1f77b4;\" x=\"94.010417\" xlink:href=\"#C0_0_b9dc3aa9f6\" y=\"297.5762\"/>\n    </g>\n    <g clip-path=\"url(#p29738b820d)\">\n     <use style=\"fill:#1f77b4;\" x=\"88.569465\" xlink:href=\"#C0_0_b9dc3aa9f6\" y=\"297.5762\"/>\n    </g>\n    <g clip-path=\"url(#p29738b820d)\">\n     <use style=\"fill:#1f77b4;\" x=\"102.294653\" xlink:href=\"#C0_0_b9dc3aa9f6\" y=\"297.5762\"/>\n    </g>\n    <g clip-path=\"url(#p29738b820d)\">\n     <use style=\"fill:#1f77b4;\" x=\"80.285229\" xlink:href=\"#C0_0_b9dc3aa9f6\" y=\"297.5762\"/>\n    </g>\n    <g clip-path=\"url(#p29738b820d)\">\n     <use style=\"fill:#1f77b4;\" x=\"107.735605\" xlink:href=\"#C0_0_b9dc3aa9f6\" y=\"297.5762\"/>\n    </g>\n    <g clip-path=\"url(#p29738b820d)\">\n     <use style=\"fill:#1f77b4;\" x=\"98.152535\" xlink:href=\"#C0_0_b9dc3aa9f6\" y=\"294.293258\"/>\n    </g>\n    <g clip-path=\"url(#p29738b820d)\">\n     <use style=\"fill:#1f77b4;\" x=\"84.427347\" xlink:href=\"#C0_0_b9dc3aa9f6\" y=\"294.293258\"/>\n    </g>\n    <g clip-path=\"url(#p29738b820d)\">\n     <use style=\"fill:#1f77b4;\" x=\"76.143111\" xlink:href=\"#C0_0_b9dc3aa9f6\" y=\"294.293258\"/>\n    </g>\n    <g clip-path=\"url(#p29738b820d)\">\n     <use style=\"fill:#1f77b4;\" x=\"111.877723\" xlink:href=\"#C0_0_b9dc3aa9f6\" y=\"294.293258\"/>\n    </g>\n    <g clip-path=\"url(#p29738b820d)\">\n     <use style=\"fill:#1f77b4;\" x=\"94.010417\" xlink:href=\"#C0_0_b9dc3aa9f6\" y=\"287.727375\"/>\n    </g>\n    <g clip-path=\"url(#p29738b820d)\">\n     <use style=\"fill:#1f77b4;\" x=\"88.569465\" xlink:href=\"#C0_0_b9dc3aa9f6\" y=\"287.727375\"/>\n    </g>\n    <g clip-path=\"url(#p29738b820d)\">\n     <use style=\"fill:#1f77b4;\" x=\"98.152535\" xlink:href=\"#C0_0_b9dc3aa9f6\" y=\"284.444433\"/>\n    </g>\n    <g clip-path=\"url(#p29738b820d)\">\n     <use style=\"fill:#1f77b4;\" x=\"94.010417\" xlink:href=\"#C0_0_b9dc3aa9f6\" y=\"281.161491\"/>\n    </g>\n    <g clip-path=\"url(#p29738b820d)\">\n     <use style=\"fill:#1f77b4;\" x=\"88.569465\" xlink:href=\"#C0_0_b9dc3aa9f6\" y=\"281.161491\"/>\n    </g>\n    <g clip-path=\"url(#p29738b820d)\">\n     <use style=\"fill:#1f77b4;\" x=\"102.294653\" xlink:href=\"#C0_0_b9dc3aa9f6\" y=\"281.161491\"/>\n    </g>\n    <g clip-path=\"url(#p29738b820d)\">\n     <use style=\"fill:#1f77b4;\" x=\"83.128513\" xlink:href=\"#C0_0_b9dc3aa9f6\" y=\"281.161491\"/>\n    </g>\n    <g clip-path=\"url(#p29738b820d)\">\n     <use style=\"fill:#1f77b4;\" x=\"98.152535\" xlink:href=\"#C0_0_b9dc3aa9f6\" y=\"277.87855\"/>\n    </g>\n    <g clip-path=\"url(#p29738b820d)\">\n     <use style=\"fill:#1f77b4;\" x=\"106.436771\" xlink:href=\"#C0_0_b9dc3aa9f6\" y=\"277.87855\"/>\n    </g>\n    <g clip-path=\"url(#p29738b820d)\">\n     <use style=\"fill:#1f77b4;\" x=\"78.986395\" xlink:href=\"#C0_0_b9dc3aa9f6\" y=\"277.87855\"/>\n    </g>\n    <g clip-path=\"url(#p29738b820d)\">\n     <use style=\"fill:#1f77b4;\" x=\"111.877723\" xlink:href=\"#C0_0_b9dc3aa9f6\" y=\"277.87855\"/>\n    </g>\n    <g clip-path=\"url(#p29738b820d)\">\n     <use style=\"fill:#1f77b4;\" x=\"73.545443\" xlink:href=\"#C0_0_b9dc3aa9f6\" y=\"277.87855\"/>\n    </g>\n    <g clip-path=\"url(#p29738b820d)\">\n     <use style=\"fill:#1f77b4;\" x=\"117.318674\" xlink:href=\"#C0_0_b9dc3aa9f6\" y=\"277.87855\"/>\n    </g>\n    <g clip-path=\"url(#p29738b820d)\">\n     <use style=\"fill:#1f77b4;\" x=\"68.104492\" xlink:href=\"#C0_0_b9dc3aa9f6\" y=\"277.87855\"/>\n    </g>\n    <g clip-path=\"url(#p29738b820d)\">\n     <use style=\"fill:#1f77b4;\" x=\"122.759626\" xlink:href=\"#C0_0_b9dc3aa9f6\" y=\"277.87855\"/>\n    </g>\n    <g clip-path=\"url(#p29738b820d)\">\n     <use style=\"fill:#1f77b4;\" x=\"62.66354\" xlink:href=\"#C0_0_b9dc3aa9f6\" y=\"277.87855\"/>\n    </g>\n    <g clip-path=\"url(#p29738b820d)\">\n     <use style=\"fill:#1f77b4;\" x=\"94.010417\" xlink:href=\"#C0_0_b9dc3aa9f6\" y=\"274.595608\"/>\n    </g>\n    <g clip-path=\"url(#p29738b820d)\">\n     <use style=\"fill:#1f77b4;\" x=\"88.569465\" xlink:href=\"#C0_0_b9dc3aa9f6\" y=\"274.595608\"/>\n    </g>\n    <g clip-path=\"url(#p29738b820d)\">\n     <use style=\"fill:#1f77b4;\" x=\"102.294653\" xlink:href=\"#C0_0_b9dc3aa9f6\" y=\"274.595608\"/>\n    </g>\n    <g clip-path=\"url(#p29738b820d)\">\n     <use style=\"fill:#1f77b4;\" x=\"83.128513\" xlink:href=\"#C0_0_b9dc3aa9f6\" y=\"274.595608\"/>\n    </g>\n    <g clip-path=\"url(#p29738b820d)\">\n     <use style=\"fill:#1f77b4;\" x=\"126.901744\" xlink:href=\"#C0_0_b9dc3aa9f6\" y=\"274.595608\"/>\n    </g>\n    <g clip-path=\"url(#p29738b820d)\">\n     <use style=\"fill:#1f77b4;\" x=\"58.521422\" xlink:href=\"#C0_0_b9dc3aa9f6\" y=\"274.595608\"/>\n    </g>\n    <g clip-path=\"url(#p29738b820d)\">\n     <use style=\"fill:#1f77b4;\" x=\"132.342696\" xlink:href=\"#C0_0_b9dc3aa9f6\" y=\"274.595608\"/>\n    </g>\n    <g clip-path=\"url(#p29738b820d)\">\n     <use style=\"fill:#1f77b4;\" x=\"53.08047\" xlink:href=\"#C0_0_b9dc3aa9f6\" y=\"274.595608\"/>\n    </g>\n    <g clip-path=\"url(#p29738b820d)\">\n     <use style=\"fill:#1f77b4;\" x=\"98.152535\" xlink:href=\"#C0_0_b9dc3aa9f6\" y=\"271.312666\"/>\n    </g>\n    <g clip-path=\"url(#p29738b820d)\">\n     <use style=\"fill:#1f77b4;\" x=\"106.436771\" xlink:href=\"#C0_0_b9dc3aa9f6\" y=\"271.312666\"/>\n    </g>\n    <g clip-path=\"url(#p29738b820d)\">\n     <use style=\"fill:#1f77b4;\" x=\"94.010417\" xlink:href=\"#C0_0_b9dc3aa9f6\" y=\"268.029724\"/>\n    </g>\n    <g clip-path=\"url(#p29738b820d)\">\n     <use style=\"fill:#1f77b4;\" x=\"88.569465\" xlink:href=\"#C0_0_b9dc3aa9f6\" y=\"268.029724\"/>\n    </g>\n    <g clip-path=\"url(#p29738b820d)\">\n     <use style=\"fill:#1f77b4;\" x=\"102.294653\" xlink:href=\"#C0_0_b9dc3aa9f6\" y=\"268.029724\"/>\n    </g>\n    <g clip-path=\"url(#p29738b820d)\">\n     <use style=\"fill:#1f77b4;\" x=\"83.128513\" xlink:href=\"#C0_0_b9dc3aa9f6\" y=\"268.029724\"/>\n    </g>\n    <g clip-path=\"url(#p29738b820d)\">\n     <use style=\"fill:#1f77b4;\" x=\"77.687561\" xlink:href=\"#C0_0_b9dc3aa9f6\" y=\"268.029724\"/>\n    </g>\n    <g clip-path=\"url(#p29738b820d)\">\n     <use style=\"fill:#1f77b4;\" x=\"110.578889\" xlink:href=\"#C0_0_b9dc3aa9f6\" y=\"268.029724\"/>\n    </g>\n    <g clip-path=\"url(#p29738b820d)\">\n     <use style=\"fill:#1f77b4;\" x=\"98.152535\" xlink:href=\"#C0_0_b9dc3aa9f6\" y=\"264.746782\"/>\n    </g>\n    <g clip-path=\"url(#p29738b820d)\">\n     <use style=\"fill:#1f77b4;\" x=\"106.436771\" xlink:href=\"#C0_0_b9dc3aa9f6\" y=\"264.746782\"/>\n    </g>\n    <g clip-path=\"url(#p29738b820d)\">\n     <use style=\"fill:#1f77b4;\" x=\"73.545443\" xlink:href=\"#C0_0_b9dc3aa9f6\" y=\"264.746782\"/>\n    </g>\n    <g clip-path=\"url(#p29738b820d)\">\n     <use style=\"fill:#1f77b4;\" x=\"114.721007\" xlink:href=\"#C0_0_b9dc3aa9f6\" y=\"264.746782\"/>\n    </g>\n    <g clip-path=\"url(#p29738b820d)\">\n     <use style=\"fill:#1f77b4;\" x=\"94.010417\" xlink:href=\"#C0_0_b9dc3aa9f6\" y=\"261.463841\"/>\n    </g>\n    <g clip-path=\"url(#p29738b820d)\">\n     <use style=\"fill:#1f77b4;\" x=\"88.569465\" xlink:href=\"#C0_0_b9dc3aa9f6\" y=\"261.463841\"/>\n    </g>\n    <g clip-path=\"url(#p29738b820d)\">\n     <use style=\"fill:#1f77b4;\" x=\"102.294653\" xlink:href=\"#C0_0_b9dc3aa9f6\" y=\"261.463841\"/>\n    </g>\n    <g clip-path=\"url(#p29738b820d)\">\n     <use style=\"fill:#1f77b4;\" x=\"98.152535\" xlink:href=\"#C0_0_b9dc3aa9f6\" y=\"258.180899\"/>\n    </g>\n    <g clip-path=\"url(#p29738b820d)\">\n     <use style=\"fill:#1f77b4;\" x=\"84.427347\" xlink:href=\"#C0_0_b9dc3aa9f6\" y=\"258.180899\"/>\n    </g>\n    <g clip-path=\"url(#p29738b820d)\">\n     <use style=\"fill:#1f77b4;\" x=\"106.436771\" xlink:href=\"#C0_0_b9dc3aa9f6\" y=\"258.180899\"/>\n    </g>\n    <g clip-path=\"url(#p29738b820d)\">\n     <use style=\"fill:#1f77b4;\" x=\"94.010417\" xlink:href=\"#C0_0_b9dc3aa9f6\" y=\"254.897957\"/>\n    </g>\n    <g clip-path=\"url(#p29738b820d)\">\n     <use style=\"fill:#1f77b4;\" x=\"88.569465\" xlink:href=\"#C0_0_b9dc3aa9f6\" y=\"254.897957\"/>\n    </g>\n    <g clip-path=\"url(#p29738b820d)\">\n     <use style=\"fill:#1f77b4;\" x=\"102.294653\" xlink:href=\"#C0_0_b9dc3aa9f6\" y=\"254.897957\"/>\n    </g>\n    <g clip-path=\"url(#p29738b820d)\">\n     <use style=\"fill:#1f77b4;\" x=\"80.285229\" xlink:href=\"#C0_0_b9dc3aa9f6\" y=\"254.897957\"/>\n    </g>\n    <g clip-path=\"url(#p29738b820d)\">\n     <use style=\"fill:#1f77b4;\" x=\"98.152535\" xlink:href=\"#C0_0_b9dc3aa9f6\" y=\"251.615015\"/>\n    </g>\n    <g clip-path=\"url(#p29738b820d)\">\n     <use style=\"fill:#1f77b4;\" x=\"84.427347\" xlink:href=\"#C0_0_b9dc3aa9f6\" y=\"251.615015\"/>\n    </g>\n    <g clip-path=\"url(#p29738b820d)\">\n     <use style=\"fill:#1f77b4;\" x=\"94.010417\" xlink:href=\"#C0_0_b9dc3aa9f6\" y=\"248.332074\"/>\n    </g>\n    <g clip-path=\"url(#p29738b820d)\">\n     <use style=\"fill:#1f77b4;\" x=\"88.569465\" xlink:href=\"#C0_0_b9dc3aa9f6\" y=\"248.332074\"/>\n    </g>\n    <g clip-path=\"url(#p29738b820d)\">\n     <use style=\"fill:#1f77b4;\" x=\"94.010417\" xlink:href=\"#C0_0_b9dc3aa9f6\" y=\"241.76619\"/>\n    </g>\n    <g clip-path=\"url(#p29738b820d)\">\n     <use style=\"fill:#1f77b4;\" x=\"94.010417\" xlink:href=\"#C0_0_b9dc3aa9f6\" y=\"235.200306\"/>\n    </g>\n    <g clip-path=\"url(#p29738b820d)\">\n     <use style=\"fill:#1f77b4;\" x=\"88.569465\" xlink:href=\"#C0_0_b9dc3aa9f6\" y=\"235.200306\"/>\n    </g>\n    <g clip-path=\"url(#p29738b820d)\">\n     <use style=\"fill:#1f77b4;\" x=\"94.010417\" xlink:href=\"#C0_0_b9dc3aa9f6\" y=\"228.634423\"/>\n    </g>\n    <g clip-path=\"url(#p29738b820d)\">\n     <use style=\"fill:#1f77b4;\" x=\"94.010417\" xlink:href=\"#C0_0_b9dc3aa9f6\" y=\"222.068539\"/>\n    </g>\n    <g clip-path=\"url(#p29738b820d)\">\n     <use style=\"fill:#1f77b4;\" x=\"89.868299\" xlink:href=\"#C0_0_b9dc3aa9f6\" y=\"218.785598\"/>\n    </g>\n    <g clip-path=\"url(#p29738b820d)\">\n     <use style=\"fill:#1f77b4;\" x=\"94.010417\" xlink:href=\"#C0_0_b9dc3aa9f6\" y=\"215.502656\"/>\n    </g>\n    <g clip-path=\"url(#p29738b820d)\">\n     <use style=\"fill:#1f77b4;\" x=\"89.868299\" xlink:href=\"#C0_0_b9dc3aa9f6\" y=\"212.219714\"/>\n    </g>\n    <g clip-path=\"url(#p29738b820d)\">\n     <use style=\"fill:#1f77b4;\" x=\"98.152535\" xlink:href=\"#C0_0_b9dc3aa9f6\" y=\"212.219714\"/>\n    </g>\n    <g clip-path=\"url(#p29738b820d)\">\n     <use style=\"fill:#1f77b4;\" x=\"84.427347\" xlink:href=\"#C0_0_b9dc3aa9f6\" y=\"212.219714\"/>\n    </g>\n    <g clip-path=\"url(#p29738b820d)\">\n     <use style=\"fill:#1f77b4;\" x=\"94.010417\" xlink:href=\"#C0_0_b9dc3aa9f6\" y=\"205.65383\"/>\n    </g>\n    <g clip-path=\"url(#p29738b820d)\">\n     <use style=\"fill:#1f77b4;\" x=\"88.569465\" xlink:href=\"#C0_0_b9dc3aa9f6\" y=\"205.65383\"/>\n    </g>\n    <g clip-path=\"url(#p29738b820d)\">\n     <use style=\"fill:#1f77b4;\" x=\"94.010417\" xlink:href=\"#C0_0_b9dc3aa9f6\" y=\"199.087947\"/>\n    </g>\n    <g clip-path=\"url(#p29738b820d)\">\n     <use style=\"fill:#1f77b4;\" x=\"88.569465\" xlink:href=\"#C0_0_b9dc3aa9f6\" y=\"199.087947\"/>\n    </g>\n    <g clip-path=\"url(#p29738b820d)\">\n     <use style=\"fill:#1f77b4;\" x=\"99.451368\" xlink:href=\"#C0_0_b9dc3aa9f6\" y=\"199.087947\"/>\n    </g>\n    <g clip-path=\"url(#p29738b820d)\">\n     <use style=\"fill:#1f77b4;\" x=\"84.427347\" xlink:href=\"#C0_0_b9dc3aa9f6\" y=\"195.805005\"/>\n    </g>\n    <g clip-path=\"url(#p29738b820d)\">\n     <use style=\"fill:#1f77b4;\" x=\"94.010417\" xlink:href=\"#C0_0_b9dc3aa9f6\" y=\"192.522063\"/>\n    </g>\n    <g clip-path=\"url(#p29738b820d)\">\n     <use style=\"fill:#1f77b4;\" x=\"94.010417\" xlink:href=\"#C0_0_b9dc3aa9f6\" y=\"185.95618\"/>\n    </g>\n    <g clip-path=\"url(#p29738b820d)\">\n     <use style=\"fill:#1f77b4;\" x=\"88.569465\" xlink:href=\"#C0_0_b9dc3aa9f6\" y=\"185.95618\"/>\n    </g>\n    <g clip-path=\"url(#p29738b820d)\">\n     <use style=\"fill:#1f77b4;\" x=\"98.152535\" xlink:href=\"#C0_0_b9dc3aa9f6\" y=\"182.673238\"/>\n    </g>\n    <g clip-path=\"url(#p29738b820d)\">\n     <use style=\"fill:#1f77b4;\" x=\"94.010417\" xlink:href=\"#C0_0_b9dc3aa9f6\" y=\"179.390296\"/>\n    </g>\n    <g clip-path=\"url(#p29738b820d)\">\n     <use style=\"fill:#1f77b4;\" x=\"94.010417\" xlink:href=\"#C0_0_b9dc3aa9f6\" y=\"172.824413\"/>\n    </g>\n    <g clip-path=\"url(#p29738b820d)\">\n     <use style=\"fill:#1f77b4;\" x=\"88.569465\" xlink:href=\"#C0_0_b9dc3aa9f6\" y=\"172.824413\"/>\n    </g>\n    <g clip-path=\"url(#p29738b820d)\">\n     <use style=\"fill:#1f77b4;\" x=\"94.010417\" xlink:href=\"#C0_0_b9dc3aa9f6\" y=\"166.258529\"/>\n    </g>\n    <g clip-path=\"url(#p29738b820d)\">\n     <use style=\"fill:#1f77b4;\" x=\"89.868299\" xlink:href=\"#C0_0_b9dc3aa9f6\" y=\"162.975587\"/>\n    </g>\n    <g clip-path=\"url(#p29738b820d)\">\n     <use style=\"fill:#1f77b4;\" x=\"94.010417\" xlink:href=\"#C0_0_b9dc3aa9f6\" y=\"159.692646\"/>\n    </g>\n    <g clip-path=\"url(#p29738b820d)\">\n     <use style=\"fill:#1f77b4;\" x=\"89.868299\" xlink:href=\"#C0_0_b9dc3aa9f6\" y=\"156.409704\"/>\n    </g>\n    <g clip-path=\"url(#p29738b820d)\">\n     <use style=\"fill:#1f77b4;\" x=\"94.010417\" xlink:href=\"#C0_0_b9dc3aa9f6\" y=\"153.126762\"/>\n    </g>\n    <g clip-path=\"url(#p29738b820d)\">\n     <use style=\"fill:#1f77b4;\" x=\"99.451368\" xlink:href=\"#C0_0_b9dc3aa9f6\" y=\"153.126762\"/>\n    </g>\n    <g clip-path=\"url(#p29738b820d)\">\n     <use style=\"fill:#1f77b4;\" x=\"85.726181\" xlink:href=\"#C0_0_b9dc3aa9f6\" y=\"153.126762\"/>\n    </g>\n    <g clip-path=\"url(#p29738b820d)\">\n     <use style=\"fill:#1f77b4;\" x=\"89.868299\" xlink:href=\"#C0_0_b9dc3aa9f6\" y=\"149.84382\"/>\n    </g>\n    <g clip-path=\"url(#p29738b820d)\">\n     <use style=\"fill:#1f77b4;\" x=\"94.010417\" xlink:href=\"#C0_0_b9dc3aa9f6\" y=\"146.560878\"/>\n    </g>\n    <g clip-path=\"url(#p29738b820d)\">\n     <use style=\"fill:#1f77b4;\" x=\"94.010417\" xlink:href=\"#C0_0_b9dc3aa9f6\" y=\"136.712053\"/>\n    </g>\n    <g clip-path=\"url(#p29738b820d)\">\n     <use style=\"fill:#1f77b4;\" x=\"88.569465\" xlink:href=\"#C0_0_b9dc3aa9f6\" y=\"136.712053\"/>\n    </g>\n    <g clip-path=\"url(#p29738b820d)\">\n     <use style=\"fill:#1f77b4;\" x=\"94.010417\" xlink:href=\"#C0_0_b9dc3aa9f6\" y=\"130.14617\"/>\n    </g>\n    <g clip-path=\"url(#p29738b820d)\">\n     <use style=\"fill:#1f77b4;\" x=\"89.868299\" xlink:href=\"#C0_0_b9dc3aa9f6\" y=\"126.863228\"/>\n    </g>\n    <g clip-path=\"url(#p29738b820d)\">\n     <use style=\"fill:#1f77b4;\" x=\"98.152535\" xlink:href=\"#C0_0_b9dc3aa9f6\" y=\"126.863228\"/>\n    </g>\n    <g clip-path=\"url(#p29738b820d)\">\n     <use style=\"fill:#1f77b4;\" x=\"94.010417\" xlink:href=\"#C0_0_b9dc3aa9f6\" y=\"123.580286\"/>\n    </g>\n    <g clip-path=\"url(#p29738b820d)\">\n     <use style=\"fill:#1f77b4;\" x=\"85.726181\" xlink:href=\"#C0_0_b9dc3aa9f6\" y=\"123.580286\"/>\n    </g>\n    <g clip-path=\"url(#p29738b820d)\">\n     <use style=\"fill:#1f77b4;\" x=\"89.868299\" xlink:href=\"#C0_0_b9dc3aa9f6\" y=\"120.297344\"/>\n    </g>\n    <g clip-path=\"url(#p29738b820d)\">\n     <use style=\"fill:#1f77b4;\" x=\"98.152535\" xlink:href=\"#C0_0_b9dc3aa9f6\" y=\"120.297344\"/>\n    </g>\n    <g clip-path=\"url(#p29738b820d)\">\n     <use style=\"fill:#1f77b4;\" x=\"94.010417\" xlink:href=\"#C0_0_b9dc3aa9f6\" y=\"113.731461\"/>\n    </g>\n    <g clip-path=\"url(#p29738b820d)\">\n     <use style=\"fill:#1f77b4;\" x=\"88.569465\" xlink:href=\"#C0_0_b9dc3aa9f6\" y=\"113.731461\"/>\n    </g>\n    <g clip-path=\"url(#p29738b820d)\">\n     <use style=\"fill:#1f77b4;\" x=\"99.451368\" xlink:href=\"#C0_0_b9dc3aa9f6\" y=\"113.731461\"/>\n    </g>\n    <g clip-path=\"url(#p29738b820d)\">\n     <use style=\"fill:#1f77b4;\" x=\"84.427347\" xlink:href=\"#C0_0_b9dc3aa9f6\" y=\"110.448519\"/>\n    </g>\n    <g clip-path=\"url(#p29738b820d)\">\n     <use style=\"fill:#1f77b4;\" x=\"94.010417\" xlink:href=\"#C0_0_b9dc3aa9f6\" y=\"107.165577\"/>\n    </g>\n    <g clip-path=\"url(#p29738b820d)\">\n     <use style=\"fill:#1f77b4;\" x=\"88.569465\" xlink:href=\"#C0_0_b9dc3aa9f6\" y=\"107.165577\"/>\n    </g>\n    <g clip-path=\"url(#p29738b820d)\">\n     <use style=\"fill:#1f77b4;\" x=\"98.152535\" xlink:href=\"#C0_0_b9dc3aa9f6\" y=\"103.882635\"/>\n    </g>\n    <g clip-path=\"url(#p29738b820d)\">\n     <use style=\"fill:#1f77b4;\" x=\"94.010417\" xlink:href=\"#C0_0_b9dc3aa9f6\" y=\"97.316752\"/>\n    </g>\n    <g clip-path=\"url(#p29738b820d)\">\n     <use style=\"fill:#1f77b4;\" x=\"88.569465\" xlink:href=\"#C0_0_b9dc3aa9f6\" y=\"97.316752\"/>\n    </g>\n    <g clip-path=\"url(#p29738b820d)\">\n     <use style=\"fill:#1f77b4;\" x=\"94.010417\" xlink:href=\"#C0_0_b9dc3aa9f6\" y=\"80.902043\"/>\n    </g>\n    <g clip-path=\"url(#p29738b820d)\">\n     <use style=\"fill:#1f77b4;\" x=\"88.569465\" xlink:href=\"#C0_0_b9dc3aa9f6\" y=\"80.902043\"/>\n    </g>\n    <g clip-path=\"url(#p29738b820d)\">\n     <use style=\"fill:#1f77b4;\" x=\"98.152535\" xlink:href=\"#C0_0_b9dc3aa9f6\" y=\"77.619101\"/>\n    </g>\n    <g clip-path=\"url(#p29738b820d)\">\n     <use style=\"fill:#1f77b4;\" x=\"94.010417\" xlink:href=\"#C0_0_b9dc3aa9f6\" y=\"67.770276\"/>\n    </g>\n    <g clip-path=\"url(#p29738b820d)\">\n     <use style=\"fill:#1f77b4;\" x=\"94.010417\" xlink:href=\"#C0_0_b9dc3aa9f6\" y=\"57.92145\"/>\n    </g>\n    <g clip-path=\"url(#p29738b820d)\">\n     <use style=\"fill:#1f77b4;\" x=\"94.010417\" xlink:href=\"#C0_0_b9dc3aa9f6\" y=\"34.940858\"/>\n    </g>\n    <g clip-path=\"url(#p29738b820d)\">\n     <use style=\"fill:#1f77b4;\" x=\"89.868299\" xlink:href=\"#C0_0_b9dc3aa9f6\" y=\"31.657916\"/>\n    </g>\n    <g clip-path=\"url(#p29738b820d)\">\n     <use style=\"fill:#1f77b4;\" x=\"94.010417\" xlink:href=\"#C0_0_b9dc3aa9f6\" y=\"21.809091\"/>\n    </g>\n    <g clip-path=\"url(#p29738b820d)\">\n     <use style=\"fill:#1f77b4;\" x=\"88.569465\" xlink:href=\"#C0_0_b9dc3aa9f6\" y=\"21.809091\"/>\n    </g>\n   </g>\n   <g id=\"PathCollection_2\">\n    <defs>\n     <path d=\"M 0 2.5 \nC 0.663008 2.5 1.29895 2.236584 1.767767 1.767767 \nC 2.236584 1.29895 2.5 0.663008 2.5 -0 \nC 2.5 -0.663008 2.236584 -1.29895 1.767767 -1.767767 \nC 1.29895 -2.236584 0.663008 -2.5 0 -2.5 \nC -0.663008 -2.5 -1.29895 -2.236584 -1.767767 -1.767767 \nC -2.236584 -1.29895 -2.5 -0.663008 -2.5 0 \nC -2.5 0.663008 -2.236584 1.29895 -1.767767 1.767767 \nC -1.29895 2.236584 -0.663008 2.5 0 2.5 \nz\n\" id=\"C1_0_6566b1b88f\"/>\n    </defs>\n    <g clip-path=\"url(#p29738b820d)\">\n     <use style=\"fill:#ff7f0e;\" x=\"200.26875\" xlink:href=\"#C1_0_6566b1b88f\" y=\"297.5762\"/>\n    </g>\n    <g clip-path=\"url(#p29738b820d)\">\n     <use style=\"fill:#ff7f0e;\" x=\"194.827798\" xlink:href=\"#C1_0_6566b1b88f\" y=\"297.5762\"/>\n    </g>\n    <g clip-path=\"url(#p29738b820d)\">\n     <use style=\"fill:#ff7f0e;\" x=\"204.410868\" xlink:href=\"#C1_0_6566b1b88f\" y=\"294.293258\"/>\n    </g>\n    <g clip-path=\"url(#p29738b820d)\">\n     <use style=\"fill:#ff7f0e;\" x=\"200.26875\" xlink:href=\"#C1_0_6566b1b88f\" y=\"291.010317\"/>\n    </g>\n    <g clip-path=\"url(#p29738b820d)\">\n     <use style=\"fill:#ff7f0e;\" x=\"200.26875\" xlink:href=\"#C1_0_6566b1b88f\" y=\"274.595608\"/>\n    </g>\n    <g clip-path=\"url(#p29738b820d)\">\n     <use style=\"fill:#ff7f0e;\" x=\"196.126632\" xlink:href=\"#C1_0_6566b1b88f\" y=\"271.312666\"/>\n    </g>\n    <g clip-path=\"url(#p29738b820d)\">\n     <use style=\"fill:#ff7f0e;\" x=\"200.26875\" xlink:href=\"#C1_0_6566b1b88f\" y=\"254.897957\"/>\n    </g>\n    <g clip-path=\"url(#p29738b820d)\">\n     <use style=\"fill:#ff7f0e;\" x=\"196.126632\" xlink:href=\"#C1_0_6566b1b88f\" y=\"251.615015\"/>\n    </g>\n    <g clip-path=\"url(#p29738b820d)\">\n     <use style=\"fill:#ff7f0e;\" x=\"200.26875\" xlink:href=\"#C1_0_6566b1b88f\" y=\"248.332074\"/>\n    </g>\n    <g clip-path=\"url(#p29738b820d)\">\n     <use style=\"fill:#ff7f0e;\" x=\"200.26875\" xlink:href=\"#C1_0_6566b1b88f\" y=\"225.351481\"/>\n    </g>\n    <g clip-path=\"url(#p29738b820d)\">\n     <use style=\"fill:#ff7f0e;\" x=\"194.827798\" xlink:href=\"#C1_0_6566b1b88f\" y=\"225.351481\"/>\n    </g>\n    <g clip-path=\"url(#p29738b820d)\">\n     <use style=\"fill:#ff7f0e;\" x=\"205.709702\" xlink:href=\"#C1_0_6566b1b88f\" y=\"225.351481\"/>\n    </g>\n    <g clip-path=\"url(#p29738b820d)\">\n     <use style=\"fill:#ff7f0e;\" x=\"200.26875\" xlink:href=\"#C1_0_6566b1b88f\" y=\"218.785598\"/>\n    </g>\n    <g clip-path=\"url(#p29738b820d)\">\n     <use style=\"fill:#ff7f0e;\" x=\"200.26875\" xlink:href=\"#C1_0_6566b1b88f\" y=\"208.936772\"/>\n    </g>\n    <g clip-path=\"url(#p29738b820d)\">\n     <use style=\"fill:#ff7f0e;\" x=\"196.126632\" xlink:href=\"#C1_0_6566b1b88f\" y=\"205.65383\"/>\n    </g>\n    <g clip-path=\"url(#p29738b820d)\">\n     <use style=\"fill:#ff7f0e;\" x=\"204.410868\" xlink:href=\"#C1_0_6566b1b88f\" y=\"205.65383\"/>\n    </g>\n    <g clip-path=\"url(#p29738b820d)\">\n     <use style=\"fill:#ff7f0e;\" x=\"200.26875\" xlink:href=\"#C1_0_6566b1b88f\" y=\"199.087947\"/>\n    </g>\n    <g clip-path=\"url(#p29738b820d)\">\n     <use style=\"fill:#ff7f0e;\" x=\"194.827798\" xlink:href=\"#C1_0_6566b1b88f\" y=\"199.087947\"/>\n    </g>\n    <g clip-path=\"url(#p29738b820d)\">\n     <use style=\"fill:#ff7f0e;\" x=\"204.410868\" xlink:href=\"#C1_0_6566b1b88f\" y=\"195.805005\"/>\n    </g>\n    <g clip-path=\"url(#p29738b820d)\">\n     <use style=\"fill:#ff7f0e;\" x=\"190.68568\" xlink:href=\"#C1_0_6566b1b88f\" y=\"195.805005\"/>\n    </g>\n    <g clip-path=\"url(#p29738b820d)\">\n     <use style=\"fill:#ff7f0e;\" x=\"200.26875\" xlink:href=\"#C1_0_6566b1b88f\" y=\"192.522063\"/>\n    </g>\n    <g clip-path=\"url(#p29738b820d)\">\n     <use style=\"fill:#ff7f0e;\" x=\"194.827798\" xlink:href=\"#C1_0_6566b1b88f\" y=\"192.522063\"/>\n    </g>\n    <g clip-path=\"url(#p29738b820d)\">\n     <use style=\"fill:#ff7f0e;\" x=\"200.26875\" xlink:href=\"#C1_0_6566b1b88f\" y=\"182.673238\"/>\n    </g>\n    <g clip-path=\"url(#p29738b820d)\">\n     <use style=\"fill:#ff7f0e;\" x=\"200.26875\" xlink:href=\"#C1_0_6566b1b88f\" y=\"172.824413\"/>\n    </g>\n    <g clip-path=\"url(#p29738b820d)\">\n     <use style=\"fill:#ff7f0e;\" x=\"194.827798\" xlink:href=\"#C1_0_6566b1b88f\" y=\"172.824413\"/>\n    </g>\n    <g clip-path=\"url(#p29738b820d)\">\n     <use style=\"fill:#ff7f0e;\" x=\"205.709702\" xlink:href=\"#C1_0_6566b1b88f\" y=\"172.824413\"/>\n    </g>\n    <g clip-path=\"url(#p29738b820d)\">\n     <use style=\"fill:#ff7f0e;\" x=\"190.68568\" xlink:href=\"#C1_0_6566b1b88f\" y=\"169.541471\"/>\n    </g>\n    <g clip-path=\"url(#p29738b820d)\">\n     <use style=\"fill:#ff7f0e;\" x=\"200.26875\" xlink:href=\"#C1_0_6566b1b88f\" y=\"162.975587\"/>\n    </g>\n    <g clip-path=\"url(#p29738b820d)\">\n     <use style=\"fill:#ff7f0e;\" x=\"196.126632\" xlink:href=\"#C1_0_6566b1b88f\" y=\"159.692646\"/>\n    </g>\n    <g clip-path=\"url(#p29738b820d)\">\n     <use style=\"fill:#ff7f0e;\" x=\"200.26875\" xlink:href=\"#C1_0_6566b1b88f\" y=\"156.409704\"/>\n    </g>\n    <g clip-path=\"url(#p29738b820d)\">\n     <use style=\"fill:#ff7f0e;\" x=\"196.126632\" xlink:href=\"#C1_0_6566b1b88f\" y=\"153.126762\"/>\n    </g>\n    <g clip-path=\"url(#p29738b820d)\">\n     <use style=\"fill:#ff7f0e;\" x=\"200.26875\" xlink:href=\"#C1_0_6566b1b88f\" y=\"146.560878\"/>\n    </g>\n    <g clip-path=\"url(#p29738b820d)\">\n     <use style=\"fill:#ff7f0e;\" x=\"194.827798\" xlink:href=\"#C1_0_6566b1b88f\" y=\"146.560878\"/>\n    </g>\n    <g clip-path=\"url(#p29738b820d)\">\n     <use style=\"fill:#ff7f0e;\" x=\"200.26875\" xlink:href=\"#C1_0_6566b1b88f\" y=\"139.994995\"/>\n    </g>\n    <g clip-path=\"url(#p29738b820d)\">\n     <use style=\"fill:#ff7f0e;\" x=\"196.126632\" xlink:href=\"#C1_0_6566b1b88f\" y=\"136.712053\"/>\n    </g>\n    <g clip-path=\"url(#p29738b820d)\">\n     <use style=\"fill:#ff7f0e;\" x=\"204.410868\" xlink:href=\"#C1_0_6566b1b88f\" y=\"136.712053\"/>\n    </g>\n    <g clip-path=\"url(#p29738b820d)\">\n     <use style=\"fill:#ff7f0e;\" x=\"200.26875\" xlink:href=\"#C1_0_6566b1b88f\" y=\"133.429111\"/>\n    </g>\n    <g clip-path=\"url(#p29738b820d)\">\n     <use style=\"fill:#ff7f0e;\" x=\"196.126632\" xlink:href=\"#C1_0_6566b1b88f\" y=\"130.14617\"/>\n    </g>\n    <g clip-path=\"url(#p29738b820d)\">\n     <use style=\"fill:#ff7f0e;\" x=\"204.410868\" xlink:href=\"#C1_0_6566b1b88f\" y=\"130.14617\"/>\n    </g>\n    <g clip-path=\"url(#p29738b820d)\">\n     <use style=\"fill:#ff7f0e;\" x=\"200.26875\" xlink:href=\"#C1_0_6566b1b88f\" y=\"123.580286\"/>\n    </g>\n    <g clip-path=\"url(#p29738b820d)\">\n     <use style=\"fill:#ff7f0e;\" x=\"196.126632\" xlink:href=\"#C1_0_6566b1b88f\" y=\"120.297344\"/>\n    </g>\n    <g clip-path=\"url(#p29738b820d)\">\n     <use style=\"fill:#ff7f0e;\" x=\"200.26875\" xlink:href=\"#C1_0_6566b1b88f\" y=\"117.014402\"/>\n    </g>\n    <g clip-path=\"url(#p29738b820d)\">\n     <use style=\"fill:#ff7f0e;\" x=\"200.26875\" xlink:href=\"#C1_0_6566b1b88f\" y=\"84.184985\"/>\n    </g>\n   </g>\n   <g id=\"PathCollection_3\">\n    <defs>\n     <path d=\"M 0 2.5 \nC 0.663008 2.5 1.29895 2.236584 1.767767 1.767767 \nC 2.236584 1.29895 2.5 0.663008 2.5 -0 \nC 2.5 -0.663008 2.236584 -1.29895 1.767767 -1.767767 \nC 1.29895 -2.236584 0.663008 -2.5 0 -2.5 \nC -0.663008 -2.5 -1.29895 -2.236584 -1.767767 -1.767767 \nC -2.236584 -1.29895 -2.5 -0.663008 -2.5 0 \nC -2.5 0.663008 -2.236584 1.29895 -1.767767 1.767767 \nC -1.29895 2.236584 -0.663008 2.5 0 2.5 \nz\n\" id=\"C2_0_bad4adac86\"/>\n    </defs>\n    <g clip-path=\"url(#p29738b820d)\">\n     <use style=\"fill:#2ca02c;\" x=\"306.527083\" xlink:href=\"#C2_0_bad4adac86\" y=\"313.990909\"/>\n    </g>\n    <g clip-path=\"url(#p29738b820d)\">\n     <use style=\"fill:#2ca02c;\" x=\"301.086132\" xlink:href=\"#C2_0_bad4adac86\" y=\"313.990909\"/>\n    </g>\n    <g clip-path=\"url(#p29738b820d)\">\n     <use style=\"fill:#2ca02c;\" x=\"310.669201\" xlink:href=\"#C2_0_bad4adac86\" y=\"310.707967\"/>\n    </g>\n    <g clip-path=\"url(#p29738b820d)\">\n     <use style=\"fill:#2ca02c;\" x=\"306.527083\" xlink:href=\"#C2_0_bad4adac86\" y=\"304.142084\"/>\n    </g>\n    <g clip-path=\"url(#p29738b820d)\">\n     <use style=\"fill:#2ca02c;\" x=\"302.384965\" xlink:href=\"#C2_0_bad4adac86\" y=\"300.859142\"/>\n    </g>\n    <g clip-path=\"url(#p29738b820d)\">\n     <use style=\"fill:#2ca02c;\" x=\"310.669201\" xlink:href=\"#C2_0_bad4adac86\" y=\"300.859142\"/>\n    </g>\n    <g clip-path=\"url(#p29738b820d)\">\n     <use style=\"fill:#2ca02c;\" x=\"306.527083\" xlink:href=\"#C2_0_bad4adac86\" y=\"297.5762\"/>\n    </g>\n    <g clip-path=\"url(#p29738b820d)\">\n     <use style=\"fill:#2ca02c;\" x=\"298.242847\" xlink:href=\"#C2_0_bad4adac86\" y=\"297.5762\"/>\n    </g>\n    <g clip-path=\"url(#p29738b820d)\">\n     <use style=\"fill:#2ca02c;\" x=\"302.384965\" xlink:href=\"#C2_0_bad4adac86\" y=\"294.293258\"/>\n    </g>\n    <g clip-path=\"url(#p29738b820d)\">\n     <use style=\"fill:#2ca02c;\" x=\"310.669201\" xlink:href=\"#C2_0_bad4adac86\" y=\"294.293258\"/>\n    </g>\n    <g clip-path=\"url(#p29738b820d)\">\n     <use style=\"fill:#2ca02c;\" x=\"316.110153\" xlink:href=\"#C2_0_bad4adac86\" y=\"294.293258\"/>\n    </g>\n    <g clip-path=\"url(#p29738b820d)\">\n     <use style=\"fill:#2ca02c;\" x=\"294.100729\" xlink:href=\"#C2_0_bad4adac86\" y=\"294.293258\"/>\n    </g>\n    <g clip-path=\"url(#p29738b820d)\">\n     <use style=\"fill:#2ca02c;\" x=\"306.527083\" xlink:href=\"#C2_0_bad4adac86\" y=\"287.727375\"/>\n    </g>\n    <g clip-path=\"url(#p29738b820d)\">\n     <use style=\"fill:#2ca02c;\" x=\"301.086132\" xlink:href=\"#C2_0_bad4adac86\" y=\"287.727375\"/>\n    </g>\n    <g clip-path=\"url(#p29738b820d)\">\n     <use style=\"fill:#2ca02c;\" x=\"310.669201\" xlink:href=\"#C2_0_bad4adac86\" y=\"284.444433\"/>\n    </g>\n    <g clip-path=\"url(#p29738b820d)\">\n     <use style=\"fill:#2ca02c;\" x=\"306.527083\" xlink:href=\"#C2_0_bad4adac86\" y=\"277.87855\"/>\n    </g>\n    <g clip-path=\"url(#p29738b820d)\">\n     <use style=\"fill:#2ca02c;\" x=\"301.086132\" xlink:href=\"#C2_0_bad4adac86\" y=\"277.87855\"/>\n    </g>\n    <g clip-path=\"url(#p29738b820d)\">\n     <use style=\"fill:#2ca02c;\" x=\"306.527083\" xlink:href=\"#C2_0_bad4adac86\" y=\"271.312666\"/>\n    </g>\n    <g clip-path=\"url(#p29738b820d)\">\n     <use style=\"fill:#2ca02c;\" x=\"301.086132\" xlink:href=\"#C2_0_bad4adac86\" y=\"271.312666\"/>\n    </g>\n    <g clip-path=\"url(#p29738b820d)\">\n     <use style=\"fill:#2ca02c;\" x=\"310.669201\" xlink:href=\"#C2_0_bad4adac86\" y=\"268.029724\"/>\n    </g>\n    <g clip-path=\"url(#p29738b820d)\">\n     <use style=\"fill:#2ca02c;\" x=\"296.944014\" xlink:href=\"#C2_0_bad4adac86\" y=\"268.029724\"/>\n    </g>\n    <g clip-path=\"url(#p29738b820d)\">\n     <use style=\"fill:#2ca02c;\" x=\"316.110153\" xlink:href=\"#C2_0_bad4adac86\" y=\"268.029724\"/>\n    </g>\n    <g clip-path=\"url(#p29738b820d)\">\n     <use style=\"fill:#2ca02c;\" x=\"291.503062\" xlink:href=\"#C2_0_bad4adac86\" y=\"268.029724\"/>\n    </g>\n    <g clip-path=\"url(#p29738b820d)\">\n     <use style=\"fill:#2ca02c;\" x=\"306.527083\" xlink:href=\"#C2_0_bad4adac86\" y=\"264.746782\"/>\n    </g>\n    <g clip-path=\"url(#p29738b820d)\">\n     <use style=\"fill:#2ca02c;\" x=\"301.086132\" xlink:href=\"#C2_0_bad4adac86\" y=\"264.746782\"/>\n    </g>\n    <g clip-path=\"url(#p29738b820d)\">\n     <use style=\"fill:#2ca02c;\" x=\"310.669201\" xlink:href=\"#C2_0_bad4adac86\" y=\"261.463841\"/>\n    </g>\n    <g clip-path=\"url(#p29738b820d)\">\n     <use style=\"fill:#2ca02c;\" x=\"296.944014\" xlink:href=\"#C2_0_bad4adac86\" y=\"261.463841\"/>\n    </g>\n    <g clip-path=\"url(#p29738b820d)\">\n     <use style=\"fill:#2ca02c;\" x=\"316.110153\" xlink:href=\"#C2_0_bad4adac86\" y=\"261.463841\"/>\n    </g>\n    <g clip-path=\"url(#p29738b820d)\">\n     <use style=\"fill:#2ca02c;\" x=\"291.503062\" xlink:href=\"#C2_0_bad4adac86\" y=\"261.463841\"/>\n    </g>\n    <g clip-path=\"url(#p29738b820d)\">\n     <use style=\"fill:#2ca02c;\" x=\"321.551105\" xlink:href=\"#C2_0_bad4adac86\" y=\"261.463841\"/>\n    </g>\n    <g clip-path=\"url(#p29738b820d)\">\n     <use style=\"fill:#2ca02c;\" x=\"286.06211\" xlink:href=\"#C2_0_bad4adac86\" y=\"261.463841\"/>\n    </g>\n    <g clip-path=\"url(#p29738b820d)\">\n     <use style=\"fill:#2ca02c;\" x=\"326.992057\" xlink:href=\"#C2_0_bad4adac86\" y=\"261.463841\"/>\n    </g>\n    <g clip-path=\"url(#p29738b820d)\">\n     <use style=\"fill:#2ca02c;\" x=\"280.621158\" xlink:href=\"#C2_0_bad4adac86\" y=\"261.463841\"/>\n    </g>\n    <g clip-path=\"url(#p29738b820d)\">\n     <use style=\"fill:#2ca02c;\" x=\"306.527083\" xlink:href=\"#C2_0_bad4adac86\" y=\"258.180899\"/>\n    </g>\n    <g clip-path=\"url(#p29738b820d)\">\n     <use style=\"fill:#2ca02c;\" x=\"301.086132\" xlink:href=\"#C2_0_bad4adac86\" y=\"258.180899\"/>\n    </g>\n    <g clip-path=\"url(#p29738b820d)\">\n     <use style=\"fill:#2ca02c;\" x=\"331.134175\" xlink:href=\"#C2_0_bad4adac86\" y=\"258.180899\"/>\n    </g>\n    <g clip-path=\"url(#p29738b820d)\">\n     <use style=\"fill:#2ca02c;\" x=\"276.47904\" xlink:href=\"#C2_0_bad4adac86\" y=\"258.180899\"/>\n    </g>\n    <g clip-path=\"url(#p29738b820d)\">\n     <use style=\"fill:#2ca02c;\" x=\"336.575126\" xlink:href=\"#C2_0_bad4adac86\" y=\"258.180899\"/>\n    </g>\n    <g clip-path=\"url(#p29738b820d)\">\n     <use style=\"fill:#2ca02c;\" x=\"271.038088\" xlink:href=\"#C2_0_bad4adac86\" y=\"258.180899\"/>\n    </g>\n    <g clip-path=\"url(#p29738b820d)\">\n     <use style=\"fill:#2ca02c;\" x=\"342.016078\" xlink:href=\"#C2_0_bad4adac86\" y=\"258.180899\"/>\n    </g>\n    <g clip-path=\"url(#p29738b820d)\">\n     <use style=\"fill:#2ca02c;\" x=\"265.597137\" xlink:href=\"#C2_0_bad4adac86\" y=\"258.180899\"/>\n    </g>\n    <g clip-path=\"url(#p29738b820d)\">\n     <use style=\"fill:#2ca02c;\" x=\"310.669201\" xlink:href=\"#C2_0_bad4adac86\" y=\"254.897957\"/>\n    </g>\n    <g clip-path=\"url(#p29738b820d)\">\n     <use style=\"fill:#2ca02c;\" x=\"316.110153\" xlink:href=\"#C2_0_bad4adac86\" y=\"254.897957\"/>\n    </g>\n    <g clip-path=\"url(#p29738b820d)\">\n     <use style=\"fill:#2ca02c;\" x=\"296.944014\" xlink:href=\"#C2_0_bad4adac86\" y=\"254.897957\"/>\n    </g>\n    <g clip-path=\"url(#p29738b820d)\">\n     <use style=\"fill:#2ca02c;\" x=\"321.551105\" xlink:href=\"#C2_0_bad4adac86\" y=\"254.897957\"/>\n    </g>\n    <g clip-path=\"url(#p29738b820d)\">\n     <use style=\"fill:#2ca02c;\" x=\"291.503062\" xlink:href=\"#C2_0_bad4adac86\" y=\"254.897957\"/>\n    </g>\n    <g clip-path=\"url(#p29738b820d)\">\n     <use style=\"fill:#2ca02c;\" x=\"326.992057\" xlink:href=\"#C2_0_bad4adac86\" y=\"254.897957\"/>\n    </g>\n    <g clip-path=\"url(#p29738b820d)\">\n     <use style=\"fill:#2ca02c;\" x=\"286.06211\" xlink:href=\"#C2_0_bad4adac86\" y=\"254.897957\"/>\n    </g>\n    <g clip-path=\"url(#p29738b820d)\">\n     <use style=\"fill:#2ca02c;\" x=\"280.621158\" xlink:href=\"#C2_0_bad4adac86\" y=\"254.897957\"/>\n    </g>\n    <g clip-path=\"url(#p29738b820d)\">\n     <use style=\"fill:#2ca02c;\" x=\"346.158196\" xlink:href=\"#C2_0_bad4adac86\" y=\"254.897957\"/>\n    </g>\n    <g clip-path=\"url(#p29738b820d)\">\n     <use style=\"fill:#2ca02c;\" x=\"264.02375\" xlink:href=\"#C2_0_bad4adac86\" y=\"254.897957\"/>\n    </g>\n    <g clip-path=\"url(#p29738b820d)\">\n     <use style=\"fill:#2ca02c;\" x=\"349.030417\" xlink:href=\"#C2_0_bad4adac86\" y=\"254.897957\"/>\n    </g>\n    <g clip-path=\"url(#p29738b820d)\">\n     <use style=\"fill:#2ca02c;\" x=\"264.02375\" xlink:href=\"#C2_0_bad4adac86\" y=\"254.897957\"/>\n    </g>\n    <g clip-path=\"url(#p29738b820d)\">\n     <use style=\"fill:#2ca02c;\" x=\"349.030417\" xlink:href=\"#C2_0_bad4adac86\" y=\"254.897957\"/>\n    </g>\n    <g clip-path=\"url(#p29738b820d)\">\n     <use style=\"fill:#2ca02c;\" x=\"306.527083\" xlink:href=\"#C2_0_bad4adac86\" y=\"251.615015\"/>\n    </g>\n    <g clip-path=\"url(#p29738b820d)\">\n     <use style=\"fill:#2ca02c;\" x=\"301.086132\" xlink:href=\"#C2_0_bad4adac86\" y=\"251.615015\"/>\n    </g>\n    <g clip-path=\"url(#p29738b820d)\">\n     <use style=\"fill:#2ca02c;\" x=\"331.134175\" xlink:href=\"#C2_0_bad4adac86\" y=\"251.615015\"/>\n    </g>\n    <g clip-path=\"url(#p29738b820d)\">\n     <use style=\"fill:#2ca02c;\" x=\"336.575126\" xlink:href=\"#C2_0_bad4adac86\" y=\"251.615015\"/>\n    </g>\n    <g clip-path=\"url(#p29738b820d)\">\n     <use style=\"fill:#2ca02c;\" x=\"276.47904\" xlink:href=\"#C2_0_bad4adac86\" y=\"251.615015\"/>\n    </g>\n    <g clip-path=\"url(#p29738b820d)\">\n     <use style=\"fill:#2ca02c;\" x=\"342.016078\" xlink:href=\"#C2_0_bad4adac86\" y=\"251.615015\"/>\n    </g>\n    <g clip-path=\"url(#p29738b820d)\">\n     <use style=\"fill:#2ca02c;\" x=\"271.038088\" xlink:href=\"#C2_0_bad4adac86\" y=\"251.615015\"/>\n    </g>\n    <g clip-path=\"url(#p29738b820d)\">\n     <use style=\"fill:#2ca02c;\" x=\"265.597137\" xlink:href=\"#C2_0_bad4adac86\" y=\"251.615015\"/>\n    </g>\n    <g clip-path=\"url(#p29738b820d)\">\n     <use style=\"fill:#2ca02c;\" x=\"264.02375\" xlink:href=\"#C2_0_bad4adac86\" y=\"251.615015\"/>\n    </g>\n    <g clip-path=\"url(#p29738b820d)\">\n     <use style=\"fill:#2ca02c;\" x=\"349.030417\" xlink:href=\"#C2_0_bad4adac86\" y=\"251.615015\"/>\n    </g>\n    <g clip-path=\"url(#p29738b820d)\">\n     <use style=\"fill:#2ca02c;\" x=\"264.02375\" xlink:href=\"#C2_0_bad4adac86\" y=\"251.615015\"/>\n    </g>\n    <g clip-path=\"url(#p29738b820d)\">\n     <use style=\"fill:#2ca02c;\" x=\"349.030417\" xlink:href=\"#C2_0_bad4adac86\" y=\"251.615015\"/>\n    </g>\n    <g clip-path=\"url(#p29738b820d)\">\n     <use style=\"fill:#2ca02c;\" x=\"264.02375\" xlink:href=\"#C2_0_bad4adac86\" y=\"251.615015\"/>\n    </g>\n    <g clip-path=\"url(#p29738b820d)\">\n     <use style=\"fill:#2ca02c;\" x=\"349.030417\" xlink:href=\"#C2_0_bad4adac86\" y=\"251.615015\"/>\n    </g>\n    <g clip-path=\"url(#p29738b820d)\">\n     <use style=\"fill:#2ca02c;\" x=\"310.669201\" xlink:href=\"#C2_0_bad4adac86\" y=\"248.332074\"/>\n    </g>\n    <g clip-path=\"url(#p29738b820d)\">\n     <use style=\"fill:#2ca02c;\" x=\"316.110153\" xlink:href=\"#C2_0_bad4adac86\" y=\"248.332074\"/>\n    </g>\n    <g clip-path=\"url(#p29738b820d)\">\n     <use style=\"fill:#2ca02c;\" x=\"296.944014\" xlink:href=\"#C2_0_bad4adac86\" y=\"248.332074\"/>\n    </g>\n    <g clip-path=\"url(#p29738b820d)\">\n     <use style=\"fill:#2ca02c;\" x=\"321.551105\" xlink:href=\"#C2_0_bad4adac86\" y=\"248.332074\"/>\n    </g>\n    <g clip-path=\"url(#p29738b820d)\">\n     <use style=\"fill:#2ca02c;\" x=\"291.503062\" xlink:href=\"#C2_0_bad4adac86\" y=\"248.332074\"/>\n    </g>\n    <g clip-path=\"url(#p29738b820d)\">\n     <use style=\"fill:#2ca02c;\" x=\"286.06211\" xlink:href=\"#C2_0_bad4adac86\" y=\"248.332074\"/>\n    </g>\n    <g clip-path=\"url(#p29738b820d)\">\n     <use style=\"fill:#2ca02c;\" x=\"326.992057\" xlink:href=\"#C2_0_bad4adac86\" y=\"248.332074\"/>\n    </g>\n    <g clip-path=\"url(#p29738b820d)\">\n     <use style=\"fill:#2ca02c;\" x=\"280.621158\" xlink:href=\"#C2_0_bad4adac86\" y=\"248.332074\"/>\n    </g>\n    <g clip-path=\"url(#p29738b820d)\">\n     <use style=\"fill:#2ca02c;\" x=\"346.158196\" xlink:href=\"#C2_0_bad4adac86\" y=\"248.332074\"/>\n    </g>\n    <g clip-path=\"url(#p29738b820d)\">\n     <use style=\"fill:#2ca02c;\" x=\"349.030417\" xlink:href=\"#C2_0_bad4adac86\" y=\"248.332074\"/>\n    </g>\n    <g clip-path=\"url(#p29738b820d)\">\n     <use style=\"fill:#2ca02c;\" x=\"264.02375\" xlink:href=\"#C2_0_bad4adac86\" y=\"248.332074\"/>\n    </g>\n    <g clip-path=\"url(#p29738b820d)\">\n     <use style=\"fill:#2ca02c;\" x=\"264.02375\" xlink:href=\"#C2_0_bad4adac86\" y=\"248.332074\"/>\n    </g>\n    <g clip-path=\"url(#p29738b820d)\">\n     <use style=\"fill:#2ca02c;\" x=\"349.030417\" xlink:href=\"#C2_0_bad4adac86\" y=\"248.332074\"/>\n    </g>\n    <g clip-path=\"url(#p29738b820d)\">\n     <use style=\"fill:#2ca02c;\" x=\"264.02375\" xlink:href=\"#C2_0_bad4adac86\" y=\"248.332074\"/>\n    </g>\n    <g clip-path=\"url(#p29738b820d)\">\n     <use style=\"fill:#2ca02c;\" x=\"349.030417\" xlink:href=\"#C2_0_bad4adac86\" y=\"248.332074\"/>\n    </g>\n    <g clip-path=\"url(#p29738b820d)\">\n     <use style=\"fill:#2ca02c;\" x=\"264.02375\" xlink:href=\"#C2_0_bad4adac86\" y=\"248.332074\"/>\n    </g>\n    <g clip-path=\"url(#p29738b820d)\">\n     <use style=\"fill:#2ca02c;\" x=\"306.527083\" xlink:href=\"#C2_0_bad4adac86\" y=\"245.049132\"/>\n    </g>\n    <g clip-path=\"url(#p29738b820d)\">\n     <use style=\"fill:#2ca02c;\" x=\"301.086132\" xlink:href=\"#C2_0_bad4adac86\" y=\"245.049132\"/>\n    </g>\n    <g clip-path=\"url(#p29738b820d)\">\n     <use style=\"fill:#2ca02c;\" x=\"331.134175\" xlink:href=\"#C2_0_bad4adac86\" y=\"245.049132\"/>\n    </g>\n    <g clip-path=\"url(#p29738b820d)\">\n     <use style=\"fill:#2ca02c;\" x=\"336.575126\" xlink:href=\"#C2_0_bad4adac86\" y=\"245.049132\"/>\n    </g>\n    <g clip-path=\"url(#p29738b820d)\">\n     <use style=\"fill:#2ca02c;\" x=\"276.47904\" xlink:href=\"#C2_0_bad4adac86\" y=\"245.049132\"/>\n    </g>\n    <g clip-path=\"url(#p29738b820d)\">\n     <use style=\"fill:#2ca02c;\" x=\"271.038088\" xlink:href=\"#C2_0_bad4adac86\" y=\"245.049132\"/>\n    </g>\n    <g clip-path=\"url(#p29738b820d)\">\n     <use style=\"fill:#2ca02c;\" x=\"342.016078\" xlink:href=\"#C2_0_bad4adac86\" y=\"245.049132\"/>\n    </g>\n    <g clip-path=\"url(#p29738b820d)\">\n     <use style=\"fill:#2ca02c;\" x=\"265.597137\" xlink:href=\"#C2_0_bad4adac86\" y=\"245.049132\"/>\n    </g>\n    <g clip-path=\"url(#p29738b820d)\">\n     <use style=\"fill:#2ca02c;\" x=\"264.02375\" xlink:href=\"#C2_0_bad4adac86\" y=\"245.049132\"/>\n    </g>\n    <g clip-path=\"url(#p29738b820d)\">\n     <use style=\"fill:#2ca02c;\" x=\"349.030417\" xlink:href=\"#C2_0_bad4adac86\" y=\"245.049132\"/>\n    </g>\n    <g clip-path=\"url(#p29738b820d)\">\n     <use style=\"fill:#2ca02c;\" x=\"264.02375\" xlink:href=\"#C2_0_bad4adac86\" y=\"245.049132\"/>\n    </g>\n    <g clip-path=\"url(#p29738b820d)\">\n     <use style=\"fill:#2ca02c;\" x=\"349.030417\" xlink:href=\"#C2_0_bad4adac86\" y=\"245.049132\"/>\n    </g>\n    <g clip-path=\"url(#p29738b820d)\">\n     <use style=\"fill:#2ca02c;\" x=\"310.669201\" xlink:href=\"#C2_0_bad4adac86\" y=\"241.76619\"/>\n    </g>\n    <g clip-path=\"url(#p29738b820d)\">\n     <use style=\"fill:#2ca02c;\" x=\"316.110153\" xlink:href=\"#C2_0_bad4adac86\" y=\"241.76619\"/>\n    </g>\n    <g clip-path=\"url(#p29738b820d)\">\n     <use style=\"fill:#2ca02c;\" x=\"296.944014\" xlink:href=\"#C2_0_bad4adac86\" y=\"241.76619\"/>\n    </g>\n    <g clip-path=\"url(#p29738b820d)\">\n     <use style=\"fill:#2ca02c;\" x=\"321.551105\" xlink:href=\"#C2_0_bad4adac86\" y=\"241.76619\"/>\n    </g>\n    <g clip-path=\"url(#p29738b820d)\">\n     <use style=\"fill:#2ca02c;\" x=\"291.503062\" xlink:href=\"#C2_0_bad4adac86\" y=\"241.76619\"/>\n    </g>\n    <g clip-path=\"url(#p29738b820d)\">\n     <use style=\"fill:#2ca02c;\" x=\"326.992057\" xlink:href=\"#C2_0_bad4adac86\" y=\"241.76619\"/>\n    </g>\n    <g clip-path=\"url(#p29738b820d)\">\n     <use style=\"fill:#2ca02c;\" x=\"286.06211\" xlink:href=\"#C2_0_bad4adac86\" y=\"241.76619\"/>\n    </g>\n    <g clip-path=\"url(#p29738b820d)\">\n     <use style=\"fill:#2ca02c;\" x=\"306.527083\" xlink:href=\"#C2_0_bad4adac86\" y=\"238.483248\"/>\n    </g>\n    <g clip-path=\"url(#p29738b820d)\">\n     <use style=\"fill:#2ca02c;\" x=\"301.086132\" xlink:href=\"#C2_0_bad4adac86\" y=\"238.483248\"/>\n    </g>\n    <g clip-path=\"url(#p29738b820d)\">\n     <use style=\"fill:#2ca02c;\" x=\"331.134175\" xlink:href=\"#C2_0_bad4adac86\" y=\"238.483248\"/>\n    </g>\n    <g clip-path=\"url(#p29738b820d)\">\n     <use style=\"fill:#2ca02c;\" x=\"281.919992\" xlink:href=\"#C2_0_bad4adac86\" y=\"238.483248\"/>\n    </g>\n    <g clip-path=\"url(#p29738b820d)\">\n     <use style=\"fill:#2ca02c;\" x=\"276.47904\" xlink:href=\"#C2_0_bad4adac86\" y=\"238.483248\"/>\n    </g>\n    <g clip-path=\"url(#p29738b820d)\">\n     <use style=\"fill:#2ca02c;\" x=\"336.575126\" xlink:href=\"#C2_0_bad4adac86\" y=\"238.483248\"/>\n    </g>\n    <g clip-path=\"url(#p29738b820d)\">\n     <use style=\"fill:#2ca02c;\" x=\"271.038088\" xlink:href=\"#C2_0_bad4adac86\" y=\"238.483248\"/>\n    </g>\n    <g clip-path=\"url(#p29738b820d)\">\n     <use style=\"fill:#2ca02c;\" x=\"342.016078\" xlink:href=\"#C2_0_bad4adac86\" y=\"238.483248\"/>\n    </g>\n    <g clip-path=\"url(#p29738b820d)\">\n     <use style=\"fill:#2ca02c;\" x=\"310.669201\" xlink:href=\"#C2_0_bad4adac86\" y=\"235.200306\"/>\n    </g>\n    <g clip-path=\"url(#p29738b820d)\">\n     <use style=\"fill:#2ca02c;\" x=\"316.110153\" xlink:href=\"#C2_0_bad4adac86\" y=\"235.200306\"/>\n    </g>\n    <g clip-path=\"url(#p29738b820d)\">\n     <use style=\"fill:#2ca02c;\" x=\"296.944014\" xlink:href=\"#C2_0_bad4adac86\" y=\"235.200306\"/>\n    </g>\n    <g clip-path=\"url(#p29738b820d)\">\n     <use style=\"fill:#2ca02c;\" x=\"291.503062\" xlink:href=\"#C2_0_bad4adac86\" y=\"235.200306\"/>\n    </g>\n    <g clip-path=\"url(#p29738b820d)\">\n     <use style=\"fill:#2ca02c;\" x=\"321.551105\" xlink:href=\"#C2_0_bad4adac86\" y=\"235.200306\"/>\n    </g>\n    <g clip-path=\"url(#p29738b820d)\">\n     <use style=\"fill:#2ca02c;\" x=\"286.06211\" xlink:href=\"#C2_0_bad4adac86\" y=\"235.200306\"/>\n    </g>\n    <g clip-path=\"url(#p29738b820d)\">\n     <use style=\"fill:#2ca02c;\" x=\"326.992057\" xlink:href=\"#C2_0_bad4adac86\" y=\"235.200306\"/>\n    </g>\n    <g clip-path=\"url(#p29738b820d)\">\n     <use style=\"fill:#2ca02c;\" x=\"266.89597\" xlink:href=\"#C2_0_bad4adac86\" y=\"235.200306\"/>\n    </g>\n    <g clip-path=\"url(#p29738b820d)\">\n     <use style=\"fill:#2ca02c;\" x=\"346.158196\" xlink:href=\"#C2_0_bad4adac86\" y=\"235.200306\"/>\n    </g>\n    <g clip-path=\"url(#p29738b820d)\">\n     <use style=\"fill:#2ca02c;\" x=\"264.02375\" xlink:href=\"#C2_0_bad4adac86\" y=\"235.200306\"/>\n    </g>\n    <g clip-path=\"url(#p29738b820d)\">\n     <use style=\"fill:#2ca02c;\" x=\"349.030417\" xlink:href=\"#C2_0_bad4adac86\" y=\"235.200306\"/>\n    </g>\n    <g clip-path=\"url(#p29738b820d)\">\n     <use style=\"fill:#2ca02c;\" x=\"264.02375\" xlink:href=\"#C2_0_bad4adac86\" y=\"235.200306\"/>\n    </g>\n    <g clip-path=\"url(#p29738b820d)\">\n     <use style=\"fill:#2ca02c;\" x=\"306.527083\" xlink:href=\"#C2_0_bad4adac86\" y=\"231.917365\"/>\n    </g>\n    <g clip-path=\"url(#p29738b820d)\">\n     <use style=\"fill:#2ca02c;\" x=\"301.086132\" xlink:href=\"#C2_0_bad4adac86\" y=\"231.917365\"/>\n    </g>\n    <g clip-path=\"url(#p29738b820d)\">\n     <use style=\"fill:#2ca02c;\" x=\"331.134175\" xlink:href=\"#C2_0_bad4adac86\" y=\"231.917365\"/>\n    </g>\n    <g clip-path=\"url(#p29738b820d)\">\n     <use style=\"fill:#2ca02c;\" x=\"281.919992\" xlink:href=\"#C2_0_bad4adac86\" y=\"231.917365\"/>\n    </g>\n    <g clip-path=\"url(#p29738b820d)\">\n     <use style=\"fill:#2ca02c;\" x=\"336.575126\" xlink:href=\"#C2_0_bad4adac86\" y=\"231.917365\"/>\n    </g>\n    <g clip-path=\"url(#p29738b820d)\">\n     <use style=\"fill:#2ca02c;\" x=\"276.47904\" xlink:href=\"#C2_0_bad4adac86\" y=\"231.917365\"/>\n    </g>\n    <g clip-path=\"url(#p29738b820d)\">\n     <use style=\"fill:#2ca02c;\" x=\"342.016078\" xlink:href=\"#C2_0_bad4adac86\" y=\"231.917365\"/>\n    </g>\n    <g clip-path=\"url(#p29738b820d)\">\n     <use style=\"fill:#2ca02c;\" x=\"271.038088\" xlink:href=\"#C2_0_bad4adac86\" y=\"231.917365\"/>\n    </g>\n    <g clip-path=\"url(#p29738b820d)\">\n     <use style=\"fill:#2ca02c;\" x=\"310.669201\" xlink:href=\"#C2_0_bad4adac86\" y=\"228.634423\"/>\n    </g>\n    <g clip-path=\"url(#p29738b820d)\">\n     <use style=\"fill:#2ca02c;\" x=\"316.110153\" xlink:href=\"#C2_0_bad4adac86\" y=\"228.634423\"/>\n    </g>\n    <g clip-path=\"url(#p29738b820d)\">\n     <use style=\"fill:#2ca02c;\" x=\"296.944014\" xlink:href=\"#C2_0_bad4adac86\" y=\"228.634423\"/>\n    </g>\n    <g clip-path=\"url(#p29738b820d)\">\n     <use style=\"fill:#2ca02c;\" x=\"321.551105\" xlink:href=\"#C2_0_bad4adac86\" y=\"228.634423\"/>\n    </g>\n    <g clip-path=\"url(#p29738b820d)\">\n     <use style=\"fill:#2ca02c;\" x=\"291.503062\" xlink:href=\"#C2_0_bad4adac86\" y=\"228.634423\"/>\n    </g>\n    <g clip-path=\"url(#p29738b820d)\">\n     <use style=\"fill:#2ca02c;\" x=\"306.527083\" xlink:href=\"#C2_0_bad4adac86\" y=\"225.351481\"/>\n    </g>\n    <g clip-path=\"url(#p29738b820d)\">\n     <use style=\"fill:#2ca02c;\" x=\"301.086132\" xlink:href=\"#C2_0_bad4adac86\" y=\"225.351481\"/>\n    </g>\n    <g clip-path=\"url(#p29738b820d)\">\n     <use style=\"fill:#2ca02c;\" x=\"325.693223\" xlink:href=\"#C2_0_bad4adac86\" y=\"225.351481\"/>\n    </g>\n    <g clip-path=\"url(#p29738b820d)\">\n     <use style=\"fill:#2ca02c;\" x=\"287.360944\" xlink:href=\"#C2_0_bad4adac86\" y=\"225.351481\"/>\n    </g>\n    <g clip-path=\"url(#p29738b820d)\">\n     <use style=\"fill:#2ca02c;\" x=\"331.134175\" xlink:href=\"#C2_0_bad4adac86\" y=\"225.351481\"/>\n    </g>\n    <g clip-path=\"url(#p29738b820d)\">\n     <use style=\"fill:#2ca02c;\" x=\"281.919992\" xlink:href=\"#C2_0_bad4adac86\" y=\"225.351481\"/>\n    </g>\n    <g clip-path=\"url(#p29738b820d)\">\n     <use style=\"fill:#2ca02c;\" x=\"276.47904\" xlink:href=\"#C2_0_bad4adac86\" y=\"225.351481\"/>\n    </g>\n    <g clip-path=\"url(#p29738b820d)\">\n     <use style=\"fill:#2ca02c;\" x=\"336.575126\" xlink:href=\"#C2_0_bad4adac86\" y=\"225.351481\"/>\n    </g>\n    <g clip-path=\"url(#p29738b820d)\">\n     <use style=\"fill:#2ca02c;\" x=\"310.669201\" xlink:href=\"#C2_0_bad4adac86\" y=\"222.068539\"/>\n    </g>\n    <g clip-path=\"url(#p29738b820d)\">\n     <use style=\"fill:#2ca02c;\" x=\"316.110153\" xlink:href=\"#C2_0_bad4adac86\" y=\"222.068539\"/>\n    </g>\n    <g clip-path=\"url(#p29738b820d)\">\n     <use style=\"fill:#2ca02c;\" x=\"296.944014\" xlink:href=\"#C2_0_bad4adac86\" y=\"222.068539\"/>\n    </g>\n    <g clip-path=\"url(#p29738b820d)\">\n     <use style=\"fill:#2ca02c;\" x=\"306.527083\" xlink:href=\"#C2_0_bad4adac86\" y=\"218.785598\"/>\n    </g>\n    <g clip-path=\"url(#p29738b820d)\">\n     <use style=\"fill:#2ca02c;\" x=\"301.086132\" xlink:href=\"#C2_0_bad4adac86\" y=\"218.785598\"/>\n    </g>\n    <g clip-path=\"url(#p29738b820d)\">\n     <use style=\"fill:#2ca02c;\" x=\"320.252271\" xlink:href=\"#C2_0_bad4adac86\" y=\"218.785598\"/>\n    </g>\n    <g clip-path=\"url(#p29738b820d)\">\n     <use style=\"fill:#2ca02c;\" x=\"292.801895\" xlink:href=\"#C2_0_bad4adac86\" y=\"218.785598\"/>\n    </g>\n    <g clip-path=\"url(#p29738b820d)\">\n     <use style=\"fill:#2ca02c;\" x=\"325.693223\" xlink:href=\"#C2_0_bad4adac86\" y=\"218.785598\"/>\n    </g>\n    <g clip-path=\"url(#p29738b820d)\">\n     <use style=\"fill:#2ca02c;\" x=\"287.360944\" xlink:href=\"#C2_0_bad4adac86\" y=\"218.785598\"/>\n    </g>\n    <g clip-path=\"url(#p29738b820d)\">\n     <use style=\"fill:#2ca02c;\" x=\"331.134175\" xlink:href=\"#C2_0_bad4adac86\" y=\"218.785598\"/>\n    </g>\n    <g clip-path=\"url(#p29738b820d)\">\n     <use style=\"fill:#2ca02c;\" x=\"281.919992\" xlink:href=\"#C2_0_bad4adac86\" y=\"218.785598\"/>\n    </g>\n    <g clip-path=\"url(#p29738b820d)\">\n     <use style=\"fill:#2ca02c;\" x=\"310.669201\" xlink:href=\"#C2_0_bad4adac86\" y=\"215.502656\"/>\n    </g>\n    <g clip-path=\"url(#p29738b820d)\">\n     <use style=\"fill:#2ca02c;\" x=\"316.110153\" xlink:href=\"#C2_0_bad4adac86\" y=\"215.502656\"/>\n    </g>\n    <g clip-path=\"url(#p29738b820d)\">\n     <use style=\"fill:#2ca02c;\" x=\"296.944014\" xlink:href=\"#C2_0_bad4adac86\" y=\"215.502656\"/>\n    </g>\n    <g clip-path=\"url(#p29738b820d)\">\n     <use style=\"fill:#2ca02c;\" x=\"335.276293\" xlink:href=\"#C2_0_bad4adac86\" y=\"215.502656\"/>\n    </g>\n    <g clip-path=\"url(#p29738b820d)\">\n     <use style=\"fill:#2ca02c;\" x=\"277.777874\" xlink:href=\"#C2_0_bad4adac86\" y=\"215.502656\"/>\n    </g>\n    <g clip-path=\"url(#p29738b820d)\">\n     <use style=\"fill:#2ca02c;\" x=\"272.336922\" xlink:href=\"#C2_0_bad4adac86\" y=\"215.502656\"/>\n    </g>\n    <g clip-path=\"url(#p29738b820d)\">\n     <use style=\"fill:#2ca02c;\" x=\"340.717245\" xlink:href=\"#C2_0_bad4adac86\" y=\"215.502656\"/>\n    </g>\n    <g clip-path=\"url(#p29738b820d)\">\n     <use style=\"fill:#2ca02c;\" x=\"266.89597\" xlink:href=\"#C2_0_bad4adac86\" y=\"215.502656\"/>\n    </g>\n    <g clip-path=\"url(#p29738b820d)\">\n     <use style=\"fill:#2ca02c;\" x=\"346.158196\" xlink:href=\"#C2_0_bad4adac86\" y=\"215.502656\"/>\n    </g>\n    <g clip-path=\"url(#p29738b820d)\">\n     <use style=\"fill:#2ca02c;\" x=\"264.02375\" xlink:href=\"#C2_0_bad4adac86\" y=\"215.502656\"/>\n    </g>\n    <g clip-path=\"url(#p29738b820d)\">\n     <use style=\"fill:#2ca02c;\" x=\"349.030417\" xlink:href=\"#C2_0_bad4adac86\" y=\"215.502656\"/>\n    </g>\n    <g clip-path=\"url(#p29738b820d)\">\n     <use style=\"fill:#2ca02c;\" x=\"306.527083\" xlink:href=\"#C2_0_bad4adac86\" y=\"212.219714\"/>\n    </g>\n    <g clip-path=\"url(#p29738b820d)\">\n     <use style=\"fill:#2ca02c;\" x=\"301.086132\" xlink:href=\"#C2_0_bad4adac86\" y=\"212.219714\"/>\n    </g>\n    <g clip-path=\"url(#p29738b820d)\">\n     <use style=\"fill:#2ca02c;\" x=\"320.252271\" xlink:href=\"#C2_0_bad4adac86\" y=\"212.219714\"/>\n    </g>\n    <g clip-path=\"url(#p29738b820d)\">\n     <use style=\"fill:#2ca02c;\" x=\"310.669201\" xlink:href=\"#C2_0_bad4adac86\" y=\"208.936772\"/>\n    </g>\n    <g clip-path=\"url(#p29738b820d)\">\n     <use style=\"fill:#2ca02c;\" x=\"296.944014\" xlink:href=\"#C2_0_bad4adac86\" y=\"208.936772\"/>\n    </g>\n    <g clip-path=\"url(#p29738b820d)\">\n     <use style=\"fill:#2ca02c;\" x=\"316.110153\" xlink:href=\"#C2_0_bad4adac86\" y=\"208.936772\"/>\n    </g>\n    <g clip-path=\"url(#p29738b820d)\">\n     <use style=\"fill:#2ca02c;\" x=\"291.503062\" xlink:href=\"#C2_0_bad4adac86\" y=\"208.936772\"/>\n    </g>\n    <g clip-path=\"url(#p29738b820d)\">\n     <use style=\"fill:#2ca02c;\" x=\"324.394389\" xlink:href=\"#C2_0_bad4adac86\" y=\"208.936772\"/>\n    </g>\n    <g clip-path=\"url(#p29738b820d)\">\n     <use style=\"fill:#2ca02c;\" x=\"286.06211\" xlink:href=\"#C2_0_bad4adac86\" y=\"208.936772\"/>\n    </g>\n    <g clip-path=\"url(#p29738b820d)\">\n     <use style=\"fill:#2ca02c;\" x=\"306.527083\" xlink:href=\"#C2_0_bad4adac86\" y=\"205.65383\"/>\n    </g>\n    <g clip-path=\"url(#p29738b820d)\">\n     <use style=\"fill:#2ca02c;\" x=\"301.086132\" xlink:href=\"#C2_0_bad4adac86\" y=\"205.65383\"/>\n    </g>\n    <g clip-path=\"url(#p29738b820d)\">\n     <use style=\"fill:#2ca02c;\" x=\"320.252271\" xlink:href=\"#C2_0_bad4adac86\" y=\"205.65383\"/>\n    </g>\n    <g clip-path=\"url(#p29738b820d)\">\n     <use style=\"fill:#2ca02c;\" x=\"328.536507\" xlink:href=\"#C2_0_bad4adac86\" y=\"205.65383\"/>\n    </g>\n    <g clip-path=\"url(#p29738b820d)\">\n     <use style=\"fill:#2ca02c;\" x=\"281.919992\" xlink:href=\"#C2_0_bad4adac86\" y=\"205.65383\"/>\n    </g>\n    <g clip-path=\"url(#p29738b820d)\">\n     <use style=\"fill:#2ca02c;\" x=\"310.669201\" xlink:href=\"#C2_0_bad4adac86\" y=\"202.370889\"/>\n    </g>\n    <g clip-path=\"url(#p29738b820d)\">\n     <use style=\"fill:#2ca02c;\" x=\"296.944014\" xlink:href=\"#C2_0_bad4adac86\" y=\"202.370889\"/>\n    </g>\n    <g clip-path=\"url(#p29738b820d)\">\n     <use style=\"fill:#2ca02c;\" x=\"316.110153\" xlink:href=\"#C2_0_bad4adac86\" y=\"202.370889\"/>\n    </g>\n    <g clip-path=\"url(#p29738b820d)\">\n     <use style=\"fill:#2ca02c;\" x=\"291.503062\" xlink:href=\"#C2_0_bad4adac86\" y=\"202.370889\"/>\n    </g>\n    <g clip-path=\"url(#p29738b820d)\">\n     <use style=\"fill:#2ca02c;\" x=\"324.394389\" xlink:href=\"#C2_0_bad4adac86\" y=\"202.370889\"/>\n    </g>\n    <g clip-path=\"url(#p29738b820d)\">\n     <use style=\"fill:#2ca02c;\" x=\"286.06211\" xlink:href=\"#C2_0_bad4adac86\" y=\"202.370889\"/>\n    </g>\n    <g clip-path=\"url(#p29738b820d)\">\n     <use style=\"fill:#2ca02c;\" x=\"332.678625\" xlink:href=\"#C2_0_bad4adac86\" y=\"202.370889\"/>\n    </g>\n    <g clip-path=\"url(#p29738b820d)\">\n     <use style=\"fill:#2ca02c;\" x=\"277.777874\" xlink:href=\"#C2_0_bad4adac86\" y=\"202.370889\"/>\n    </g>\n    <g clip-path=\"url(#p29738b820d)\">\n     <use style=\"fill:#2ca02c;\" x=\"338.119577\" xlink:href=\"#C2_0_bad4adac86\" y=\"202.370889\"/>\n    </g>\n    <g clip-path=\"url(#p29738b820d)\">\n     <use style=\"fill:#2ca02c;\" x=\"272.336922\" xlink:href=\"#C2_0_bad4adac86\" y=\"202.370889\"/>\n    </g>\n    <g clip-path=\"url(#p29738b820d)\">\n     <use style=\"fill:#2ca02c;\" x=\"306.527083\" xlink:href=\"#C2_0_bad4adac86\" y=\"199.087947\"/>\n    </g>\n    <g clip-path=\"url(#p29738b820d)\">\n     <use style=\"fill:#2ca02c;\" x=\"301.086132\" xlink:href=\"#C2_0_bad4adac86\" y=\"199.087947\"/>\n    </g>\n    <g clip-path=\"url(#p29738b820d)\">\n     <use style=\"fill:#2ca02c;\" x=\"320.252271\" xlink:href=\"#C2_0_bad4adac86\" y=\"199.087947\"/>\n    </g>\n    <g clip-path=\"url(#p29738b820d)\">\n     <use style=\"fill:#2ca02c;\" x=\"328.536507\" xlink:href=\"#C2_0_bad4adac86\" y=\"199.087947\"/>\n    </g>\n    <g clip-path=\"url(#p29738b820d)\">\n     <use style=\"fill:#2ca02c;\" x=\"281.919992\" xlink:href=\"#C2_0_bad4adac86\" y=\"199.087947\"/>\n    </g>\n    <g clip-path=\"url(#p29738b820d)\">\n     <use style=\"fill:#2ca02c;\" x=\"310.669201\" xlink:href=\"#C2_0_bad4adac86\" y=\"195.805005\"/>\n    </g>\n    <g clip-path=\"url(#p29738b820d)\">\n     <use style=\"fill:#2ca02c;\" x=\"296.944014\" xlink:href=\"#C2_0_bad4adac86\" y=\"195.805005\"/>\n    </g>\n    <g clip-path=\"url(#p29738b820d)\">\n     <use style=\"fill:#2ca02c;\" x=\"316.110153\" xlink:href=\"#C2_0_bad4adac86\" y=\"195.805005\"/>\n    </g>\n    <g clip-path=\"url(#p29738b820d)\">\n     <use style=\"fill:#2ca02c;\" x=\"291.503062\" xlink:href=\"#C2_0_bad4adac86\" y=\"195.805005\"/>\n    </g>\n    <g clip-path=\"url(#p29738b820d)\">\n     <use style=\"fill:#2ca02c;\" x=\"324.394389\" xlink:href=\"#C2_0_bad4adac86\" y=\"195.805005\"/>\n    </g>\n    <g clip-path=\"url(#p29738b820d)\">\n     <use style=\"fill:#2ca02c;\" x=\"286.06211\" xlink:href=\"#C2_0_bad4adac86\" y=\"195.805005\"/>\n    </g>\n    <g clip-path=\"url(#p29738b820d)\">\n     <use style=\"fill:#2ca02c;\" x=\"332.678625\" xlink:href=\"#C2_0_bad4adac86\" y=\"195.805005\"/>\n    </g>\n    <g clip-path=\"url(#p29738b820d)\">\n     <use style=\"fill:#2ca02c;\" x=\"277.777874\" xlink:href=\"#C2_0_bad4adac86\" y=\"195.805005\"/>\n    </g>\n    <g clip-path=\"url(#p29738b820d)\">\n     <use style=\"fill:#2ca02c;\" x=\"306.527083\" xlink:href=\"#C2_0_bad4adac86\" y=\"192.522063\"/>\n    </g>\n    <g clip-path=\"url(#p29738b820d)\">\n     <use style=\"fill:#2ca02c;\" x=\"301.086132\" xlink:href=\"#C2_0_bad4adac86\" y=\"192.522063\"/>\n    </g>\n    <g clip-path=\"url(#p29738b820d)\">\n     <use style=\"fill:#2ca02c;\" x=\"320.252271\" xlink:href=\"#C2_0_bad4adac86\" y=\"192.522063\"/>\n    </g>\n    <g clip-path=\"url(#p29738b820d)\">\n     <use style=\"fill:#2ca02c;\" x=\"328.536507\" xlink:href=\"#C2_0_bad4adac86\" y=\"192.522063\"/>\n    </g>\n    <g clip-path=\"url(#p29738b820d)\">\n     <use style=\"fill:#2ca02c;\" x=\"281.919992\" xlink:href=\"#C2_0_bad4adac86\" y=\"192.522063\"/>\n    </g>\n    <g clip-path=\"url(#p29738b820d)\">\n     <use style=\"fill:#2ca02c;\" x=\"336.820743\" xlink:href=\"#C2_0_bad4adac86\" y=\"192.522063\"/>\n    </g>\n    <g clip-path=\"url(#p29738b820d)\">\n     <use style=\"fill:#2ca02c;\" x=\"273.635756\" xlink:href=\"#C2_0_bad4adac86\" y=\"192.522063\"/>\n    </g>\n    <g clip-path=\"url(#p29738b820d)\">\n     <use style=\"fill:#2ca02c;\" x=\"342.261695\" xlink:href=\"#C2_0_bad4adac86\" y=\"192.522063\"/>\n    </g>\n    <g clip-path=\"url(#p29738b820d)\">\n     <use style=\"fill:#2ca02c;\" x=\"268.194804\" xlink:href=\"#C2_0_bad4adac86\" y=\"192.522063\"/>\n    </g>\n    <g clip-path=\"url(#p29738b820d)\">\n     <use style=\"fill:#2ca02c;\" x=\"347.702647\" xlink:href=\"#C2_0_bad4adac86\" y=\"192.522063\"/>\n    </g>\n    <g clip-path=\"url(#p29738b820d)\">\n     <use style=\"fill:#2ca02c;\" x=\"264.02375\" xlink:href=\"#C2_0_bad4adac86\" y=\"192.522063\"/>\n    </g>\n    <g clip-path=\"url(#p29738b820d)\">\n     <use style=\"fill:#2ca02c;\" x=\"349.030417\" xlink:href=\"#C2_0_bad4adac86\" y=\"192.522063\"/>\n    </g>\n    <g clip-path=\"url(#p29738b820d)\">\n     <use style=\"fill:#2ca02c;\" x=\"310.669201\" xlink:href=\"#C2_0_bad4adac86\" y=\"189.239122\"/>\n    </g>\n    <g clip-path=\"url(#p29738b820d)\">\n     <use style=\"fill:#2ca02c;\" x=\"296.944014\" xlink:href=\"#C2_0_bad4adac86\" y=\"189.239122\"/>\n    </g>\n    <g clip-path=\"url(#p29738b820d)\">\n     <use style=\"fill:#2ca02c;\" x=\"316.110153\" xlink:href=\"#C2_0_bad4adac86\" y=\"189.239122\"/>\n    </g>\n    <g clip-path=\"url(#p29738b820d)\">\n     <use style=\"fill:#2ca02c;\" x=\"291.503062\" xlink:href=\"#C2_0_bad4adac86\" y=\"189.239122\"/>\n    </g>\n    <g clip-path=\"url(#p29738b820d)\">\n     <use style=\"fill:#2ca02c;\" x=\"324.394389\" xlink:href=\"#C2_0_bad4adac86\" y=\"189.239122\"/>\n    </g>\n    <g clip-path=\"url(#p29738b820d)\">\n     <use style=\"fill:#2ca02c;\" x=\"286.06211\" xlink:href=\"#C2_0_bad4adac86\" y=\"189.239122\"/>\n    </g>\n    <g clip-path=\"url(#p29738b820d)\">\n     <use style=\"fill:#2ca02c;\" x=\"332.678625\" xlink:href=\"#C2_0_bad4adac86\" y=\"189.239122\"/>\n    </g>\n    <g clip-path=\"url(#p29738b820d)\">\n     <use style=\"fill:#2ca02c;\" x=\"277.777874\" xlink:href=\"#C2_0_bad4adac86\" y=\"189.239122\"/>\n    </g>\n    <g clip-path=\"url(#p29738b820d)\">\n     <use style=\"fill:#2ca02c;\" x=\"306.527083\" xlink:href=\"#C2_0_bad4adac86\" y=\"185.95618\"/>\n    </g>\n    <g clip-path=\"url(#p29738b820d)\">\n     <use style=\"fill:#2ca02c;\" x=\"301.086132\" xlink:href=\"#C2_0_bad4adac86\" y=\"185.95618\"/>\n    </g>\n    <g clip-path=\"url(#p29738b820d)\">\n     <use style=\"fill:#2ca02c;\" x=\"320.252271\" xlink:href=\"#C2_0_bad4adac86\" y=\"185.95618\"/>\n    </g>\n    <g clip-path=\"url(#p29738b820d)\">\n     <use style=\"fill:#2ca02c;\" x=\"328.536507\" xlink:href=\"#C2_0_bad4adac86\" y=\"185.95618\"/>\n    </g>\n    <g clip-path=\"url(#p29738b820d)\">\n     <use style=\"fill:#2ca02c;\" x=\"281.919992\" xlink:href=\"#C2_0_bad4adac86\" y=\"185.95618\"/>\n    </g>\n    <g clip-path=\"url(#p29738b820d)\">\n     <use style=\"fill:#2ca02c;\" x=\"336.820743\" xlink:href=\"#C2_0_bad4adac86\" y=\"185.95618\"/>\n    </g>\n    <g clip-path=\"url(#p29738b820d)\">\n     <use style=\"fill:#2ca02c;\" x=\"273.635756\" xlink:href=\"#C2_0_bad4adac86\" y=\"185.95618\"/>\n    </g>\n    <g clip-path=\"url(#p29738b820d)\">\n     <use style=\"fill:#2ca02c;\" x=\"310.669201\" xlink:href=\"#C2_0_bad4adac86\" y=\"182.673238\"/>\n    </g>\n    <g clip-path=\"url(#p29738b820d)\">\n     <use style=\"fill:#2ca02c;\" x=\"296.944014\" xlink:href=\"#C2_0_bad4adac86\" y=\"182.673238\"/>\n    </g>\n    <g clip-path=\"url(#p29738b820d)\">\n     <use style=\"fill:#2ca02c;\" x=\"306.527083\" xlink:href=\"#C2_0_bad4adac86\" y=\"179.390296\"/>\n    </g>\n    <g clip-path=\"url(#p29738b820d)\">\n     <use style=\"fill:#2ca02c;\" x=\"301.086132\" xlink:href=\"#C2_0_bad4adac86\" y=\"179.390296\"/>\n    </g>\n    <g clip-path=\"url(#p29738b820d)\">\n     <use style=\"fill:#2ca02c;\" x=\"314.811319\" xlink:href=\"#C2_0_bad4adac86\" y=\"179.390296\"/>\n    </g>\n    <g clip-path=\"url(#p29738b820d)\">\n     <use style=\"fill:#2ca02c;\" x=\"292.801895\" xlink:href=\"#C2_0_bad4adac86\" y=\"179.390296\"/>\n    </g>\n    <g clip-path=\"url(#p29738b820d)\">\n     <use style=\"fill:#2ca02c;\" x=\"320.252271\" xlink:href=\"#C2_0_bad4adac86\" y=\"179.390296\"/>\n    </g>\n    <g clip-path=\"url(#p29738b820d)\">\n     <use style=\"fill:#2ca02c;\" x=\"287.360944\" xlink:href=\"#C2_0_bad4adac86\" y=\"179.390296\"/>\n    </g>\n    <g clip-path=\"url(#p29738b820d)\">\n     <use style=\"fill:#2ca02c;\" x=\"310.669201\" xlink:href=\"#C2_0_bad4adac86\" y=\"176.107354\"/>\n    </g>\n    <g clip-path=\"url(#p29738b820d)\">\n     <use style=\"fill:#2ca02c;\" x=\"296.944014\" xlink:href=\"#C2_0_bad4adac86\" y=\"176.107354\"/>\n    </g>\n    <g clip-path=\"url(#p29738b820d)\">\n     <use style=\"fill:#2ca02c;\" x=\"306.527083\" xlink:href=\"#C2_0_bad4adac86\" y=\"172.824413\"/>\n    </g>\n    <g clip-path=\"url(#p29738b820d)\">\n     <use style=\"fill:#2ca02c;\" x=\"301.086132\" xlink:href=\"#C2_0_bad4adac86\" y=\"172.824413\"/>\n    </g>\n    <g clip-path=\"url(#p29738b820d)\">\n     <use style=\"fill:#2ca02c;\" x=\"314.811319\" xlink:href=\"#C2_0_bad4adac86\" y=\"172.824413\"/>\n    </g>\n    <g clip-path=\"url(#p29738b820d)\">\n     <use style=\"fill:#2ca02c;\" x=\"292.801895\" xlink:href=\"#C2_0_bad4adac86\" y=\"172.824413\"/>\n    </g>\n    <g clip-path=\"url(#p29738b820d)\">\n     <use style=\"fill:#2ca02c;\" x=\"320.252271\" xlink:href=\"#C2_0_bad4adac86\" y=\"172.824413\"/>\n    </g>\n    <g clip-path=\"url(#p29738b820d)\">\n     <use style=\"fill:#2ca02c;\" x=\"287.360944\" xlink:href=\"#C2_0_bad4adac86\" y=\"172.824413\"/>\n    </g>\n    <g clip-path=\"url(#p29738b820d)\">\n     <use style=\"fill:#2ca02c;\" x=\"325.693223\" xlink:href=\"#C2_0_bad4adac86\" y=\"172.824413\"/>\n    </g>\n    <g clip-path=\"url(#p29738b820d)\">\n     <use style=\"fill:#2ca02c;\" x=\"310.669201\" xlink:href=\"#C2_0_bad4adac86\" y=\"169.541471\"/>\n    </g>\n    <g clip-path=\"url(#p29738b820d)\">\n     <use style=\"fill:#2ca02c;\" x=\"296.944014\" xlink:href=\"#C2_0_bad4adac86\" y=\"169.541471\"/>\n    </g>\n    <g clip-path=\"url(#p29738b820d)\">\n     <use style=\"fill:#2ca02c;\" x=\"283.218826\" xlink:href=\"#C2_0_bad4adac86\" y=\"169.541471\"/>\n    </g>\n    <g clip-path=\"url(#p29738b820d)\">\n     <use style=\"fill:#2ca02c;\" x=\"329.835341\" xlink:href=\"#C2_0_bad4adac86\" y=\"169.541471\"/>\n    </g>\n    <g clip-path=\"url(#p29738b820d)\">\n     <use style=\"fill:#2ca02c;\" x=\"277.777874\" xlink:href=\"#C2_0_bad4adac86\" y=\"169.541471\"/>\n    </g>\n    <g clip-path=\"url(#p29738b820d)\">\n     <use style=\"fill:#2ca02c;\" x=\"335.276293\" xlink:href=\"#C2_0_bad4adac86\" y=\"169.541471\"/>\n    </g>\n    <g clip-path=\"url(#p29738b820d)\">\n     <use style=\"fill:#2ca02c;\" x=\"272.336922\" xlink:href=\"#C2_0_bad4adac86\" y=\"169.541471\"/>\n    </g>\n    <g clip-path=\"url(#p29738b820d)\">\n     <use style=\"fill:#2ca02c;\" x=\"340.717245\" xlink:href=\"#C2_0_bad4adac86\" y=\"169.541471\"/>\n    </g>\n    <g clip-path=\"url(#p29738b820d)\">\n     <use style=\"fill:#2ca02c;\" x=\"306.527083\" xlink:href=\"#C2_0_bad4adac86\" y=\"166.258529\"/>\n    </g>\n    <g clip-path=\"url(#p29738b820d)\">\n     <use style=\"fill:#2ca02c;\" x=\"301.086132\" xlink:href=\"#C2_0_bad4adac86\" y=\"166.258529\"/>\n    </g>\n    <g clip-path=\"url(#p29738b820d)\">\n     <use style=\"fill:#2ca02c;\" x=\"314.811319\" xlink:href=\"#C2_0_bad4adac86\" y=\"166.258529\"/>\n    </g>\n    <g clip-path=\"url(#p29738b820d)\">\n     <use style=\"fill:#2ca02c;\" x=\"292.801895\" xlink:href=\"#C2_0_bad4adac86\" y=\"166.258529\"/>\n    </g>\n    <g clip-path=\"url(#p29738b820d)\">\n     <use style=\"fill:#2ca02c;\" x=\"320.252271\" xlink:href=\"#C2_0_bad4adac86\" y=\"166.258529\"/>\n    </g>\n    <g clip-path=\"url(#p29738b820d)\">\n     <use style=\"fill:#2ca02c;\" x=\"287.360944\" xlink:href=\"#C2_0_bad4adac86\" y=\"166.258529\"/>\n    </g>\n    <g clip-path=\"url(#p29738b820d)\">\n     <use style=\"fill:#2ca02c;\" x=\"310.669201\" xlink:href=\"#C2_0_bad4adac86\" y=\"162.975587\"/>\n    </g>\n    <g clip-path=\"url(#p29738b820d)\">\n     <use style=\"fill:#2ca02c;\" x=\"296.944014\" xlink:href=\"#C2_0_bad4adac86\" y=\"162.975587\"/>\n    </g>\n    <g clip-path=\"url(#p29738b820d)\">\n     <use style=\"fill:#2ca02c;\" x=\"324.394389\" xlink:href=\"#C2_0_bad4adac86\" y=\"162.975587\"/>\n    </g>\n    <g clip-path=\"url(#p29738b820d)\">\n     <use style=\"fill:#2ca02c;\" x=\"283.218826\" xlink:href=\"#C2_0_bad4adac86\" y=\"162.975587\"/>\n    </g>\n    <g clip-path=\"url(#p29738b820d)\">\n     <use style=\"fill:#2ca02c;\" x=\"329.835341\" xlink:href=\"#C2_0_bad4adac86\" y=\"162.975587\"/>\n    </g>\n    <g clip-path=\"url(#p29738b820d)\">\n     <use style=\"fill:#2ca02c;\" x=\"306.527083\" xlink:href=\"#C2_0_bad4adac86\" y=\"159.692646\"/>\n    </g>\n    <g clip-path=\"url(#p29738b820d)\">\n     <use style=\"fill:#2ca02c;\" x=\"301.086132\" xlink:href=\"#C2_0_bad4adac86\" y=\"159.692646\"/>\n    </g>\n    <g clip-path=\"url(#p29738b820d)\">\n     <use style=\"fill:#2ca02c;\" x=\"314.811319\" xlink:href=\"#C2_0_bad4adac86\" y=\"159.692646\"/>\n    </g>\n    <g clip-path=\"url(#p29738b820d)\">\n     <use style=\"fill:#2ca02c;\" x=\"292.801895\" xlink:href=\"#C2_0_bad4adac86\" y=\"159.692646\"/>\n    </g>\n    <g clip-path=\"url(#p29738b820d)\">\n     <use style=\"fill:#2ca02c;\" x=\"320.252271\" xlink:href=\"#C2_0_bad4adac86\" y=\"159.692646\"/>\n    </g>\n    <g clip-path=\"url(#p29738b820d)\">\n     <use style=\"fill:#2ca02c;\" x=\"287.360944\" xlink:href=\"#C2_0_bad4adac86\" y=\"159.692646\"/>\n    </g>\n    <g clip-path=\"url(#p29738b820d)\">\n     <use style=\"fill:#2ca02c;\" x=\"279.076708\" xlink:href=\"#C2_0_bad4adac86\" y=\"159.692646\"/>\n    </g>\n    <g clip-path=\"url(#p29738b820d)\">\n     <use style=\"fill:#2ca02c;\" x=\"333.977459\" xlink:href=\"#C2_0_bad4adac86\" y=\"159.692646\"/>\n    </g>\n    <g clip-path=\"url(#p29738b820d)\">\n     <use style=\"fill:#2ca02c;\" x=\"273.635756\" xlink:href=\"#C2_0_bad4adac86\" y=\"159.692646\"/>\n    </g>\n    <g clip-path=\"url(#p29738b820d)\">\n     <use style=\"fill:#2ca02c;\" x=\"339.418411\" xlink:href=\"#C2_0_bad4adac86\" y=\"159.692646\"/>\n    </g>\n    <g clip-path=\"url(#p29738b820d)\">\n     <use style=\"fill:#2ca02c;\" x=\"310.669201\" xlink:href=\"#C2_0_bad4adac86\" y=\"156.409704\"/>\n    </g>\n    <g clip-path=\"url(#p29738b820d)\">\n     <use style=\"fill:#2ca02c;\" x=\"296.944014\" xlink:href=\"#C2_0_bad4adac86\" y=\"156.409704\"/>\n    </g>\n    <g clip-path=\"url(#p29738b820d)\">\n     <use style=\"fill:#2ca02c;\" x=\"324.394389\" xlink:href=\"#C2_0_bad4adac86\" y=\"156.409704\"/>\n    </g>\n    <g clip-path=\"url(#p29738b820d)\">\n     <use style=\"fill:#2ca02c;\" x=\"283.218826\" xlink:href=\"#C2_0_bad4adac86\" y=\"156.409704\"/>\n    </g>\n    <g clip-path=\"url(#p29738b820d)\">\n     <use style=\"fill:#2ca02c;\" x=\"306.527083\" xlink:href=\"#C2_0_bad4adac86\" y=\"153.126762\"/>\n    </g>\n    <g clip-path=\"url(#p29738b820d)\">\n     <use style=\"fill:#2ca02c;\" x=\"301.086132\" xlink:href=\"#C2_0_bad4adac86\" y=\"153.126762\"/>\n    </g>\n    <g clip-path=\"url(#p29738b820d)\">\n     <use style=\"fill:#2ca02c;\" x=\"314.811319\" xlink:href=\"#C2_0_bad4adac86\" y=\"153.126762\"/>\n    </g>\n    <g clip-path=\"url(#p29738b820d)\">\n     <use style=\"fill:#2ca02c;\" x=\"292.801895\" xlink:href=\"#C2_0_bad4adac86\" y=\"153.126762\"/>\n    </g>\n    <g clip-path=\"url(#p29738b820d)\">\n     <use style=\"fill:#2ca02c;\" x=\"320.252271\" xlink:href=\"#C2_0_bad4adac86\" y=\"153.126762\"/>\n    </g>\n    <g clip-path=\"url(#p29738b820d)\">\n     <use style=\"fill:#2ca02c;\" x=\"287.360944\" xlink:href=\"#C2_0_bad4adac86\" y=\"153.126762\"/>\n    </g>\n    <g clip-path=\"url(#p29738b820d)\">\n     <use style=\"fill:#2ca02c;\" x=\"328.536507\" xlink:href=\"#C2_0_bad4adac86\" y=\"153.126762\"/>\n    </g>\n    <g clip-path=\"url(#p29738b820d)\">\n     <use style=\"fill:#2ca02c;\" x=\"310.669201\" xlink:href=\"#C2_0_bad4adac86\" y=\"149.84382\"/>\n    </g>\n    <g clip-path=\"url(#p29738b820d)\">\n     <use style=\"fill:#2ca02c;\" x=\"296.944014\" xlink:href=\"#C2_0_bad4adac86\" y=\"149.84382\"/>\n    </g>\n    <g clip-path=\"url(#p29738b820d)\">\n     <use style=\"fill:#2ca02c;\" x=\"324.394389\" xlink:href=\"#C2_0_bad4adac86\" y=\"149.84382\"/>\n    </g>\n    <g clip-path=\"url(#p29738b820d)\">\n     <use style=\"fill:#2ca02c;\" x=\"283.218826\" xlink:href=\"#C2_0_bad4adac86\" y=\"149.84382\"/>\n    </g>\n    <g clip-path=\"url(#p29738b820d)\">\n     <use style=\"fill:#2ca02c;\" x=\"306.527083\" xlink:href=\"#C2_0_bad4adac86\" y=\"146.560878\"/>\n    </g>\n    <g clip-path=\"url(#p29738b820d)\">\n     <use style=\"fill:#2ca02c;\" x=\"301.086132\" xlink:href=\"#C2_0_bad4adac86\" y=\"146.560878\"/>\n    </g>\n    <g clip-path=\"url(#p29738b820d)\">\n     <use style=\"fill:#2ca02c;\" x=\"310.669201\" xlink:href=\"#C2_0_bad4adac86\" y=\"143.277937\"/>\n    </g>\n    <g clip-path=\"url(#p29738b820d)\">\n     <use style=\"fill:#2ca02c;\" x=\"296.944014\" xlink:href=\"#C2_0_bad4adac86\" y=\"143.277937\"/>\n    </g>\n    <g clip-path=\"url(#p29738b820d)\">\n     <use style=\"fill:#2ca02c;\" x=\"316.110153\" xlink:href=\"#C2_0_bad4adac86\" y=\"143.277937\"/>\n    </g>\n    <g clip-path=\"url(#p29738b820d)\">\n     <use style=\"fill:#2ca02c;\" x=\"291.503062\" xlink:href=\"#C2_0_bad4adac86\" y=\"143.277937\"/>\n    </g>\n    <g clip-path=\"url(#p29738b820d)\">\n     <use style=\"fill:#2ca02c;\" x=\"306.527083\" xlink:href=\"#C2_0_bad4adac86\" y=\"139.994995\"/>\n    </g>\n    <g clip-path=\"url(#p29738b820d)\">\n     <use style=\"fill:#2ca02c;\" x=\"301.086132\" xlink:href=\"#C2_0_bad4adac86\" y=\"139.994995\"/>\n    </g>\n    <g clip-path=\"url(#p29738b820d)\">\n     <use style=\"fill:#2ca02c;\" x=\"320.252271\" xlink:href=\"#C2_0_bad4adac86\" y=\"139.994995\"/>\n    </g>\n    <g clip-path=\"url(#p29738b820d)\">\n     <use style=\"fill:#2ca02c;\" x=\"287.360944\" xlink:href=\"#C2_0_bad4adac86\" y=\"139.994995\"/>\n    </g>\n    <g clip-path=\"url(#p29738b820d)\">\n     <use style=\"fill:#2ca02c;\" x=\"310.669201\" xlink:href=\"#C2_0_bad4adac86\" y=\"136.712053\"/>\n    </g>\n    <g clip-path=\"url(#p29738b820d)\">\n     <use style=\"fill:#2ca02c;\" x=\"296.944014\" xlink:href=\"#C2_0_bad4adac86\" y=\"136.712053\"/>\n    </g>\n    <g clip-path=\"url(#p29738b820d)\">\n     <use style=\"fill:#2ca02c;\" x=\"316.110153\" xlink:href=\"#C2_0_bad4adac86\" y=\"136.712053\"/>\n    </g>\n    <g clip-path=\"url(#p29738b820d)\">\n     <use style=\"fill:#2ca02c;\" x=\"291.503062\" xlink:href=\"#C2_0_bad4adac86\" y=\"136.712053\"/>\n    </g>\n    <g clip-path=\"url(#p29738b820d)\">\n     <use style=\"fill:#2ca02c;\" x=\"324.394389\" xlink:href=\"#C2_0_bad4adac86\" y=\"136.712053\"/>\n    </g>\n    <g clip-path=\"url(#p29738b820d)\">\n     <use style=\"fill:#2ca02c;\" x=\"283.218826\" xlink:href=\"#C2_0_bad4adac86\" y=\"136.712053\"/>\n    </g>\n    <g clip-path=\"url(#p29738b820d)\">\n     <use style=\"fill:#2ca02c;\" x=\"329.835341\" xlink:href=\"#C2_0_bad4adac86\" y=\"136.712053\"/>\n    </g>\n    <g clip-path=\"url(#p29738b820d)\">\n     <use style=\"fill:#2ca02c;\" x=\"277.777874\" xlink:href=\"#C2_0_bad4adac86\" y=\"136.712053\"/>\n    </g>\n    <g clip-path=\"url(#p29738b820d)\">\n     <use style=\"fill:#2ca02c;\" x=\"306.527083\" xlink:href=\"#C2_0_bad4adac86\" y=\"133.429111\"/>\n    </g>\n    <g clip-path=\"url(#p29738b820d)\">\n     <use style=\"fill:#2ca02c;\" x=\"301.086132\" xlink:href=\"#C2_0_bad4adac86\" y=\"133.429111\"/>\n    </g>\n    <g clip-path=\"url(#p29738b820d)\">\n     <use style=\"fill:#2ca02c;\" x=\"320.252271\" xlink:href=\"#C2_0_bad4adac86\" y=\"133.429111\"/>\n    </g>\n    <g clip-path=\"url(#p29738b820d)\">\n     <use style=\"fill:#2ca02c;\" x=\"287.360944\" xlink:href=\"#C2_0_bad4adac86\" y=\"133.429111\"/>\n    </g>\n    <g clip-path=\"url(#p29738b820d)\">\n     <use style=\"fill:#2ca02c;\" x=\"333.977459\" xlink:href=\"#C2_0_bad4adac86\" y=\"133.429111\"/>\n    </g>\n    <g clip-path=\"url(#p29738b820d)\">\n     <use style=\"fill:#2ca02c;\" x=\"310.669201\" xlink:href=\"#C2_0_bad4adac86\" y=\"130.14617\"/>\n    </g>\n    <g clip-path=\"url(#p29738b820d)\">\n     <use style=\"fill:#2ca02c;\" x=\"306.527083\" xlink:href=\"#C2_0_bad4adac86\" y=\"126.863228\"/>\n    </g>\n    <g clip-path=\"url(#p29738b820d)\">\n     <use style=\"fill:#2ca02c;\" x=\"301.086132\" xlink:href=\"#C2_0_bad4adac86\" y=\"126.863228\"/>\n    </g>\n    <g clip-path=\"url(#p29738b820d)\">\n     <use style=\"fill:#2ca02c;\" x=\"314.811319\" xlink:href=\"#C2_0_bad4adac86\" y=\"126.863228\"/>\n    </g>\n    <g clip-path=\"url(#p29738b820d)\">\n     <use style=\"fill:#2ca02c;\" x=\"295.64518\" xlink:href=\"#C2_0_bad4adac86\" y=\"126.863228\"/>\n    </g>\n    <g clip-path=\"url(#p29738b820d)\">\n     <use style=\"fill:#2ca02c;\" x=\"320.252271\" xlink:href=\"#C2_0_bad4adac86\" y=\"126.863228\"/>\n    </g>\n    <g clip-path=\"url(#p29738b820d)\">\n     <use style=\"fill:#2ca02c;\" x=\"290.204228\" xlink:href=\"#C2_0_bad4adac86\" y=\"126.863228\"/>\n    </g>\n    <g clip-path=\"url(#p29738b820d)\">\n     <use style=\"fill:#2ca02c;\" x=\"310.669201\" xlink:href=\"#C2_0_bad4adac86\" y=\"123.580286\"/>\n    </g>\n    <g clip-path=\"url(#p29738b820d)\">\n     <use style=\"fill:#2ca02c;\" x=\"324.394389\" xlink:href=\"#C2_0_bad4adac86\" y=\"123.580286\"/>\n    </g>\n    <g clip-path=\"url(#p29738b820d)\">\n     <use style=\"fill:#2ca02c;\" x=\"306.527083\" xlink:href=\"#C2_0_bad4adac86\" y=\"120.297344\"/>\n    </g>\n    <g clip-path=\"url(#p29738b820d)\">\n     <use style=\"fill:#2ca02c;\" x=\"301.086132\" xlink:href=\"#C2_0_bad4adac86\" y=\"120.297344\"/>\n    </g>\n    <g clip-path=\"url(#p29738b820d)\">\n     <use style=\"fill:#2ca02c;\" x=\"314.811319\" xlink:href=\"#C2_0_bad4adac86\" y=\"120.297344\"/>\n    </g>\n    <g clip-path=\"url(#p29738b820d)\">\n     <use style=\"fill:#2ca02c;\" x=\"310.669201\" xlink:href=\"#C2_0_bad4adac86\" y=\"117.014402\"/>\n    </g>\n    <g clip-path=\"url(#p29738b820d)\">\n     <use style=\"fill:#2ca02c;\" x=\"296.944014\" xlink:href=\"#C2_0_bad4adac86\" y=\"117.014402\"/>\n    </g>\n    <g clip-path=\"url(#p29738b820d)\">\n     <use style=\"fill:#2ca02c;\" x=\"318.953437\" xlink:href=\"#C2_0_bad4adac86\" y=\"117.014402\"/>\n    </g>\n    <g clip-path=\"url(#p29738b820d)\">\n     <use style=\"fill:#2ca02c;\" x=\"306.527083\" xlink:href=\"#C2_0_bad4adac86\" y=\"113.731461\"/>\n    </g>\n    <g clip-path=\"url(#p29738b820d)\">\n     <use style=\"fill:#2ca02c;\" x=\"301.086132\" xlink:href=\"#C2_0_bad4adac86\" y=\"113.731461\"/>\n    </g>\n    <g clip-path=\"url(#p29738b820d)\">\n     <use style=\"fill:#2ca02c;\" x=\"314.811319\" xlink:href=\"#C2_0_bad4adac86\" y=\"113.731461\"/>\n    </g>\n    <g clip-path=\"url(#p29738b820d)\">\n     <use style=\"fill:#2ca02c;\" x=\"310.669201\" xlink:href=\"#C2_0_bad4adac86\" y=\"110.448519\"/>\n    </g>\n    <g clip-path=\"url(#p29738b820d)\">\n     <use style=\"fill:#2ca02c;\" x=\"296.944014\" xlink:href=\"#C2_0_bad4adac86\" y=\"110.448519\"/>\n    </g>\n    <g clip-path=\"url(#p29738b820d)\">\n     <use style=\"fill:#2ca02c;\" x=\"306.527083\" xlink:href=\"#C2_0_bad4adac86\" y=\"107.165577\"/>\n    </g>\n    <g clip-path=\"url(#p29738b820d)\">\n     <use style=\"fill:#2ca02c;\" x=\"301.086132\" xlink:href=\"#C2_0_bad4adac86\" y=\"107.165577\"/>\n    </g>\n    <g clip-path=\"url(#p29738b820d)\">\n     <use style=\"fill:#2ca02c;\" x=\"306.527083\" xlink:href=\"#C2_0_bad4adac86\" y=\"100.599694\"/>\n    </g>\n    <g clip-path=\"url(#p29738b820d)\">\n     <use style=\"fill:#2ca02c;\" x=\"301.086132\" xlink:href=\"#C2_0_bad4adac86\" y=\"100.599694\"/>\n    </g>\n    <g clip-path=\"url(#p29738b820d)\">\n     <use style=\"fill:#2ca02c;\" x=\"311.968035\" xlink:href=\"#C2_0_bad4adac86\" y=\"100.599694\"/>\n    </g>\n    <g clip-path=\"url(#p29738b820d)\">\n     <use style=\"fill:#2ca02c;\" x=\"306.527083\" xlink:href=\"#C2_0_bad4adac86\" y=\"94.03381\"/>\n    </g>\n    <g clip-path=\"url(#p29738b820d)\">\n     <use style=\"fill:#2ca02c;\" x=\"301.086132\" xlink:href=\"#C2_0_bad4adac86\" y=\"94.03381\"/>\n    </g>\n    <g clip-path=\"url(#p29738b820d)\">\n     <use style=\"fill:#2ca02c;\" x=\"311.968035\" xlink:href=\"#C2_0_bad4adac86\" y=\"94.03381\"/>\n    </g>\n    <g clip-path=\"url(#p29738b820d)\">\n     <use style=\"fill:#2ca02c;\" x=\"295.64518\" xlink:href=\"#C2_0_bad4adac86\" y=\"94.03381\"/>\n    </g>\n    <g clip-path=\"url(#p29738b820d)\">\n     <use style=\"fill:#2ca02c;\" x=\"317.408987\" xlink:href=\"#C2_0_bad4adac86\" y=\"94.03381\"/>\n    </g>\n    <g clip-path=\"url(#p29738b820d)\">\n     <use style=\"fill:#2ca02c;\" x=\"290.204228\" xlink:href=\"#C2_0_bad4adac86\" y=\"94.03381\"/>\n    </g>\n    <g clip-path=\"url(#p29738b820d)\">\n     <use style=\"fill:#2ca02c;\" x=\"321.551105\" xlink:href=\"#C2_0_bad4adac86\" y=\"90.750868\"/>\n    </g>\n    <g clip-path=\"url(#p29738b820d)\">\n     <use style=\"fill:#2ca02c;\" x=\"286.06211\" xlink:href=\"#C2_0_bad4adac86\" y=\"90.750868\"/>\n    </g>\n    <g clip-path=\"url(#p29738b820d)\">\n     <use style=\"fill:#2ca02c;\" x=\"306.527083\" xlink:href=\"#C2_0_bad4adac86\" y=\"80.902043\"/>\n    </g>\n    <g clip-path=\"url(#p29738b820d)\">\n     <use style=\"fill:#2ca02c;\" x=\"301.086132\" xlink:href=\"#C2_0_bad4adac86\" y=\"80.902043\"/>\n    </g>\n    <g clip-path=\"url(#p29738b820d)\">\n     <use style=\"fill:#2ca02c;\" x=\"310.669201\" xlink:href=\"#C2_0_bad4adac86\" y=\"77.619101\"/>\n    </g>\n    <g clip-path=\"url(#p29738b820d)\">\n     <use style=\"fill:#2ca02c;\" x=\"296.944014\" xlink:href=\"#C2_0_bad4adac86\" y=\"77.619101\"/>\n    </g>\n    <g clip-path=\"url(#p29738b820d)\">\n     <use style=\"fill:#2ca02c;\" x=\"316.110153\" xlink:href=\"#C2_0_bad4adac86\" y=\"77.619101\"/>\n    </g>\n    <g clip-path=\"url(#p29738b820d)\">\n     <use style=\"fill:#2ca02c;\" x=\"306.527083\" xlink:href=\"#C2_0_bad4adac86\" y=\"74.336159\"/>\n    </g>\n    <g clip-path=\"url(#p29738b820d)\">\n     <use style=\"fill:#2ca02c;\" x=\"306.527083\" xlink:href=\"#C2_0_bad4adac86\" y=\"64.487334\"/>\n    </g>\n    <g clip-path=\"url(#p29738b820d)\">\n     <use style=\"fill:#2ca02c;\" x=\"301.086132\" xlink:href=\"#C2_0_bad4adac86\" y=\"64.487334\"/>\n    </g>\n    <g clip-path=\"url(#p29738b820d)\">\n     <use style=\"fill:#2ca02c;\" x=\"310.669201\" xlink:href=\"#C2_0_bad4adac86\" y=\"61.204392\"/>\n    </g>\n    <g clip-path=\"url(#p29738b820d)\">\n     <use style=\"fill:#2ca02c;\" x=\"306.527083\" xlink:href=\"#C2_0_bad4adac86\" y=\"57.92145\"/>\n    </g>\n    <g clip-path=\"url(#p29738b820d)\">\n     <use style=\"fill:#2ca02c;\" x=\"302.384965\" xlink:href=\"#C2_0_bad4adac86\" y=\"54.638509\"/>\n    </g>\n    <g clip-path=\"url(#p29738b820d)\">\n     <use style=\"fill:#2ca02c;\" x=\"306.527083\" xlink:href=\"#C2_0_bad4adac86\" y=\"48.072625\"/>\n    </g>\n    <g clip-path=\"url(#p29738b820d)\">\n     <use style=\"fill:#2ca02c;\" x=\"301.086132\" xlink:href=\"#C2_0_bad4adac86\" y=\"48.072625\"/>\n    </g>\n    <g clip-path=\"url(#p29738b820d)\">\n     <use style=\"fill:#2ca02c;\" x=\"306.527083\" xlink:href=\"#C2_0_bad4adac86\" y=\"38.2238\"/>\n    </g>\n    <g clip-path=\"url(#p29738b820d)\">\n     <use style=\"fill:#2ca02c;\" x=\"306.527083\" xlink:href=\"#C2_0_bad4adac86\" y=\"31.657916\"/>\n    </g>\n   </g>\n  </g>\n </g>\n <defs>\n  <clipPath id=\"p29738b820d\">\n   <rect height=\"321.4\" width=\"318.775\" x=\"40.88125\" y=\"7.2\"/>\n  </clipPath>\n </defs>\n</svg>\n",
      "image/png": "[encoded data removed]"
     },
     "metadata": {
      "needs_background": "light"
     }
    }
   ],
   "source": [
    "cat_data_1 = DATA[\"casual\"][\"Casualty_Type\"][mask]\n",
    "cat_data_2 = DATA[\"casual\"][\"Age_of_Casualty\"][mask]\n",
    "\n",
    "# Concaternate the data using columns (axis1)\n",
    "con_cat_data = pd.concat([cat_data_1, cat_data_2], axis=1)\n",
    "\n",
    "# Plot\n",
    "fig = sns.catplot(x = 'Casualty_Type', y = 'Age_of_Casualty', data=con_cat_data, kind = \"swarm\") # also show: violin\n",
    "\n",
    "fig.set_xticklabels([\"Pedestrian\", \"Cyclist\", \"Car occupant\"]);\n",
    "\n",
    "con_cat_data\n"
   ]
  },
  {
   "source": [
    "### one numerical versus one categorical variable:\n",
    "\n",
    "Scatterplot of vehicle age vs accident sevirity\n",
    "\n",
    "eg accident number 434 had 2 vehicles involved. the mean age of the vechile is 20 years, and the accident severity is FATAL \n"
   ],
   "cell_type": "markdown",
   "metadata": {}
  },
  {
   "cell_type": "code",
   "execution_count": 56,
   "metadata": {},
   "outputs": [
    {
     "output_type": "execute_result",
     "data": {
      "text/plain": [
       "array([nan, 12., 16.,  8.,  1.,  9., 10.,  2., 11.,  5.,  7., 14., 13.,\n",
       "        4., 15., 18.,  3.,  6., 35., 21., 17., 19., 20., 30., 22., 24.])"
      ]
     },
     "metadata": {},
     "execution_count": 56
    }
   ],
   "source": [
    "#problem: -1 is a legal age of vehcile. -1 means N/A\n",
    "# now solved by loading data with specified NA values\n",
    "pd.unique(DATA['vehicles']['Age_of_Vehicle'])"
   ]
  },
  {
   "cell_type": "code",
   "execution_count": 57,
   "metadata": {},
   "outputs": [
    {
     "output_type": "stream",
     "name": "stdout",
     "text": [
      "DATA['vehi_acc_inner'].shape\n(1451, 54)\nDATA['vehicles'].shape\n(1451, 23)\nDATA['accident'].shape\n(833, 32)\n"
     ]
    }
   ],
   "source": [
    "#x_data = DATA['vehicles']['Age_of_Vehicle']\n",
    "#y_data = DATA['accident']['Accident_Severity']\n",
    "# we are only interested in the accidents where we both have vheicles and accident information, so inner join.\n",
    "# validate : “one_to_one” or “1:1”: check if merge keys are unique in both left and right datasets.\n",
    "DATA['vehi_acc_inner'] = pd.merge(DATA['accident'], DATA['vehicles'], on='Accident_Index', how='inner', validate=\"one_to_many\")\n",
    "\n",
    "print(\"DATA['vehi_acc_inner'].shape\", DATA['vehi_acc_inner'].shape, \"DATA['vehicles'].shape\", DATA['vehicles'].shape, \"DATA['accident'].shape\", DATA['accident'].shape, sep=\"\\n\")\n"
   ]
  },
  {
   "cell_type": "code",
   "execution_count": 77,
   "metadata": {},
   "outputs": [],
   "source": [
    "#problem: we need the average age of vehcicles, in case there is more vehciles per accident, so we only get 1 row = 1 accident\n",
    "# solution: groupy by accident index and calcualte the mean value of vehcicle age involved in accident\n",
    "# https://pandas.pydata.org/pandas-docs/stable/reference/api/pandas.core.groupby.GroupBy.mean.html\n",
    "data_analysis = {}\n",
    "data_analysis['1'] = DATA['vehi_acc_inner'].groupby('Accident_Index').mean(numeric_only=True)"
   ]
  },
  {
   "source": [
    "Lets make sure that we dont have any duplicate acc rows left, and that the grouping worked by checking for unique items:"
   ],
   "cell_type": "markdown",
   "metadata": {}
  },
  {
   "cell_type": "code",
   "execution_count": 78,
   "metadata": {},
   "outputs": [
    {
     "output_type": "execute_result",
     "data": {
      "text/plain": [
       "833"
      ]
     },
     "metadata": {},
     "execution_count": 78
    }
   ],
   "source": [
    "# get how many unique accident indexs there is\n",
    "len(pd.unique(data_analysis['1'].index))"
   ]
  },
  {
   "source": [
    "same amount of rows, we assume the joining and grouping went well. we now try to plot this.\n",
    "one row= one obeservation"
   ],
   "cell_type": "markdown",
   "metadata": {}
  },
  {
   "cell_type": "code",
   "execution_count": 96,
   "metadata": {},
   "outputs": [
    {
     "output_type": "execute_result",
     "data": {
      "text/plain": [
       "<seaborn.axisgrid.FacetGrid at 0x7f3af2b9b520>"
      ]
     },
     "metadata": {},
     "execution_count": 96
    },
    {
     "output_type": "display_data",
     "data": {
      "text/plain": "<Figure size 360x360 with 1 Axes>",
      "image/svg+xml": "<?xml version=\"1.0\" encoding=\"utf-8\" standalone=\"no\"?>\n<!DOCTYPE svg PUBLIC \"-//W3C//DTD SVG 1.1//EN\"\n  \"http://www.w3.org/Graphics/SVG/1.1/DTD/svg11.dtd\">\n<!-- Created with matplotlib (https://matplotlib.org/) -->\n<svg height=\"366.15625pt\" version=\"1.1\" viewBox=\"0 0 366.453125 366.15625\" width=\"366.453125pt\" xmlns=\"http://www.w3.org/2000/svg\" xmlns:xlink=\"http://www.w3.org/1999/xlink\">\n <metadata>\n  <rdf:RDF xmlns:cc=\"http://creativecommons.org/ns#\" xmlns:dc=\"http://purl.org/dc/elements/1.1/\" xmlns:rdf=\"http://www.w3.org/1999/02/22-rdf-syntax-ns#\">\n   <cc:Work>\n    <dc:type rdf:resource=\"http://purl.org/dc/dcmitype/StillImage\"/>\n    <dc:date>2021-02-19T12:04:50.439693</dc:date>\n    <dc:format>image/svg+xml</dc:format>\n    <dc:creator>\n     <cc:Agent>\n      <dc:title>Matplotlib v3.3.4, https://matplotlib.org/</dc:title>\n     </cc:Agent>\n    </dc:creator>\n   </cc:Work>\n  </rdf:RDF>\n </metadata>\n <defs>\n  <style type=\"text/css\">*{stroke-linecap:butt;stroke-linejoin:round;}</style>\n </defs>\n <g id=\"figure_1\">\n  <g id=\"patch_1\">\n   <path d=\"M 0 366.15625 \nL 366.453125 366.15625 \nL 366.453125 0 \nL 0 0 \nz\n\" style=\"fill:none;\"/>\n  </g>\n  <g id=\"axes_1\">\n   <g id=\"patch_2\">\n    <path d=\"M 40.603125 328.6 \nL 359.253125 328.6 \nL 359.253125 7.2 \nL 40.603125 7.2 \nz\n\" style=\"fill:#ffffff;\"/>\n   </g>\n   <g id=\"matplotlib.axis_1\">\n    <g id=\"xtick_1\">\n     <g id=\"line2d_1\">\n      <defs>\n       <path d=\"M 0 0 \nL 0 3.5 \n\" id=\"mfb06df4e41\" style=\"stroke:#000000;stroke-width:0.8;\"/>\n      </defs>\n      <g>\n       <use style=\"stroke:#000000;stroke-width:0.8;\" x=\"93.711458\" xlink:href=\"#mfb06df4e41\" y=\"328.6\"/>\n      </g>\n     </g>\n     <g id=\"text_1\">\n      <!-- Fatal -->\n      <g transform=\"translate(81.814583 343.198437)scale(0.1 -0.1)\">\n       <defs>\n        <path d=\"M 9.8125 72.90625 \nL 51.703125 72.90625 \nL 51.703125 64.59375 \nL 19.671875 64.59375 \nL 19.671875 43.109375 \nL 48.578125 43.109375 \nL 48.578125 34.8125 \nL 19.671875 34.8125 \nL 19.671875 0 \nL 9.8125 0 \nz\n\" id=\"DejaVuSans-70\"/>\n        <path d=\"M 34.28125 27.484375 \nQ 23.390625 27.484375 19.1875 25 \nQ 14.984375 22.515625 14.984375 16.5 \nQ 14.984375 11.71875 18.140625 8.90625 \nQ 21.296875 6.109375 26.703125 6.109375 \nQ 34.1875 6.109375 38.703125 11.40625 \nQ 43.21875 16.703125 43.21875 25.484375 \nL 43.21875 27.484375 \nz\nM 52.203125 31.203125 \nL 52.203125 0 \nL 43.21875 0 \nL 43.21875 8.296875 \nQ 40.140625 3.328125 35.546875 0.953125 \nQ 30.953125 -1.421875 24.3125 -1.421875 \nQ 15.921875 -1.421875 10.953125 3.296875 \nQ 6 8.015625 6 15.921875 \nQ 6 25.140625 12.171875 29.828125 \nQ 18.359375 34.515625 30.609375 34.515625 \nL 43.21875 34.515625 \nL 43.21875 35.40625 \nQ 43.21875 41.609375 39.140625 45 \nQ 35.0625 48.390625 27.6875 48.390625 \nQ 23 48.390625 18.546875 47.265625 \nQ 14.109375 46.140625 10.015625 43.890625 \nL 10.015625 52.203125 \nQ 14.9375 54.109375 19.578125 55.046875 \nQ 24.21875 56 28.609375 56 \nQ 40.484375 56 46.34375 49.84375 \nQ 52.203125 43.703125 52.203125 31.203125 \nz\n\" id=\"DejaVuSans-97\"/>\n        <path d=\"M 18.3125 70.21875 \nL 18.3125 54.6875 \nL 36.8125 54.6875 \nL 36.8125 47.703125 \nL 18.3125 47.703125 \nL 18.3125 18.015625 \nQ 18.3125 11.328125 20.140625 9.421875 \nQ 21.96875 7.515625 27.59375 7.515625 \nL 36.8125 7.515625 \nL 36.8125 0 \nL 27.59375 0 \nQ 17.1875 0 13.234375 3.875 \nQ 9.28125 7.765625 9.28125 18.015625 \nL 9.28125 47.703125 \nL 2.6875 47.703125 \nL 2.6875 54.6875 \nL 9.28125 54.6875 \nL 9.28125 70.21875 \nz\n\" id=\"DejaVuSans-116\"/>\n        <path d=\"M 9.421875 75.984375 \nL 18.40625 75.984375 \nL 18.40625 0 \nL 9.421875 0 \nz\n\" id=\"DejaVuSans-108\"/>\n       </defs>\n       <use xlink:href=\"#DejaVuSans-70\"/>\n       <use x=\"48.394531\" xlink:href=\"#DejaVuSans-97\"/>\n       <use x=\"109.673828\" xlink:href=\"#DejaVuSans-116\"/>\n       <use x=\"148.882812\" xlink:href=\"#DejaVuSans-97\"/>\n       <use x=\"210.162109\" xlink:href=\"#DejaVuSans-108\"/>\n      </g>\n     </g>\n    </g>\n    <g id=\"xtick_2\">\n     <g id=\"line2d_2\">\n      <g>\n       <use style=\"stroke:#000000;stroke-width:0.8;\" x=\"199.928125\" xlink:href=\"#mfb06df4e41\" y=\"328.6\"/>\n      </g>\n     </g>\n     <g id=\"text_2\">\n      <!-- Serious -->\n      <g transform=\"translate(181.4 343.198437)scale(0.1 -0.1)\">\n       <defs>\n        <path d=\"M 53.515625 70.515625 \nL 53.515625 60.890625 \nQ 47.90625 63.578125 42.921875 64.890625 \nQ 37.9375 66.21875 33.296875 66.21875 \nQ 25.25 66.21875 20.875 63.09375 \nQ 16.5 59.96875 16.5 54.203125 \nQ 16.5 49.359375 19.40625 46.890625 \nQ 22.3125 44.4375 30.421875 42.921875 \nL 36.375 41.703125 \nQ 47.40625 39.59375 52.65625 34.296875 \nQ 57.90625 29 57.90625 20.125 \nQ 57.90625 9.515625 50.796875 4.046875 \nQ 43.703125 -1.421875 29.984375 -1.421875 \nQ 24.8125 -1.421875 18.96875 -0.25 \nQ 13.140625 0.921875 6.890625 3.21875 \nL 6.890625 13.375 \nQ 12.890625 10.015625 18.65625 8.296875 \nQ 24.421875 6.59375 29.984375 6.59375 \nQ 38.421875 6.59375 43.015625 9.90625 \nQ 47.609375 13.234375 47.609375 19.390625 \nQ 47.609375 24.75 44.3125 27.78125 \nQ 41.015625 30.8125 33.5 32.328125 \nL 27.484375 33.5 \nQ 16.453125 35.6875 11.515625 40.375 \nQ 6.59375 45.0625 6.59375 53.421875 \nQ 6.59375 63.09375 13.40625 68.65625 \nQ 20.21875 74.21875 32.171875 74.21875 \nQ 37.3125 74.21875 42.625 73.28125 \nQ 47.953125 72.359375 53.515625 70.515625 \nz\n\" id=\"DejaVuSans-83\"/>\n        <path d=\"M 56.203125 29.59375 \nL 56.203125 25.203125 \nL 14.890625 25.203125 \nQ 15.484375 15.921875 20.484375 11.0625 \nQ 25.484375 6.203125 34.421875 6.203125 \nQ 39.59375 6.203125 44.453125 7.46875 \nQ 49.3125 8.734375 54.109375 11.28125 \nL 54.109375 2.78125 \nQ 49.265625 0.734375 44.1875 -0.34375 \nQ 39.109375 -1.421875 33.890625 -1.421875 \nQ 20.796875 -1.421875 13.15625 6.1875 \nQ 5.515625 13.8125 5.515625 26.8125 \nQ 5.515625 40.234375 12.765625 48.109375 \nQ 20.015625 56 32.328125 56 \nQ 43.359375 56 49.78125 48.890625 \nQ 56.203125 41.796875 56.203125 29.59375 \nz\nM 47.21875 32.234375 \nQ 47.125 39.59375 43.09375 43.984375 \nQ 39.0625 48.390625 32.421875 48.390625 \nQ 24.90625 48.390625 20.390625 44.140625 \nQ 15.875 39.890625 15.1875 32.171875 \nz\n\" id=\"DejaVuSans-101\"/>\n        <path d=\"M 41.109375 46.296875 \nQ 39.59375 47.171875 37.8125 47.578125 \nQ 36.03125 48 33.890625 48 \nQ 26.265625 48 22.1875 43.046875 \nQ 18.109375 38.09375 18.109375 28.8125 \nL 18.109375 0 \nL 9.078125 0 \nL 9.078125 54.6875 \nL 18.109375 54.6875 \nL 18.109375 46.1875 \nQ 20.953125 51.171875 25.484375 53.578125 \nQ 30.03125 56 36.53125 56 \nQ 37.453125 56 38.578125 55.875 \nQ 39.703125 55.765625 41.0625 55.515625 \nz\n\" id=\"DejaVuSans-114\"/>\n        <path d=\"M 9.421875 54.6875 \nL 18.40625 54.6875 \nL 18.40625 0 \nL 9.421875 0 \nz\nM 9.421875 75.984375 \nL 18.40625 75.984375 \nL 18.40625 64.59375 \nL 9.421875 64.59375 \nz\n\" id=\"DejaVuSans-105\"/>\n        <path d=\"M 30.609375 48.390625 \nQ 23.390625 48.390625 19.1875 42.75 \nQ 14.984375 37.109375 14.984375 27.296875 \nQ 14.984375 17.484375 19.15625 11.84375 \nQ 23.34375 6.203125 30.609375 6.203125 \nQ 37.796875 6.203125 41.984375 11.859375 \nQ 46.1875 17.53125 46.1875 27.296875 \nQ 46.1875 37.015625 41.984375 42.703125 \nQ 37.796875 48.390625 30.609375 48.390625 \nz\nM 30.609375 56 \nQ 42.328125 56 49.015625 48.375 \nQ 55.71875 40.765625 55.71875 27.296875 \nQ 55.71875 13.875 49.015625 6.21875 \nQ 42.328125 -1.421875 30.609375 -1.421875 \nQ 18.84375 -1.421875 12.171875 6.21875 \nQ 5.515625 13.875 5.515625 27.296875 \nQ 5.515625 40.765625 12.171875 48.375 \nQ 18.84375 56 30.609375 56 \nz\n\" id=\"DejaVuSans-111\"/>\n        <path d=\"M 8.5 21.578125 \nL 8.5 54.6875 \nL 17.484375 54.6875 \nL 17.484375 21.921875 \nQ 17.484375 14.15625 20.5 10.265625 \nQ 23.53125 6.390625 29.59375 6.390625 \nQ 36.859375 6.390625 41.078125 11.03125 \nQ 45.3125 15.671875 45.3125 23.6875 \nL 45.3125 54.6875 \nL 54.296875 54.6875 \nL 54.296875 0 \nL 45.3125 0 \nL 45.3125 8.40625 \nQ 42.046875 3.421875 37.71875 1 \nQ 33.40625 -1.421875 27.6875 -1.421875 \nQ 18.265625 -1.421875 13.375 4.4375 \nQ 8.5 10.296875 8.5 21.578125 \nz\nM 31.109375 56 \nz\n\" id=\"DejaVuSans-117\"/>\n        <path d=\"M 44.28125 53.078125 \nL 44.28125 44.578125 \nQ 40.484375 46.53125 36.375 47.5 \nQ 32.28125 48.484375 27.875 48.484375 \nQ 21.1875 48.484375 17.84375 46.4375 \nQ 14.5 44.390625 14.5 40.28125 \nQ 14.5 37.15625 16.890625 35.375 \nQ 19.28125 33.59375 26.515625 31.984375 \nL 29.59375 31.296875 \nQ 39.15625 29.25 43.1875 25.515625 \nQ 47.21875 21.78125 47.21875 15.09375 \nQ 47.21875 7.46875 41.1875 3.015625 \nQ 35.15625 -1.421875 24.609375 -1.421875 \nQ 20.21875 -1.421875 15.453125 -0.5625 \nQ 10.6875 0.296875 5.421875 2 \nL 5.421875 11.28125 \nQ 10.40625 8.6875 15.234375 7.390625 \nQ 20.0625 6.109375 24.8125 6.109375 \nQ 31.15625 6.109375 34.5625 8.28125 \nQ 37.984375 10.453125 37.984375 14.40625 \nQ 37.984375 18.0625 35.515625 20.015625 \nQ 33.0625 21.96875 24.703125 23.78125 \nL 21.578125 24.515625 \nQ 13.234375 26.265625 9.515625 29.90625 \nQ 5.8125 33.546875 5.8125 39.890625 \nQ 5.8125 47.609375 11.28125 51.796875 \nQ 16.75 56 26.8125 56 \nQ 31.78125 56 36.171875 55.265625 \nQ 40.578125 54.546875 44.28125 53.078125 \nz\n\" id=\"DejaVuSans-115\"/>\n       </defs>\n       <use xlink:href=\"#DejaVuSans-83\"/>\n       <use x=\"63.476562\" xlink:href=\"#DejaVuSans-101\"/>\n       <use x=\"125\" xlink:href=\"#DejaVuSans-114\"/>\n       <use x=\"166.113281\" xlink:href=\"#DejaVuSans-105\"/>\n       <use x=\"193.896484\" xlink:href=\"#DejaVuSans-111\"/>\n       <use x=\"255.078125\" xlink:href=\"#DejaVuSans-117\"/>\n       <use x=\"318.457031\" xlink:href=\"#DejaVuSans-115\"/>\n      </g>\n     </g>\n    </g>\n    <g id=\"xtick_3\">\n     <g id=\"line2d_3\">\n      <g>\n       <use style=\"stroke:#000000;stroke-width:0.8;\" x=\"306.144792\" xlink:href=\"#mfb06df4e41\" y=\"328.6\"/>\n      </g>\n     </g>\n     <g id=\"text_3\">\n      <!-- Slight -->\n      <g transform=\"translate(291.889323 343.198437)scale(0.1 -0.1)\">\n       <defs>\n        <path d=\"M 45.40625 27.984375 \nQ 45.40625 37.75 41.375 43.109375 \nQ 37.359375 48.484375 30.078125 48.484375 \nQ 22.859375 48.484375 18.828125 43.109375 \nQ 14.796875 37.75 14.796875 27.984375 \nQ 14.796875 18.265625 18.828125 12.890625 \nQ 22.859375 7.515625 30.078125 7.515625 \nQ 37.359375 7.515625 41.375 12.890625 \nQ 45.40625 18.265625 45.40625 27.984375 \nz\nM 54.390625 6.78125 \nQ 54.390625 -7.171875 48.1875 -13.984375 \nQ 42 -20.796875 29.203125 -20.796875 \nQ 24.46875 -20.796875 20.265625 -20.09375 \nQ 16.0625 -19.390625 12.109375 -17.921875 \nL 12.109375 -9.1875 \nQ 16.0625 -11.328125 19.921875 -12.34375 \nQ 23.78125 -13.375 27.78125 -13.375 \nQ 36.625 -13.375 41.015625 -8.765625 \nQ 45.40625 -4.15625 45.40625 5.171875 \nL 45.40625 9.625 \nQ 42.625 4.78125 38.28125 2.390625 \nQ 33.9375 0 27.875 0 \nQ 17.828125 0 11.671875 7.65625 \nQ 5.515625 15.328125 5.515625 27.984375 \nQ 5.515625 40.671875 11.671875 48.328125 \nQ 17.828125 56 27.875 56 \nQ 33.9375 56 38.28125 53.609375 \nQ 42.625 51.21875 45.40625 46.390625 \nL 45.40625 54.6875 \nL 54.390625 54.6875 \nz\n\" id=\"DejaVuSans-103\"/>\n        <path d=\"M 54.890625 33.015625 \nL 54.890625 0 \nL 45.90625 0 \nL 45.90625 32.71875 \nQ 45.90625 40.484375 42.875 44.328125 \nQ 39.84375 48.1875 33.796875 48.1875 \nQ 26.515625 48.1875 22.3125 43.546875 \nQ 18.109375 38.921875 18.109375 30.90625 \nL 18.109375 0 \nL 9.078125 0 \nL 9.078125 75.984375 \nL 18.109375 75.984375 \nL 18.109375 46.1875 \nQ 21.34375 51.125 25.703125 53.5625 \nQ 30.078125 56 35.796875 56 \nQ 45.21875 56 50.046875 50.171875 \nQ 54.890625 44.34375 54.890625 33.015625 \nz\n\" id=\"DejaVuSans-104\"/>\n       </defs>\n       <use xlink:href=\"#DejaVuSans-83\"/>\n       <use x=\"63.476562\" xlink:href=\"#DejaVuSans-108\"/>\n       <use x=\"91.259766\" xlink:href=\"#DejaVuSans-105\"/>\n       <use x=\"119.042969\" xlink:href=\"#DejaVuSans-103\"/>\n       <use x=\"182.519531\" xlink:href=\"#DejaVuSans-104\"/>\n       <use x=\"245.898438\" xlink:href=\"#DejaVuSans-116\"/>\n      </g>\n     </g>\n    </g>\n    <g id=\"text_4\">\n     <!-- Accident Severity -->\n     <g transform=\"translate(156.088281 356.876562)scale(0.1 -0.1)\">\n      <defs>\n       <path d=\"M 34.1875 63.1875 \nL 20.796875 26.90625 \nL 47.609375 26.90625 \nz\nM 28.609375 72.90625 \nL 39.796875 72.90625 \nL 67.578125 0 \nL 57.328125 0 \nL 50.6875 18.703125 \nL 17.828125 18.703125 \nL 11.1875 0 \nL 0.78125 0 \nz\n\" id=\"DejaVuSans-65\"/>\n       <path d=\"M 48.78125 52.59375 \nL 48.78125 44.1875 \nQ 44.96875 46.296875 41.140625 47.34375 \nQ 37.3125 48.390625 33.40625 48.390625 \nQ 24.65625 48.390625 19.8125 42.84375 \nQ 14.984375 37.3125 14.984375 27.296875 \nQ 14.984375 17.28125 19.8125 11.734375 \nQ 24.65625 6.203125 33.40625 6.203125 \nQ 37.3125 6.203125 41.140625 7.25 \nQ 44.96875 8.296875 48.78125 10.40625 \nL 48.78125 2.09375 \nQ 45.015625 0.34375 40.984375 -0.53125 \nQ 36.96875 -1.421875 32.421875 -1.421875 \nQ 20.0625 -1.421875 12.78125 6.34375 \nQ 5.515625 14.109375 5.515625 27.296875 \nQ 5.515625 40.671875 12.859375 48.328125 \nQ 20.21875 56 33.015625 56 \nQ 37.15625 56 41.109375 55.140625 \nQ 45.0625 54.296875 48.78125 52.59375 \nz\n\" id=\"DejaVuSans-99\"/>\n       <path d=\"M 45.40625 46.390625 \nL 45.40625 75.984375 \nL 54.390625 75.984375 \nL 54.390625 0 \nL 45.40625 0 \nL 45.40625 8.203125 \nQ 42.578125 3.328125 38.25 0.953125 \nQ 33.9375 -1.421875 27.875 -1.421875 \nQ 17.96875 -1.421875 11.734375 6.484375 \nQ 5.515625 14.40625 5.515625 27.296875 \nQ 5.515625 40.1875 11.734375 48.09375 \nQ 17.96875 56 27.875 56 \nQ 33.9375 56 38.25 53.625 \nQ 42.578125 51.265625 45.40625 46.390625 \nz\nM 14.796875 27.296875 \nQ 14.796875 17.390625 18.875 11.75 \nQ 22.953125 6.109375 30.078125 6.109375 \nQ 37.203125 6.109375 41.296875 11.75 \nQ 45.40625 17.390625 45.40625 27.296875 \nQ 45.40625 37.203125 41.296875 42.84375 \nQ 37.203125 48.484375 30.078125 48.484375 \nQ 22.953125 48.484375 18.875 42.84375 \nQ 14.796875 37.203125 14.796875 27.296875 \nz\n\" id=\"DejaVuSans-100\"/>\n       <path d=\"M 54.890625 33.015625 \nL 54.890625 0 \nL 45.90625 0 \nL 45.90625 32.71875 \nQ 45.90625 40.484375 42.875 44.328125 \nQ 39.84375 48.1875 33.796875 48.1875 \nQ 26.515625 48.1875 22.3125 43.546875 \nQ 18.109375 38.921875 18.109375 30.90625 \nL 18.109375 0 \nL 9.078125 0 \nL 9.078125 54.6875 \nL 18.109375 54.6875 \nL 18.109375 46.1875 \nQ 21.34375 51.125 25.703125 53.5625 \nQ 30.078125 56 35.796875 56 \nQ 45.21875 56 50.046875 50.171875 \nQ 54.890625 44.34375 54.890625 33.015625 \nz\n\" id=\"DejaVuSans-110\"/>\n       <path id=\"DejaVuSans-32\"/>\n       <path d=\"M 2.984375 54.6875 \nL 12.5 54.6875 \nL 29.59375 8.796875 \nL 46.6875 54.6875 \nL 56.203125 54.6875 \nL 35.6875 0 \nL 23.484375 0 \nz\n\" id=\"DejaVuSans-118\"/>\n       <path d=\"M 32.171875 -5.078125 \nQ 28.375 -14.84375 24.75 -17.8125 \nQ 21.140625 -20.796875 15.09375 -20.796875 \nL 7.90625 -20.796875 \nL 7.90625 -13.28125 \nL 13.1875 -13.28125 \nQ 16.890625 -13.28125 18.9375 -11.515625 \nQ 21 -9.765625 23.484375 -3.21875 \nL 25.09375 0.875 \nL 2.984375 54.6875 \nL 12.5 54.6875 \nL 29.59375 11.921875 \nL 46.6875 54.6875 \nL 56.203125 54.6875 \nz\n\" id=\"DejaVuSans-121\"/>\n      </defs>\n      <use xlink:href=\"#DejaVuSans-65\"/>\n      <use x=\"66.658203\" xlink:href=\"#DejaVuSans-99\"/>\n      <use x=\"121.638672\" xlink:href=\"#DejaVuSans-99\"/>\n      <use x=\"176.619141\" xlink:href=\"#DejaVuSans-105\"/>\n      <use x=\"204.402344\" xlink:href=\"#DejaVuSans-100\"/>\n      <use x=\"267.878906\" xlink:href=\"#DejaVuSans-101\"/>\n      <use x=\"329.402344\" xlink:href=\"#DejaVuSans-110\"/>\n      <use x=\"392.78125\" xlink:href=\"#DejaVuSans-116\"/>\n      <use x=\"431.990234\" xlink:href=\"#DejaVuSans-32\"/>\n      <use x=\"463.777344\" xlink:href=\"#DejaVuSans-83\"/>\n      <use x=\"527.253906\" xlink:href=\"#DejaVuSans-101\"/>\n      <use x=\"588.777344\" xlink:href=\"#DejaVuSans-118\"/>\n      <use x=\"647.957031\" xlink:href=\"#DejaVuSans-101\"/>\n      <use x=\"709.480469\" xlink:href=\"#DejaVuSans-114\"/>\n      <use x=\"750.59375\" xlink:href=\"#DejaVuSans-105\"/>\n      <use x=\"778.376953\" xlink:href=\"#DejaVuSans-116\"/>\n      <use x=\"817.585938\" xlink:href=\"#DejaVuSans-121\"/>\n     </g>\n    </g>\n   </g>\n   <g id=\"matplotlib.axis_2\">\n    <g id=\"ytick_1\">\n     <g id=\"line2d_4\">\n      <defs>\n       <path d=\"M 0 0 \nL -3.5 0 \n\" id=\"m9c66370dd4\" style=\"stroke:#000000;stroke-width:0.8;\"/>\n      </defs>\n      <g>\n       <use style=\"stroke:#000000;stroke-width:0.8;\" x=\"40.603125\" xlink:href=\"#m9c66370dd4\" y=\"327.904329\"/>\n      </g>\n     </g>\n     <g id=\"text_5\">\n      <!-- 0 -->\n      <g transform=\"translate(27.240625 331.703548)scale(0.1 -0.1)\">\n       <defs>\n        <path d=\"M 31.78125 66.40625 \nQ 24.171875 66.40625 20.328125 58.90625 \nQ 16.5 51.421875 16.5 36.375 \nQ 16.5 21.390625 20.328125 13.890625 \nQ 24.171875 6.390625 31.78125 6.390625 \nQ 39.453125 6.390625 43.28125 13.890625 \nQ 47.125 21.390625 47.125 36.375 \nQ 47.125 51.421875 43.28125 58.90625 \nQ 39.453125 66.40625 31.78125 66.40625 \nz\nM 31.78125 74.21875 \nQ 44.046875 74.21875 50.515625 64.515625 \nQ 56.984375 54.828125 56.984375 36.375 \nQ 56.984375 17.96875 50.515625 8.265625 \nQ 44.046875 -1.421875 31.78125 -1.421875 \nQ 19.53125 -1.421875 13.0625 8.265625 \nQ 6.59375 17.96875 6.59375 36.375 \nQ 6.59375 54.828125 13.0625 64.515625 \nQ 19.53125 74.21875 31.78125 74.21875 \nz\n\" id=\"DejaVuSans-48\"/>\n       </defs>\n       <use xlink:href=\"#DejaVuSans-48\"/>\n      </g>\n     </g>\n    </g>\n    <g id=\"ytick_2\">\n     <g id=\"line2d_5\">\n      <g>\n       <use style=\"stroke:#000000;stroke-width:0.8;\" x=\"40.603125\" xlink:href=\"#m9c66370dd4\" y=\"258.337229\"/>\n      </g>\n     </g>\n     <g id=\"text_6\">\n      <!-- 5 -->\n      <g transform=\"translate(27.240625 262.136448)scale(0.1 -0.1)\">\n       <defs>\n        <path d=\"M 10.796875 72.90625 \nL 49.515625 72.90625 \nL 49.515625 64.59375 \nL 19.828125 64.59375 \nL 19.828125 46.734375 \nQ 21.96875 47.46875 24.109375 47.828125 \nQ 26.265625 48.1875 28.421875 48.1875 \nQ 40.625 48.1875 47.75 41.5 \nQ 54.890625 34.8125 54.890625 23.390625 \nQ 54.890625 11.625 47.5625 5.09375 \nQ 40.234375 -1.421875 26.90625 -1.421875 \nQ 22.3125 -1.421875 17.546875 -0.640625 \nQ 12.796875 0.140625 7.71875 1.703125 \nL 7.71875 11.625 \nQ 12.109375 9.234375 16.796875 8.0625 \nQ 21.484375 6.890625 26.703125 6.890625 \nQ 35.15625 6.890625 40.078125 11.328125 \nQ 45.015625 15.765625 45.015625 23.390625 \nQ 45.015625 31 40.078125 35.4375 \nQ 35.15625 39.890625 26.703125 39.890625 \nQ 22.75 39.890625 18.8125 39.015625 \nQ 14.890625 38.140625 10.796875 36.28125 \nz\n\" id=\"DejaVuSans-53\"/>\n       </defs>\n       <use xlink:href=\"#DejaVuSans-53\"/>\n      </g>\n     </g>\n    </g>\n    <g id=\"ytick_3\">\n     <g id=\"line2d_6\">\n      <g>\n       <use style=\"stroke:#000000;stroke-width:0.8;\" x=\"40.603125\" xlink:href=\"#m9c66370dd4\" y=\"188.77013\"/>\n      </g>\n     </g>\n     <g id=\"text_7\">\n      <!-- 10 -->\n      <g transform=\"translate(20.878125 192.569349)scale(0.1 -0.1)\">\n       <defs>\n        <path d=\"M 12.40625 8.296875 \nL 28.515625 8.296875 \nL 28.515625 63.921875 \nL 10.984375 60.40625 \nL 10.984375 69.390625 \nL 28.421875 72.90625 \nL 38.28125 72.90625 \nL 38.28125 8.296875 \nL 54.390625 8.296875 \nL 54.390625 0 \nL 12.40625 0 \nz\n\" id=\"DejaVuSans-49\"/>\n       </defs>\n       <use xlink:href=\"#DejaVuSans-49\"/>\n       <use x=\"63.623047\" xlink:href=\"#DejaVuSans-48\"/>\n      </g>\n     </g>\n    </g>\n    <g id=\"ytick_4\">\n     <g id=\"line2d_7\">\n      <g>\n       <use style=\"stroke:#000000;stroke-width:0.8;\" x=\"40.603125\" xlink:href=\"#m9c66370dd4\" y=\"119.20303\"/>\n      </g>\n     </g>\n     <g id=\"text_8\">\n      <!-- 15 -->\n      <g transform=\"translate(20.878125 123.002249)scale(0.1 -0.1)\">\n       <use xlink:href=\"#DejaVuSans-49\"/>\n       <use x=\"63.623047\" xlink:href=\"#DejaVuSans-53\"/>\n      </g>\n     </g>\n    </g>\n    <g id=\"ytick_5\">\n     <g id=\"line2d_8\">\n      <g>\n       <use style=\"stroke:#000000;stroke-width:0.8;\" x=\"40.603125\" xlink:href=\"#m9c66370dd4\" y=\"49.635931\"/>\n      </g>\n     </g>\n     <g id=\"text_9\">\n      <!-- 20 -->\n      <g transform=\"translate(20.878125 53.435149)scale(0.1 -0.1)\">\n       <defs>\n        <path d=\"M 19.1875 8.296875 \nL 53.609375 8.296875 \nL 53.609375 0 \nL 7.328125 0 \nL 7.328125 8.296875 \nQ 12.9375 14.109375 22.625 23.890625 \nQ 32.328125 33.6875 34.8125 36.53125 \nQ 39.546875 41.84375 41.421875 45.53125 \nQ 43.3125 49.21875 43.3125 52.78125 \nQ 43.3125 58.59375 39.234375 62.25 \nQ 35.15625 65.921875 28.609375 65.921875 \nQ 23.96875 65.921875 18.8125 64.3125 \nQ 13.671875 62.703125 7.8125 59.421875 \nL 7.8125 69.390625 \nQ 13.765625 71.78125 18.9375 73 \nQ 24.125 74.21875 28.421875 74.21875 \nQ 39.75 74.21875 46.484375 68.546875 \nQ 53.21875 62.890625 53.21875 53.421875 \nQ 53.21875 48.921875 51.53125 44.890625 \nQ 49.859375 40.875 45.40625 35.40625 \nQ 44.1875 33.984375 37.640625 27.21875 \nQ 31.109375 20.453125 19.1875 8.296875 \nz\n\" id=\"DejaVuSans-50\"/>\n       </defs>\n       <use xlink:href=\"#DejaVuSans-50\"/>\n       <use x=\"63.623047\" xlink:href=\"#DejaVuSans-48\"/>\n      </g>\n     </g>\n    </g>\n    <g id=\"text_10\">\n     <!-- Mean Age of Vehicles involved (years) -->\n     <g transform=\"translate(14.798437 263.283594)rotate(-90)scale(0.1 -0.1)\">\n      <defs>\n       <path d=\"M 9.8125 72.90625 \nL 24.515625 72.90625 \nL 43.109375 23.296875 \nL 61.8125 72.90625 \nL 76.515625 72.90625 \nL 76.515625 0 \nL 66.890625 0 \nL 66.890625 64.015625 \nL 48.09375 14.015625 \nL 38.1875 14.015625 \nL 19.390625 64.015625 \nL 19.390625 0 \nL 9.8125 0 \nz\n\" id=\"DejaVuSans-77\"/>\n       <path d=\"M 37.109375 75.984375 \nL 37.109375 68.5 \nL 28.515625 68.5 \nQ 23.6875 68.5 21.796875 66.546875 \nQ 19.921875 64.59375 19.921875 59.515625 \nL 19.921875 54.6875 \nL 34.71875 54.6875 \nL 34.71875 47.703125 \nL 19.921875 47.703125 \nL 19.921875 0 \nL 10.890625 0 \nL 10.890625 47.703125 \nL 2.296875 47.703125 \nL 2.296875 54.6875 \nL 10.890625 54.6875 \nL 10.890625 58.5 \nQ 10.890625 67.625 15.140625 71.796875 \nQ 19.390625 75.984375 28.609375 75.984375 \nz\n\" id=\"DejaVuSans-102\"/>\n       <path d=\"M 28.609375 0 \nL 0.78125 72.90625 \nL 11.078125 72.90625 \nL 34.1875 11.53125 \nL 57.328125 72.90625 \nL 67.578125 72.90625 \nL 39.796875 0 \nz\n\" id=\"DejaVuSans-86\"/>\n       <path d=\"M 31 75.875 \nQ 24.46875 64.65625 21.28125 53.65625 \nQ 18.109375 42.671875 18.109375 31.390625 \nQ 18.109375 20.125 21.3125 9.0625 \nQ 24.515625 -2 31 -13.1875 \nL 23.1875 -13.1875 \nQ 15.875 -1.703125 12.234375 9.375 \nQ 8.59375 20.453125 8.59375 31.390625 \nQ 8.59375 42.28125 12.203125 53.3125 \nQ 15.828125 64.359375 23.1875 75.875 \nz\n\" id=\"DejaVuSans-40\"/>\n       <path d=\"M 8.015625 75.875 \nL 15.828125 75.875 \nQ 23.140625 64.359375 26.78125 53.3125 \nQ 30.421875 42.28125 30.421875 31.390625 \nQ 30.421875 20.453125 26.78125 9.375 \nQ 23.140625 -1.703125 15.828125 -13.1875 \nL 8.015625 -13.1875 \nQ 14.5 -2 17.703125 9.0625 \nQ 20.90625 20.125 20.90625 31.390625 \nQ 20.90625 42.671875 17.703125 53.65625 \nQ 14.5 64.65625 8.015625 75.875 \nz\n\" id=\"DejaVuSans-41\"/>\n      </defs>\n      <use xlink:href=\"#DejaVuSans-77\"/>\n      <use x=\"86.279297\" xlink:href=\"#DejaVuSans-101\"/>\n      <use x=\"147.802734\" xlink:href=\"#DejaVuSans-97\"/>\n      <use x=\"209.082031\" xlink:href=\"#DejaVuSans-110\"/>\n      <use x=\"272.460938\" xlink:href=\"#DejaVuSans-32\"/>\n      <use x=\"304.248047\" xlink:href=\"#DejaVuSans-65\"/>\n      <use x=\"372.65625\" xlink:href=\"#DejaVuSans-103\"/>\n      <use x=\"436.132812\" xlink:href=\"#DejaVuSans-101\"/>\n      <use x=\"497.65625\" xlink:href=\"#DejaVuSans-32\"/>\n      <use x=\"529.443359\" xlink:href=\"#DejaVuSans-111\"/>\n      <use x=\"590.625\" xlink:href=\"#DejaVuSans-102\"/>\n      <use x=\"625.830078\" xlink:href=\"#DejaVuSans-32\"/>\n      <use x=\"657.617188\" xlink:href=\"#DejaVuSans-86\"/>\n      <use x=\"718.275391\" xlink:href=\"#DejaVuSans-101\"/>\n      <use x=\"779.798828\" xlink:href=\"#DejaVuSans-104\"/>\n      <use x=\"843.177734\" xlink:href=\"#DejaVuSans-105\"/>\n      <use x=\"870.960938\" xlink:href=\"#DejaVuSans-99\"/>\n      <use x=\"925.941406\" xlink:href=\"#DejaVuSans-108\"/>\n      <use x=\"953.724609\" xlink:href=\"#DejaVuSans-101\"/>\n      <use x=\"1015.248047\" xlink:href=\"#DejaVuSans-115\"/>\n      <use x=\"1067.347656\" xlink:href=\"#DejaVuSans-32\"/>\n      <use x=\"1099.134766\" xlink:href=\"#DejaVuSans-105\"/>\n      <use x=\"1126.917969\" xlink:href=\"#DejaVuSans-110\"/>\n      <use x=\"1190.296875\" xlink:href=\"#DejaVuSans-118\"/>\n      <use x=\"1249.476562\" xlink:href=\"#DejaVuSans-111\"/>\n      <use x=\"1310.658203\" xlink:href=\"#DejaVuSans-108\"/>\n      <use x=\"1338.441406\" xlink:href=\"#DejaVuSans-118\"/>\n      <use x=\"1397.621094\" xlink:href=\"#DejaVuSans-101\"/>\n      <use x=\"1459.144531\" xlink:href=\"#DejaVuSans-100\"/>\n      <use x=\"1522.621094\" xlink:href=\"#DejaVuSans-32\"/>\n      <use x=\"1554.408203\" xlink:href=\"#DejaVuSans-40\"/>\n      <use x=\"1593.421875\" xlink:href=\"#DejaVuSans-121\"/>\n      <use x=\"1652.601562\" xlink:href=\"#DejaVuSans-101\"/>\n      <use x=\"1714.125\" xlink:href=\"#DejaVuSans-97\"/>\n      <use x=\"1775.404297\" xlink:href=\"#DejaVuSans-114\"/>\n      <use x=\"1816.517578\" xlink:href=\"#DejaVuSans-115\"/>\n      <use x=\"1868.617188\" xlink:href=\"#DejaVuSans-41\"/>\n     </g>\n    </g>\n   </g>\n   <g id=\"patch_3\">\n    <path d=\"M 40.603125 328.6 \nL 40.603125 7.2 \n\" style=\"fill:none;stroke:#000000;stroke-linecap:square;stroke-linejoin:miter;stroke-width:0.8;\"/>\n   </g>\n   <g id=\"patch_4\">\n    <path d=\"M 40.603125 328.6 \nL 359.253125 328.6 \n\" style=\"fill:none;stroke:#000000;stroke-linecap:square;stroke-linejoin:miter;stroke-width:0.8;\"/>\n   </g>\n   <g id=\"PathCollection_1\">\n    <defs>\n     <path d=\"M 0 2.5 \nC 0.663008 2.5 1.29895 2.236584 1.767767 1.767767 \nC 2.236584 1.29895 2.5 0.663008 2.5 -0 \nC 2.5 -0.663008 2.236584 -1.29895 1.767767 -1.767767 \nC 1.29895 -2.236584 0.663008 -2.5 0 -2.5 \nC -0.663008 -2.5 -1.29895 -2.236584 -1.767767 -1.767767 \nC -2.236584 -1.29895 -2.5 -0.663008 -2.5 0 \nC -2.5 0.663008 -2.236584 1.29895 -1.767767 1.767767 \nC -1.29895 2.236584 -0.663008 2.5 0 2.5 \nz\n\" id=\"C0_0_bfd001e06f\"/>\n    </defs>\n    <g clip-path=\"url(#p8073d79e94)\">\n     <use style=\"fill:#1f77b4;\" x=\"86.755601\" xlink:href=\"#C0_0_bfd001e06f\" y=\"272.250649\"/>\n    </g>\n    <g clip-path=\"url(#p8073d79e94)\">\n     <use style=\"fill:#1f77b4;\" x=\"88.147397\" xlink:href=\"#C0_0_bfd001e06f\" y=\"276.888456\"/>\n    </g>\n    <g clip-path=\"url(#p8073d79e94)\">\n     <use style=\"fill:#1f77b4;\" x=\"97.833018\" xlink:href=\"#C0_0_bfd001e06f\" y=\"235.148196\"/>\n    </g>\n    <g clip-path=\"url(#p8073d79e94)\">\n     <use style=\"fill:#1f77b4;\" x=\"92.055513\" xlink:href=\"#C0_0_bfd001e06f\" y=\"188.77013\"/>\n    </g>\n    <g clip-path=\"url(#p8073d79e94)\">\n     <use style=\"fill:#1f77b4;\" x=\"89.383702\" xlink:href=\"#C0_0_bfd001e06f\" y=\"286.164069\"/>\n    </g>\n    <g clip-path=\"url(#p8073d79e94)\">\n     <use style=\"fill:#1f77b4;\" x=\"101.166641\" xlink:href=\"#C0_0_bfd001e06f\" y=\"160.94329\"/>\n    </g>\n    <g clip-path=\"url(#p8073d79e94)\">\n     <use style=\"fill:#1f77b4;\" x=\"93.26652\" xlink:href=\"#C0_0_bfd001e06f\" y=\"188.77013\"/>\n    </g>\n    <g clip-path=\"url(#p8073d79e94)\">\n     <use style=\"fill:#1f77b4;\" x=\"92.222345\" xlink:href=\"#C0_0_bfd001e06f\" y=\"147.02987\"/>\n    </g>\n   </g>\n   <g id=\"PathCollection_2\">\n    <defs>\n     <path d=\"M 0 2.5 \nC 0.663008 2.5 1.29895 2.236584 1.767767 1.767767 \nC 2.236584 1.29895 2.5 0.663008 2.5 -0 \nC 2.5 -0.663008 2.236584 -1.29895 1.767767 -1.767767 \nC 1.29895 -2.236584 0.663008 -2.5 0 -2.5 \nC -0.663008 -2.5 -1.29895 -2.236584 -1.767767 -1.767767 \nC -2.236584 -1.29895 -2.5 -0.663008 -2.5 0 \nC -2.5 0.663008 -2.236584 1.29895 -1.767767 1.767767 \nC -1.29895 2.236584 -0.663008 2.5 0 2.5 \nz\n\" id=\"C1_0_3fee53fb6f\"/>\n    </defs>\n    <g clip-path=\"url(#p8073d79e94)\">\n     <use style=\"fill:#ff7f0e;\" x=\"200.315491\" xlink:href=\"#C1_0_3fee53fb6f\" y=\"258.337229\"/>\n    </g>\n    <g clip-path=\"url(#p8073d79e94)\">\n     <use style=\"fill:#ff7f0e;\" x=\"202.85037\" xlink:href=\"#C1_0_3fee53fb6f\" y=\"174.85671\"/>\n    </g>\n    <g clip-path=\"url(#p8073d79e94)\">\n     <use style=\"fill:#ff7f0e;\" x=\"202.596166\" xlink:href=\"#C1_0_3fee53fb6f\" y=\"230.51039\"/>\n    </g>\n    <g clip-path=\"url(#p8073d79e94)\">\n     <use style=\"fill:#ff7f0e;\" x=\"207.011358\" xlink:href=\"#C1_0_3fee53fb6f\" y=\"272.250649\"/>\n    </g>\n    <g clip-path=\"url(#p8073d79e94)\">\n     <use style=\"fill:#ff7f0e;\" x=\"197.180231\" xlink:href=\"#C1_0_3fee53fb6f\" y=\"272.250649\"/>\n    </g>\n    <g clip-path=\"url(#p8073d79e94)\">\n     <use style=\"fill:#ff7f0e;\" x=\"206.738229\" xlink:href=\"#C1_0_3fee53fb6f\" y=\"300.077489\"/>\n    </g>\n    <g clip-path=\"url(#p8073d79e94)\">\n     <use style=\"fill:#ff7f0e;\" x=\"194.364896\" xlink:href=\"#C1_0_3fee53fb6f\" y=\"216.59697\"/>\n    </g>\n    <g clip-path=\"url(#p8073d79e94)\">\n     <use style=\"fill:#ff7f0e;\" x=\"204.622049\" xlink:href=\"#C1_0_3fee53fb6f\" y=\"160.94329\"/>\n    </g>\n    <g clip-path=\"url(#p8073d79e94)\">\n     <use style=\"fill:#ff7f0e;\" x=\"191.614458\" xlink:href=\"#C1_0_3fee53fb6f\" y=\"123.840837\"/>\n    </g>\n    <g clip-path=\"url(#p8073d79e94)\">\n     <use style=\"fill:#ff7f0e;\" x=\"195.776845\" xlink:href=\"#C1_0_3fee53fb6f\" y=\"313.990909\"/>\n    </g>\n    <g clip-path=\"url(#p8073d79e94)\">\n     <use style=\"fill:#ff7f0e;\" x=\"190.346958\" xlink:href=\"#C1_0_3fee53fb6f\" y=\"126.15974\"/>\n    </g>\n    <g clip-path=\"url(#p8073d79e94)\">\n     <use style=\"fill:#ff7f0e;\" x=\"191.14461\" xlink:href=\"#C1_0_3fee53fb6f\" y=\"244.42381\"/>\n    </g>\n    <g clip-path=\"url(#p8073d79e94)\">\n     <use style=\"fill:#ff7f0e;\" x=\"193.200061\" xlink:href=\"#C1_0_3fee53fb6f\" y=\"167.9\"/>\n    </g>\n    <g clip-path=\"url(#p8073d79e94)\">\n     <use style=\"fill:#ff7f0e;\" x=\"201.000589\" xlink:href=\"#C1_0_3fee53fb6f\" y=\"167.9\"/>\n    </g>\n    <g clip-path=\"url(#p8073d79e94)\">\n     <use style=\"fill:#ff7f0e;\" x=\"196.267608\" xlink:href=\"#C1_0_3fee53fb6f\" y=\"244.42381\"/>\n    </g>\n    <g clip-path=\"url(#p8073d79e94)\">\n     <use style=\"fill:#ff7f0e;\" x=\"201.48082\" xlink:href=\"#C1_0_3fee53fb6f\" y=\"112.24632\"/>\n    </g>\n    <g clip-path=\"url(#p8073d79e94)\">\n     <use style=\"fill:#ff7f0e;\" x=\"191.334901\" xlink:href=\"#C1_0_3fee53fb6f\" y=\"147.02987\"/>\n    </g>\n    <g clip-path=\"url(#p8073d79e94)\">\n     <use style=\"fill:#ff7f0e;\" x=\"191.019453\" xlink:href=\"#C1_0_3fee53fb6f\" y=\"251.380519\"/>\n    </g>\n    <g clip-path=\"url(#p8073d79e94)\">\n     <use style=\"fill:#ff7f0e;\" x=\"198.620284\" xlink:href=\"#C1_0_3fee53fb6f\" y=\"272.250649\"/>\n    </g>\n    <g clip-path=\"url(#p8073d79e94)\">\n     <use style=\"fill:#ff7f0e;\" x=\"203.70095\" xlink:href=\"#C1_0_3fee53fb6f\" y=\"223.55368\"/>\n    </g>\n    <g clip-path=\"url(#p8073d79e94)\">\n     <use style=\"fill:#ff7f0e;\" x=\"209.096723\" xlink:href=\"#C1_0_3fee53fb6f\" y=\"313.990909\"/>\n    </g>\n    <g clip-path=\"url(#p8073d79e94)\">\n     <use style=\"fill:#ff7f0e;\" x=\"209.092706\" xlink:href=\"#C1_0_3fee53fb6f\" y=\"147.02987\"/>\n    </g>\n    <g clip-path=\"url(#p8073d79e94)\">\n     <use style=\"fill:#ff7f0e;\" x=\"190.916945\" xlink:href=\"#C1_0_3fee53fb6f\" y=\"286.164069\"/>\n    </g>\n    <g clip-path=\"url(#p8073d79e94)\">\n     <use style=\"fill:#ff7f0e;\" x=\"205.932832\" xlink:href=\"#C1_0_3fee53fb6f\" y=\"313.990909\"/>\n    </g>\n    <g clip-path=\"url(#p8073d79e94)\">\n     <use style=\"fill:#ff7f0e;\" x=\"202.260887\" xlink:href=\"#C1_0_3fee53fb6f\" y=\"147.02987\"/>\n    </g>\n    <g clip-path=\"url(#p8073d79e94)\">\n     <use style=\"fill:#ff7f0e;\" x=\"197.259628\" xlink:href=\"#C1_0_3fee53fb6f\" y=\"119.20303\"/>\n    </g>\n    <g clip-path=\"url(#p8073d79e94)\">\n     <use style=\"fill:#ff7f0e;\" x=\"201.087323\" xlink:href=\"#C1_0_3fee53fb6f\" y=\"126.15974\"/>\n    </g>\n    <g clip-path=\"url(#p8073d79e94)\">\n     <use style=\"fill:#ff7f0e;\" x=\"207.922131\" xlink:href=\"#C1_0_3fee53fb6f\" y=\"174.85671\"/>\n    </g>\n    <g clip-path=\"url(#p8073d79e94)\">\n     <use style=\"fill:#ff7f0e;\" x=\"208.652861\" xlink:href=\"#C1_0_3fee53fb6f\" y=\"133.11645\"/>\n    </g>\n    <g clip-path=\"url(#p8073d79e94)\">\n     <use style=\"fill:#ff7f0e;\" x=\"206.399344\" xlink:href=\"#C1_0_3fee53fb6f\" y=\"300.077489\"/>\n    </g>\n    <g clip-path=\"url(#p8073d79e94)\">\n     <use style=\"fill:#ff7f0e;\" x=\"193.067311\" xlink:href=\"#C1_0_3fee53fb6f\" y=\"258.337229\"/>\n    </g>\n    <g clip-path=\"url(#p8073d79e94)\">\n     <use style=\"fill:#ff7f0e;\" x=\"208.114512\" xlink:href=\"#C1_0_3fee53fb6f\" y=\"209.64026\"/>\n    </g>\n    <g clip-path=\"url(#p8073d79e94)\">\n     <use style=\"fill:#ff7f0e;\" x=\"200.418227\" xlink:href=\"#C1_0_3fee53fb6f\" y=\"160.94329\"/>\n    </g>\n    <g clip-path=\"url(#p8073d79e94)\">\n     <use style=\"fill:#ff7f0e;\" x=\"210.251402\" xlink:href=\"#C1_0_3fee53fb6f\" y=\"286.164069\"/>\n    </g>\n    <g clip-path=\"url(#p8073d79e94)\">\n     <use style=\"fill:#ff7f0e;\" x=\"199.187361\" xlink:href=\"#C1_0_3fee53fb6f\" y=\"119.20303\"/>\n    </g>\n    <g clip-path=\"url(#p8073d79e94)\">\n     <use style=\"fill:#ff7f0e;\" x=\"202.281446\" xlink:href=\"#C1_0_3fee53fb6f\" y=\"133.11645\"/>\n    </g>\n    <g clip-path=\"url(#p8073d79e94)\">\n     <use style=\"fill:#ff7f0e;\" x=\"192.473499\" xlink:href=\"#C1_0_3fee53fb6f\" y=\"286.164069\"/>\n    </g>\n    <g clip-path=\"url(#p8073d79e94)\">\n     <use style=\"fill:#ff7f0e;\" x=\"205.979118\" xlink:href=\"#C1_0_3fee53fb6f\" y=\"230.51039\"/>\n    </g>\n    <g clip-path=\"url(#p8073d79e94)\">\n     <use style=\"fill:#ff7f0e;\" x=\"200.2543\" xlink:href=\"#C1_0_3fee53fb6f\" y=\"258.337229\"/>\n    </g>\n    <g clip-path=\"url(#p8073d79e94)\">\n     <use style=\"fill:#ff7f0e;\" x=\"193.603973\" xlink:href=\"#C1_0_3fee53fb6f\" y=\"230.51039\"/>\n    </g>\n    <g clip-path=\"url(#p8073d79e94)\">\n     <use style=\"fill:#ff7f0e;\" x=\"192.459774\" xlink:href=\"#C1_0_3fee53fb6f\" y=\"160.94329\"/>\n    </g>\n    <g clip-path=\"url(#p8073d79e94)\">\n     <use style=\"fill:#ff7f0e;\" x=\"205.075692\" xlink:href=\"#C1_0_3fee53fb6f\" y=\"244.42381\"/>\n    </g>\n    <g clip-path=\"url(#p8073d79e94)\">\n     <use style=\"fill:#ff7f0e;\" x=\"204.105545\" xlink:href=\"#C1_0_3fee53fb6f\" y=\"140.07316\"/>\n    </g>\n    <g clip-path=\"url(#p8073d79e94)\">\n     <use style=\"fill:#ff7f0e;\" x=\"208.054041\" xlink:href=\"#C1_0_3fee53fb6f\" y=\"105.28961\"/>\n    </g>\n    <g clip-path=\"url(#p8073d79e94)\">\n     <use style=\"fill:#ff7f0e;\" x=\"204.869129\" xlink:href=\"#C1_0_3fee53fb6f\" y=\"272.250649\"/>\n    </g>\n    <g clip-path=\"url(#p8073d79e94)\">\n     <use style=\"fill:#ff7f0e;\" x=\"194.72745\" xlink:href=\"#C1_0_3fee53fb6f\" y=\"119.20303\"/>\n    </g>\n    <g clip-path=\"url(#p8073d79e94)\">\n     <use style=\"fill:#ff7f0e;\" x=\"210.07035\" xlink:href=\"#C1_0_3fee53fb6f\" y=\"244.42381\"/>\n    </g>\n    <g clip-path=\"url(#p8073d79e94)\">\n     <use style=\"fill:#ff7f0e;\" x=\"194.988281\" xlink:href=\"#C1_0_3fee53fb6f\" y=\"105.28961\"/>\n    </g>\n    <g clip-path=\"url(#p8073d79e94)\">\n     <use style=\"fill:#ff7f0e;\" x=\"193.296561\" xlink:href=\"#C1_0_3fee53fb6f\" y=\"300.077489\"/>\n    </g>\n    <g clip-path=\"url(#p8073d79e94)\">\n     <use style=\"fill:#ff7f0e;\" x=\"190.297588\" xlink:href=\"#C1_0_3fee53fb6f\" y=\"119.20303\"/>\n    </g>\n    <g clip-path=\"url(#p8073d79e94)\">\n     <use style=\"fill:#ff7f0e;\" x=\"196.717592\" xlink:href=\"#C1_0_3fee53fb6f\" y=\"313.990909\"/>\n    </g>\n    <g clip-path=\"url(#p8073d79e94)\">\n     <use style=\"fill:#ff7f0e;\" x=\"190.274851\" xlink:href=\"#C1_0_3fee53fb6f\" y=\"49.635931\"/>\n    </g>\n    <g clip-path=\"url(#p8073d79e94)\">\n     <use style=\"fill:#ff7f0e;\" x=\"193.160266\" xlink:href=\"#C1_0_3fee53fb6f\" y=\"166.508658\"/>\n    </g>\n    <g clip-path=\"url(#p8073d79e94)\">\n     <use style=\"fill:#ff7f0e;\" x=\"206.118826\" xlink:href=\"#C1_0_3fee53fb6f\" y=\"133.11645\"/>\n    </g>\n    <g clip-path=\"url(#p8073d79e94)\">\n     <use style=\"fill:#ff7f0e;\" x=\"203.497571\" xlink:href=\"#C1_0_3fee53fb6f\" y=\"147.02987\"/>\n    </g>\n    <g clip-path=\"url(#p8073d79e94)\">\n     <use style=\"fill:#ff7f0e;\" x=\"197.444289\" xlink:href=\"#C1_0_3fee53fb6f\" y=\"160.94329\"/>\n    </g>\n    <g clip-path=\"url(#p8073d79e94)\">\n     <use style=\"fill:#ff7f0e;\" x=\"190.09509\" xlink:href=\"#C1_0_3fee53fb6f\" y=\"202.68355\"/>\n    </g>\n    <g clip-path=\"url(#p8073d79e94)\">\n     <use style=\"fill:#ff7f0e;\" x=\"209.314525\" xlink:href=\"#C1_0_3fee53fb6f\" y=\"230.51039\"/>\n    </g>\n    <g clip-path=\"url(#p8073d79e94)\">\n     <use style=\"fill:#ff7f0e;\" x=\"207.519491\" xlink:href=\"#C1_0_3fee53fb6f\" y=\"202.68355\"/>\n    </g>\n    <g clip-path=\"url(#p8073d79e94)\">\n     <use style=\"fill:#ff7f0e;\" x=\"195.66419\" xlink:href=\"#C1_0_3fee53fb6f\" y=\"244.42381\"/>\n    </g>\n    <g clip-path=\"url(#p8073d79e94)\">\n     <use style=\"fill:#ff7f0e;\" x=\"207.769172\" xlink:href=\"#C1_0_3fee53fb6f\" y=\"300.077489\"/>\n    </g>\n    <g clip-path=\"url(#p8073d79e94)\">\n     <use style=\"fill:#ff7f0e;\" x=\"196.544655\" xlink:href=\"#C1_0_3fee53fb6f\" y=\"167.9\"/>\n    </g>\n    <g clip-path=\"url(#p8073d79e94)\">\n     <use style=\"fill:#ff7f0e;\" x=\"202.524657\" xlink:href=\"#C1_0_3fee53fb6f\" y=\"216.59697\"/>\n    </g>\n    <g clip-path=\"url(#p8073d79e94)\">\n     <use style=\"fill:#ff7f0e;\" x=\"199.300711\" xlink:href=\"#C1_0_3fee53fb6f\" y=\"119.20303\"/>\n    </g>\n    <g clip-path=\"url(#p8073d79e94)\">\n     <use style=\"fill:#ff7f0e;\" x=\"190.917565\" xlink:href=\"#C1_0_3fee53fb6f\" y=\"174.85671\"/>\n    </g>\n    <g clip-path=\"url(#p8073d79e94)\">\n     <use style=\"fill:#ff7f0e;\" x=\"190.725144\" xlink:href=\"#C1_0_3fee53fb6f\" y=\"300.077489\"/>\n    </g>\n    <g clip-path=\"url(#p8073d79e94)\">\n     <use style=\"fill:#ff7f0e;\" x=\"207.24443\" xlink:href=\"#C1_0_3fee53fb6f\" y=\"258.337229\"/>\n    </g>\n    <g clip-path=\"url(#p8073d79e94)\">\n     <use style=\"fill:#ff7f0e;\" x=\"204.399613\" xlink:href=\"#C1_0_3fee53fb6f\" y=\"300.077489\"/>\n    </g>\n    <g clip-path=\"url(#p8073d79e94)\">\n     <use style=\"fill:#ff7f0e;\" x=\"199.208682\" xlink:href=\"#C1_0_3fee53fb6f\" y=\"258.337229\"/>\n    </g>\n    <g clip-path=\"url(#p8073d79e94)\">\n     <use style=\"fill:#ff7f0e;\" x=\"192.575539\" xlink:href=\"#C1_0_3fee53fb6f\" y=\"216.59697\"/>\n    </g>\n    <g clip-path=\"url(#p8073d79e94)\">\n     <use style=\"fill:#ff7f0e;\" x=\"208.066899\" xlink:href=\"#C1_0_3fee53fb6f\" y=\"202.68355\"/>\n    </g>\n    <g clip-path=\"url(#p8073d79e94)\">\n     <use style=\"fill:#ff7f0e;\" x=\"191.345539\" xlink:href=\"#C1_0_3fee53fb6f\" y=\"223.55368\"/>\n    </g>\n    <g clip-path=\"url(#p8073d79e94)\">\n     <use style=\"fill:#ff7f0e;\" x=\"195.738101\" xlink:href=\"#C1_0_3fee53fb6f\" y=\"147.02987\"/>\n    </g>\n    <g clip-path=\"url(#p8073d79e94)\">\n     <use style=\"fill:#ff7f0e;\" x=\"210.178948\" xlink:href=\"#C1_0_3fee53fb6f\" y=\"160.94329\"/>\n    </g>\n    <g clip-path=\"url(#p8073d79e94)\">\n     <use style=\"fill:#ff7f0e;\" x=\"190.595198\" xlink:href=\"#C1_0_3fee53fb6f\" y=\"105.28961\"/>\n    </g>\n    <g clip-path=\"url(#p8073d79e94)\">\n     <use style=\"fill:#ff7f0e;\" x=\"190.979775\" xlink:href=\"#C1_0_3fee53fb6f\" y=\"174.85671\"/>\n    </g>\n    <g clip-path=\"url(#p8073d79e94)\">\n     <use style=\"fill:#ff7f0e;\" x=\"196.825142\" xlink:href=\"#C1_0_3fee53fb6f\" y=\"119.20303\"/>\n    </g>\n    <g clip-path=\"url(#p8073d79e94)\">\n     <use style=\"fill:#ff7f0e;\" x=\"200.327214\" xlink:href=\"#C1_0_3fee53fb6f\" y=\"272.250649\"/>\n    </g>\n    <g clip-path=\"url(#p8073d79e94)\">\n     <use style=\"fill:#ff7f0e;\" x=\"189.832118\" xlink:href=\"#C1_0_3fee53fb6f\" y=\"216.59697\"/>\n    </g>\n    <g clip-path=\"url(#p8073d79e94)\">\n     <use style=\"fill:#ff7f0e;\" x=\"196.232544\" xlink:href=\"#C1_0_3fee53fb6f\" y=\"147.02987\"/>\n    </g>\n    <g clip-path=\"url(#p8073d79e94)\">\n     <use style=\"fill:#ff7f0e;\" x=\"195.112151\" xlink:href=\"#C1_0_3fee53fb6f\" y=\"202.68355\"/>\n    </g>\n    <g clip-path=\"url(#p8073d79e94)\">\n     <use style=\"fill:#ff7f0e;\" x=\"201.672017\" xlink:href=\"#C1_0_3fee53fb6f\" y=\"209.64026\"/>\n    </g>\n    <g clip-path=\"url(#p8073d79e94)\">\n     <use style=\"fill:#ff7f0e;\" x=\"200.151626\" xlink:href=\"#C1_0_3fee53fb6f\" y=\"160.94329\"/>\n    </g>\n    <g clip-path=\"url(#p8073d79e94)\">\n     <use style=\"fill:#ff7f0e;\" x=\"190.455507\" xlink:href=\"#C1_0_3fee53fb6f\" y=\"209.64026\"/>\n    </g>\n    <g clip-path=\"url(#p8073d79e94)\">\n     <use style=\"fill:#ff7f0e;\" x=\"204.681358\" xlink:href=\"#C1_0_3fee53fb6f\" y=\"188.77013\"/>\n    </g>\n    <g clip-path=\"url(#p8073d79e94)\">\n     <use style=\"fill:#ff7f0e;\" x=\"194.783754\" xlink:href=\"#C1_0_3fee53fb6f\" y=\"223.55368\"/>\n    </g>\n    <g clip-path=\"url(#p8073d79e94)\">\n     <use style=\"fill:#ff7f0e;\" x=\"204.355812\" xlink:href=\"#C1_0_3fee53fb6f\" y=\"272.250649\"/>\n    </g>\n    <g clip-path=\"url(#p8073d79e94)\">\n     <use style=\"fill:#ff7f0e;\" x=\"201.93965\" xlink:href=\"#C1_0_3fee53fb6f\" y=\"216.59697\"/>\n    </g>\n    <g clip-path=\"url(#p8073d79e94)\">\n     <use style=\"fill:#ff7f0e;\" x=\"203.73575\" xlink:href=\"#C1_0_3fee53fb6f\" y=\"133.11645\"/>\n    </g>\n    <g clip-path=\"url(#p8073d79e94)\">\n     <use style=\"fill:#ff7f0e;\" x=\"196.968131\" xlink:href=\"#C1_0_3fee53fb6f\" y=\"300.077489\"/>\n    </g>\n    <g clip-path=\"url(#p8073d79e94)\">\n     <use style=\"fill:#ff7f0e;\" x=\"201.659605\" xlink:href=\"#C1_0_3fee53fb6f\" y=\"258.337229\"/>\n    </g>\n    <g clip-path=\"url(#p8073d79e94)\">\n     <use style=\"fill:#ff7f0e;\" x=\"210.322364\" xlink:href=\"#C1_0_3fee53fb6f\" y=\"286.164069\"/>\n    </g>\n    <g clip-path=\"url(#p8073d79e94)\">\n     <use style=\"fill:#ff7f0e;\" x=\"191.13514\" xlink:href=\"#C1_0_3fee53fb6f\" y=\"188.77013\"/>\n    </g>\n    <g clip-path=\"url(#p8073d79e94)\">\n     <use style=\"fill:#ff7f0e;\" x=\"203.340369\" xlink:href=\"#C1_0_3fee53fb6f\" y=\"272.250649\"/>\n    </g>\n    <g clip-path=\"url(#p8073d79e94)\">\n     <use style=\"fill:#ff7f0e;\" x=\"197.082417\" xlink:href=\"#C1_0_3fee53fb6f\" y=\"119.20303\"/>\n    </g>\n    <g clip-path=\"url(#p8073d79e94)\">\n     <use style=\"fill:#ff7f0e;\" x=\"196.368716\" xlink:href=\"#C1_0_3fee53fb6f\" y=\"286.164069\"/>\n    </g>\n    <g clip-path=\"url(#p8073d79e94)\">\n     <use style=\"fill:#ff7f0e;\" x=\"201.084967\" xlink:href=\"#C1_0_3fee53fb6f\" y=\"216.59697\"/>\n    </g>\n    <g clip-path=\"url(#p8073d79e94)\">\n     <use style=\"fill:#ff7f0e;\" x=\"204.635564\" xlink:href=\"#C1_0_3fee53fb6f\" y=\"188.77013\"/>\n    </g>\n    <g clip-path=\"url(#p8073d79e94)\">\n     <use style=\"fill:#ff7f0e;\" x=\"193.244325\" xlink:href=\"#C1_0_3fee53fb6f\" y=\"244.42381\"/>\n    </g>\n    <g clip-path=\"url(#p8073d79e94)\">\n     <use style=\"fill:#ff7f0e;\" x=\"196.065912\" xlink:href=\"#C1_0_3fee53fb6f\" y=\"272.250649\"/>\n    </g>\n    <g clip-path=\"url(#p8073d79e94)\">\n     <use style=\"fill:#ff7f0e;\" x=\"203.069043\" xlink:href=\"#C1_0_3fee53fb6f\" y=\"244.42381\"/>\n    </g>\n    <g clip-path=\"url(#p8073d79e94)\">\n     <use style=\"fill:#ff7f0e;\" x=\"194.186543\" xlink:href=\"#C1_0_3fee53fb6f\" y=\"230.51039\"/>\n    </g>\n    <g clip-path=\"url(#p8073d79e94)\">\n     <use style=\"fill:#ff7f0e;\" x=\"194.145313\" xlink:href=\"#C1_0_3fee53fb6f\" y=\"286.164069\"/>\n    </g>\n    <g clip-path=\"url(#p8073d79e94)\">\n     <use style=\"fill:#ff7f0e;\" x=\"201.008985\" xlink:href=\"#C1_0_3fee53fb6f\" y=\"244.42381\"/>\n    </g>\n    <g clip-path=\"url(#p8073d79e94)\">\n     <use style=\"fill:#ff7f0e;\" x=\"206.088959\" xlink:href=\"#C1_0_3fee53fb6f\" y=\"216.59697\"/>\n    </g>\n    <g clip-path=\"url(#p8073d79e94)\">\n     <use style=\"fill:#ff7f0e;\" x=\"204.758121\" xlink:href=\"#C1_0_3fee53fb6f\" y=\"188.77013\"/>\n    </g>\n    <g clip-path=\"url(#p8073d79e94)\">\n     <use style=\"fill:#ff7f0e;\" x=\"201.522919\" xlink:href=\"#C1_0_3fee53fb6f\" y=\"188.77013\"/>\n    </g>\n    <g clip-path=\"url(#p8073d79e94)\">\n     <use style=\"fill:#ff7f0e;\" x=\"198.542151\" xlink:href=\"#C1_0_3fee53fb6f\" y=\"272.250649\"/>\n    </g>\n    <g clip-path=\"url(#p8073d79e94)\">\n     <use style=\"fill:#ff7f0e;\" x=\"204.239068\" xlink:href=\"#C1_0_3fee53fb6f\" y=\"244.42381\"/>\n    </g>\n    <g clip-path=\"url(#p8073d79e94)\">\n     <use style=\"fill:#ff7f0e;\" x=\"200.229103\" xlink:href=\"#C1_0_3fee53fb6f\" y=\"21.809091\"/>\n    </g>\n    <g clip-path=\"url(#p8073d79e94)\">\n     <use style=\"fill:#ff7f0e;\" x=\"206.538776\" xlink:href=\"#C1_0_3fee53fb6f\" y=\"140.07316\"/>\n    </g>\n    <g clip-path=\"url(#p8073d79e94)\">\n     <use style=\"fill:#ff7f0e;\" x=\"204.545401\" xlink:href=\"#C1_0_3fee53fb6f\" y=\"202.68355\"/>\n    </g>\n    <g clip-path=\"url(#p8073d79e94)\">\n     <use style=\"fill:#ff7f0e;\" x=\"191.144093\" xlink:href=\"#C1_0_3fee53fb6f\" y=\"91.37619\"/>\n    </g>\n    <g clip-path=\"url(#p8073d79e94)\">\n     <use style=\"fill:#ff7f0e;\" x=\"191.091914\" xlink:href=\"#C1_0_3fee53fb6f\" y=\"119.20303\"/>\n    </g>\n    <g clip-path=\"url(#p8073d79e94)\">\n     <use style=\"fill:#ff7f0e;\" x=\"190.136369\" xlink:href=\"#C1_0_3fee53fb6f\" y=\"313.990909\"/>\n    </g>\n    <g clip-path=\"url(#p8073d79e94)\">\n     <use style=\"fill:#ff7f0e;\" x=\"189.819854\" xlink:href=\"#C1_0_3fee53fb6f\" y=\"188.77013\"/>\n    </g>\n    <g clip-path=\"url(#p8073d79e94)\">\n     <use style=\"fill:#ff7f0e;\" x=\"208.75104\" xlink:href=\"#C1_0_3fee53fb6f\" y=\"286.164069\"/>\n    </g>\n    <g clip-path=\"url(#p8073d79e94)\">\n     <use style=\"fill:#ff7f0e;\" x=\"195.582623\" xlink:href=\"#C1_0_3fee53fb6f\" y=\"202.68355\"/>\n    </g>\n    <g clip-path=\"url(#p8073d79e94)\">\n     <use style=\"fill:#ff7f0e;\" x=\"199.133727\" xlink:href=\"#C1_0_3fee53fb6f\" y=\"105.28961\"/>\n    </g>\n    <g clip-path=\"url(#p8073d79e94)\">\n     <use style=\"fill:#ff7f0e;\" x=\"198.808522\" xlink:href=\"#C1_0_3fee53fb6f\" y=\"174.85671\"/>\n    </g>\n    <g clip-path=\"url(#p8073d79e94)\">\n     <use style=\"fill:#ff7f0e;\" x=\"196.353037\" xlink:href=\"#C1_0_3fee53fb6f\" y=\"160.94329\"/>\n    </g>\n    <g clip-path=\"url(#p8073d79e94)\">\n     <use style=\"fill:#ff7f0e;\" x=\"204.492408\" xlink:href=\"#C1_0_3fee53fb6f\" y=\"286.164069\"/>\n    </g>\n    <g clip-path=\"url(#p8073d79e94)\">\n     <use style=\"fill:#ff7f0e;\" x=\"196.269532\" xlink:href=\"#C1_0_3fee53fb6f\" y=\"313.990909\"/>\n    </g>\n    <g clip-path=\"url(#p8073d79e94)\">\n     <use style=\"fill:#ff7f0e;\" x=\"199.308249\" xlink:href=\"#C1_0_3fee53fb6f\" y=\"49.635931\"/>\n    </g>\n    <g clip-path=\"url(#p8073d79e94)\">\n     <use style=\"fill:#ff7f0e;\" x=\"191.524529\" xlink:href=\"#C1_0_3fee53fb6f\" y=\"105.28961\"/>\n    </g>\n    <g clip-path=\"url(#p8073d79e94)\">\n     <use style=\"fill:#ff7f0e;\" x=\"205.066109\" xlink:href=\"#C1_0_3fee53fb6f\" y=\"272.250649\"/>\n    </g>\n   </g>\n   <g id=\"PathCollection_3\">\n    <defs>\n     <path d=\"M 0 2.5 \nC 0.663008 2.5 1.29895 2.236584 1.767767 1.767767 \nC 2.236584 1.29895 2.5 0.663008 2.5 -0 \nC 2.5 -0.663008 2.236584 -1.29895 1.767767 -1.767767 \nC 1.29895 -2.236584 0.663008 -2.5 0 -2.5 \nC -0.663008 -2.5 -1.29895 -2.236584 -1.767767 -1.767767 \nC -2.236584 -1.29895 -2.5 -0.663008 -2.5 0 \nC -2.5 0.663008 -2.236584 1.29895 -1.767767 1.767767 \nC -1.29895 2.236584 -0.663008 2.5 0 2.5 \nz\n\" id=\"C2_0_80fc956938\"/>\n    </defs>\n    <g clip-path=\"url(#p8073d79e94)\">\n     <use style=\"fill:#2ca02c;\" x=\"300.768338\" xlink:href=\"#C2_0_80fc956938\" y=\"160.94329\"/>\n    </g>\n    <g clip-path=\"url(#p8073d79e94)\">\n     <use style=\"fill:#2ca02c;\" x=\"315.424189\" xlink:href=\"#C2_0_80fc956938\" y=\"258.337229\"/>\n    </g>\n    <g clip-path=\"url(#p8073d79e94)\">\n     <use style=\"fill:#2ca02c;\" x=\"302.686188\" xlink:href=\"#C2_0_80fc956938\" y=\"202.68355\"/>\n    </g>\n    <g clip-path=\"url(#p8073d79e94)\">\n     <use style=\"fill:#2ca02c;\" x=\"305.386877\" xlink:href=\"#C2_0_80fc956938\" y=\"300.077489\"/>\n    </g>\n    <g clip-path=\"url(#p8073d79e94)\">\n     <use style=\"fill:#2ca02c;\" x=\"298.706549\" xlink:href=\"#C2_0_80fc956938\" y=\"174.85671\"/>\n    </g>\n    <g clip-path=\"url(#p8073d79e94)\">\n     <use style=\"fill:#2ca02c;\" x=\"311.210905\" xlink:href=\"#C2_0_80fc956938\" y=\"300.077489\"/>\n    </g>\n    <g clip-path=\"url(#p8073d79e94)\">\n     <use style=\"fill:#2ca02c;\" x=\"303.783617\" xlink:href=\"#C2_0_80fc956938\" y=\"181.81342\"/>\n    </g>\n    <g clip-path=\"url(#p8073d79e94)\">\n     <use style=\"fill:#2ca02c;\" x=\"304.868247\" xlink:href=\"#C2_0_80fc956938\" y=\"258.337229\"/>\n    </g>\n    <g clip-path=\"url(#p8073d79e94)\">\n     <use style=\"fill:#2ca02c;\" x=\"311.281175\" xlink:href=\"#C2_0_80fc956938\" y=\"174.85671\"/>\n    </g>\n    <g clip-path=\"url(#p8073d79e94)\">\n     <use style=\"fill:#2ca02c;\" x=\"311.501071\" xlink:href=\"#C2_0_80fc956938\" y=\"133.11645\"/>\n    </g>\n    <g clip-path=\"url(#p8073d79e94)\">\n     <use style=\"fill:#2ca02c;\" x=\"309.789473\" xlink:href=\"#C2_0_80fc956938\" y=\"184.132323\"/>\n    </g>\n    <g clip-path=\"url(#p8073d79e94)\">\n     <use style=\"fill:#2ca02c;\" x=\"305.688816\" xlink:href=\"#C2_0_80fc956938\" y=\"209.64026\"/>\n    </g>\n    <g clip-path=\"url(#p8073d79e94)\">\n     <use style=\"fill:#2ca02c;\" x=\"314.457758\" xlink:href=\"#C2_0_80fc956938\" y=\"105.28961\"/>\n    </g>\n    <g clip-path=\"url(#p8073d79e94)\">\n     <use style=\"fill:#2ca02c;\" x=\"297.017613\" xlink:href=\"#C2_0_80fc956938\" y=\"237.4671\"/>\n    </g>\n    <g clip-path=\"url(#p8073d79e94)\">\n     <use style=\"fill:#2ca02c;\" x=\"307.276252\" xlink:href=\"#C2_0_80fc956938\" y=\"265.293939\"/>\n    </g>\n    <g clip-path=\"url(#p8073d79e94)\">\n     <use style=\"fill:#2ca02c;\" x=\"296.812605\" xlink:href=\"#C2_0_80fc956938\" y=\"244.42381\"/>\n    </g>\n    <g clip-path=\"url(#p8073d79e94)\">\n     <use style=\"fill:#2ca02c;\" x=\"299.543067\" xlink:href=\"#C2_0_80fc956938\" y=\"167.9\"/>\n    </g>\n    <g clip-path=\"url(#p8073d79e94)\">\n     <use style=\"fill:#2ca02c;\" x=\"306.876421\" xlink:href=\"#C2_0_80fc956938\" y=\"216.59697\"/>\n    </g>\n    <g clip-path=\"url(#p8073d79e94)\">\n     <use style=\"fill:#2ca02c;\" x=\"296.089821\" xlink:href=\"#C2_0_80fc956938\" y=\"170.218903\"/>\n    </g>\n    <g clip-path=\"url(#p8073d79e94)\">\n     <use style=\"fill:#2ca02c;\" x=\"305.296092\" xlink:href=\"#C2_0_80fc956938\" y=\"313.990909\"/>\n    </g>\n    <g clip-path=\"url(#p8073d79e94)\">\n     <use style=\"fill:#2ca02c;\" x=\"295.904235\" xlink:href=\"#C2_0_80fc956938\" y=\"195.72684\"/>\n    </g>\n    <g clip-path=\"url(#p8073d79e94)\">\n     <use style=\"fill:#2ca02c;\" x=\"316.756609\" xlink:href=\"#C2_0_80fc956938\" y=\"272.250649\"/>\n    </g>\n    <g clip-path=\"url(#p8073d79e94)\">\n     <use style=\"fill:#2ca02c;\" x=\"306.181037\" xlink:href=\"#C2_0_80fc956938\" y=\"216.59697\"/>\n    </g>\n    <g clip-path=\"url(#p8073d79e94)\">\n     <use style=\"fill:#2ca02c;\" x=\"301.417283\" xlink:href=\"#C2_0_80fc956938\" y=\"174.85671\"/>\n    </g>\n    <g clip-path=\"url(#p8073d79e94)\">\n     <use style=\"fill:#2ca02c;\" x=\"305.605152\" xlink:href=\"#C2_0_80fc956938\" y=\"188.77013\"/>\n    </g>\n    <g clip-path=\"url(#p8073d79e94)\">\n     <use style=\"fill:#2ca02c;\" x=\"309.138239\" xlink:href=\"#C2_0_80fc956938\" y=\"300.077489\"/>\n    </g>\n    <g clip-path=\"url(#p8073d79e94)\">\n     <use style=\"fill:#2ca02c;\" x=\"307.255392\" xlink:href=\"#C2_0_80fc956938\" y=\"209.64026\"/>\n    </g>\n    <g clip-path=\"url(#p8073d79e94)\">\n     <use style=\"fill:#2ca02c;\" x=\"302.996631\" xlink:href=\"#C2_0_80fc956938\" y=\"147.02987\"/>\n    </g>\n    <g clip-path=\"url(#p8073d79e94)\">\n     <use style=\"fill:#2ca02c;\" x=\"307.503871\" xlink:href=\"#C2_0_80fc956938\" y=\"160.94329\"/>\n    </g>\n    <g clip-path=\"url(#p8073d79e94)\">\n     <use style=\"fill:#2ca02c;\" x=\"313.785506\" xlink:href=\"#C2_0_80fc956938\" y=\"286.164069\"/>\n    </g>\n    <g clip-path=\"url(#p8073d79e94)\">\n     <use style=\"fill:#2ca02c;\" x=\"310.91893\" xlink:href=\"#C2_0_80fc956938\" y=\"174.85671\"/>\n    </g>\n    <g clip-path=\"url(#p8073d79e94)\">\n     <use style=\"fill:#2ca02c;\" x=\"302.719533\" xlink:href=\"#C2_0_80fc956938\" y=\"272.250649\"/>\n    </g>\n    <g clip-path=\"url(#p8073d79e94)\">\n     <use style=\"fill:#2ca02c;\" x=\"308.977888\" xlink:href=\"#C2_0_80fc956938\" y=\"216.59697\"/>\n    </g>\n    <g clip-path=\"url(#p8073d79e94)\">\n     <use style=\"fill:#2ca02c;\" x=\"316.279935\" xlink:href=\"#C2_0_80fc956938\" y=\"21.809091\"/>\n    </g>\n    <g clip-path=\"url(#p8073d79e94)\">\n     <use style=\"fill:#2ca02c;\" x=\"309.976661\" xlink:href=\"#C2_0_80fc956938\" y=\"167.9\"/>\n    </g>\n    <g clip-path=\"url(#p8073d79e94)\">\n     <use style=\"fill:#2ca02c;\" x=\"311.20364\" xlink:href=\"#C2_0_80fc956938\" y=\"160.94329\"/>\n    </g>\n    <g clip-path=\"url(#p8073d79e94)\">\n     <use style=\"fill:#2ca02c;\" x=\"309.418178\" xlink:href=\"#C2_0_80fc956938\" y=\"265.293939\"/>\n    </g>\n    <g clip-path=\"url(#p8073d79e94)\">\n     <use style=\"fill:#2ca02c;\" x=\"308.514863\" xlink:href=\"#C2_0_80fc956938\" y=\"202.68355\"/>\n    </g>\n    <g clip-path=\"url(#p8073d79e94)\">\n     <use style=\"fill:#2ca02c;\" x=\"313.873867\" xlink:href=\"#C2_0_80fc956938\" y=\"147.02987\"/>\n    </g>\n    <g clip-path=\"url(#p8073d79e94)\">\n     <use style=\"fill:#2ca02c;\" x=\"302.51099\" xlink:href=\"#C2_0_80fc956938\" y=\"174.85671\"/>\n    </g>\n    <g clip-path=\"url(#p8073d79e94)\">\n     <use style=\"fill:#2ca02c;\" x=\"299.143992\" xlink:href=\"#C2_0_80fc956938\" y=\"133.11645\"/>\n    </g>\n    <g clip-path=\"url(#p8073d79e94)\">\n     <use style=\"fill:#2ca02c;\" x=\"301.498646\" xlink:href=\"#C2_0_80fc956938\" y=\"126.15974\"/>\n    </g>\n    <g clip-path=\"url(#p8073d79e94)\">\n     <use style=\"fill:#2ca02c;\" x=\"303.300669\" xlink:href=\"#C2_0_80fc956938\" y=\"160.94329\"/>\n    </g>\n    <g clip-path=\"url(#p8073d79e94)\">\n     <use style=\"fill:#2ca02c;\" x=\"313.539513\" xlink:href=\"#C2_0_80fc956938\" y=\"279.207359\"/>\n    </g>\n    <g clip-path=\"url(#p8073d79e94)\">\n     <use style=\"fill:#2ca02c;\" x=\"296.920213\" xlink:href=\"#C2_0_80fc956938\" y=\"202.68355\"/>\n    </g>\n    <g clip-path=\"url(#p8073d79e94)\">\n     <use style=\"fill:#2ca02c;\" x=\"303.940409\" xlink:href=\"#C2_0_80fc956938\" y=\"253.699423\"/>\n    </g>\n    <g clip-path=\"url(#p8073d79e94)\">\n     <use style=\"fill:#2ca02c;\" x=\"311.92236\" xlink:href=\"#C2_0_80fc956938\" y=\"160.94329\"/>\n    </g>\n    <g clip-path=\"url(#p8073d79e94)\">\n     <use style=\"fill:#2ca02c;\" x=\"301.508663\" xlink:href=\"#C2_0_80fc956938\" y=\"300.077489\"/>\n    </g>\n    <g clip-path=\"url(#p8073d79e94)\">\n     <use style=\"fill:#2ca02c;\" x=\"296.220892\" xlink:href=\"#C2_0_80fc956938\" y=\"230.51039\"/>\n    </g>\n    <g clip-path=\"url(#p8073d79e94)\">\n     <use style=\"fill:#2ca02c;\" x=\"315.5086\" xlink:href=\"#C2_0_80fc956938\" y=\"202.68355\"/>\n    </g>\n    <g clip-path=\"url(#p8073d79e94)\">\n     <use style=\"fill:#2ca02c;\" x=\"301.583818\" xlink:href=\"#C2_0_80fc956938\" y=\"174.85671\"/>\n    </g>\n    <g clip-path=\"url(#p8073d79e94)\">\n     <use style=\"fill:#2ca02c;\" x=\"309.240154\" xlink:href=\"#C2_0_80fc956938\" y=\"244.42381\"/>\n    </g>\n    <g clip-path=\"url(#p8073d79e94)\">\n     <use style=\"fill:#2ca02c;\" x=\"310.8786\" xlink:href=\"#C2_0_80fc956938\" y=\"313.990909\"/>\n    </g>\n    <g clip-path=\"url(#p8073d79e94)\">\n     <use style=\"fill:#2ca02c;\" x=\"303.531618\" xlink:href=\"#C2_0_80fc956938\" y=\"202.68355\"/>\n    </g>\n    <g clip-path=\"url(#p8073d79e94)\">\n     <use style=\"fill:#2ca02c;\" x=\"305.753937\" xlink:href=\"#C2_0_80fc956938\" y=\"279.207359\"/>\n    </g>\n    <g clip-path=\"url(#p8073d79e94)\">\n     <use style=\"fill:#2ca02c;\" x=\"316.450339\" xlink:href=\"#C2_0_80fc956938\" y=\"133.11645\"/>\n    </g>\n    <g clip-path=\"url(#p8073d79e94)\">\n     <use style=\"fill:#2ca02c;\" x=\"303.787359\" xlink:href=\"#C2_0_80fc956938\" y=\"313.990909\"/>\n    </g>\n    <g clip-path=\"url(#p8073d79e94)\">\n     <use style=\"fill:#2ca02c;\" x=\"297.040701\" xlink:href=\"#C2_0_80fc956938\" y=\"188.77013\"/>\n    </g>\n    <g clip-path=\"url(#p8073d79e94)\">\n     <use style=\"fill:#2ca02c;\" x=\"312.277289\" xlink:href=\"#C2_0_80fc956938\" y=\"181.81342\"/>\n    </g>\n    <g clip-path=\"url(#p8073d79e94)\">\n     <use style=\"fill:#2ca02c;\" x=\"314.032427\" xlink:href=\"#C2_0_80fc956938\" y=\"281.526263\"/>\n    </g>\n    <g clip-path=\"url(#p8073d79e94)\">\n     <use style=\"fill:#2ca02c;\" x=\"314.900746\" xlink:href=\"#C2_0_80fc956938\" y=\"119.20303\"/>\n    </g>\n    <g clip-path=\"url(#p8073d79e94)\">\n     <use style=\"fill:#2ca02c;\" x=\"303.538702\" xlink:href=\"#C2_0_80fc956938\" y=\"133.11645\"/>\n    </g>\n    <g clip-path=\"url(#p8073d79e94)\">\n     <use style=\"fill:#2ca02c;\" x=\"305.366081\" xlink:href=\"#C2_0_80fc956938\" y=\"230.51039\"/>\n    </g>\n    <g clip-path=\"url(#p8073d79e94)\">\n     <use style=\"fill:#2ca02c;\" x=\"314.036657\" xlink:href=\"#C2_0_80fc956938\" y=\"223.55368\"/>\n    </g>\n    <g clip-path=\"url(#p8073d79e94)\">\n     <use style=\"fill:#2ca02c;\" x=\"297.602113\" xlink:href=\"#C2_0_80fc956938\" y=\"244.42381\"/>\n    </g>\n    <g clip-path=\"url(#p8073d79e94)\">\n     <use style=\"fill:#2ca02c;\" x=\"307.393419\" xlink:href=\"#C2_0_80fc956938\" y=\"216.59697\"/>\n    </g>\n    <g clip-path=\"url(#p8073d79e94)\">\n     <use style=\"fill:#2ca02c;\" x=\"301.320999\" xlink:href=\"#C2_0_80fc956938\" y=\"286.164069\"/>\n    </g>\n    <g clip-path=\"url(#p8073d79e94)\">\n     <use style=\"fill:#2ca02c;\" x=\"305.997973\" xlink:href=\"#C2_0_80fc956938\" y=\"174.85671\"/>\n    </g>\n    <g clip-path=\"url(#p8073d79e94)\">\n     <use style=\"fill:#2ca02c;\" x=\"297.935214\" xlink:href=\"#C2_0_80fc956938\" y=\"251.380519\"/>\n    </g>\n    <g clip-path=\"url(#p8073d79e94)\">\n     <use style=\"fill:#2ca02c;\" x=\"306.478965\" xlink:href=\"#C2_0_80fc956938\" y=\"223.55368\"/>\n    </g>\n    <g clip-path=\"url(#p8073d79e94)\">\n     <use style=\"fill:#2ca02c;\" x=\"304.489259\" xlink:href=\"#C2_0_80fc956938\" y=\"216.59697\"/>\n    </g>\n    <g clip-path=\"url(#p8073d79e94)\">\n     <use style=\"fill:#2ca02c;\" x=\"316.576993\" xlink:href=\"#C2_0_80fc956938\" y=\"237.4671\"/>\n    </g>\n    <g clip-path=\"url(#p8073d79e94)\">\n     <use style=\"fill:#2ca02c;\" x=\"299.585801\" xlink:href=\"#C2_0_80fc956938\" y=\"216.59697\"/>\n    </g>\n    <g clip-path=\"url(#p8073d79e94)\">\n     <use style=\"fill:#2ca02c;\" x=\"308.10238\" xlink:href=\"#C2_0_80fc956938\" y=\"272.250649\"/>\n    </g>\n    <g clip-path=\"url(#p8073d79e94)\">\n     <use style=\"fill:#2ca02c;\" x=\"310.25905\" xlink:href=\"#C2_0_80fc956938\" y=\"160.94329\"/>\n    </g>\n    <g clip-path=\"url(#p8073d79e94)\">\n     <use style=\"fill:#2ca02c;\" x=\"313.38366\" xlink:href=\"#C2_0_80fc956938\" y=\"258.337229\"/>\n    </g>\n    <g clip-path=\"url(#p8073d79e94)\">\n     <use style=\"fill:#2ca02c;\" x=\"303.217075\" xlink:href=\"#C2_0_80fc956938\" y=\"91.37619\"/>\n    </g>\n    <g clip-path=\"url(#p8073d79e94)\">\n     <use style=\"fill:#2ca02c;\" x=\"305.456391\" xlink:href=\"#C2_0_80fc956938\" y=\"202.68355\"/>\n    </g>\n    <g clip-path=\"url(#p8073d79e94)\">\n     <use style=\"fill:#2ca02c;\" x=\"303.570549\" xlink:href=\"#C2_0_80fc956938\" y=\"147.02987\"/>\n    </g>\n    <g clip-path=\"url(#p8073d79e94)\">\n     <use style=\"fill:#2ca02c;\" x=\"306.278482\" xlink:href=\"#C2_0_80fc956938\" y=\"300.077489\"/>\n    </g>\n    <g clip-path=\"url(#p8073d79e94)\">\n     <use style=\"fill:#2ca02c;\" x=\"302.302897\" xlink:href=\"#C2_0_80fc956938\" y=\"198.045743\"/>\n    </g>\n    <g clip-path=\"url(#p8073d79e94)\">\n     <use style=\"fill:#2ca02c;\" x=\"300.940995\" xlink:href=\"#C2_0_80fc956938\" y=\"202.68355\"/>\n    </g>\n    <g clip-path=\"url(#p8073d79e94)\">\n     <use style=\"fill:#2ca02c;\" x=\"310.629849\" xlink:href=\"#C2_0_80fc956938\" y=\"147.02987\"/>\n    </g>\n    <g clip-path=\"url(#p8073d79e94)\">\n     <use style=\"fill:#2ca02c;\" x=\"296.25501\" xlink:href=\"#C2_0_80fc956938\" y=\"244.42381\"/>\n    </g>\n    <g clip-path=\"url(#p8073d79e94)\">\n     <use style=\"fill:#2ca02c;\" x=\"299.351031\" xlink:href=\"#C2_0_80fc956938\" y=\"63.549351\"/>\n    </g>\n    <g clip-path=\"url(#p8073d79e94)\">\n     <use style=\"fill:#2ca02c;\" x=\"315.260672\" xlink:href=\"#C2_0_80fc956938\" y=\"133.11645\"/>\n    </g>\n    <g clip-path=\"url(#p8073d79e94)\">\n     <use style=\"fill:#2ca02c;\" x=\"305.885704\" xlink:href=\"#C2_0_80fc956938\" y=\"126.15974\"/>\n    </g>\n    <g clip-path=\"url(#p8073d79e94)\">\n     <use style=\"fill:#2ca02c;\" x=\"310.503348\" xlink:href=\"#C2_0_80fc956938\" y=\"230.51039\"/>\n    </g>\n    <g clip-path=\"url(#p8073d79e94)\">\n     <use style=\"fill:#2ca02c;\" x=\"297.228809\" xlink:href=\"#C2_0_80fc956938\" y=\"181.81342\"/>\n    </g>\n    <g clip-path=\"url(#p8073d79e94)\">\n     <use style=\"fill:#2ca02c;\" x=\"313.772865\" xlink:href=\"#C2_0_80fc956938\" y=\"188.77013\"/>\n    </g>\n    <g clip-path=\"url(#p8073d79e94)\">\n     <use style=\"fill:#2ca02c;\" x=\"310.927314\" xlink:href=\"#C2_0_80fc956938\" y=\"300.077489\"/>\n    </g>\n    <g clip-path=\"url(#p8073d79e94)\">\n     <use style=\"fill:#2ca02c;\" x=\"313.514968\" xlink:href=\"#C2_0_80fc956938\" y=\"216.59697\"/>\n    </g>\n    <g clip-path=\"url(#p8073d79e94)\">\n     <use style=\"fill:#2ca02c;\" x=\"309.006538\" xlink:href=\"#C2_0_80fc956938\" y=\"223.55368\"/>\n    </g>\n    <g clip-path=\"url(#p8073d79e94)\">\n     <use style=\"fill:#2ca02c;\" x=\"296.67064\" xlink:href=\"#C2_0_80fc956938\" y=\"265.293939\"/>\n    </g>\n    <g clip-path=\"url(#p8073d79e94)\">\n     <use style=\"fill:#2ca02c;\" x=\"298.15149\" xlink:href=\"#C2_0_80fc956938\" y=\"140.07316\"/>\n    </g>\n    <g clip-path=\"url(#p8073d79e94)\">\n     <use style=\"fill:#2ca02c;\" x=\"304.888297\" xlink:href=\"#C2_0_80fc956938\" y=\"202.68355\"/>\n    </g>\n    <g clip-path=\"url(#p8073d79e94)\">\n     <use style=\"fill:#2ca02c;\" x=\"300.200814\" xlink:href=\"#C2_0_80fc956938\" y=\"300.077489\"/>\n    </g>\n    <g clip-path=\"url(#p8073d79e94)\">\n     <use style=\"fill:#2ca02c;\" x=\"302.424196\" xlink:href=\"#C2_0_80fc956938\" y=\"239.786003\"/>\n    </g>\n    <g clip-path=\"url(#p8073d79e94)\">\n     <use style=\"fill:#2ca02c;\" x=\"314.069568\" xlink:href=\"#C2_0_80fc956938\" y=\"160.94329\"/>\n    </g>\n    <g clip-path=\"url(#p8073d79e94)\">\n     <use style=\"fill:#2ca02c;\" x=\"309.476968\" xlink:href=\"#C2_0_80fc956938\" y=\"258.337229\"/>\n    </g>\n    <g clip-path=\"url(#p8073d79e94)\">\n     <use style=\"fill:#2ca02c;\" x=\"308.045481\" xlink:href=\"#C2_0_80fc956938\" y=\"153.98658\"/>\n    </g>\n    <g clip-path=\"url(#p8073d79e94)\">\n     <use style=\"fill:#2ca02c;\" x=\"305.694647\" xlink:href=\"#C2_0_80fc956938\" y=\"147.02987\"/>\n    </g>\n    <g clip-path=\"url(#p8073d79e94)\">\n     <use style=\"fill:#2ca02c;\" x=\"295.84926\" xlink:href=\"#C2_0_80fc956938\" y=\"202.68355\"/>\n    </g>\n    <g clip-path=\"url(#p8073d79e94)\">\n     <use style=\"fill:#2ca02c;\" x=\"314.682959\" xlink:href=\"#C2_0_80fc956938\" y=\"153.98658\"/>\n    </g>\n    <g clip-path=\"url(#p8073d79e94)\">\n     <use style=\"fill:#2ca02c;\" x=\"315.945015\" xlink:href=\"#C2_0_80fc956938\" y=\"91.37619\"/>\n    </g>\n    <g clip-path=\"url(#p8073d79e94)\">\n     <use style=\"fill:#2ca02c;\" x=\"314.640587\" xlink:href=\"#C2_0_80fc956938\" y=\"216.59697\"/>\n    </g>\n    <g clip-path=\"url(#p8073d79e94)\">\n     <use style=\"fill:#2ca02c;\" x=\"303.767787\" xlink:href=\"#C2_0_80fc956938\" y=\"174.85671\"/>\n    </g>\n    <g clip-path=\"url(#p8073d79e94)\">\n     <use style=\"fill:#2ca02c;\" x=\"315.080437\" xlink:href=\"#C2_0_80fc956938\" y=\"313.990909\"/>\n    </g>\n    <g clip-path=\"url(#p8073d79e94)\">\n     <use style=\"fill:#2ca02c;\" x=\"312.018851\" xlink:href=\"#C2_0_80fc956938\" y=\"300.077489\"/>\n    </g>\n    <g clip-path=\"url(#p8073d79e94)\">\n     <use style=\"fill:#2ca02c;\" x=\"305.293081\" xlink:href=\"#C2_0_80fc956938\" y=\"272.250649\"/>\n    </g>\n    <g clip-path=\"url(#p8073d79e94)\">\n     <use style=\"fill:#2ca02c;\" x=\"312.329779\" xlink:href=\"#C2_0_80fc956938\" y=\"188.77013\"/>\n    </g>\n    <g clip-path=\"url(#p8073d79e94)\">\n     <use style=\"fill:#2ca02c;\" x=\"301.17038\" xlink:href=\"#C2_0_80fc956938\" y=\"216.59697\"/>\n    </g>\n    <g clip-path=\"url(#p8073d79e94)\">\n     <use style=\"fill:#2ca02c;\" x=\"297.083466\" xlink:href=\"#C2_0_80fc956938\" y=\"258.337229\"/>\n    </g>\n    <g clip-path=\"url(#p8073d79e94)\">\n     <use style=\"fill:#2ca02c;\" x=\"314.279733\" xlink:href=\"#C2_0_80fc956938\" y=\"216.59697\"/>\n    </g>\n    <g clip-path=\"url(#p8073d79e94)\">\n     <use style=\"fill:#2ca02c;\" x=\"295.87773\" xlink:href=\"#C2_0_80fc956938\" y=\"258.337229\"/>\n    </g>\n    <g clip-path=\"url(#p8073d79e94)\">\n     <use style=\"fill:#2ca02c;\" x=\"303.277171\" xlink:href=\"#C2_0_80fc956938\" y=\"265.293939\"/>\n    </g>\n    <g clip-path=\"url(#p8073d79e94)\">\n     <use style=\"fill:#2ca02c;\" x=\"314.859629\" xlink:href=\"#C2_0_80fc956938\" y=\"202.68355\"/>\n    </g>\n    <g clip-path=\"url(#p8073d79e94)\">\n     <use style=\"fill:#2ca02c;\" x=\"310.378929\" xlink:href=\"#C2_0_80fc956938\" y=\"300.077489\"/>\n    </g>\n    <g clip-path=\"url(#p8073d79e94)\">\n     <use style=\"fill:#2ca02c;\" x=\"299.997812\" xlink:href=\"#C2_0_80fc956938\" y=\"265.293939\"/>\n    </g>\n    <g clip-path=\"url(#p8073d79e94)\">\n     <use style=\"fill:#2ca02c;\" x=\"308.270613\" xlink:href=\"#C2_0_80fc956938\" y=\"119.20303\"/>\n    </g>\n    <g clip-path=\"url(#p8073d79e94)\">\n     <use style=\"fill:#2ca02c;\" x=\"303.977624\" xlink:href=\"#C2_0_80fc956938\" y=\"230.51039\"/>\n    </g>\n    <g clip-path=\"url(#p8073d79e94)\">\n     <use style=\"fill:#2ca02c;\" x=\"301.876056\" xlink:href=\"#C2_0_80fc956938\" y=\"237.4671\"/>\n    </g>\n    <g clip-path=\"url(#p8073d79e94)\">\n     <use style=\"fill:#2ca02c;\" x=\"308.427509\" xlink:href=\"#C2_0_80fc956938\" y=\"293.120779\"/>\n    </g>\n    <g clip-path=\"url(#p8073d79e94)\">\n     <use style=\"fill:#2ca02c;\" x=\"305.821064\" xlink:href=\"#C2_0_80fc956938\" y=\"153.98658\"/>\n    </g>\n    <g clip-path=\"url(#p8073d79e94)\">\n     <use style=\"fill:#2ca02c;\" x=\"297.143434\" xlink:href=\"#C2_0_80fc956938\" y=\"300.077489\"/>\n    </g>\n    <g clip-path=\"url(#p8073d79e94)\">\n     <use style=\"fill:#2ca02c;\" x=\"300.637035\" xlink:href=\"#C2_0_80fc956938\" y=\"119.20303\"/>\n    </g>\n    <g clip-path=\"url(#p8073d79e94)\">\n     <use style=\"fill:#2ca02c;\" x=\"300.554137\" xlink:href=\"#C2_0_80fc956938\" y=\"147.02987\"/>\n    </g>\n    <g clip-path=\"url(#p8073d79e94)\">\n     <use style=\"fill:#2ca02c;\" x=\"309.702237\" xlink:href=\"#C2_0_80fc956938\" y=\"133.11645\"/>\n    </g>\n    <g clip-path=\"url(#p8073d79e94)\">\n     <use style=\"fill:#2ca02c;\" x=\"305.948162\" xlink:href=\"#C2_0_80fc956938\" y=\"119.20303\"/>\n    </g>\n    <g clip-path=\"url(#p8073d79e94)\">\n     <use style=\"fill:#2ca02c;\" x=\"313.130394\" xlink:href=\"#C2_0_80fc956938\" y=\"184.132323\"/>\n    </g>\n    <g clip-path=\"url(#p8073d79e94)\">\n     <use style=\"fill:#2ca02c;\" x=\"305.186377\" xlink:href=\"#C2_0_80fc956938\" y=\"174.85671\"/>\n    </g>\n    <g clip-path=\"url(#p8073d79e94)\">\n     <use style=\"fill:#2ca02c;\" x=\"315.940518\" xlink:href=\"#C2_0_80fc956938\" y=\"276.888456\"/>\n    </g>\n    <g clip-path=\"url(#p8073d79e94)\">\n     <use style=\"fill:#2ca02c;\" x=\"303.684986\" xlink:href=\"#C2_0_80fc956938\" y=\"293.120779\"/>\n    </g>\n    <g clip-path=\"url(#p8073d79e94)\">\n     <use style=\"fill:#2ca02c;\" x=\"301.246218\" xlink:href=\"#C2_0_80fc956938\" y=\"244.42381\"/>\n    </g>\n    <g clip-path=\"url(#p8073d79e94)\">\n     <use style=\"fill:#2ca02c;\" x=\"315.441181\" xlink:href=\"#C2_0_80fc956938\" y=\"28.765801\"/>\n    </g>\n    <g clip-path=\"url(#p8073d79e94)\">\n     <use style=\"fill:#2ca02c;\" x=\"315.59934\" xlink:href=\"#C2_0_80fc956938\" y=\"286.164069\"/>\n    </g>\n    <g clip-path=\"url(#p8073d79e94)\">\n     <use style=\"fill:#2ca02c;\" x=\"305.446575\" xlink:href=\"#C2_0_80fc956938\" y=\"244.42381\"/>\n    </g>\n    <g clip-path=\"url(#p8073d79e94)\">\n     <use style=\"fill:#2ca02c;\" x=\"308.215186\" xlink:href=\"#C2_0_80fc956938\" y=\"286.164069\"/>\n    </g>\n    <g clip-path=\"url(#p8073d79e94)\">\n     <use style=\"fill:#2ca02c;\" x=\"299.864004\" xlink:href=\"#C2_0_80fc956938\" y=\"140.07316\"/>\n    </g>\n    <g clip-path=\"url(#p8073d79e94)\">\n     <use style=\"fill:#2ca02c;\" x=\"309.640847\" xlink:href=\"#C2_0_80fc956938\" y=\"188.77013\"/>\n    </g>\n    <g clip-path=\"url(#p8073d79e94)\">\n     <use style=\"fill:#2ca02c;\" x=\"299.338966\" xlink:href=\"#C2_0_80fc956938\" y=\"223.55368\"/>\n    </g>\n    <g clip-path=\"url(#p8073d79e94)\">\n     <use style=\"fill:#2ca02c;\" x=\"305.156788\" xlink:href=\"#C2_0_80fc956938\" y=\"160.94329\"/>\n    </g>\n    <g clip-path=\"url(#p8073d79e94)\">\n     <use style=\"fill:#2ca02c;\" x=\"300.31557\" xlink:href=\"#C2_0_80fc956938\" y=\"181.81342\"/>\n    </g>\n    <g clip-path=\"url(#p8073d79e94)\">\n     <use style=\"fill:#2ca02c;\" x=\"301.00574\" xlink:href=\"#C2_0_80fc956938\" y=\"265.293939\"/>\n    </g>\n    <g clip-path=\"url(#p8073d79e94)\">\n     <use style=\"fill:#2ca02c;\" x=\"311.2506\" xlink:href=\"#C2_0_80fc956938\" y=\"167.9\"/>\n    </g>\n    <g clip-path=\"url(#p8073d79e94)\">\n     <use style=\"fill:#2ca02c;\" x=\"295.766409\" xlink:href=\"#C2_0_80fc956938\" y=\"313.990909\"/>\n    </g>\n    <g clip-path=\"url(#p8073d79e94)\">\n     <use style=\"fill:#2ca02c;\" x=\"295.552809\" xlink:href=\"#C2_0_80fc956938\" y=\"160.94329\"/>\n    </g>\n    <g clip-path=\"url(#p8073d79e94)\">\n     <use style=\"fill:#2ca02c;\" x=\"299.235846\" xlink:href=\"#C2_0_80fc956938\" y=\"286.164069\"/>\n    </g>\n    <g clip-path=\"url(#p8073d79e94)\">\n     <use style=\"fill:#2ca02c;\" x=\"309.851913\" xlink:href=\"#C2_0_80fc956938\" y=\"262.975036\"/>\n    </g>\n    <g clip-path=\"url(#p8073d79e94)\">\n     <use style=\"fill:#2ca02c;\" x=\"305.537612\" xlink:href=\"#C2_0_80fc956938\" y=\"272.250649\"/>\n    </g>\n    <g clip-path=\"url(#p8073d79e94)\">\n     <use style=\"fill:#2ca02c;\" x=\"314.355319\" xlink:href=\"#C2_0_80fc956938\" y=\"286.164069\"/>\n    </g>\n    <g clip-path=\"url(#p8073d79e94)\">\n     <use style=\"fill:#2ca02c;\" x=\"303.695967\" xlink:href=\"#C2_0_80fc956938\" y=\"188.77013\"/>\n    </g>\n    <g clip-path=\"url(#p8073d79e94)\">\n     <use style=\"fill:#2ca02c;\" x=\"316.021176\" xlink:href=\"#C2_0_80fc956938\" y=\"279.207359\"/>\n    </g>\n    <g clip-path=\"url(#p8073d79e94)\">\n     <use style=\"fill:#2ca02c;\" x=\"307.86685\" xlink:href=\"#C2_0_80fc956938\" y=\"230.51039\"/>\n    </g>\n    <g clip-path=\"url(#p8073d79e94)\">\n     <use style=\"fill:#2ca02c;\" x=\"302.829444\" xlink:href=\"#C2_0_80fc956938\" y=\"202.68355\"/>\n    </g>\n    <g clip-path=\"url(#p8073d79e94)\">\n     <use style=\"fill:#2ca02c;\" x=\"304.343291\" xlink:href=\"#C2_0_80fc956938\" y=\"188.77013\"/>\n    </g>\n    <g clip-path=\"url(#p8073d79e94)\">\n     <use style=\"fill:#2ca02c;\" x=\"311.164903\" xlink:href=\"#C2_0_80fc956938\" y=\"174.85671\"/>\n    </g>\n    <g clip-path=\"url(#p8073d79e94)\">\n     <use style=\"fill:#2ca02c;\" x=\"305.737261\" xlink:href=\"#C2_0_80fc956938\" y=\"179.494517\"/>\n    </g>\n    <g clip-path=\"url(#p8073d79e94)\">\n     <use style=\"fill:#2ca02c;\" x=\"308.536751\" xlink:href=\"#C2_0_80fc956938\" y=\"223.55368\"/>\n    </g>\n    <g clip-path=\"url(#p8073d79e94)\">\n     <use style=\"fill:#2ca02c;\" x=\"313.006118\" xlink:href=\"#C2_0_80fc956938\" y=\"167.9\"/>\n    </g>\n    <g clip-path=\"url(#p8073d79e94)\">\n     <use style=\"fill:#2ca02c;\" x=\"299.559857\" xlink:href=\"#C2_0_80fc956938\" y=\"279.207359\"/>\n    </g>\n    <g clip-path=\"url(#p8073d79e94)\">\n     <use style=\"fill:#2ca02c;\" x=\"315.19082\" xlink:href=\"#C2_0_80fc956938\" y=\"223.55368\"/>\n    </g>\n    <g clip-path=\"url(#p8073d79e94)\">\n     <use style=\"fill:#2ca02c;\" x=\"300.930716\" xlink:href=\"#C2_0_80fc956938\" y=\"112.24632\"/>\n    </g>\n    <g clip-path=\"url(#p8073d79e94)\">\n     <use style=\"fill:#2ca02c;\" x=\"311.815292\" xlink:href=\"#C2_0_80fc956938\" y=\"230.51039\"/>\n    </g>\n    <g clip-path=\"url(#p8073d79e94)\">\n     <use style=\"fill:#2ca02c;\" x=\"307.584578\" xlink:href=\"#C2_0_80fc956938\" y=\"235.148196\"/>\n    </g>\n    <g clip-path=\"url(#p8073d79e94)\">\n     <use style=\"fill:#2ca02c;\" x=\"314.822857\" xlink:href=\"#C2_0_80fc956938\" y=\"174.85671\"/>\n    </g>\n    <g clip-path=\"url(#p8073d79e94)\">\n     <use style=\"fill:#2ca02c;\" x=\"305.876133\" xlink:href=\"#C2_0_80fc956938\" y=\"286.164069\"/>\n    </g>\n    <g clip-path=\"url(#p8073d79e94)\">\n     <use style=\"fill:#2ca02c;\" x=\"309.185749\" xlink:href=\"#C2_0_80fc956938\" y=\"230.51039\"/>\n    </g>\n    <g clip-path=\"url(#p8073d79e94)\">\n     <use style=\"fill:#2ca02c;\" x=\"316.679863\" xlink:href=\"#C2_0_80fc956938\" y=\"195.72684\"/>\n    </g>\n    <g clip-path=\"url(#p8073d79e94)\">\n     <use style=\"fill:#2ca02c;\" x=\"300.558608\" xlink:href=\"#C2_0_80fc956938\" y=\"202.68355\"/>\n    </g>\n    <g clip-path=\"url(#p8073d79e94)\">\n     <use style=\"fill:#2ca02c;\" x=\"300.080968\" xlink:href=\"#C2_0_80fc956938\" y=\"188.77013\"/>\n    </g>\n    <g clip-path=\"url(#p8073d79e94)\">\n     <use style=\"fill:#2ca02c;\" x=\"312.045181\" xlink:href=\"#C2_0_80fc956938\" y=\"153.98658\"/>\n    </g>\n    <g clip-path=\"url(#p8073d79e94)\">\n     <use style=\"fill:#2ca02c;\" x=\"307.915494\" xlink:href=\"#C2_0_80fc956938\" y=\"216.59697\"/>\n    </g>\n    <g clip-path=\"url(#p8073d79e94)\">\n     <use style=\"fill:#2ca02c;\" x=\"315.995859\" xlink:href=\"#C2_0_80fc956938\" y=\"258.337229\"/>\n    </g>\n    <g clip-path=\"url(#p8073d79e94)\">\n     <use style=\"fill:#2ca02c;\" x=\"306.05764\" xlink:href=\"#C2_0_80fc956938\" y=\"272.250649\"/>\n    </g>\n    <g clip-path=\"url(#p8073d79e94)\">\n     <use style=\"fill:#2ca02c;\" x=\"315.559608\" xlink:href=\"#C2_0_80fc956938\" y=\"126.15974\"/>\n    </g>\n    <g clip-path=\"url(#p8073d79e94)\">\n     <use style=\"fill:#2ca02c;\" x=\"315.874288\" xlink:href=\"#C2_0_80fc956938\" y=\"251.380519\"/>\n    </g>\n    <g clip-path=\"url(#p8073d79e94)\">\n     <use style=\"fill:#2ca02c;\" x=\"298.557329\" xlink:href=\"#C2_0_80fc956938\" y=\"174.85671\"/>\n    </g>\n    <g clip-path=\"url(#p8073d79e94)\">\n     <use style=\"fill:#2ca02c;\" x=\"304.614096\" xlink:href=\"#C2_0_80fc956938\" y=\"249.061616\"/>\n    </g>\n    <g clip-path=\"url(#p8073d79e94)\">\n     <use style=\"fill:#2ca02c;\" x=\"298.037856\" xlink:href=\"#C2_0_80fc956938\" y=\"181.81342\"/>\n    </g>\n    <g clip-path=\"url(#p8073d79e94)\">\n     <use style=\"fill:#2ca02c;\" x=\"311.686958\" xlink:href=\"#C2_0_80fc956938\" y=\"202.68355\"/>\n    </g>\n    <g clip-path=\"url(#p8073d79e94)\">\n     <use style=\"fill:#2ca02c;\" x=\"311.586928\" xlink:href=\"#C2_0_80fc956938\" y=\"174.85671\"/>\n    </g>\n    <g clip-path=\"url(#p8073d79e94)\">\n     <use style=\"fill:#2ca02c;\" x=\"306.708261\" xlink:href=\"#C2_0_80fc956938\" y=\"272.250649\"/>\n    </g>\n    <g clip-path=\"url(#p8073d79e94)\">\n     <use style=\"fill:#2ca02c;\" x=\"309.170267\" xlink:href=\"#C2_0_80fc956938\" y=\"174.85671\"/>\n    </g>\n    <g clip-path=\"url(#p8073d79e94)\">\n     <use style=\"fill:#2ca02c;\" x=\"306.400923\" xlink:href=\"#C2_0_80fc956938\" y=\"216.59697\"/>\n    </g>\n    <g clip-path=\"url(#p8073d79e94)\">\n     <use style=\"fill:#2ca02c;\" x=\"296.045264\" xlink:href=\"#C2_0_80fc956938\" y=\"237.4671\"/>\n    </g>\n    <g clip-path=\"url(#p8073d79e94)\">\n     <use style=\"fill:#2ca02c;\" x=\"316.425941\" xlink:href=\"#C2_0_80fc956938\" y=\"258.337229\"/>\n    </g>\n    <g clip-path=\"url(#p8073d79e94)\">\n     <use style=\"fill:#2ca02c;\" x=\"309.268255\" xlink:href=\"#C2_0_80fc956938\" y=\"216.59697\"/>\n    </g>\n    <g clip-path=\"url(#p8073d79e94)\">\n     <use style=\"fill:#2ca02c;\" x=\"309.29863\" xlink:href=\"#C2_0_80fc956938\" y=\"105.28961\"/>\n    </g>\n    <g clip-path=\"url(#p8073d79e94)\">\n     <use style=\"fill:#2ca02c;\" x=\"306.953304\" xlink:href=\"#C2_0_80fc956938\" y=\"272.250649\"/>\n    </g>\n    <g clip-path=\"url(#p8073d79e94)\">\n     <use style=\"fill:#2ca02c;\" x=\"314.508151\" xlink:href=\"#C2_0_80fc956938\" y=\"174.85671\"/>\n    </g>\n    <g clip-path=\"url(#p8073d79e94)\">\n     <use style=\"fill:#2ca02c;\" x=\"309.644054\" xlink:href=\"#C2_0_80fc956938\" y=\"216.59697\"/>\n    </g>\n    <g clip-path=\"url(#p8073d79e94)\">\n     <use style=\"fill:#2ca02c;\" x=\"311.016785\" xlink:href=\"#C2_0_80fc956938\" y=\"174.85671\"/>\n    </g>\n    <g clip-path=\"url(#p8073d79e94)\">\n     <use style=\"fill:#2ca02c;\" x=\"298.702514\" xlink:href=\"#C2_0_80fc956938\" y=\"244.42381\"/>\n    </g>\n    <g clip-path=\"url(#p8073d79e94)\">\n     <use style=\"fill:#2ca02c;\" x=\"299.145579\" xlink:href=\"#C2_0_80fc956938\" y=\"181.81342\"/>\n    </g>\n    <g clip-path=\"url(#p8073d79e94)\">\n     <use style=\"fill:#2ca02c;\" x=\"316.747929\" xlink:href=\"#C2_0_80fc956938\" y=\"126.15974\"/>\n    </g>\n    <g clip-path=\"url(#p8073d79e94)\">\n     <use style=\"fill:#2ca02c;\" x=\"298.003163\" xlink:href=\"#C2_0_80fc956938\" y=\"174.85671\"/>\n    </g>\n    <g clip-path=\"url(#p8073d79e94)\">\n     <use style=\"fill:#2ca02c;\" x=\"313.431241\" xlink:href=\"#C2_0_80fc956938\" y=\"286.164069\"/>\n    </g>\n    <g clip-path=\"url(#p8073d79e94)\">\n     <use style=\"fill:#2ca02c;\" x=\"305.066633\" xlink:href=\"#C2_0_80fc956938\" y=\"230.51039\"/>\n    </g>\n    <g clip-path=\"url(#p8073d79e94)\">\n     <use style=\"fill:#2ca02c;\" x=\"297.653737\" xlink:href=\"#C2_0_80fc956938\" y=\"300.077489\"/>\n    </g>\n    <g clip-path=\"url(#p8073d79e94)\">\n     <use style=\"fill:#2ca02c;\" x=\"308.622255\" xlink:href=\"#C2_0_80fc956938\" y=\"262.975036\"/>\n    </g>\n    <g clip-path=\"url(#p8073d79e94)\">\n     <use style=\"fill:#2ca02c;\" x=\"313.408837\" xlink:href=\"#C2_0_80fc956938\" y=\"147.02987\"/>\n    </g>\n    <g clip-path=\"url(#p8073d79e94)\">\n     <use style=\"fill:#2ca02c;\" x=\"312.257872\" xlink:href=\"#C2_0_80fc956938\" y=\"300.077489\"/>\n    </g>\n    <g clip-path=\"url(#p8073d79e94)\">\n     <use style=\"fill:#2ca02c;\" x=\"306.382798\" xlink:href=\"#C2_0_80fc956938\" y=\"153.98658\"/>\n    </g>\n    <g clip-path=\"url(#p8073d79e94)\">\n     <use style=\"fill:#2ca02c;\" x=\"316.497118\" xlink:href=\"#C2_0_80fc956938\" y=\"160.94329\"/>\n    </g>\n    <g clip-path=\"url(#p8073d79e94)\">\n     <use style=\"fill:#2ca02c;\" x=\"312.857812\" xlink:href=\"#C2_0_80fc956938\" y=\"188.77013\"/>\n    </g>\n    <g clip-path=\"url(#p8073d79e94)\">\n     <use style=\"fill:#2ca02c;\" x=\"301.19741\" xlink:href=\"#C2_0_80fc956938\" y=\"202.68355\"/>\n    </g>\n    <g clip-path=\"url(#p8073d79e94)\">\n     <use style=\"fill:#2ca02c;\" x=\"305.125679\" xlink:href=\"#C2_0_80fc956938\" y=\"216.59697\"/>\n    </g>\n    <g clip-path=\"url(#p8073d79e94)\">\n     <use style=\"fill:#2ca02c;\" x=\"299.160006\" xlink:href=\"#C2_0_80fc956938\" y=\"202.68355\"/>\n    </g>\n    <g clip-path=\"url(#p8073d79e94)\">\n     <use style=\"fill:#2ca02c;\" x=\"297.41135\" xlink:href=\"#C2_0_80fc956938\" y=\"313.990909\"/>\n    </g>\n    <g clip-path=\"url(#p8073d79e94)\">\n     <use style=\"fill:#2ca02c;\" x=\"306.628368\" xlink:href=\"#C2_0_80fc956938\" y=\"223.55368\"/>\n    </g>\n    <g clip-path=\"url(#p8073d79e94)\">\n     <use style=\"fill:#2ca02c;\" x=\"305.090955\" xlink:href=\"#C2_0_80fc956938\" y=\"300.077489\"/>\n    </g>\n    <g clip-path=\"url(#p8073d79e94)\">\n     <use style=\"fill:#2ca02c;\" x=\"302.714918\" xlink:href=\"#C2_0_80fc956938\" y=\"286.164069\"/>\n    </g>\n    <g clip-path=\"url(#p8073d79e94)\">\n     <use style=\"fill:#2ca02c;\" x=\"308.205821\" xlink:href=\"#C2_0_80fc956938\" y=\"167.9\"/>\n    </g>\n    <g clip-path=\"url(#p8073d79e94)\">\n     <use style=\"fill:#2ca02c;\" x=\"308.585643\" xlink:href=\"#C2_0_80fc956938\" y=\"181.81342\"/>\n    </g>\n    <g clip-path=\"url(#p8073d79e94)\">\n     <use style=\"fill:#2ca02c;\" x=\"313.216531\" xlink:href=\"#C2_0_80fc956938\" y=\"249.061616\"/>\n    </g>\n    <g clip-path=\"url(#p8073d79e94)\">\n     <use style=\"fill:#2ca02c;\" x=\"301.426637\" xlink:href=\"#C2_0_80fc956938\" y=\"119.20303\"/>\n    </g>\n    <g clip-path=\"url(#p8073d79e94)\">\n     <use style=\"fill:#2ca02c;\" x=\"313.641059\" xlink:href=\"#C2_0_80fc956938\" y=\"195.72684\"/>\n    </g>\n    <g clip-path=\"url(#p8073d79e94)\">\n     <use style=\"fill:#2ca02c;\" x=\"307.177692\" xlink:href=\"#C2_0_80fc956938\" y=\"293.120779\"/>\n    </g>\n    <g clip-path=\"url(#p8073d79e94)\">\n     <use style=\"fill:#2ca02c;\" x=\"303.472702\" xlink:href=\"#C2_0_80fc956938\" y=\"147.02987\"/>\n    </g>\n    <g clip-path=\"url(#p8073d79e94)\">\n     <use style=\"fill:#2ca02c;\" x=\"302.628895\" xlink:href=\"#C2_0_80fc956938\" y=\"237.4671\"/>\n    </g>\n    <g clip-path=\"url(#p8073d79e94)\">\n     <use style=\"fill:#2ca02c;\" x=\"300.822655\" xlink:href=\"#C2_0_80fc956938\" y=\"188.77013\"/>\n    </g>\n    <g clip-path=\"url(#p8073d79e94)\">\n     <use style=\"fill:#2ca02c;\" x=\"300.626988\" xlink:href=\"#C2_0_80fc956938\" y=\"49.635931\"/>\n    </g>\n    <g clip-path=\"url(#p8073d79e94)\">\n     <use style=\"fill:#2ca02c;\" x=\"307.403914\" xlink:href=\"#C2_0_80fc956938\" y=\"63.549351\"/>\n    </g>\n    <g clip-path=\"url(#p8073d79e94)\">\n     <use style=\"fill:#2ca02c;\" x=\"298.765718\" xlink:href=\"#C2_0_80fc956938\" y=\"202.68355\"/>\n    </g>\n    <g clip-path=\"url(#p8073d79e94)\">\n     <use style=\"fill:#2ca02c;\" x=\"302.382457\" xlink:href=\"#C2_0_80fc956938\" y=\"133.11645\"/>\n    </g>\n    <g clip-path=\"url(#p8073d79e94)\">\n     <use style=\"fill:#2ca02c;\" x=\"299.194276\" xlink:href=\"#C2_0_80fc956938\" y=\"153.98658\"/>\n    </g>\n    <g clip-path=\"url(#p8073d79e94)\">\n     <use style=\"fill:#2ca02c;\" x=\"314.84613\" xlink:href=\"#C2_0_80fc956938\" y=\"272.250649\"/>\n    </g>\n    <g clip-path=\"url(#p8073d79e94)\">\n     <use style=\"fill:#2ca02c;\" x=\"304.932745\" xlink:href=\"#C2_0_80fc956938\" y=\"279.207359\"/>\n    </g>\n    <g clip-path=\"url(#p8073d79e94)\">\n     <use style=\"fill:#2ca02c;\" x=\"299.96713\" xlink:href=\"#C2_0_80fc956938\" y=\"202.68355\"/>\n    </g>\n    <g clip-path=\"url(#p8073d79e94)\">\n     <use style=\"fill:#2ca02c;\" x=\"297.093256\" xlink:href=\"#C2_0_80fc956938\" y=\"202.68355\"/>\n    </g>\n    <g clip-path=\"url(#p8073d79e94)\">\n     <use style=\"fill:#2ca02c;\" x=\"302.96921\" xlink:href=\"#C2_0_80fc956938\" y=\"209.64026\"/>\n    </g>\n    <g clip-path=\"url(#p8073d79e94)\">\n     <use style=\"fill:#2ca02c;\" x=\"312.51089\" xlink:href=\"#C2_0_80fc956938\" y=\"230.51039\"/>\n    </g>\n    <g clip-path=\"url(#p8073d79e94)\">\n     <use style=\"fill:#2ca02c;\" x=\"312.98193\" xlink:href=\"#C2_0_80fc956938\" y=\"313.990909\"/>\n    </g>\n    <g clip-path=\"url(#p8073d79e94)\">\n     <use style=\"fill:#2ca02c;\" x=\"315.719278\" xlink:href=\"#C2_0_80fc956938\" y=\"209.64026\"/>\n    </g>\n    <g clip-path=\"url(#p8073d79e94)\">\n     <use style=\"fill:#2ca02c;\" x=\"295.845073\" xlink:href=\"#C2_0_80fc956938\" y=\"272.250649\"/>\n    </g>\n    <g clip-path=\"url(#p8073d79e94)\">\n     <use style=\"fill:#2ca02c;\" x=\"301.486321\" xlink:href=\"#C2_0_80fc956938\" y=\"209.64026\"/>\n    </g>\n    <g clip-path=\"url(#p8073d79e94)\">\n     <use style=\"fill:#2ca02c;\" x=\"308.234548\" xlink:href=\"#C2_0_80fc956938\" y=\"188.77013\"/>\n    </g>\n    <g clip-path=\"url(#p8073d79e94)\">\n     <use style=\"fill:#2ca02c;\" x=\"312.536751\" xlink:href=\"#C2_0_80fc956938\" y=\"202.68355\"/>\n    </g>\n    <g clip-path=\"url(#p8073d79e94)\">\n     <use style=\"fill:#2ca02c;\" x=\"307.45761\" xlink:href=\"#C2_0_80fc956938\" y=\"230.51039\"/>\n    </g>\n    <g clip-path=\"url(#p8073d79e94)\">\n     <use style=\"fill:#2ca02c;\" x=\"305.847135\" xlink:href=\"#C2_0_80fc956938\" y=\"216.59697\"/>\n    </g>\n    <g clip-path=\"url(#p8073d79e94)\">\n     <use style=\"fill:#2ca02c;\" x=\"311.295293\" xlink:href=\"#C2_0_80fc956938\" y=\"223.55368\"/>\n    </g>\n    <g clip-path=\"url(#p8073d79e94)\">\n     <use style=\"fill:#2ca02c;\" x=\"310.749476\" xlink:href=\"#C2_0_80fc956938\" y=\"225.872583\"/>\n    </g>\n    <g clip-path=\"url(#p8073d79e94)\">\n     <use style=\"fill:#2ca02c;\" x=\"304.620539\" xlink:href=\"#C2_0_80fc956938\" y=\"174.85671\"/>\n    </g>\n    <g clip-path=\"url(#p8073d79e94)\">\n     <use style=\"fill:#2ca02c;\" x=\"311.93636\" xlink:href=\"#C2_0_80fc956938\" y=\"313.990909\"/>\n    </g>\n    <g clip-path=\"url(#p8073d79e94)\">\n     <use style=\"fill:#2ca02c;\" x=\"298.080084\" xlink:href=\"#C2_0_80fc956938\" y=\"188.77013\"/>\n    </g>\n    <g clip-path=\"url(#p8073d79e94)\">\n     <use style=\"fill:#2ca02c;\" x=\"299.042036\" xlink:href=\"#C2_0_80fc956938\" y=\"209.64026\"/>\n    </g>\n    <g clip-path=\"url(#p8073d79e94)\">\n     <use style=\"fill:#2ca02c;\" x=\"308.20296\" xlink:href=\"#C2_0_80fc956938\" y=\"140.07316\"/>\n    </g>\n    <g clip-path=\"url(#p8073d79e94)\">\n     <use style=\"fill:#2ca02c;\" x=\"299.502737\" xlink:href=\"#C2_0_80fc956938\" y=\"223.55368\"/>\n    </g>\n    <g clip-path=\"url(#p8073d79e94)\">\n     <use style=\"fill:#2ca02c;\" x=\"314.201592\" xlink:href=\"#C2_0_80fc956938\" y=\"188.77013\"/>\n    </g>\n    <g clip-path=\"url(#p8073d79e94)\">\n     <use style=\"fill:#2ca02c;\" x=\"316.580679\" xlink:href=\"#C2_0_80fc956938\" y=\"193.407937\"/>\n    </g>\n    <g clip-path=\"url(#p8073d79e94)\">\n     <use style=\"fill:#2ca02c;\" x=\"304.802201\" xlink:href=\"#C2_0_80fc956938\" y=\"49.635931\"/>\n    </g>\n    <g clip-path=\"url(#p8073d79e94)\">\n     <use style=\"fill:#2ca02c;\" x=\"305.495739\" xlink:href=\"#C2_0_80fc956938\" y=\"174.85671\"/>\n    </g>\n    <g clip-path=\"url(#p8073d79e94)\">\n     <use style=\"fill:#2ca02c;\" x=\"308.654881\" xlink:href=\"#C2_0_80fc956938\" y=\"279.207359\"/>\n    </g>\n    <g clip-path=\"url(#p8073d79e94)\">\n     <use style=\"fill:#2ca02c;\" x=\"309.971681\" xlink:href=\"#C2_0_80fc956938\" y=\"195.72684\"/>\n    </g>\n    <g clip-path=\"url(#p8073d79e94)\">\n     <use style=\"fill:#2ca02c;\" x=\"300.744956\" xlink:href=\"#C2_0_80fc956938\" y=\"225.872583\"/>\n    </g>\n    <g clip-path=\"url(#p8073d79e94)\">\n     <use style=\"fill:#2ca02c;\" x=\"316.428707\" xlink:href=\"#C2_0_80fc956938\" y=\"286.164069\"/>\n    </g>\n    <g clip-path=\"url(#p8073d79e94)\">\n     <use style=\"fill:#2ca02c;\" x=\"305.373058\" xlink:href=\"#C2_0_80fc956938\" y=\"133.11645\"/>\n    </g>\n    <g clip-path=\"url(#p8073d79e94)\">\n     <use style=\"fill:#2ca02c;\" x=\"303.388569\" xlink:href=\"#C2_0_80fc956938\" y=\"279.207359\"/>\n    </g>\n    <g clip-path=\"url(#p8073d79e94)\">\n     <use style=\"fill:#2ca02c;\" x=\"301.366042\" xlink:href=\"#C2_0_80fc956938\" y=\"160.94329\"/>\n    </g>\n    <g clip-path=\"url(#p8073d79e94)\">\n     <use style=\"fill:#2ca02c;\" x=\"303.93747\" xlink:href=\"#C2_0_80fc956938\" y=\"209.64026\"/>\n    </g>\n    <g clip-path=\"url(#p8073d79e94)\">\n     <use style=\"fill:#2ca02c;\" x=\"305.188753\" xlink:href=\"#C2_0_80fc956938\" y=\"230.51039\"/>\n    </g>\n    <g clip-path=\"url(#p8073d79e94)\">\n     <use style=\"fill:#2ca02c;\" x=\"300.265276\" xlink:href=\"#C2_0_80fc956938\" y=\"300.077489\"/>\n    </g>\n    <g clip-path=\"url(#p8073d79e94)\">\n     <use style=\"fill:#2ca02c;\" x=\"300.647473\" xlink:href=\"#C2_0_80fc956938\" y=\"230.51039\"/>\n    </g>\n    <g clip-path=\"url(#p8073d79e94)\">\n     <use style=\"fill:#2ca02c;\" x=\"295.823011\" xlink:href=\"#C2_0_80fc956938\" y=\"230.51039\"/>\n    </g>\n    <g clip-path=\"url(#p8073d79e94)\">\n     <use style=\"fill:#2ca02c;\" x=\"312.472505\" xlink:href=\"#C2_0_80fc956938\" y=\"195.72684\"/>\n    </g>\n    <g clip-path=\"url(#p8073d79e94)\">\n     <use style=\"fill:#2ca02c;\" x=\"304.850034\" xlink:href=\"#C2_0_80fc956938\" y=\"181.81342\"/>\n    </g>\n    <g clip-path=\"url(#p8073d79e94)\">\n     <use style=\"fill:#2ca02c;\" x=\"311.484978\" xlink:href=\"#C2_0_80fc956938\" y=\"105.28961\"/>\n    </g>\n    <g clip-path=\"url(#p8073d79e94)\">\n     <use style=\"fill:#2ca02c;\" x=\"307.855664\" xlink:href=\"#C2_0_80fc956938\" y=\"202.68355\"/>\n    </g>\n    <g clip-path=\"url(#p8073d79e94)\">\n     <use style=\"fill:#2ca02c;\" x=\"299.447433\" xlink:href=\"#C2_0_80fc956938\" y=\"174.85671\"/>\n    </g>\n    <g clip-path=\"url(#p8073d79e94)\">\n     <use style=\"fill:#2ca02c;\" x=\"305.491272\" xlink:href=\"#C2_0_80fc956938\" y=\"230.51039\"/>\n    </g>\n    <g clip-path=\"url(#p8073d79e94)\">\n     <use style=\"fill:#2ca02c;\" x=\"302.234564\" xlink:href=\"#C2_0_80fc956938\" y=\"272.250649\"/>\n    </g>\n    <g clip-path=\"url(#p8073d79e94)\">\n     <use style=\"fill:#2ca02c;\" x=\"313.954461\" xlink:href=\"#C2_0_80fc956938\" y=\"230.51039\"/>\n    </g>\n    <g clip-path=\"url(#p8073d79e94)\">\n     <use style=\"fill:#2ca02c;\" x=\"311.738345\" xlink:href=\"#C2_0_80fc956938\" y=\"300.077489\"/>\n    </g>\n    <g clip-path=\"url(#p8073d79e94)\">\n     <use style=\"fill:#2ca02c;\" x=\"295.966779\" xlink:href=\"#C2_0_80fc956938\" y=\"147.02987\"/>\n    </g>\n    <g clip-path=\"url(#p8073d79e94)\">\n     <use style=\"fill:#2ca02c;\" x=\"312.883098\" xlink:href=\"#C2_0_80fc956938\" y=\"230.51039\"/>\n    </g>\n    <g clip-path=\"url(#p8073d79e94)\">\n     <use style=\"fill:#2ca02c;\" x=\"298.769525\" xlink:href=\"#C2_0_80fc956938\" y=\"126.15974\"/>\n    </g>\n    <g clip-path=\"url(#p8073d79e94)\">\n     <use style=\"fill:#2ca02c;\" x=\"302.891336\" xlink:href=\"#C2_0_80fc956938\" y=\"223.55368\"/>\n    </g>\n    <g clip-path=\"url(#p8073d79e94)\">\n     <use style=\"fill:#2ca02c;\" x=\"306.453105\" xlink:href=\"#C2_0_80fc956938\" y=\"216.59697\"/>\n    </g>\n    <g clip-path=\"url(#p8073d79e94)\">\n     <use style=\"fill:#2ca02c;\" x=\"302.263156\" xlink:href=\"#C2_0_80fc956938\" y=\"258.337229\"/>\n    </g>\n    <g clip-path=\"url(#p8073d79e94)\">\n     <use style=\"fill:#2ca02c;\" x=\"312.402766\" xlink:href=\"#C2_0_80fc956938\" y=\"133.11645\"/>\n    </g>\n    <g clip-path=\"url(#p8073d79e94)\">\n     <use style=\"fill:#2ca02c;\" x=\"307.901694\" xlink:href=\"#C2_0_80fc956938\" y=\"244.42381\"/>\n    </g>\n    <g clip-path=\"url(#p8073d79e94)\">\n     <use style=\"fill:#2ca02c;\" x=\"302.402194\" xlink:href=\"#C2_0_80fc956938\" y=\"119.20303\"/>\n    </g>\n    <g clip-path=\"url(#p8073d79e94)\">\n     <use style=\"fill:#2ca02c;\" x=\"305.689296\" xlink:href=\"#C2_0_80fc956938\" y=\"230.51039\"/>\n    </g>\n    <g clip-path=\"url(#p8073d79e94)\">\n     <use style=\"fill:#2ca02c;\" x=\"314.237704\" xlink:href=\"#C2_0_80fc956938\" y=\"286.164069\"/>\n    </g>\n    <g clip-path=\"url(#p8073d79e94)\">\n     <use style=\"fill:#2ca02c;\" x=\"295.934303\" xlink:href=\"#C2_0_80fc956938\" y=\"147.02987\"/>\n    </g>\n    <g clip-path=\"url(#p8073d79e94)\">\n     <use style=\"fill:#2ca02c;\" x=\"316.188096\" xlink:href=\"#C2_0_80fc956938\" y=\"272.250649\"/>\n    </g>\n    <g clip-path=\"url(#p8073d79e94)\">\n     <use style=\"fill:#2ca02c;\" x=\"315.894098\" xlink:href=\"#C2_0_80fc956938\" y=\"160.94329\"/>\n    </g>\n    <g clip-path=\"url(#p8073d79e94)\">\n     <use style=\"fill:#2ca02c;\" x=\"316.086076\" xlink:href=\"#C2_0_80fc956938\" y=\"195.72684\"/>\n    </g>\n    <g clip-path=\"url(#p8073d79e94)\">\n     <use style=\"fill:#2ca02c;\" x=\"304.783433\" xlink:href=\"#C2_0_80fc956938\" y=\"160.94329\"/>\n    </g>\n    <g clip-path=\"url(#p8073d79e94)\">\n     <use style=\"fill:#2ca02c;\" x=\"306.615662\" xlink:href=\"#C2_0_80fc956938\" y=\"313.990909\"/>\n    </g>\n    <g clip-path=\"url(#p8073d79e94)\">\n     <use style=\"fill:#2ca02c;\" x=\"297.365512\" xlink:href=\"#C2_0_80fc956938\" y=\"105.28961\"/>\n    </g>\n    <g clip-path=\"url(#p8073d79e94)\">\n     <use style=\"fill:#2ca02c;\" x=\"302.941794\" xlink:href=\"#C2_0_80fc956938\" y=\"160.94329\"/>\n    </g>\n    <g clip-path=\"url(#p8073d79e94)\">\n     <use style=\"fill:#2ca02c;\" x=\"314.14672\" xlink:href=\"#C2_0_80fc956938\" y=\"307.034199\"/>\n    </g>\n    <g clip-path=\"url(#p8073d79e94)\">\n     <use style=\"fill:#2ca02c;\" x=\"302.837078\" xlink:href=\"#C2_0_80fc956938\" y=\"202.68355\"/>\n    </g>\n    <g clip-path=\"url(#p8073d79e94)\">\n     <use style=\"fill:#2ca02c;\" x=\"298.750931\" xlink:href=\"#C2_0_80fc956938\" y=\"181.81342\"/>\n    </g>\n    <g clip-path=\"url(#p8073d79e94)\">\n     <use style=\"fill:#2ca02c;\" x=\"299.51725\" xlink:href=\"#C2_0_80fc956938\" y=\"272.250649\"/>\n    </g>\n    <g clip-path=\"url(#p8073d79e94)\">\n     <use style=\"fill:#2ca02c;\" x=\"298.307295\" xlink:href=\"#C2_0_80fc956938\" y=\"195.72684\"/>\n    </g>\n    <g clip-path=\"url(#p8073d79e94)\">\n     <use style=\"fill:#2ca02c;\" x=\"306.214168\" xlink:href=\"#C2_0_80fc956938\" y=\"160.94329\"/>\n    </g>\n    <g clip-path=\"url(#p8073d79e94)\">\n     <use style=\"fill:#2ca02c;\" x=\"310.982872\" xlink:href=\"#C2_0_80fc956938\" y=\"160.94329\"/>\n    </g>\n    <g clip-path=\"url(#p8073d79e94)\">\n     <use style=\"fill:#2ca02c;\" x=\"310.173907\" xlink:href=\"#C2_0_80fc956938\" y=\"258.337229\"/>\n    </g>\n    <g clip-path=\"url(#p8073d79e94)\">\n     <use style=\"fill:#2ca02c;\" x=\"295.772393\" xlink:href=\"#C2_0_80fc956938\" y=\"140.07316\"/>\n    </g>\n    <g clip-path=\"url(#p8073d79e94)\">\n     <use style=\"fill:#2ca02c;\" x=\"308.79458\" xlink:href=\"#C2_0_80fc956938\" y=\"279.207359\"/>\n    </g>\n    <g clip-path=\"url(#p8073d79e94)\">\n     <use style=\"fill:#2ca02c;\" x=\"297.20768\" xlink:href=\"#C2_0_80fc956938\" y=\"188.77013\"/>\n    </g>\n    <g clip-path=\"url(#p8073d79e94)\">\n     <use style=\"fill:#2ca02c;\" x=\"306.1834\" xlink:href=\"#C2_0_80fc956938\" y=\"174.85671\"/>\n    </g>\n    <g clip-path=\"url(#p8073d79e94)\">\n     <use style=\"fill:#2ca02c;\" x=\"315.815765\" xlink:href=\"#C2_0_80fc956938\" y=\"195.72684\"/>\n    </g>\n    <g clip-path=\"url(#p8073d79e94)\">\n     <use style=\"fill:#2ca02c;\" x=\"312.642549\" xlink:href=\"#C2_0_80fc956938\" y=\"251.380519\"/>\n    </g>\n    <g clip-path=\"url(#p8073d79e94)\">\n     <use style=\"fill:#2ca02c;\" x=\"313.299252\" xlink:href=\"#C2_0_80fc956938\" y=\"272.250649\"/>\n    </g>\n    <g clip-path=\"url(#p8073d79e94)\">\n     <use style=\"fill:#2ca02c;\" x=\"308.504059\" xlink:href=\"#C2_0_80fc956938\" y=\"160.94329\"/>\n    </g>\n    <g clip-path=\"url(#p8073d79e94)\">\n     <use style=\"fill:#2ca02c;\" x=\"313.579874\" xlink:href=\"#C2_0_80fc956938\" y=\"188.77013\"/>\n    </g>\n    <g clip-path=\"url(#p8073d79e94)\">\n     <use style=\"fill:#2ca02c;\" x=\"296.020475\" xlink:href=\"#C2_0_80fc956938\" y=\"286.164069\"/>\n    </g>\n    <g clip-path=\"url(#p8073d79e94)\">\n     <use style=\"fill:#2ca02c;\" x=\"314.479082\" xlink:href=\"#C2_0_80fc956938\" y=\"300.077489\"/>\n    </g>\n    <g clip-path=\"url(#p8073d79e94)\">\n     <use style=\"fill:#2ca02c;\" x=\"314.302879\" xlink:href=\"#C2_0_80fc956938\" y=\"300.077489\"/>\n    </g>\n    <g clip-path=\"url(#p8073d79e94)\">\n     <use style=\"fill:#2ca02c;\" x=\"297.514055\" xlink:href=\"#C2_0_80fc956938\" y=\"230.51039\"/>\n    </g>\n    <g clip-path=\"url(#p8073d79e94)\">\n     <use style=\"fill:#2ca02c;\" x=\"311.065542\" xlink:href=\"#C2_0_80fc956938\" y=\"286.164069\"/>\n    </g>\n    <g clip-path=\"url(#p8073d79e94)\">\n     <use style=\"fill:#2ca02c;\" x=\"307.653335\" xlink:href=\"#C2_0_80fc956938\" y=\"258.337229\"/>\n    </g>\n    <g clip-path=\"url(#p8073d79e94)\">\n     <use style=\"fill:#2ca02c;\" x=\"302.379272\" xlink:href=\"#C2_0_80fc956938\" y=\"300.077489\"/>\n    </g>\n    <g clip-path=\"url(#p8073d79e94)\">\n     <use style=\"fill:#2ca02c;\" x=\"310.093666\" xlink:href=\"#C2_0_80fc956938\" y=\"174.85671\"/>\n    </g>\n    <g clip-path=\"url(#p8073d79e94)\">\n     <use style=\"fill:#2ca02c;\" x=\"314.23395\" xlink:href=\"#C2_0_80fc956938\" y=\"216.59697\"/>\n    </g>\n    <g clip-path=\"url(#p8073d79e94)\">\n     <use style=\"fill:#2ca02c;\" x=\"295.535032\" xlink:href=\"#C2_0_80fc956938\" y=\"251.380519\"/>\n    </g>\n    <g clip-path=\"url(#p8073d79e94)\">\n     <use style=\"fill:#2ca02c;\" x=\"300.577279\" xlink:href=\"#C2_0_80fc956938\" y=\"272.250649\"/>\n    </g>\n    <g clip-path=\"url(#p8073d79e94)\">\n     <use style=\"fill:#2ca02c;\" x=\"311.995164\" xlink:href=\"#C2_0_80fc956938\" y=\"244.42381\"/>\n    </g>\n    <g clip-path=\"url(#p8073d79e94)\">\n     <use style=\"fill:#2ca02c;\" x=\"305.180159\" xlink:href=\"#C2_0_80fc956938\" y=\"195.72684\"/>\n    </g>\n    <g clip-path=\"url(#p8073d79e94)\">\n     <use style=\"fill:#2ca02c;\" x=\"316.038062\" xlink:href=\"#C2_0_80fc956938\" y=\"244.42381\"/>\n    </g>\n    <g clip-path=\"url(#p8073d79e94)\">\n     <use style=\"fill:#2ca02c;\" x=\"312.570687\" xlink:href=\"#C2_0_80fc956938\" y=\"216.59697\"/>\n    </g>\n    <g clip-path=\"url(#p8073d79e94)\">\n     <use style=\"fill:#2ca02c;\" x=\"311.428402\" xlink:href=\"#C2_0_80fc956938\" y=\"244.42381\"/>\n    </g>\n    <g clip-path=\"url(#p8073d79e94)\">\n     <use style=\"fill:#2ca02c;\" x=\"304.472268\" xlink:href=\"#C2_0_80fc956938\" y=\"251.380519\"/>\n    </g>\n    <g clip-path=\"url(#p8073d79e94)\">\n     <use style=\"fill:#2ca02c;\" x=\"299.683553\" xlink:href=\"#C2_0_80fc956938\" y=\"223.55368\"/>\n    </g>\n    <g clip-path=\"url(#p8073d79e94)\">\n     <use style=\"fill:#2ca02c;\" x=\"314.755301\" xlink:href=\"#C2_0_80fc956938\" y=\"202.68355\"/>\n    </g>\n    <g clip-path=\"url(#p8073d79e94)\">\n     <use style=\"fill:#2ca02c;\" x=\"314.000496\" xlink:href=\"#C2_0_80fc956938\" y=\"223.55368\"/>\n    </g>\n    <g clip-path=\"url(#p8073d79e94)\">\n     <use style=\"fill:#2ca02c;\" x=\"311.880109\" xlink:href=\"#C2_0_80fc956938\" y=\"188.77013\"/>\n    </g>\n    <g clip-path=\"url(#p8073d79e94)\">\n     <use style=\"fill:#2ca02c;\" x=\"301.914789\" xlink:href=\"#C2_0_80fc956938\" y=\"160.94329\"/>\n    </g>\n    <g clip-path=\"url(#p8073d79e94)\">\n     <use style=\"fill:#2ca02c;\" x=\"305.827449\" xlink:href=\"#C2_0_80fc956938\" y=\"216.59697\"/>\n    </g>\n    <g clip-path=\"url(#p8073d79e94)\">\n     <use style=\"fill:#2ca02c;\" x=\"314.267534\" xlink:href=\"#C2_0_80fc956938\" y=\"174.85671\"/>\n    </g>\n    <g clip-path=\"url(#p8073d79e94)\">\n     <use style=\"fill:#2ca02c;\" x=\"314.395067\" xlink:href=\"#C2_0_80fc956938\" y=\"188.77013\"/>\n    </g>\n    <g clip-path=\"url(#p8073d79e94)\">\n     <use style=\"fill:#2ca02c;\" x=\"299.072015\" xlink:href=\"#C2_0_80fc956938\" y=\"244.42381\"/>\n    </g>\n    <g clip-path=\"url(#p8073d79e94)\">\n     <use style=\"fill:#2ca02c;\" x=\"306.055781\" xlink:href=\"#C2_0_80fc956938\" y=\"167.9\"/>\n    </g>\n    <g clip-path=\"url(#p8073d79e94)\">\n     <use style=\"fill:#2ca02c;\" x=\"298.758555\" xlink:href=\"#C2_0_80fc956938\" y=\"286.164069\"/>\n    </g>\n    <g clip-path=\"url(#p8073d79e94)\">\n     <use style=\"fill:#2ca02c;\" x=\"306.0088\" xlink:href=\"#C2_0_80fc956938\" y=\"160.94329\"/>\n    </g>\n    <g clip-path=\"url(#p8073d79e94)\">\n     <use style=\"fill:#2ca02c;\" x=\"315.878182\" xlink:href=\"#C2_0_80fc956938\" y=\"272.250649\"/>\n    </g>\n    <g clip-path=\"url(#p8073d79e94)\">\n     <use style=\"fill:#2ca02c;\" x=\"302.581909\" xlink:href=\"#C2_0_80fc956938\" y=\"202.68355\"/>\n    </g>\n    <g clip-path=\"url(#p8073d79e94)\">\n     <use style=\"fill:#2ca02c;\" x=\"306.971836\" xlink:href=\"#C2_0_80fc956938\" y=\"223.55368\"/>\n    </g>\n    <g clip-path=\"url(#p8073d79e94)\">\n     <use style=\"fill:#2ca02c;\" x=\"307.032715\" xlink:href=\"#C2_0_80fc956938\" y=\"216.59697\"/>\n    </g>\n    <g clip-path=\"url(#p8073d79e94)\">\n     <use style=\"fill:#2ca02c;\" x=\"300.016087\" xlink:href=\"#C2_0_80fc956938\" y=\"181.81342\"/>\n    </g>\n    <g clip-path=\"url(#p8073d79e94)\">\n     <use style=\"fill:#2ca02c;\" x=\"314.810198\" xlink:href=\"#C2_0_80fc956938\" y=\"300.077489\"/>\n    </g>\n    <g clip-path=\"url(#p8073d79e94)\">\n     <use style=\"fill:#2ca02c;\" x=\"298.765966\" xlink:href=\"#C2_0_80fc956938\" y=\"313.990909\"/>\n    </g>\n    <g clip-path=\"url(#p8073d79e94)\">\n     <use style=\"fill:#2ca02c;\" x=\"306.13538\" xlink:href=\"#C2_0_80fc956938\" y=\"244.42381\"/>\n    </g>\n    <g clip-path=\"url(#p8073d79e94)\">\n     <use style=\"fill:#2ca02c;\" x=\"310.862755\" xlink:href=\"#C2_0_80fc956938\" y=\"209.64026\"/>\n    </g>\n    <g clip-path=\"url(#p8073d79e94)\">\n     <use style=\"fill:#2ca02c;\" x=\"311.371985\" xlink:href=\"#C2_0_80fc956938\" y=\"230.51039\"/>\n    </g>\n    <g clip-path=\"url(#p8073d79e94)\">\n     <use style=\"fill:#2ca02c;\" x=\"315.467784\" xlink:href=\"#C2_0_80fc956938\" y=\"258.337229\"/>\n    </g>\n    <g clip-path=\"url(#p8073d79e94)\">\n     <use style=\"fill:#2ca02c;\" x=\"303.337557\" xlink:href=\"#C2_0_80fc956938\" y=\"193.407937\"/>\n    </g>\n    <g clip-path=\"url(#p8073d79e94)\">\n     <use style=\"fill:#2ca02c;\" x=\"297.921817\" xlink:href=\"#C2_0_80fc956938\" y=\"272.250649\"/>\n    </g>\n    <g clip-path=\"url(#p8073d79e94)\">\n     <use style=\"fill:#2ca02c;\" x=\"297.315747\" xlink:href=\"#C2_0_80fc956938\" y=\"174.85671\"/>\n    </g>\n    <g clip-path=\"url(#p8073d79e94)\">\n     <use style=\"fill:#2ca02c;\" x=\"310.548323\" xlink:href=\"#C2_0_80fc956938\" y=\"181.81342\"/>\n    </g>\n    <g clip-path=\"url(#p8073d79e94)\">\n     <use style=\"fill:#2ca02c;\" x=\"300.103152\" xlink:href=\"#C2_0_80fc956938\" y=\"188.77013\"/>\n    </g>\n    <g clip-path=\"url(#p8073d79e94)\">\n     <use style=\"fill:#2ca02c;\" x=\"315.713437\" xlink:href=\"#C2_0_80fc956938\" y=\"244.42381\"/>\n    </g>\n    <g clip-path=\"url(#p8073d79e94)\">\n     <use style=\"fill:#2ca02c;\" x=\"304.746791\" xlink:href=\"#C2_0_80fc956938\" y=\"160.94329\"/>\n    </g>\n    <g clip-path=\"url(#p8073d79e94)\">\n     <use style=\"fill:#2ca02c;\" x=\"299.748705\" xlink:href=\"#C2_0_80fc956938\" y=\"300.077489\"/>\n    </g>\n    <g clip-path=\"url(#p8073d79e94)\">\n     <use style=\"fill:#2ca02c;\" x=\"301.106817\" xlink:href=\"#C2_0_80fc956938\" y=\"237.4671\"/>\n    </g>\n    <g clip-path=\"url(#p8073d79e94)\">\n     <use style=\"fill:#2ca02c;\" x=\"314.882506\" xlink:href=\"#C2_0_80fc956938\" y=\"174.85671\"/>\n    </g>\n    <g clip-path=\"url(#p8073d79e94)\">\n     <use style=\"fill:#2ca02c;\" x=\"304.586796\" xlink:href=\"#C2_0_80fc956938\" y=\"202.68355\"/>\n    </g>\n    <g clip-path=\"url(#p8073d79e94)\">\n     <use style=\"fill:#2ca02c;\" x=\"310.510371\" xlink:href=\"#C2_0_80fc956938\" y=\"160.94329\"/>\n    </g>\n    <g clip-path=\"url(#p8073d79e94)\">\n     <use style=\"fill:#2ca02c;\" x=\"310.541597\" xlink:href=\"#C2_0_80fc956938\" y=\"223.55368\"/>\n    </g>\n    <g clip-path=\"url(#p8073d79e94)\">\n     <use style=\"fill:#2ca02c;\" x=\"299.062467\" xlink:href=\"#C2_0_80fc956938\" y=\"216.59697\"/>\n    </g>\n    <g clip-path=\"url(#p8073d79e94)\">\n     <use style=\"fill:#2ca02c;\" x=\"306.757846\" xlink:href=\"#C2_0_80fc956938\" y=\"147.02987\"/>\n    </g>\n    <g clip-path=\"url(#p8073d79e94)\">\n     <use style=\"fill:#2ca02c;\" x=\"313.773612\" xlink:href=\"#C2_0_80fc956938\" y=\"133.11645\"/>\n    </g>\n    <g clip-path=\"url(#p8073d79e94)\">\n     <use style=\"fill:#2ca02c;\" x=\"314.012774\" xlink:href=\"#C2_0_80fc956938\" y=\"174.85671\"/>\n    </g>\n    <g clip-path=\"url(#p8073d79e94)\">\n     <use style=\"fill:#2ca02c;\" x=\"305.311054\" xlink:href=\"#C2_0_80fc956938\" y=\"286.164069\"/>\n    </g>\n    <g clip-path=\"url(#p8073d79e94)\">\n     <use style=\"fill:#2ca02c;\" x=\"307.665318\" xlink:href=\"#C2_0_80fc956938\" y=\"272.250649\"/>\n    </g>\n    <g clip-path=\"url(#p8073d79e94)\">\n     <use style=\"fill:#2ca02c;\" x=\"295.851727\" xlink:href=\"#C2_0_80fc956938\" y=\"300.077489\"/>\n    </g>\n    <g clip-path=\"url(#p8073d79e94)\">\n     <use style=\"fill:#2ca02c;\" x=\"298.126838\" xlink:href=\"#C2_0_80fc956938\" y=\"300.077489\"/>\n    </g>\n    <g clip-path=\"url(#p8073d79e94)\">\n     <use style=\"fill:#2ca02c;\" x=\"308.077981\" xlink:href=\"#C2_0_80fc956938\" y=\"179.494517\"/>\n    </g>\n    <g clip-path=\"url(#p8073d79e94)\">\n     <use style=\"fill:#2ca02c;\" x=\"304.837694\" xlink:href=\"#C2_0_80fc956938\" y=\"167.9\"/>\n    </g>\n    <g clip-path=\"url(#p8073d79e94)\">\n     <use style=\"fill:#2ca02c;\" x=\"308.634397\" xlink:href=\"#C2_0_80fc956938\" y=\"286.164069\"/>\n    </g>\n    <g clip-path=\"url(#p8073d79e94)\">\n     <use style=\"fill:#2ca02c;\" x=\"303.511708\" xlink:href=\"#C2_0_80fc956938\" y=\"313.990909\"/>\n    </g>\n    <g clip-path=\"url(#p8073d79e94)\">\n     <use style=\"fill:#2ca02c;\" x=\"301.706086\" xlink:href=\"#C2_0_80fc956938\" y=\"147.02987\"/>\n    </g>\n    <g clip-path=\"url(#p8073d79e94)\">\n     <use style=\"fill:#2ca02c;\" x=\"302.175799\" xlink:href=\"#C2_0_80fc956938\" y=\"286.164069\"/>\n    </g>\n    <g clip-path=\"url(#p8073d79e94)\">\n     <use style=\"fill:#2ca02c;\" x=\"307.96163\" xlink:href=\"#C2_0_80fc956938\" y=\"202.68355\"/>\n    </g>\n    <g clip-path=\"url(#p8073d79e94)\">\n     <use style=\"fill:#2ca02c;\" x=\"310.89976\" xlink:href=\"#C2_0_80fc956938\" y=\"70.506061\"/>\n    </g>\n    <g clip-path=\"url(#p8073d79e94)\">\n     <use style=\"fill:#2ca02c;\" x=\"302.273526\" xlink:href=\"#C2_0_80fc956938\" y=\"300.077489\"/>\n    </g>\n    <g clip-path=\"url(#p8073d79e94)\">\n     <use style=\"fill:#2ca02c;\" x=\"310.596557\" xlink:href=\"#C2_0_80fc956938\" y=\"181.81342\"/>\n    </g>\n    <g clip-path=\"url(#p8073d79e94)\">\n     <use style=\"fill:#2ca02c;\" x=\"305.790995\" xlink:href=\"#C2_0_80fc956938\" y=\"313.990909\"/>\n    </g>\n    <g clip-path=\"url(#p8073d79e94)\">\n     <use style=\"fill:#2ca02c;\" x=\"308.850094\" xlink:href=\"#C2_0_80fc956938\" y=\"160.94329\"/>\n    </g>\n    <g clip-path=\"url(#p8073d79e94)\">\n     <use style=\"fill:#2ca02c;\" x=\"298.040521\" xlink:href=\"#C2_0_80fc956938\" y=\"265.293939\"/>\n    </g>\n    <g clip-path=\"url(#p8073d79e94)\">\n     <use style=\"fill:#2ca02c;\" x=\"302.876601\" xlink:href=\"#C2_0_80fc956938\" y=\"216.59697\"/>\n    </g>\n    <g clip-path=\"url(#p8073d79e94)\">\n     <use style=\"fill:#2ca02c;\" x=\"308.274191\" xlink:href=\"#C2_0_80fc956938\" y=\"286.164069\"/>\n    </g>\n    <g clip-path=\"url(#p8073d79e94)\">\n     <use style=\"fill:#2ca02c;\" x=\"302.424042\" xlink:href=\"#C2_0_80fc956938\" y=\"244.42381\"/>\n    </g>\n    <g clip-path=\"url(#p8073d79e94)\">\n     <use style=\"fill:#2ca02c;\" x=\"309.627544\" xlink:href=\"#C2_0_80fc956938\" y=\"216.59697\"/>\n    </g>\n    <g clip-path=\"url(#p8073d79e94)\">\n     <use style=\"fill:#2ca02c;\" x=\"313.271259\" xlink:href=\"#C2_0_80fc956938\" y=\"230.51039\"/>\n    </g>\n    <g clip-path=\"url(#p8073d79e94)\">\n     <use style=\"fill:#2ca02c;\" x=\"297.874722\" xlink:href=\"#C2_0_80fc956938\" y=\"313.990909\"/>\n    </g>\n    <g clip-path=\"url(#p8073d79e94)\">\n     <use style=\"fill:#2ca02c;\" x=\"296.671004\" xlink:href=\"#C2_0_80fc956938\" y=\"251.380519\"/>\n    </g>\n    <g clip-path=\"url(#p8073d79e94)\">\n     <use style=\"fill:#2ca02c;\" x=\"295.705348\" xlink:href=\"#C2_0_80fc956938\" y=\"119.20303\"/>\n    </g>\n    <g clip-path=\"url(#p8073d79e94)\">\n     <use style=\"fill:#2ca02c;\" x=\"309.013935\" xlink:href=\"#C2_0_80fc956938\" y=\"244.42381\"/>\n    </g>\n    <g clip-path=\"url(#p8073d79e94)\">\n     <use style=\"fill:#2ca02c;\" x=\"304.493128\" xlink:href=\"#C2_0_80fc956938\" y=\"91.37619\"/>\n    </g>\n    <g clip-path=\"url(#p8073d79e94)\">\n     <use style=\"fill:#2ca02c;\" x=\"301.996496\" xlink:href=\"#C2_0_80fc956938\" y=\"272.250649\"/>\n    </g>\n    <g clip-path=\"url(#p8073d79e94)\">\n     <use style=\"fill:#2ca02c;\" x=\"297.082659\" xlink:href=\"#C2_0_80fc956938\" y=\"293.120779\"/>\n    </g>\n    <g clip-path=\"url(#p8073d79e94)\">\n     <use style=\"fill:#2ca02c;\" x=\"299.210127\" xlink:href=\"#C2_0_80fc956938\" y=\"160.94329\"/>\n    </g>\n    <g clip-path=\"url(#p8073d79e94)\">\n     <use style=\"fill:#2ca02c;\" x=\"302.101997\" xlink:href=\"#C2_0_80fc956938\" y=\"105.28961\"/>\n    </g>\n    <g clip-path=\"url(#p8073d79e94)\">\n     <use style=\"fill:#2ca02c;\" x=\"307.837127\" xlink:href=\"#C2_0_80fc956938\" y=\"230.51039\"/>\n    </g>\n    <g clip-path=\"url(#p8073d79e94)\">\n     <use style=\"fill:#2ca02c;\" x=\"310.611874\" xlink:href=\"#C2_0_80fc956938\" y=\"160.94329\"/>\n    </g>\n    <g clip-path=\"url(#p8073d79e94)\">\n     <use style=\"fill:#2ca02c;\" x=\"296.885583\" xlink:href=\"#C2_0_80fc956938\" y=\"216.59697\"/>\n    </g>\n    <g clip-path=\"url(#p8073d79e94)\">\n     <use style=\"fill:#2ca02c;\" x=\"310.142426\" xlink:href=\"#C2_0_80fc956938\" y=\"220.075325\"/>\n    </g>\n    <g clip-path=\"url(#p8073d79e94)\">\n     <use style=\"fill:#2ca02c;\" x=\"297.788024\" xlink:href=\"#C2_0_80fc956938\" y=\"272.250649\"/>\n    </g>\n    <g clip-path=\"url(#p8073d79e94)\">\n     <use style=\"fill:#2ca02c;\" x=\"304.720389\" xlink:href=\"#C2_0_80fc956938\" y=\"174.85671\"/>\n    </g>\n    <g clip-path=\"url(#p8073d79e94)\">\n     <use style=\"fill:#2ca02c;\" x=\"315.806206\" xlink:href=\"#C2_0_80fc956938\" y=\"258.337229\"/>\n    </g>\n    <g clip-path=\"url(#p8073d79e94)\">\n     <use style=\"fill:#2ca02c;\" x=\"302.284307\" xlink:href=\"#C2_0_80fc956938\" y=\"140.07316\"/>\n    </g>\n    <g clip-path=\"url(#p8073d79e94)\">\n     <use style=\"fill:#2ca02c;\" x=\"309.941191\" xlink:href=\"#C2_0_80fc956938\" y=\"133.11645\"/>\n    </g>\n    <g clip-path=\"url(#p8073d79e94)\">\n     <use style=\"fill:#2ca02c;\" x=\"302.694422\" xlink:href=\"#C2_0_80fc956938\" y=\"230.51039\"/>\n    </g>\n    <g clip-path=\"url(#p8073d79e94)\">\n     <use style=\"fill:#2ca02c;\" x=\"311.946049\" xlink:href=\"#C2_0_80fc956938\" y=\"258.337229\"/>\n    </g>\n    <g clip-path=\"url(#p8073d79e94)\">\n     <use style=\"fill:#2ca02c;\" x=\"308.415134\" xlink:href=\"#C2_0_80fc956938\" y=\"133.11645\"/>\n    </g>\n    <g clip-path=\"url(#p8073d79e94)\">\n     <use style=\"fill:#2ca02c;\" x=\"308.688052\" xlink:href=\"#C2_0_80fc956938\" y=\"147.02987\"/>\n    </g>\n    <g clip-path=\"url(#p8073d79e94)\">\n     <use style=\"fill:#2ca02c;\" x=\"302.7795\" xlink:href=\"#C2_0_80fc956938\" y=\"167.9\"/>\n    </g>\n    <g clip-path=\"url(#p8073d79e94)\">\n     <use style=\"fill:#2ca02c;\" x=\"306.753238\" xlink:href=\"#C2_0_80fc956938\" y=\"230.51039\"/>\n    </g>\n    <g clip-path=\"url(#p8073d79e94)\">\n     <use style=\"fill:#2ca02c;\" x=\"308.980139\" xlink:href=\"#C2_0_80fc956938\" y=\"223.55368\"/>\n    </g>\n    <g clip-path=\"url(#p8073d79e94)\">\n     <use style=\"fill:#2ca02c;\" x=\"313.097099\" xlink:href=\"#C2_0_80fc956938\" y=\"188.77013\"/>\n    </g>\n    <g clip-path=\"url(#p8073d79e94)\">\n     <use style=\"fill:#2ca02c;\" x=\"303.550367\" xlink:href=\"#C2_0_80fc956938\" y=\"188.77013\"/>\n    </g>\n    <g clip-path=\"url(#p8073d79e94)\">\n     <use style=\"fill:#2ca02c;\" x=\"308.354228\" xlink:href=\"#C2_0_80fc956938\" y=\"272.250649\"/>\n    </g>\n    <g clip-path=\"url(#p8073d79e94)\">\n     <use style=\"fill:#2ca02c;\" x=\"302.230174\" xlink:href=\"#C2_0_80fc956938\" y=\"167.9\"/>\n    </g>\n    <g clip-path=\"url(#p8073d79e94)\">\n     <use style=\"fill:#2ca02c;\" x=\"304.064985\" xlink:href=\"#C2_0_80fc956938\" y=\"188.77013\"/>\n    </g>\n    <g clip-path=\"url(#p8073d79e94)\">\n     <use style=\"fill:#2ca02c;\" x=\"309.084394\" xlink:href=\"#C2_0_80fc956938\" y=\"133.11645\"/>\n    </g>\n    <g clip-path=\"url(#p8073d79e94)\">\n     <use style=\"fill:#2ca02c;\" x=\"306.091389\" xlink:href=\"#C2_0_80fc956938\" y=\"244.42381\"/>\n    </g>\n    <g clip-path=\"url(#p8073d79e94)\">\n     <use style=\"fill:#2ca02c;\" x=\"303.770464\" xlink:href=\"#C2_0_80fc956938\" y=\"258.337229\"/>\n    </g>\n    <g clip-path=\"url(#p8073d79e94)\">\n     <use style=\"fill:#2ca02c;\" x=\"304.71413\" xlink:href=\"#C2_0_80fc956938\" y=\"167.9\"/>\n    </g>\n    <g clip-path=\"url(#p8073d79e94)\">\n     <use style=\"fill:#2ca02c;\" x=\"315.95525\" xlink:href=\"#C2_0_80fc956938\" y=\"160.94329\"/>\n    </g>\n    <g clip-path=\"url(#p8073d79e94)\">\n     <use style=\"fill:#2ca02c;\" x=\"299.45312\" xlink:href=\"#C2_0_80fc956938\" y=\"202.68355\"/>\n    </g>\n    <g clip-path=\"url(#p8073d79e94)\">\n     <use style=\"fill:#2ca02c;\" x=\"297.652669\" xlink:href=\"#C2_0_80fc956938\" y=\"91.37619\"/>\n    </g>\n    <g clip-path=\"url(#p8073d79e94)\">\n     <use style=\"fill:#2ca02c;\" x=\"302.310193\" xlink:href=\"#C2_0_80fc956938\" y=\"147.02987\"/>\n    </g>\n    <g clip-path=\"url(#p8073d79e94)\">\n     <use style=\"fill:#2ca02c;\" x=\"303.192941\" xlink:href=\"#C2_0_80fc956938\" y=\"272.250649\"/>\n    </g>\n    <g clip-path=\"url(#p8073d79e94)\">\n     <use style=\"fill:#2ca02c;\" x=\"302.667604\" xlink:href=\"#C2_0_80fc956938\" y=\"167.9\"/>\n    </g>\n    <g clip-path=\"url(#p8073d79e94)\">\n     <use style=\"fill:#2ca02c;\" x=\"308.997598\" xlink:href=\"#C2_0_80fc956938\" y=\"300.077489\"/>\n    </g>\n    <g clip-path=\"url(#p8073d79e94)\">\n     <use style=\"fill:#2ca02c;\" x=\"305.905838\" xlink:href=\"#C2_0_80fc956938\" y=\"119.20303\"/>\n    </g>\n    <g clip-path=\"url(#p8073d79e94)\">\n     <use style=\"fill:#2ca02c;\" x=\"307.686426\" xlink:href=\"#C2_0_80fc956938\" y=\"244.42381\"/>\n    </g>\n    <g clip-path=\"url(#p8073d79e94)\">\n     <use style=\"fill:#2ca02c;\" x=\"314.578234\" xlink:href=\"#C2_0_80fc956938\" y=\"272.250649\"/>\n    </g>\n    <g clip-path=\"url(#p8073d79e94)\">\n     <use style=\"fill:#2ca02c;\" x=\"312.51619\" xlink:href=\"#C2_0_80fc956938\" y=\"142.392063\"/>\n    </g>\n    <g clip-path=\"url(#p8073d79e94)\">\n     <use style=\"fill:#2ca02c;\" x=\"299.017204\" xlink:href=\"#C2_0_80fc956938\" y=\"258.337229\"/>\n    </g>\n    <g clip-path=\"url(#p8073d79e94)\">\n     <use style=\"fill:#2ca02c;\" x=\"299.310866\" xlink:href=\"#C2_0_80fc956938\" y=\"216.59697\"/>\n    </g>\n    <g clip-path=\"url(#p8073d79e94)\">\n     <use style=\"fill:#2ca02c;\" x=\"303.921832\" xlink:href=\"#C2_0_80fc956938\" y=\"209.64026\"/>\n    </g>\n    <g clip-path=\"url(#p8073d79e94)\">\n     <use style=\"fill:#2ca02c;\" x=\"311.338081\" xlink:href=\"#C2_0_80fc956938\" y=\"279.207359\"/>\n    </g>\n    <g clip-path=\"url(#p8073d79e94)\">\n     <use style=\"fill:#2ca02c;\" x=\"313.536454\" xlink:href=\"#C2_0_80fc956938\" y=\"188.77013\"/>\n    </g>\n    <g clip-path=\"url(#p8073d79e94)\">\n     <use style=\"fill:#2ca02c;\" x=\"300.417367\" xlink:href=\"#C2_0_80fc956938\" y=\"230.51039\"/>\n    </g>\n    <g clip-path=\"url(#p8073d79e94)\">\n     <use style=\"fill:#2ca02c;\" x=\"316.146853\" xlink:href=\"#C2_0_80fc956938\" y=\"140.07316\"/>\n    </g>\n    <g clip-path=\"url(#p8073d79e94)\">\n     <use style=\"fill:#2ca02c;\" x=\"295.788081\" xlink:href=\"#C2_0_80fc956938\" y=\"272.250649\"/>\n    </g>\n    <g clip-path=\"url(#p8073d79e94)\">\n     <use style=\"fill:#2ca02c;\" x=\"307.88763\" xlink:href=\"#C2_0_80fc956938\" y=\"188.77013\"/>\n    </g>\n    <g clip-path=\"url(#p8073d79e94)\">\n     <use style=\"fill:#2ca02c;\" x=\"296.613801\" xlink:href=\"#C2_0_80fc956938\" y=\"147.02987\"/>\n    </g>\n    <g clip-path=\"url(#p8073d79e94)\">\n     <use style=\"fill:#2ca02c;\" x=\"311.25699\" xlink:href=\"#C2_0_80fc956938\" y=\"272.250649\"/>\n    </g>\n    <g clip-path=\"url(#p8073d79e94)\">\n     <use style=\"fill:#2ca02c;\" x=\"314.140734\" xlink:href=\"#C2_0_80fc956938\" y=\"202.68355\"/>\n    </g>\n    <g clip-path=\"url(#p8073d79e94)\">\n     <use style=\"fill:#2ca02c;\" x=\"298.235811\" xlink:href=\"#C2_0_80fc956938\" y=\"91.37619\"/>\n    </g>\n    <g clip-path=\"url(#p8073d79e94)\">\n     <use style=\"fill:#2ca02c;\" x=\"308.869591\" xlink:href=\"#C2_0_80fc956938\" y=\"230.51039\"/>\n    </g>\n    <g clip-path=\"url(#p8073d79e94)\">\n     <use style=\"fill:#2ca02c;\" x=\"314.421958\" xlink:href=\"#C2_0_80fc956938\" y=\"188.77013\"/>\n    </g>\n    <g clip-path=\"url(#p8073d79e94)\">\n     <use style=\"fill:#2ca02c;\" x=\"299.468145\" xlink:href=\"#C2_0_80fc956938\" y=\"147.02987\"/>\n    </g>\n    <g clip-path=\"url(#p8073d79e94)\">\n     <use style=\"fill:#2ca02c;\" x=\"304.0342\" xlink:href=\"#C2_0_80fc956938\" y=\"202.68355\"/>\n    </g>\n    <g clip-path=\"url(#p8073d79e94)\">\n     <use style=\"fill:#2ca02c;\" x=\"298.019667\" xlink:href=\"#C2_0_80fc956938\" y=\"156.305483\"/>\n    </g>\n    <g clip-path=\"url(#p8073d79e94)\">\n     <use style=\"fill:#2ca02c;\" x=\"301.983507\" xlink:href=\"#C2_0_80fc956938\" y=\"209.64026\"/>\n    </g>\n    <g clip-path=\"url(#p8073d79e94)\">\n     <use style=\"fill:#2ca02c;\" x=\"298.102913\" xlink:href=\"#C2_0_80fc956938\" y=\"300.077489\"/>\n    </g>\n    <g clip-path=\"url(#p8073d79e94)\">\n     <use style=\"fill:#2ca02c;\" x=\"302.882613\" xlink:href=\"#C2_0_80fc956938\" y=\"188.77013\"/>\n    </g>\n    <g clip-path=\"url(#p8073d79e94)\">\n     <use style=\"fill:#2ca02c;\" x=\"316.124355\" xlink:href=\"#C2_0_80fc956938\" y=\"181.81342\"/>\n    </g>\n    <g clip-path=\"url(#p8073d79e94)\">\n     <use style=\"fill:#2ca02c;\" x=\"303.549692\" xlink:href=\"#C2_0_80fc956938\" y=\"249.061616\"/>\n    </g>\n    <g clip-path=\"url(#p8073d79e94)\">\n     <use style=\"fill:#2ca02c;\" x=\"313.567508\" xlink:href=\"#C2_0_80fc956938\" y=\"198.045743\"/>\n    </g>\n    <g clip-path=\"url(#p8073d79e94)\">\n     <use style=\"fill:#2ca02c;\" x=\"315.466369\" xlink:href=\"#C2_0_80fc956938\" y=\"230.51039\"/>\n    </g>\n    <g clip-path=\"url(#p8073d79e94)\">\n     <use style=\"fill:#2ca02c;\" x=\"310.465278\" xlink:href=\"#C2_0_80fc956938\" y=\"244.42381\"/>\n    </g>\n    <g clip-path=\"url(#p8073d79e94)\">\n     <use style=\"fill:#2ca02c;\" x=\"308.581703\" xlink:href=\"#C2_0_80fc956938\" y=\"237.4671\"/>\n    </g>\n    <g clip-path=\"url(#p8073d79e94)\">\n     <use style=\"fill:#2ca02c;\" x=\"314.655651\" xlink:href=\"#C2_0_80fc956938\" y=\"160.94329\"/>\n    </g>\n    <g clip-path=\"url(#p8073d79e94)\">\n     <use style=\"fill:#2ca02c;\" x=\"314.316496\" xlink:href=\"#C2_0_80fc956938\" y=\"244.42381\"/>\n    </g>\n    <g clip-path=\"url(#p8073d79e94)\">\n     <use style=\"fill:#2ca02c;\" x=\"315.612791\" xlink:href=\"#C2_0_80fc956938\" y=\"286.164069\"/>\n    </g>\n    <g clip-path=\"url(#p8073d79e94)\">\n     <use style=\"fill:#2ca02c;\" x=\"299.993669\" xlink:href=\"#C2_0_80fc956938\" y=\"221.234776\"/>\n    </g>\n    <g clip-path=\"url(#p8073d79e94)\">\n     <use style=\"fill:#2ca02c;\" x=\"304.141323\" xlink:href=\"#C2_0_80fc956938\" y=\"230.51039\"/>\n    </g>\n    <g clip-path=\"url(#p8073d79e94)\">\n     <use style=\"fill:#2ca02c;\" x=\"307.296296\" xlink:href=\"#C2_0_80fc956938\" y=\"230.51039\"/>\n    </g>\n    <g clip-path=\"url(#p8073d79e94)\">\n     <use style=\"fill:#2ca02c;\" x=\"315.955558\" xlink:href=\"#C2_0_80fc956938\" y=\"160.94329\"/>\n    </g>\n    <g clip-path=\"url(#p8073d79e94)\">\n     <use style=\"fill:#2ca02c;\" x=\"315.388495\" xlink:href=\"#C2_0_80fc956938\" y=\"237.4671\"/>\n    </g>\n    <g clip-path=\"url(#p8073d79e94)\">\n     <use style=\"fill:#2ca02c;\" x=\"315.395244\" xlink:href=\"#C2_0_80fc956938\" y=\"230.51039\"/>\n    </g>\n    <g clip-path=\"url(#p8073d79e94)\">\n     <use style=\"fill:#2ca02c;\" x=\"298.407556\" xlink:href=\"#C2_0_80fc956938\" y=\"223.55368\"/>\n    </g>\n    <g clip-path=\"url(#p8073d79e94)\">\n     <use style=\"fill:#2ca02c;\" x=\"310.826991\" xlink:href=\"#C2_0_80fc956938\" y=\"202.68355\"/>\n    </g>\n    <g clip-path=\"url(#p8073d79e94)\">\n     <use style=\"fill:#2ca02c;\" x=\"315.225075\" xlink:href=\"#C2_0_80fc956938\" y=\"223.55368\"/>\n    </g>\n    <g clip-path=\"url(#p8073d79e94)\">\n     <use style=\"fill:#2ca02c;\" x=\"306.019074\" xlink:href=\"#C2_0_80fc956938\" y=\"174.85671\"/>\n    </g>\n    <g clip-path=\"url(#p8073d79e94)\">\n     <use style=\"fill:#2ca02c;\" x=\"307.751568\" xlink:href=\"#C2_0_80fc956938\" y=\"195.72684\"/>\n    </g>\n    <g clip-path=\"url(#p8073d79e94)\">\n     <use style=\"fill:#2ca02c;\" x=\"307.680142\" xlink:href=\"#C2_0_80fc956938\" y=\"160.94329\"/>\n    </g>\n    <g clip-path=\"url(#p8073d79e94)\">\n     <use style=\"fill:#2ca02c;\" x=\"314.887213\" xlink:href=\"#C2_0_80fc956938\" y=\"105.28961\"/>\n    </g>\n    <g clip-path=\"url(#p8073d79e94)\">\n     <use style=\"fill:#2ca02c;\" x=\"304.481082\" xlink:href=\"#C2_0_80fc956938\" y=\"174.85671\"/>\n    </g>\n    <g clip-path=\"url(#p8073d79e94)\">\n     <use style=\"fill:#2ca02c;\" x=\"310.958425\" xlink:href=\"#C2_0_80fc956938\" y=\"279.207359\"/>\n    </g>\n    <g clip-path=\"url(#p8073d79e94)\">\n     <use style=\"fill:#2ca02c;\" x=\"311.275848\" xlink:href=\"#C2_0_80fc956938\" y=\"216.59697\"/>\n    </g>\n    <g clip-path=\"url(#p8073d79e94)\">\n     <use style=\"fill:#2ca02c;\" x=\"315.337569\" xlink:href=\"#C2_0_80fc956938\" y=\"223.55368\"/>\n    </g>\n    <g clip-path=\"url(#p8073d79e94)\">\n     <use style=\"fill:#2ca02c;\" x=\"303.338417\" xlink:href=\"#C2_0_80fc956938\" y=\"244.42381\"/>\n    </g>\n    <g clip-path=\"url(#p8073d79e94)\">\n     <use style=\"fill:#2ca02c;\" x=\"302.297392\" xlink:href=\"#C2_0_80fc956938\" y=\"223.55368\"/>\n    </g>\n    <g clip-path=\"url(#p8073d79e94)\">\n     <use style=\"fill:#2ca02c;\" x=\"311.296263\" xlink:href=\"#C2_0_80fc956938\" y=\"188.77013\"/>\n    </g>\n    <g clip-path=\"url(#p8073d79e94)\">\n     <use style=\"fill:#2ca02c;\" x=\"301.787148\" xlink:href=\"#C2_0_80fc956938\" y=\"147.02987\"/>\n    </g>\n    <g clip-path=\"url(#p8073d79e94)\">\n     <use style=\"fill:#2ca02c;\" x=\"309.743926\" xlink:href=\"#C2_0_80fc956938\" y=\"91.37619\"/>\n    </g>\n    <g clip-path=\"url(#p8073d79e94)\">\n     <use style=\"fill:#2ca02c;\" x=\"305.967539\" xlink:href=\"#C2_0_80fc956938\" y=\"202.68355\"/>\n    </g>\n    <g clip-path=\"url(#p8073d79e94)\">\n     <use style=\"fill:#2ca02c;\" x=\"314.101389\" xlink:href=\"#C2_0_80fc956938\" y=\"258.337229\"/>\n    </g>\n    <g clip-path=\"url(#p8073d79e94)\">\n     <use style=\"fill:#2ca02c;\" x=\"302.258502\" xlink:href=\"#C2_0_80fc956938\" y=\"174.85671\"/>\n    </g>\n    <g clip-path=\"url(#p8073d79e94)\">\n     <use style=\"fill:#2ca02c;\" x=\"311.47599\" xlink:href=\"#C2_0_80fc956938\" y=\"237.4671\"/>\n    </g>\n    <g clip-path=\"url(#p8073d79e94)\">\n     <use style=\"fill:#2ca02c;\" x=\"303.028978\" xlink:href=\"#C2_0_80fc956938\" y=\"216.59697\"/>\n    </g>\n    <g clip-path=\"url(#p8073d79e94)\">\n     <use style=\"fill:#2ca02c;\" x=\"305.550153\" xlink:href=\"#C2_0_80fc956938\" y=\"188.77013\"/>\n    </g>\n    <g clip-path=\"url(#p8073d79e94)\">\n     <use style=\"fill:#2ca02c;\" x=\"308.913513\" xlink:href=\"#C2_0_80fc956938\" y=\"265.293939\"/>\n    </g>\n    <g clip-path=\"url(#p8073d79e94)\">\n     <use style=\"fill:#2ca02c;\" x=\"314.426086\" xlink:href=\"#C2_0_80fc956938\" y=\"216.59697\"/>\n    </g>\n    <g clip-path=\"url(#p8073d79e94)\">\n     <use style=\"fill:#2ca02c;\" x=\"316.71997\" xlink:href=\"#C2_0_80fc956938\" y=\"216.59697\"/>\n    </g>\n    <g clip-path=\"url(#p8073d79e94)\">\n     <use style=\"fill:#2ca02c;\" x=\"315.177358\" xlink:href=\"#C2_0_80fc956938\" y=\"251.380519\"/>\n    </g>\n    <g clip-path=\"url(#p8073d79e94)\">\n     <use style=\"fill:#2ca02c;\" x=\"306.195065\" xlink:href=\"#C2_0_80fc956938\" y=\"195.72684\"/>\n    </g>\n    <g clip-path=\"url(#p8073d79e94)\">\n     <use style=\"fill:#2ca02c;\" x=\"308.5916\" xlink:href=\"#C2_0_80fc956938\" y=\"133.11645\"/>\n    </g>\n    <g clip-path=\"url(#p8073d79e94)\">\n     <use style=\"fill:#2ca02c;\" x=\"316.102788\" xlink:href=\"#C2_0_80fc956938\" y=\"160.94329\"/>\n    </g>\n    <g clip-path=\"url(#p8073d79e94)\">\n     <use style=\"fill:#2ca02c;\" x=\"297.760661\" xlink:href=\"#C2_0_80fc956938\" y=\"272.250649\"/>\n    </g>\n    <g clip-path=\"url(#p8073d79e94)\">\n     <use style=\"fill:#2ca02c;\" x=\"303.349183\" xlink:href=\"#C2_0_80fc956938\" y=\"300.077489\"/>\n    </g>\n    <g clip-path=\"url(#p8073d79e94)\">\n     <use style=\"fill:#2ca02c;\" x=\"304.742187\" xlink:href=\"#C2_0_80fc956938\" y=\"105.28961\"/>\n    </g>\n    <g clip-path=\"url(#p8073d79e94)\">\n     <use style=\"fill:#2ca02c;\" x=\"310.775176\" xlink:href=\"#C2_0_80fc956938\" y=\"167.9\"/>\n    </g>\n    <g clip-path=\"url(#p8073d79e94)\">\n     <use style=\"fill:#2ca02c;\" x=\"307.642931\" xlink:href=\"#C2_0_80fc956938\" y=\"209.64026\"/>\n    </g>\n    <g clip-path=\"url(#p8073d79e94)\">\n     <use style=\"fill:#2ca02c;\" x=\"308.275165\" xlink:href=\"#C2_0_80fc956938\" y=\"230.51039\"/>\n    </g>\n    <g clip-path=\"url(#p8073d79e94)\">\n     <use style=\"fill:#2ca02c;\" x=\"298.574484\" xlink:href=\"#C2_0_80fc956938\" y=\"167.9\"/>\n    </g>\n    <g clip-path=\"url(#p8073d79e94)\">\n     <use style=\"fill:#2ca02c;\" x=\"314.062558\" xlink:href=\"#C2_0_80fc956938\" y=\"313.990909\"/>\n    </g>\n    <g clip-path=\"url(#p8073d79e94)\">\n     <use style=\"fill:#2ca02c;\" x=\"299.718105\" xlink:href=\"#C2_0_80fc956938\" y=\"258.337229\"/>\n    </g>\n    <g clip-path=\"url(#p8073d79e94)\">\n     <use style=\"fill:#2ca02c;\" x=\"300.4501\" xlink:href=\"#C2_0_80fc956938\" y=\"49.635931\"/>\n    </g>\n    <g clip-path=\"url(#p8073d79e94)\">\n     <use style=\"fill:#2ca02c;\" x=\"301.566983\" xlink:href=\"#C2_0_80fc956938\" y=\"244.42381\"/>\n    </g>\n    <g clip-path=\"url(#p8073d79e94)\">\n     <use style=\"fill:#2ca02c;\" x=\"305.580894\" xlink:href=\"#C2_0_80fc956938\" y=\"181.81342\"/>\n    </g>\n    <g clip-path=\"url(#p8073d79e94)\">\n     <use style=\"fill:#2ca02c;\" x=\"308.335952\" xlink:href=\"#C2_0_80fc956938\" y=\"193.407937\"/>\n    </g>\n    <g clip-path=\"url(#p8073d79e94)\">\n     <use style=\"fill:#2ca02c;\" x=\"297.032492\" xlink:href=\"#C2_0_80fc956938\" y=\"272.250649\"/>\n    </g>\n    <g clip-path=\"url(#p8073d79e94)\">\n     <use style=\"fill:#2ca02c;\" x=\"303.761616\" xlink:href=\"#C2_0_80fc956938\" y=\"244.42381\"/>\n    </g>\n    <g clip-path=\"url(#p8073d79e94)\">\n     <use style=\"fill:#2ca02c;\" x=\"301.857949\" xlink:href=\"#C2_0_80fc956938\" y=\"313.990909\"/>\n    </g>\n    <g clip-path=\"url(#p8073d79e94)\">\n     <use style=\"fill:#2ca02c;\" x=\"297.741153\" xlink:href=\"#C2_0_80fc956938\" y=\"251.380519\"/>\n    </g>\n    <g clip-path=\"url(#p8073d79e94)\">\n     <use style=\"fill:#2ca02c;\" x=\"309.64375\" xlink:href=\"#C2_0_80fc956938\" y=\"286.164069\"/>\n    </g>\n    <g clip-path=\"url(#p8073d79e94)\">\n     <use style=\"fill:#2ca02c;\" x=\"295.611231\" xlink:href=\"#C2_0_80fc956938\" y=\"286.164069\"/>\n    </g>\n    <g clip-path=\"url(#p8073d79e94)\">\n     <use style=\"fill:#2ca02c;\" x=\"305.53849\" xlink:href=\"#C2_0_80fc956938\" y=\"230.51039\"/>\n    </g>\n    <g clip-path=\"url(#p8073d79e94)\">\n     <use style=\"fill:#2ca02c;\" x=\"311.88007\" xlink:href=\"#C2_0_80fc956938\" y=\"286.164069\"/>\n    </g>\n    <g clip-path=\"url(#p8073d79e94)\">\n     <use style=\"fill:#2ca02c;\" x=\"314.18475\" xlink:href=\"#C2_0_80fc956938\" y=\"174.85671\"/>\n    </g>\n    <g clip-path=\"url(#p8073d79e94)\">\n     <use style=\"fill:#2ca02c;\" x=\"299.39759\" xlink:href=\"#C2_0_80fc956938\" y=\"216.59697\"/>\n    </g>\n    <g clip-path=\"url(#p8073d79e94)\">\n     <use style=\"fill:#2ca02c;\" x=\"308.349974\" xlink:href=\"#C2_0_80fc956938\" y=\"174.85671\"/>\n    </g>\n    <g clip-path=\"url(#p8073d79e94)\">\n     <use style=\"fill:#2ca02c;\" x=\"304.357299\" xlink:href=\"#C2_0_80fc956938\" y=\"49.635931\"/>\n    </g>\n    <g clip-path=\"url(#p8073d79e94)\">\n     <use style=\"fill:#2ca02c;\" x=\"303.897002\" xlink:href=\"#C2_0_80fc956938\" y=\"188.77013\"/>\n    </g>\n    <g clip-path=\"url(#p8073d79e94)\">\n     <use style=\"fill:#2ca02c;\" x=\"296.987869\" xlink:href=\"#C2_0_80fc956938\" y=\"188.77013\"/>\n    </g>\n    <g clip-path=\"url(#p8073d79e94)\">\n     <use style=\"fill:#2ca02c;\" x=\"314.112206\" xlink:href=\"#C2_0_80fc956938\" y=\"258.337229\"/>\n    </g>\n    <g clip-path=\"url(#p8073d79e94)\">\n     <use style=\"fill:#2ca02c;\" x=\"305.778387\" xlink:href=\"#C2_0_80fc956938\" y=\"230.51039\"/>\n    </g>\n    <g clip-path=\"url(#p8073d79e94)\">\n     <use style=\"fill:#2ca02c;\" x=\"298.773891\" xlink:href=\"#C2_0_80fc956938\" y=\"188.77013\"/>\n    </g>\n    <g clip-path=\"url(#p8073d79e94)\">\n     <use style=\"fill:#2ca02c;\" x=\"309.061782\" xlink:href=\"#C2_0_80fc956938\" y=\"133.11645\"/>\n    </g>\n    <g clip-path=\"url(#p8073d79e94)\">\n     <use style=\"fill:#2ca02c;\" x=\"316.098061\" xlink:href=\"#C2_0_80fc956938\" y=\"261.815584\"/>\n    </g>\n    <g clip-path=\"url(#p8073d79e94)\">\n     <use style=\"fill:#2ca02c;\" x=\"306.271338\" xlink:href=\"#C2_0_80fc956938\" y=\"216.59697\"/>\n    </g>\n    <g clip-path=\"url(#p8073d79e94)\">\n     <use style=\"fill:#2ca02c;\" x=\"303.686642\" xlink:href=\"#C2_0_80fc956938\" y=\"147.02987\"/>\n    </g>\n    <g clip-path=\"url(#p8073d79e94)\">\n     <use style=\"fill:#2ca02c;\" x=\"306.192596\" xlink:href=\"#C2_0_80fc956938\" y=\"105.28961\"/>\n    </g>\n    <g clip-path=\"url(#p8073d79e94)\">\n     <use style=\"fill:#2ca02c;\" x=\"315.409411\" xlink:href=\"#C2_0_80fc956938\" y=\"244.42381\"/>\n    </g>\n    <g clip-path=\"url(#p8073d79e94)\">\n     <use style=\"fill:#2ca02c;\" x=\"315.914648\" xlink:href=\"#C2_0_80fc956938\" y=\"202.68355\"/>\n    </g>\n    <g clip-path=\"url(#p8073d79e94)\">\n     <use style=\"fill:#2ca02c;\" x=\"313.98204\" xlink:href=\"#C2_0_80fc956938\" y=\"216.59697\"/>\n    </g>\n    <g clip-path=\"url(#p8073d79e94)\">\n     <use style=\"fill:#2ca02c;\" x=\"312.860916\" xlink:href=\"#C2_0_80fc956938\" y=\"133.11645\"/>\n    </g>\n    <g clip-path=\"url(#p8073d79e94)\">\n     <use style=\"fill:#2ca02c;\" x=\"297.084813\" xlink:href=\"#C2_0_80fc956938\" y=\"105.28961\"/>\n    </g>\n    <g clip-path=\"url(#p8073d79e94)\">\n     <use style=\"fill:#2ca02c;\" x=\"312.594783\" xlink:href=\"#C2_0_80fc956938\" y=\"188.77013\"/>\n    </g>\n    <g clip-path=\"url(#p8073d79e94)\">\n     <use style=\"fill:#2ca02c;\" x=\"313.727894\" xlink:href=\"#C2_0_80fc956938\" y=\"209.64026\"/>\n    </g>\n    <g clip-path=\"url(#p8073d79e94)\">\n     <use style=\"fill:#2ca02c;\" x=\"305.341241\" xlink:href=\"#C2_0_80fc956938\" y=\"133.11645\"/>\n    </g>\n    <g clip-path=\"url(#p8073d79e94)\">\n     <use style=\"fill:#2ca02c;\" x=\"310.408548\" xlink:href=\"#C2_0_80fc956938\" y=\"188.77013\"/>\n    </g>\n    <g clip-path=\"url(#p8073d79e94)\">\n     <use style=\"fill:#2ca02c;\" x=\"308.460593\" xlink:href=\"#C2_0_80fc956938\" y=\"225.872583\"/>\n    </g>\n    <g clip-path=\"url(#p8073d79e94)\">\n     <use style=\"fill:#2ca02c;\" x=\"314.972036\" xlink:href=\"#C2_0_80fc956938\" y=\"105.28961\"/>\n    </g>\n    <g clip-path=\"url(#p8073d79e94)\">\n     <use style=\"fill:#2ca02c;\" x=\"308.968866\" xlink:href=\"#C2_0_80fc956938\" y=\"174.85671\"/>\n    </g>\n    <g clip-path=\"url(#p8073d79e94)\">\n     <use style=\"fill:#2ca02c;\" x=\"306.219703\" xlink:href=\"#C2_0_80fc956938\" y=\"272.250649\"/>\n    </g>\n    <g clip-path=\"url(#p8073d79e94)\">\n     <use style=\"fill:#2ca02c;\" x=\"304.73223\" xlink:href=\"#C2_0_80fc956938\" y=\"244.42381\"/>\n    </g>\n    <g clip-path=\"url(#p8073d79e94)\">\n     <use style=\"fill:#2ca02c;\" x=\"297.04219\" xlink:href=\"#C2_0_80fc956938\" y=\"209.64026\"/>\n    </g>\n    <g clip-path=\"url(#p8073d79e94)\">\n     <use style=\"fill:#2ca02c;\" x=\"306.027229\" xlink:href=\"#C2_0_80fc956938\" y=\"244.42381\"/>\n    </g>\n    <g clip-path=\"url(#p8073d79e94)\">\n     <use style=\"fill:#2ca02c;\" x=\"315.140293\" xlink:href=\"#C2_0_80fc956938\" y=\"272.250649\"/>\n    </g>\n    <g clip-path=\"url(#p8073d79e94)\">\n     <use style=\"fill:#2ca02c;\" x=\"297.106534\" xlink:href=\"#C2_0_80fc956938\" y=\"181.81342\"/>\n    </g>\n    <g clip-path=\"url(#p8073d79e94)\">\n     <use style=\"fill:#2ca02c;\" x=\"299.304976\" xlink:href=\"#C2_0_80fc956938\" y=\"147.02987\"/>\n    </g>\n    <g clip-path=\"url(#p8073d79e94)\">\n     <use style=\"fill:#2ca02c;\" x=\"301.060608\" xlink:href=\"#C2_0_80fc956938\" y=\"147.02987\"/>\n    </g>\n    <g clip-path=\"url(#p8073d79e94)\">\n     <use style=\"fill:#2ca02c;\" x=\"315.494684\" xlink:href=\"#C2_0_80fc956938\" y=\"237.4671\"/>\n    </g>\n    <g clip-path=\"url(#p8073d79e94)\">\n     <use style=\"fill:#2ca02c;\" x=\"314.931744\" xlink:href=\"#C2_0_80fc956938\" y=\"258.337229\"/>\n    </g>\n    <g clip-path=\"url(#p8073d79e94)\">\n     <use style=\"fill:#2ca02c;\" x=\"307.012903\" xlink:href=\"#C2_0_80fc956938\" y=\"313.990909\"/>\n    </g>\n    <g clip-path=\"url(#p8073d79e94)\">\n     <use style=\"fill:#2ca02c;\" x=\"312.228026\" xlink:href=\"#C2_0_80fc956938\" y=\"216.59697\"/>\n    </g>\n    <g clip-path=\"url(#p8073d79e94)\">\n     <use style=\"fill:#2ca02c;\" x=\"315.24049\" xlink:href=\"#C2_0_80fc956938\" y=\"216.59697\"/>\n    </g>\n    <g clip-path=\"url(#p8073d79e94)\">\n     <use style=\"fill:#2ca02c;\" x=\"295.630521\" xlink:href=\"#C2_0_80fc956938\" y=\"258.337229\"/>\n    </g>\n    <g clip-path=\"url(#p8073d79e94)\">\n     <use style=\"fill:#2ca02c;\" x=\"299.465688\" xlink:href=\"#C2_0_80fc956938\" y=\"258.337229\"/>\n    </g>\n    <g clip-path=\"url(#p8073d79e94)\">\n     <use style=\"fill:#2ca02c;\" x=\"299.5014\" xlink:href=\"#C2_0_80fc956938\" y=\"313.990909\"/>\n    </g>\n    <g clip-path=\"url(#p8073d79e94)\">\n     <use style=\"fill:#2ca02c;\" x=\"310.003458\" xlink:href=\"#C2_0_80fc956938\" y=\"216.59697\"/>\n    </g>\n    <g clip-path=\"url(#p8073d79e94)\">\n     <use style=\"fill:#2ca02c;\" x=\"316.712283\" xlink:href=\"#C2_0_80fc956938\" y=\"220.075325\"/>\n    </g>\n    <g clip-path=\"url(#p8073d79e94)\">\n     <use style=\"fill:#2ca02c;\" x=\"311.950477\" xlink:href=\"#C2_0_80fc956938\" y=\"216.59697\"/>\n    </g>\n    <g clip-path=\"url(#p8073d79e94)\">\n     <use style=\"fill:#2ca02c;\" x=\"306.912895\" xlink:href=\"#C2_0_80fc956938\" y=\"279.207359\"/>\n    </g>\n    <g clip-path=\"url(#p8073d79e94)\">\n     <use style=\"fill:#2ca02c;\" x=\"313.456626\" xlink:href=\"#C2_0_80fc956938\" y=\"279.207359\"/>\n    </g>\n    <g clip-path=\"url(#p8073d79e94)\">\n     <use style=\"fill:#2ca02c;\" x=\"305.276584\" xlink:href=\"#C2_0_80fc956938\" y=\"244.42381\"/>\n    </g>\n    <g clip-path=\"url(#p8073d79e94)\">\n     <use style=\"fill:#2ca02c;\" x=\"307.197721\" xlink:href=\"#C2_0_80fc956938\" y=\"258.337229\"/>\n    </g>\n    <g clip-path=\"url(#p8073d79e94)\">\n     <use style=\"fill:#2ca02c;\" x=\"306.646014\" xlink:href=\"#C2_0_80fc956938\" y=\"160.94329\"/>\n    </g>\n    <g clip-path=\"url(#p8073d79e94)\">\n     <use style=\"fill:#2ca02c;\" x=\"310.969382\" xlink:href=\"#C2_0_80fc956938\" y=\"244.42381\"/>\n    </g>\n    <g clip-path=\"url(#p8073d79e94)\">\n     <use style=\"fill:#2ca02c;\" x=\"302.265172\" xlink:href=\"#C2_0_80fc956938\" y=\"216.59697\"/>\n    </g>\n    <g clip-path=\"url(#p8073d79e94)\">\n     <use style=\"fill:#2ca02c;\" x=\"311.309619\" xlink:href=\"#C2_0_80fc956938\" y=\"195.72684\"/>\n    </g>\n    <g clip-path=\"url(#p8073d79e94)\">\n     <use style=\"fill:#2ca02c;\" x=\"310.006012\" xlink:href=\"#C2_0_80fc956938\" y=\"195.72684\"/>\n    </g>\n    <g clip-path=\"url(#p8073d79e94)\">\n     <use style=\"fill:#2ca02c;\" x=\"300.572966\" xlink:href=\"#C2_0_80fc956938\" y=\"216.59697\"/>\n    </g>\n    <g clip-path=\"url(#p8073d79e94)\">\n     <use style=\"fill:#2ca02c;\" x=\"295.896214\" xlink:href=\"#C2_0_80fc956938\" y=\"133.11645\"/>\n    </g>\n    <g clip-path=\"url(#p8073d79e94)\">\n     <use style=\"fill:#2ca02c;\" x=\"302.303077\" xlink:href=\"#C2_0_80fc956938\" y=\"174.85671\"/>\n    </g>\n    <g clip-path=\"url(#p8073d79e94)\">\n     <use style=\"fill:#2ca02c;\" x=\"303.260261\" xlink:href=\"#C2_0_80fc956938\" y=\"105.28961\"/>\n    </g>\n    <g clip-path=\"url(#p8073d79e94)\">\n     <use style=\"fill:#2ca02c;\" x=\"313.745807\" xlink:href=\"#C2_0_80fc956938\" y=\"188.77013\"/>\n    </g>\n    <g clip-path=\"url(#p8073d79e94)\">\n     <use style=\"fill:#2ca02c;\" x=\"315.291841\" xlink:href=\"#C2_0_80fc956938\" y=\"300.077489\"/>\n    </g>\n    <g clip-path=\"url(#p8073d79e94)\">\n     <use style=\"fill:#2ca02c;\" x=\"311.19275\" xlink:href=\"#C2_0_80fc956938\" y=\"181.81342\"/>\n    </g>\n    <g clip-path=\"url(#p8073d79e94)\">\n     <use style=\"fill:#2ca02c;\" x=\"303.122567\" xlink:href=\"#C2_0_80fc956938\" y=\"105.28961\"/>\n    </g>\n    <g clip-path=\"url(#p8073d79e94)\">\n     <use style=\"fill:#2ca02c;\" x=\"296.763413\" xlink:href=\"#C2_0_80fc956938\" y=\"133.11645\"/>\n    </g>\n    <g clip-path=\"url(#p8073d79e94)\">\n     <use style=\"fill:#2ca02c;\" x=\"299.93765\" xlink:href=\"#C2_0_80fc956938\" y=\"286.164069\"/>\n    </g>\n    <g clip-path=\"url(#p8073d79e94)\">\n     <use style=\"fill:#2ca02c;\" x=\"314.917244\" xlink:href=\"#C2_0_80fc956938\" y=\"188.77013\"/>\n    </g>\n    <g clip-path=\"url(#p8073d79e94)\">\n     <use style=\"fill:#2ca02c;\" x=\"311.108788\" xlink:href=\"#C2_0_80fc956938\" y=\"251.380519\"/>\n    </g>\n    <g clip-path=\"url(#p8073d79e94)\">\n     <use style=\"fill:#2ca02c;\" x=\"306.70419\" xlink:href=\"#C2_0_80fc956938\" y=\"188.77013\"/>\n    </g>\n    <g clip-path=\"url(#p8073d79e94)\">\n     <use style=\"fill:#2ca02c;\" x=\"307.881803\" xlink:href=\"#C2_0_80fc956938\" y=\"272.250649\"/>\n    </g>\n    <g clip-path=\"url(#p8073d79e94)\">\n     <use style=\"fill:#2ca02c;\" x=\"296.287227\" xlink:href=\"#C2_0_80fc956938\" y=\"300.077489\"/>\n    </g>\n    <g clip-path=\"url(#p8073d79e94)\">\n     <use style=\"fill:#2ca02c;\" x=\"315.518024\" xlink:href=\"#C2_0_80fc956938\" y=\"209.64026\"/>\n    </g>\n    <g clip-path=\"url(#p8073d79e94)\">\n     <use style=\"fill:#2ca02c;\" x=\"298.162733\" xlink:href=\"#C2_0_80fc956938\" y=\"272.250649\"/>\n    </g>\n    <g clip-path=\"url(#p8073d79e94)\">\n     <use style=\"fill:#2ca02c;\" x=\"301.035448\" xlink:href=\"#C2_0_80fc956938\" y=\"216.59697\"/>\n    </g>\n    <g clip-path=\"url(#p8073d79e94)\">\n     <use style=\"fill:#2ca02c;\" x=\"300.884891\" xlink:href=\"#C2_0_80fc956938\" y=\"272.250649\"/>\n    </g>\n    <g clip-path=\"url(#p8073d79e94)\">\n     <use style=\"fill:#2ca02c;\" x=\"314.909148\" xlink:href=\"#C2_0_80fc956938\" y=\"202.68355\"/>\n    </g>\n    <g clip-path=\"url(#p8073d79e94)\">\n     <use style=\"fill:#2ca02c;\" x=\"305.485055\" xlink:href=\"#C2_0_80fc956938\" y=\"230.51039\"/>\n    </g>\n    <g clip-path=\"url(#p8073d79e94)\">\n     <use style=\"fill:#2ca02c;\" x=\"296.185297\" xlink:href=\"#C2_0_80fc956938\" y=\"244.42381\"/>\n    </g>\n    <g clip-path=\"url(#p8073d79e94)\">\n     <use style=\"fill:#2ca02c;\" x=\"305.442938\" xlink:href=\"#C2_0_80fc956938\" y=\"272.250649\"/>\n    </g>\n    <g clip-path=\"url(#p8073d79e94)\">\n     <use style=\"fill:#2ca02c;\" x=\"309.666632\" xlink:href=\"#C2_0_80fc956938\" y=\"286.164069\"/>\n    </g>\n    <g clip-path=\"url(#p8073d79e94)\">\n     <use style=\"fill:#2ca02c;\" x=\"306.590473\" xlink:href=\"#C2_0_80fc956938\" y=\"133.11645\"/>\n    </g>\n    <g clip-path=\"url(#p8073d79e94)\">\n     <use style=\"fill:#2ca02c;\" x=\"295.885054\" xlink:href=\"#C2_0_80fc956938\" y=\"209.64026\"/>\n    </g>\n    <g clip-path=\"url(#p8073d79e94)\">\n     <use style=\"fill:#2ca02c;\" x=\"299.461231\" xlink:href=\"#C2_0_80fc956938\" y=\"119.20303\"/>\n    </g>\n    <g clip-path=\"url(#p8073d79e94)\">\n     <use style=\"fill:#2ca02c;\" x=\"299.639084\" xlink:href=\"#C2_0_80fc956938\" y=\"313.990909\"/>\n    </g>\n    <g clip-path=\"url(#p8073d79e94)\">\n     <use style=\"fill:#2ca02c;\" x=\"309.281095\" xlink:href=\"#C2_0_80fc956938\" y=\"279.207359\"/>\n    </g>\n    <g clip-path=\"url(#p8073d79e94)\">\n     <use style=\"fill:#2ca02c;\" x=\"308.815582\" xlink:href=\"#C2_0_80fc956938\" y=\"223.55368\"/>\n    </g>\n    <g clip-path=\"url(#p8073d79e94)\">\n     <use style=\"fill:#2ca02c;\" x=\"296.319135\" xlink:href=\"#C2_0_80fc956938\" y=\"167.9\"/>\n    </g>\n    <g clip-path=\"url(#p8073d79e94)\">\n     <use style=\"fill:#2ca02c;\" x=\"301.376951\" xlink:href=\"#C2_0_80fc956938\" y=\"202.68355\"/>\n    </g>\n    <g clip-path=\"url(#p8073d79e94)\">\n     <use style=\"fill:#2ca02c;\" x=\"302.483821\" xlink:href=\"#C2_0_80fc956938\" y=\"209.64026\"/>\n    </g>\n    <g clip-path=\"url(#p8073d79e94)\">\n     <use style=\"fill:#2ca02c;\" x=\"313.960081\" xlink:href=\"#C2_0_80fc956938\" y=\"258.337229\"/>\n    </g>\n    <g clip-path=\"url(#p8073d79e94)\">\n     <use style=\"fill:#2ca02c;\" x=\"302.881208\" xlink:href=\"#C2_0_80fc956938\" y=\"223.55368\"/>\n    </g>\n   </g>\n  </g>\n </g>\n <defs>\n  <clipPath id=\"p8073d79e94\">\n   <rect height=\"321.4\" width=\"318.65\" x=\"40.603125\" y=\"7.2\"/>\n  </clipPath>\n </defs>\n</svg>\n",
      "image/png": "[encoded data removed]"
     },
     "metadata": {
      "needs_background": "light"
     }
    }
   ],
   "source": [
    "fig = sns.catplot(x='Accident_Severity', y='Age_of_Vehicle', data=data_analysis['1'])\n",
    "fig.set_axis_labels(\"Accident Severity\",\"Mean Age of Vehicles involved (years)\")\n",
    "fig.set_xticklabels(VAR_LOOKUP['Accident Severity']['label'])"
   ]
  },
  {
   "cell_type": "markdown",
   "metadata": {},
   "source": [
    "<hr>"
   ]
  },
  {
   "cell_type": "markdown",
   "metadata": {},
   "source": [
    "# Lecture 4: Spatial filtering"
   ]
  },
  {
   "cell_type": "code",
   "execution_count": null,
   "metadata": {},
   "outputs": [],
   "source": []
  },
  {
   "cell_type": "markdown",
   "metadata": {},
   "source": [
    "## Filtering with external table"
   ]
  },
  {
   "cell_type": "code",
   "execution_count": null,
   "metadata": {},
   "outputs": [],
   "source": []
  },
  {
   "cell_type": "markdown",
   "metadata": {},
   "source": [
    "Let's select all rows for the city name:"
   ]
  },
  {
   "cell_type": "code",
   "execution_count": null,
   "metadata": {},
   "outputs": [],
   "source": []
  },
  {
   "cell_type": "markdown",
   "metadata": {},
   "source": [
    "We want to use this list of LSOA11 codes to restrict our accident data set."
   ]
  },
  {
   "cell_type": "code",
   "execution_count": null,
   "metadata": {},
   "outputs": [],
   "source": []
  },
  {
   "cell_type": "markdown",
   "metadata": {},
   "source": [
    "Filter"
   ]
  },
  {
   "cell_type": "code",
   "execution_count": null,
   "metadata": {},
   "outputs": [],
   "source": []
  },
  {
   "cell_type": "markdown",
   "metadata": {},
   "source": [
    "Export"
   ]
  },
  {
   "cell_type": "code",
   "execution_count": null,
   "metadata": {},
   "outputs": [],
   "source": []
  },
  {
   "cell_type": "markdown",
   "metadata": {},
   "source": [
    "## Spatial filtering with shapely"
   ]
  },
  {
   "cell_type": "code",
   "execution_count": null,
   "metadata": {},
   "outputs": [],
   "source": []
  },
  {
   "cell_type": "markdown",
   "metadata": {},
   "source": [
    "Jupyter visualizes shapely objects!"
   ]
  },
  {
   "cell_type": "code",
   "execution_count": null,
   "metadata": {},
   "outputs": [],
   "source": []
  },
  {
   "cell_type": "markdown",
   "metadata": {},
   "source": [
    "Let's get all accident coordinates (from the whole UK)"
   ]
  },
  {
   "cell_type": "code",
   "execution_count": null,
   "metadata": {},
   "outputs": [],
   "source": []
  },
  {
   "cell_type": "markdown",
   "metadata": {},
   "source": [
    "`contains()` and `within()` check for point inclusion:"
   ]
  },
  {
   "cell_type": "code",
   "execution_count": null,
   "metadata": {},
   "outputs": [],
   "source": []
  },
  {
   "cell_type": "markdown",
   "metadata": {},
   "source": [
    "Limit vehicles and casualties to these AccidentIndices"
   ]
  },
  {
   "cell_type": "code",
   "execution_count": null,
   "metadata": {},
   "outputs": [],
   "source": []
  },
  {
   "cell_type": "markdown",
   "metadata": {},
   "source": [
    "What does it mean?  \n",
    "See: https://www.computerhope.com/unix/udiff.htm"
   ]
  },
  {
   "cell_type": "markdown",
   "metadata": {},
   "source": [
    "<hr>"
   ]
  },
  {
   "cell_type": "markdown",
   "metadata": {},
   "source": [
    "# Lecture 5: Visualizing spatial data"
   ]
  },
  {
   "cell_type": "code",
   "execution_count": null,
   "metadata": {},
   "outputs": [],
   "source": []
  },
  {
   "cell_type": "markdown",
   "metadata": {},
   "source": [
    "Inspired by: https://alysivji.github.io/getting-started-with-folium.html"
   ]
  },
  {
   "cell_type": "code",
   "execution_count": null,
   "metadata": {},
   "outputs": [],
   "source": []
  },
  {
   "cell_type": "markdown",
   "metadata": {},
   "source": [
    "The heatmap is built with KDE:  \n",
    "https://en.wikipedia.org/wiki/Kernel_density_estimation"
   ]
  },
  {
   "cell_type": "markdown",
   "metadata": {},
   "source": [
    "We can also add automatic clusters:"
   ]
  },
  {
   "cell_type": "code",
   "execution_count": null,
   "metadata": {},
   "outputs": [],
   "source": []
  }
 ],
 "metadata": {
  "kernelspec": {
   "display_name": "Python 3",
   "language": "python",
   "name": "python3"
  },
  "language_info": {
   "codemirror_mode": {
    "name": "ipython",
    "version": 3
   },
   "file_extension": ".py",
   "mimetype": "text/x-python",
   "name": "python",
   "nbconvert_exporter": "python",
   "pygments_lexer": "ipython3",
   "version": "3.8.5-final"
  }
 },
 "nbformat": 4,
 "nbformat_minor": 2
}