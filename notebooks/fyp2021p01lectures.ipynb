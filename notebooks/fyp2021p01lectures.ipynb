{
 "cells": [
  {
   "cell_type": "markdown",
   "metadata": {},
   "source": [
    "# Jupyter Lectures, First Year Project 2021"
   ]
  },
  {
   "cell_type": "markdown",
   "metadata": {},
   "source": [
    "## Project 1 - Road collisions analysis, ITU Copenhagen"
   ]
  },
  {
   "cell_type": "markdown",
   "metadata": {},
   "source": [
    "**Instructor: Michael Szell**"
   ]
  },
  {
   "cell_type": "markdown",
   "metadata": {},
   "source": [
    "Course page: https://learnit.itu.dk/local/coursebase/view.php?ciid=590"
   ]
  },
  {
   "cell_type": "markdown",
   "metadata": {},
   "source": [
    "This notebook contains all the code developed in the course lectures to wrangle and explore the data set from the project.\n",
    "\n",
    "Contact: Michael Szell (misz@itu.dk)  \n",
    "Created: 2021-01-29  \n",
    "Last modified: 2021-02-23"
   ]
  },
  {
   "cell_type": "markdown",
   "metadata": {},
   "source": [
    "<hr>"
   ]
  },
  {
   "cell_type": "markdown",
   "metadata": {},
   "source": [
    "# Lecture 1: First data exploration"
   ]
  },
  {
   "cell_type": "markdown",
   "metadata": {},
   "source": [
    "### Imports"
   ]
  },
  {
   "cell_type": "code",
   "execution_count": 1,
   "metadata": {},
   "outputs": [
    {
     "name": "stdout",
     "output_type": "stream",
     "text": [
      "Loaded functions.\n",
      "\n"
     ]
    }
   ],
   "source": [
    "import numpy as np\n",
    "\n",
    "import matplotlib\n",
    "import matplotlib.pyplot as plt\n",
    "import csv\n",
    "\n",
    "import pandas as pd\n",
    "\n",
    "import json\n",
    "import shapely\n",
    "from shapely.geometry import Point, MultiPoint, LineString, MultiLineString, Polygon, MultiPolygon\n",
    "\n",
    "import folium\n",
    "from folium import plugins\n",
    "from folium.plugins import HeatMap, MarkerCluster\n",
    "\n",
    "%run -i ../scripts/functions.py"
   ]
  },
  {
   "cell_type": "markdown",
   "metadata": {},
   "source": [
    "### Constants"
   ]
  },
  {
   "cell_type": "markdown",
   "metadata": {},
   "source": [
    "Constants are written all caps: https://www.python.org/dev/peps/pep-0008/#constants"
   ]
  },
  {
   "cell_type": "code",
   "execution_count": 2,
   "metadata": {},
   "outputs": [],
   "source": [
    "PATH = {}\n",
    "PATH[\"data_raw\"] = \"../data/raw/\"\n",
    "PATH[\"data_interim\"] = \"../data/interim/\"\n",
    "PATH[\"data_processed\"] = \"../data/processed/\"\n",
    "PATH[\"data_external\"] = \"../data/external/\"\n",
    "\n",
    "FILENAME = {}\n",
    "FILENAME[\"accidents\"] = \"Road Safety Data - Accidents 2019.csv\"\n",
    "FILENAME[\"casualties\"] = \"Road Safety Data - Casualties 2019.csv\"\n",
    "FILENAME[\"vehicles\"] = \"Road Safety Data- Vehicles 2019.csv\" # Note the inconsistent naming of the raw data files\n",
    "\n",
    "TABLENAMES = [\"accidents\", \"casualties\", \"vehicles\"]"
   ]
  },
  {
   "cell_type": "markdown",
   "metadata": {},
   "source": [
    "### Load raw data"
   ]
  },
  {
   "cell_type": "markdown",
   "metadata": {},
   "source": [
    "The data were downloaded from here on Jan 4th: https://data.gov.uk/dataset/road-accidents-safety-data  \n",
    "That page was updated afterwards (Jan 8th), so local and online data may be inconsistent."
   ]
  },
  {
   "cell_type": "markdown",
   "metadata": {},
   "source": [
    "We first explore one data table, the accidents.\n",
    "We load the data set with `utf-8-sig` encoding: https://stackoverflow.com/questions/17912307/u-ufeff-in-python-string"
   ]
  },
  {
   "cell_type": "code",
   "execution_count": 3,
   "metadata": {},
   "outputs": [],
   "source": [
    "dataraw = {}\n",
    "dataraw[\"accidents\"] = np.genfromtxt(PATH[\"data_raw\"]+FILENAME[\"accidents\"], delimiter=',', dtype=None, names=True, encoding='utf-8-sig')\n",
    "dataraw[\"vehicles\"] = np.genfromtxt(PATH[\"data_raw\"]+FILENAME[\"vehicles\"], delimiter=',', dtype=None, names=True, encoding='utf-8-sig')\n",
    "dataraw[\"casualties\"] = np.genfromtxt(PATH[\"data_raw\"]+FILENAME[\"casualties\"], delimiter=',', dtype=None, names=True, encoding='utf-8-sig')"
   ]
  },
  {
   "cell_type": "code",
   "execution_count": 4,
   "metadata": {},
   "outputs": [],
   "source": [
    "headerraw = {}\n",
    "for tablename in TABLENAMES:\n",
    "    headerraw[tablename] = list(dataraw[tablename].dtype.names)"
   ]
  },
  {
   "cell_type": "markdown",
   "metadata": {},
   "source": [
    "It is always good to start with a \"sneak preview\":"
   ]
  },
  {
   "cell_type": "code",
   "execution_count": 5,
   "metadata": {
    "scrolled": true
   },
   "outputs": [
    {
     "data": {
      "text/plain": [
       "array([('2019010128300', 528218, 180407, -0.153842, 51.508057, 1, 3, 2, 3, '18/02/2019', 2, '17:50',  1, 'E09000033', 3, 4202, 1, 30, 1,  2,  3, 4202,  0,  5, 1, 1, 1, 0, 0, 1, 3, 'E01004762'),\n",
       "       ('2019010152270', 530219, 172463, -0.127949, 51.436208, 1, 3, 2, 1, '15/01/2019', 3, '21:45',  9, 'E09000022', 3,   23, 2, 30, 0, -1, -1,    0, -1, -1, 4, 1, 1, 0, 0, 1, 3, 'E01003117'),\n",
       "       ('2019010155191', 530222, 182543, -0.124193, 51.526795, 1, 3, 2, 1, '01/01/2019', 3, '01:50',  2, 'E09000007', 4,  504, 6, 30, 3,  4,  6,    0,  0,  0, 4, 1, 1, 0, 0, 1, 1, 'E01000943'),\n",
       "       ('2019010155192', 525531, 184605, -0.191044, 51.546387, 1, 2, 1, 1, '01/01/2019', 3, '01:20',  2, 'E09000007', 4,  510, 6, 20, 3,  4,  4,  510,  0,  0, 4, 1, 1, 0, 0, 1, 1, 'E01000973'),\n",
       "       ('2019010155194', 524920, 184004, -0.200064, 51.541121, 1, 3, 2, 2, '01/01/2019', 3, '00:40', 28, 'E09000005', 3, 4003, 6, 30, 6,  4,  6,    0,  0,  0, 4, 1, 1, 0, 0, 1, 1, 'E01000546')],\n",
       "      dtype=[('Accident_Index', '<U13'), ('Location_Easting_OSGR', '<i4'), ('Location_Northing_OSGR', '<i4'), ('Longitude', '<f8'), ('Latitude', '<f8'), ('Police_Force', '<i4'), ('Accident_Severity', '<i4'), ('Number_of_Vehicles', '<i4'), ('Number_of_Casualties', '<i4'), ('Date', '<U10'), ('Day_of_Week', '<i4'), ('Time', '<U5'), ('Local_Authority_District', '<i4'), ('Local_Authority_Highway', '<U9'), ('1st_Road_Class', '<i4'), ('1st_Road_Number', '<i4'), ('Road_Type', '<i4'), ('Speed_limit', '<i4'), ('Junction_Detail', '<i4'), ('Junction_Control', '<i4'), ('2nd_Road_Class', '<i4'), ('2nd_Road_Number', '<i4'), ('Pedestrian_CrossingHuman_Control', '<i4'), ('Pedestrian_CrossingPhysical_Facilities', '<i4'), ('Light_Conditions', '<i4'), ('Weather_Conditions', '<i4'), ('Road_Surface_Conditions', '<i4'), ('Special_Conditions_at_Site', '<i4'), ('Carriageway_Hazards', '<i4'), ('Urban_or_Rural_Area', '<i4'), ('Did_Police_Officer_Attend_Scene_of_Accident', '<i4'), ('LSOA_of_Accident_Location', '<U9')])"
      ]
     },
     "execution_count": 5,
     "metadata": {},
     "output_type": "execute_result"
    }
   ],
   "source": [
    "dataraw[\"accidents\"][:5]"
   ]
  },
  {
   "cell_type": "markdown",
   "metadata": {},
   "source": [
    "Reminder and documentation on structured arrays:  \n",
    "https://numpy.org/devdocs/user/basics.rec.html"
   ]
  },
  {
   "cell_type": "markdown",
   "metadata": {},
   "source": [
    "#### Insight: Mixed variable types"
   ]
  },
  {
   "cell_type": "markdown",
   "metadata": {},
   "source": [
    "Accidents have mixed data types, including strins, floats, integers. Categorical variables are encoded as integers. The meaning of these categories can be looked up in: `../references/variable lookup.xls`"
   ]
  },
  {
   "cell_type": "markdown",
   "metadata": {},
   "source": [
    "Number of records"
   ]
  },
  {
   "cell_type": "code",
   "execution_count": 6,
   "metadata": {},
   "outputs": [
    {
     "data": {
      "text/plain": [
       "(117536,)"
      ]
     },
     "execution_count": 6,
     "metadata": {},
     "output_type": "execute_result"
    }
   ],
   "source": [
    "dataraw[\"accidents\"].shape"
   ]
  },
  {
   "cell_type": "markdown",
   "metadata": {},
   "source": [
    "Number of fields"
   ]
  },
  {
   "cell_type": "code",
   "execution_count": 7,
   "metadata": {},
   "outputs": [
    {
     "data": {
      "text/plain": [
       "32"
      ]
     },
     "execution_count": 7,
     "metadata": {},
     "output_type": "execute_result"
    }
   ],
   "source": [
    "len(dataraw[\"accidents\"].dtype)"
   ]
  },
  {
   "cell_type": "code",
   "execution_count": 8,
   "metadata": {},
   "outputs": [
    {
     "data": {
      "text/plain": [
       "dtype([('Accident_Index', '<U13'), ('Location_Easting_OSGR', '<i4'), ('Location_Northing_OSGR', '<i4'), ('Longitude', '<f8'), ('Latitude', '<f8'), ('Police_Force', '<i4'), ('Accident_Severity', '<i4'), ('Number_of_Vehicles', '<i4'), ('Number_of_Casualties', '<i4'), ('Date', '<U10'), ('Day_of_Week', '<i4'), ('Time', '<U5'), ('Local_Authority_District', '<i4'), ('Local_Authority_Highway', '<U9'), ('1st_Road_Class', '<i4'), ('1st_Road_Number', '<i4'), ('Road_Type', '<i4'), ('Speed_limit', '<i4'), ('Junction_Detail', '<i4'), ('Junction_Control', '<i4'), ('2nd_Road_Class', '<i4'), ('2nd_Road_Number', '<i4'), ('Pedestrian_CrossingHuman_Control', '<i4'), ('Pedestrian_CrossingPhysical_Facilities', '<i4'), ('Light_Conditions', '<i4'), ('Weather_Conditions', '<i4'), ('Road_Surface_Conditions', '<i4'), ('Special_Conditions_at_Site', '<i4'), ('Carriageway_Hazards', '<i4'), ('Urban_or_Rural_Area', '<i4'), ('Did_Police_Officer_Attend_Scene_of_Accident', '<i4'), ('LSOA_of_Accident_Location', '<U9')])"
      ]
     },
     "execution_count": 8,
     "metadata": {},
     "output_type": "execute_result"
    }
   ],
   "source": [
    "dataraw[\"accidents\"].dtype"
   ]
  },
  {
   "cell_type": "markdown",
   "metadata": {},
   "source": [
    "**\"Data in the wild\" puzzle: Why is the first field \"\\ufeffAccident_Index\" and not \"Accident_Index\"?**"
   ]
  },
  {
   "cell_type": "markdown",
   "metadata": {},
   "source": [
    "We load the data set with `utf-8-sig` encoding: https://stackoverflow.com/questions/17912307/u-ufeff-in-python-string"
   ]
  },
  {
   "cell_type": "markdown",
   "metadata": {},
   "source": [
    "Fields"
   ]
  },
  {
   "cell_type": "code",
   "execution_count": 9,
   "metadata": {
    "scrolled": false
   },
   "outputs": [
    {
     "data": {
      "text/plain": [
       "('Accident_Index',\n",
       " 'Location_Easting_OSGR',\n",
       " 'Location_Northing_OSGR',\n",
       " 'Longitude',\n",
       " 'Latitude',\n",
       " 'Police_Force',\n",
       " 'Accident_Severity',\n",
       " 'Number_of_Vehicles',\n",
       " 'Number_of_Casualties',\n",
       " 'Date',\n",
       " 'Day_of_Week',\n",
       " 'Time',\n",
       " 'Local_Authority_District',\n",
       " 'Local_Authority_Highway',\n",
       " '1st_Road_Class',\n",
       " '1st_Road_Number',\n",
       " 'Road_Type',\n",
       " 'Speed_limit',\n",
       " 'Junction_Detail',\n",
       " 'Junction_Control',\n",
       " '2nd_Road_Class',\n",
       " '2nd_Road_Number',\n",
       " 'Pedestrian_CrossingHuman_Control',\n",
       " 'Pedestrian_CrossingPhysical_Facilities',\n",
       " 'Light_Conditions',\n",
       " 'Weather_Conditions',\n",
       " 'Road_Surface_Conditions',\n",
       " 'Special_Conditions_at_Site',\n",
       " 'Carriageway_Hazards',\n",
       " 'Urban_or_Rural_Area',\n",
       " 'Did_Police_Officer_Attend_Scene_of_Accident',\n",
       " 'LSOA_of_Accident_Location')"
      ]
     },
     "execution_count": 9,
     "metadata": {},
     "output_type": "execute_result"
    }
   ],
   "source": [
    "dataraw[\"accidents\"].dtype.names"
   ]
  },
  {
   "cell_type": "markdown",
   "metadata": {},
   "source": [
    "Homework: Explore the other two tables the same way."
   ]
  },
  {
   "cell_type": "markdown",
   "metadata": {},
   "source": [
    "https://en.wikipedia.org/wiki/Code_refactoring"
   ]
  },
  {
   "cell_type": "markdown",
   "metadata": {},
   "source": [
    "<hr>"
   ]
  },
  {
   "cell_type": "markdown",
   "metadata": {},
   "source": [
    "# Lecture 2: Command line wrangling and dealing with missing data"
   ]
  },
  {
   "cell_type": "markdown",
   "metadata": {},
   "source": [
    "A faster way of getting basic insights into a new data set than by using numpy is by using command line tools."
   ]
  },
  {
   "cell_type": "markdown",
   "metadata": {},
   "source": [
    "Let's get a first overview using `head`. There are 3 data tables: Accidents, Casualties, and Vehicles."
   ]
  },
  {
   "cell_type": "code",
   "execution_count": 10,
   "metadata": {
    "scrolled": false
   },
   "outputs": [
    {
     "name": "stderr",
     "output_type": "stream",
     "text": [
      "'head' is not recognized as an internal or external command,\n",
      "operable program or batch file.\n",
      "'head' is not recognized as an internal or external command,\n",
      "operable program or batch file.\n",
      "'head' is not recognized as an internal or external command,\n",
      "operable program or batch file.\n"
     ]
    }
   ],
   "source": [
    "!head -n 6 \"../data/raw/Road Safety Data - Accidents 2019.csv\"\n",
    "!head -n 6 \"../data/raw/Road Safety Data - Casualties 2019.csv\"\n",
    "!head -n 6 \"../data/raw/Road Safety Data- Vehicles 2019.csv\""
   ]
  },
  {
   "cell_type": "markdown",
   "metadata": {},
   "source": [
    "### General insights"
   ]
  },
  {
   "cell_type": "markdown",
   "metadata": {},
   "source": [
    "#### Link between data tables"
   ]
  },
  {
   "cell_type": "markdown",
   "metadata": {},
   "source": [
    "Records between data tables are linked through their `Accident_Index`.\n",
    "\n",
    "Looking at the first Accident_Index 2019010128300, we can see there seems to be a one-to-many relation between accident->casualty and accident->vehicle, meaning there can be multiple casualties and vehicles involved in one accident (makes sense).\n",
    "\n",
    "https://en.wikipedia.org/wiki/One-to-many_(data_model)"
   ]
  },
  {
   "cell_type": "markdown",
   "metadata": {},
   "source": [
    "#### Dimensions"
   ]
  },
  {
   "cell_type": "markdown",
   "metadata": {},
   "source": [
    "Number of records"
   ]
  },
  {
   "cell_type": "markdown",
   "metadata": {},
   "source": [
    "https://en.wikipedia.org/wiki/Wc_(Unix)"
   ]
  },
  {
   "cell_type": "code",
   "execution_count": 11,
   "metadata": {},
   "outputs": [
    {
     "name": "stderr",
     "output_type": "stream",
     "text": [
      "'wc' is not recognized as an internal or external command,\n",
      "operable program or batch file.\n",
      "'wc' is not recognized as an internal or external command,\n",
      "operable program or batch file.\n",
      "'wc' is not recognized as an internal or external command,\n",
      "operable program or batch file.\n"
     ]
    }
   ],
   "source": [
    "!wc -l \"../data/raw/Road Safety Data - Accidents 2019.csv\"\n",
    "!wc -l \"../data/raw/Road Safety Data - Casualties 2019.csv\"\n",
    "!wc -l \"../data/raw/Road Safety Data- Vehicles 2019.csv\""
   ]
  },
  {
   "cell_type": "markdown",
   "metadata": {},
   "source": [
    "Number of fields (in first line)"
   ]
  },
  {
   "cell_type": "markdown",
   "metadata": {},
   "source": [
    "https://www.geeksforgeeks.org/awk-command-unixlinux-examples/"
   ]
  },
  {
   "cell_type": "code",
   "execution_count": 12,
   "metadata": {
    "scrolled": true
   },
   "outputs": [
    {
     "name": "stderr",
     "output_type": "stream",
     "text": [
      "'head' is not recognized as an internal or external command,\n",
      "operable program or batch file.\n",
      "'head' is not recognized as an internal or external command,\n",
      "operable program or batch file.\n",
      "'head' is not recognized as an internal or external command,\n",
      "operable program or batch file.\n"
     ]
    }
   ],
   "source": [
    "!head -1 \"../data/raw/Road Safety Data - Accidents 2019.csv\" | awk -F ',' '{print NF}'\n",
    "!head -1 \"../data/raw/Road Safety Data - Casualties 2019.csv\" | awk -F ',' '{print NF}'\n",
    "!head -1 \"../data/raw/Road Safety Data- Vehicles 2019.csv\" | awk -F ',' '{print NF}'"
   ]
  },
  {
   "cell_type": "markdown",
   "metadata": {},
   "source": [
    "See and count all fields"
   ]
  },
  {
   "cell_type": "markdown",
   "metadata": {},
   "source": [
    "https://en.wikipedia.org/wiki/Tr_(Unix)\n",
    "https://en.wikipedia.org/wiki/Nl_(Unix)"
   ]
  },
  {
   "cell_type": "code",
   "execution_count": 13,
   "metadata": {},
   "outputs": [
    {
     "name": "stderr",
     "output_type": "stream",
     "text": [
      "'head' is not recognized as an internal or external command,\n",
      "operable program or batch file.\n",
      "'head' is not recognized as an internal or external command,\n",
      "operable program or batch file.\n",
      "'head' is not recognized as an internal or external command,\n",
      "operable program or batch file.\n"
     ]
    }
   ],
   "source": [
    "!head -1 \"../data/raw/Road Safety Data - Accidents 2019.csv\" | tr ',' '\\n' | nl\n",
    "!head -1 \"../data/raw/Road Safety Data - Casualties 2019.csv\" | tr ',' '\\n' | nl\n",
    "!head -1 \"../data/raw/Road Safety Data- Vehicles 2019.csv\" | tr ',' '\\n' | nl"
   ]
  },
  {
   "cell_type": "markdown",
   "metadata": {},
   "source": [
    "### Sanity checks"
   ]
  },
  {
   "cell_type": "markdown",
   "metadata": {},
   "source": [
    "Has each record the same number of fields?"
   ]
  },
  {
   "cell_type": "markdown",
   "metadata": {},
   "source": [
    "https://shapeshed.com/unix-uniq/  \n",
    "https://www.putorius.net/uniq-command-linux.html"
   ]
  },
  {
   "cell_type": "code",
   "execution_count": 14,
   "metadata": {},
   "outputs": [
    {
     "name": "stderr",
     "output_type": "stream",
     "text": [
      "'awk' is not recognized as an internal or external command,\n",
      "operable program or batch file.\n",
      "'awk' is not recognized as an internal or external command,\n",
      "operable program or batch file.\n",
      "'awk' is not recognized as an internal or external command,\n",
      "operable program or batch file.\n"
     ]
    }
   ],
   "source": [
    "!awk -F ',' '{print NF}' \"../data/raw/Road Safety Data - Accidents 2019.csv\" | sort | uniq -d\n",
    "!awk -F ',' '{print NF}' \"../data/raw/Road Safety Data - Casualties 2019.csv\" | sort | uniq -d\n",
    "!awk -F ',' '{print NF}' \"../data/raw/Road Safety Data- Vehicles 2019.csv\" | sort | uniq -d"
   ]
  },
  {
   "cell_type": "markdown",
   "metadata": {},
   "source": [
    "How many duplicate lines are there? (If more than 0, there could be a problem)"
   ]
  },
  {
   "cell_type": "code",
   "execution_count": 15,
   "metadata": {
    "scrolled": true
   },
   "outputs": [
    {
     "name": "stderr",
     "output_type": "stream",
     "text": [
      "'uniq' is not recognized as an internal or external command,\n",
      "operable program or batch file.\n",
      "'uniq' is not recognized as an internal or external command,\n",
      "operable program or batch file.\n",
      "'uniq' is not recognized as an internal or external command,\n",
      "operable program or batch file.\n"
     ]
    }
   ],
   "source": [
    "!sort \"../data/raw/Road Safety Data - Accidents 2019.csv\" | uniq -d | wc -l\n",
    "!sort \"../data/raw/Road Safety Data - Casualties 2019.csv\" | uniq -d | wc -l\n",
    "!sort \"../data/raw/Road Safety Data- Vehicles 2019.csv\" | uniq -d | wc -l"
   ]
  },
  {
   "cell_type": "markdown",
   "metadata": {},
   "source": [
    "More advanced stuff with `awk`: https://datafix.com.au/BASHing/2020-05-20.html"
   ]
  },
  {
   "cell_type": "markdown",
   "metadata": {},
   "source": [
    "## Dealing with missing data"
   ]
  },
  {
   "cell_type": "markdown",
   "metadata": {},
   "source": [
    "Using a masked array:  \n",
    "https://numpy.org/devdocs/reference/maskedarray.baseclass.html#numpy.ma.MaskedArray"
   ]
  },
  {
   "cell_type": "code",
   "execution_count": 16,
   "metadata": {},
   "outputs": [],
   "source": [
    "dataraw_masked = {}\n",
    "for tablename in TABLENAMES:\n",
    "    dataraw_masked[tablename] = np.genfromtxt(PATH[\"data_raw\"] + FILENAME[tablename], delimiter = ',', dtype = None, names = True, encoding='utf-8-sig', usemask = True)"
   ]
  },
  {
   "cell_type": "code",
   "execution_count": 17,
   "metadata": {
    "scrolled": true
   },
   "outputs": [
    {
     "data": {
      "text/plain": [
       "masked_array(data=[('2019010128300', 528218, 180407, -0.153842, 51.508057, 1, 3, 2, 3, '18/02/2019', 2, '17:50', 1, 'E09000033', 3, 4202, 1, 30, 1, 2, 3, 4202, 0, 5, 1, 1, 1, 0, 0, 1, 3, 'E01004762'),\n",
       "                   ('2019010152270', 530219, 172463, -0.127949, 51.436208, 1, 3, 2, 1, '15/01/2019', 3, '21:45', 9, 'E09000022', 3, 23, 2, 30, 0, -1, -1, 0, -1, -1, 4, 1, 1, 0, 0, 1, 3, 'E01003117'),\n",
       "                   ('2019010155191', 530222, 182543, -0.124193, 51.526795, 1, 3, 2, 1, '01/01/2019', 3, '01:50', 2, 'E09000007', 4, 504, 6, 30, 3, 4, 6, 0, 0, 0, 4, 1, 1, 0, 0, 1, 1, 'E01000943'),\n",
       "                   ('2019010155192', 525531, 184605, -0.191044, 51.546387, 1, 2, 1, 1, '01/01/2019', 3, '01:20', 2, 'E09000007', 4, 510, 6, 20, 3, 4, 4, 510, 0, 0, 4, 1, 1, 0, 0, 1, 1, 'E01000973'),\n",
       "                   ('2019010155194', 524920, 184004, -0.200064, 51.541121, 1, 3, 2, 2, '01/01/2019', 3, '00:40', 28, 'E09000005', 3, 4003, 6, 30, 6, 4, 6, 0, 0, 0, 4, 1, 1, 0, 0, 1, 1, 'E01000546')],\n",
       "             mask=[(False, False, False, False, False, False, False, False, False, False, False, False, False, False, False, False, False, False, False, False, False, False, False, False, False, False, False, False, False, False, False, False),\n",
       "                   (False, False, False, False, False, False, False, False, False, False, False, False, False, False, False, False, False, False, False, False, False, False, False, False, False, False, False, False, False, False, False, False),\n",
       "                   (False, False, False, False, False, False, False, False, False, False, False, False, False, False, False, False, False, False, False, False, False, False, False, False, False, False, False, False, False, False, False, False),\n",
       "                   (False, False, False, False, False, False, False, False, False, False, False, False, False, False, False, False, False, False, False, False, False, False, False, False, False, False, False, False, False, False, False, False),\n",
       "                   (False, False, False, False, False, False, False, False, False, False, False, False, False, False, False, False, False, False, False, False, False, False, False, False, False, False, False, False, False, False, False, False)],\n",
       "       fill_value=('N/A', 999999, 999999, 1.e+20, 1.e+20, 999999, 999999, 999999, 999999, 'N/A', 999999, 'N/A', 999999, 'N/A', 999999, 999999, 999999, 999999, 999999, 999999, 999999, 999999, 999999, 999999, 999999, 999999, 999999, 999999, 999999, 999999, 999999, 'N/A'),\n",
       "            dtype=[('Accident_Index', '<U13'), ('Location_Easting_OSGR', '<i4'), ('Location_Northing_OSGR', '<i4'), ('Longitude', '<f8'), ('Latitude', '<f8'), ('Police_Force', '<i4'), ('Accident_Severity', '<i4'), ('Number_of_Vehicles', '<i4'), ('Number_of_Casualties', '<i4'), ('Date', '<U10'), ('Day_of_Week', '<i4'), ('Time', '<U5'), ('Local_Authority_District', '<i4'), ('Local_Authority_Highway', '<U9'), ('1st_Road_Class', '<i4'), ('1st_Road_Number', '<i4'), ('Road_Type', '<i4'), ('Speed_limit', '<i4'), ('Junction_Detail', '<i4'), ('Junction_Control', '<i4'), ('2nd_Road_Class', '<i4'), ('2nd_Road_Number', '<i4'), ('Pedestrian_CrossingHuman_Control', '<i4'), ('Pedestrian_CrossingPhysical_Facilities', '<i4'), ('Light_Conditions', '<i4'), ('Weather_Conditions', '<i4'), ('Road_Surface_Conditions', '<i4'), ('Special_Conditions_at_Site', '<i4'), ('Carriageway_Hazards', '<i4'), ('Urban_or_Rural_Area', '<i4'), ('Did_Police_Officer_Attend_Scene_of_Accident', '<i4'), ('LSOA_of_Accident_Location', '<U9')])"
      ]
     },
     "execution_count": 17,
     "metadata": {},
     "output_type": "execute_result"
    }
   ],
   "source": [
    "dataraw_masked[\"accidents\"][:5]"
   ]
  },
  {
   "cell_type": "code",
   "execution_count": 18,
   "metadata": {
    "scrolled": true
   },
   "outputs": [
    {
     "data": {
      "text/plain": [
       "array([(False, False, False, False, False, False, False, False, False, False, False, False, False, False, False, False, False, False, False, False, False, False, False, False, False, False, False, False, False, False, False, False),\n",
       "       (False, False, False, False, False, False, False, False, False, False, False, False, False, False, False, False, False, False, False, False, False, False, False, False, False, False, False, False, False, False, False, False),\n",
       "       (False, False, False, False, False, False, False, False, False, False, False, False, False, False, False, False, False, False, False, False, False, False, False, False, False, False, False, False, False, False, False, False),\n",
       "       (False, False, False, False, False, False, False, False, False, False, False, False, False, False, False, False, False, False, False, False, False, False, False, False, False, False, False, False, False, False, False, False),\n",
       "       (False, False, False, False, False, False, False, False, False, False, False, False, False, False, False, False, False, False, False, False, False, False, False, False, False, False, False, False, False, False, False, False)],\n",
       "      dtype=[('Accident_Index', '?'), ('Location_Easting_OSGR', '?'), ('Location_Northing_OSGR', '?'), ('Longitude', '?'), ('Latitude', '?'), ('Police_Force', '?'), ('Accident_Severity', '?'), ('Number_of_Vehicles', '?'), ('Number_of_Casualties', '?'), ('Date', '?'), ('Day_of_Week', '?'), ('Time', '?'), ('Local_Authority_District', '?'), ('Local_Authority_Highway', '?'), ('1st_Road_Class', '?'), ('1st_Road_Number', '?'), ('Road_Type', '?'), ('Speed_limit', '?'), ('Junction_Detail', '?'), ('Junction_Control', '?'), ('2nd_Road_Class', '?'), ('2nd_Road_Number', '?'), ('Pedestrian_CrossingHuman_Control', '?'), ('Pedestrian_CrossingPhysical_Facilities', '?'), ('Light_Conditions', '?'), ('Weather_Conditions', '?'), ('Road_Surface_Conditions', '?'), ('Special_Conditions_at_Site', '?'), ('Carriageway_Hazards', '?'), ('Urban_or_Rural_Area', '?'), ('Did_Police_Officer_Attend_Scene_of_Accident', '?'), ('LSOA_of_Accident_Location', '?')])"
      ]
     },
     "execution_count": 18,
     "metadata": {},
     "output_type": "execute_result"
    }
   ],
   "source": [
    "dataraw_masked[\"accidents\"].mask[:5]"
   ]
  },
  {
   "cell_type": "markdown",
   "metadata": {},
   "source": [
    "The first 5 rows seem complete. What about the rest?"
   ]
  },
  {
   "cell_type": "code",
   "execution_count": 19,
   "metadata": {},
   "outputs": [
    {
     "data": {
      "text/plain": [
       "5776"
      ]
     },
     "execution_count": 19,
     "metadata": {},
     "output_type": "execute_result"
    }
   ],
   "source": [
    "np.count_nonzero(dataraw_masked[\"accidents\"].mask)"
   ]
  },
  {
   "cell_type": "markdown",
   "metadata": {},
   "source": [
    "Oh oh, around 5% of rows have missing values. Which rows?"
   ]
  },
  {
   "cell_type": "code",
   "execution_count": 20,
   "metadata": {},
   "outputs": [
    {
     "name": "stdout",
     "output_type": "stream",
     "text": [
      "[   578    582   2326 ... 117533 117534 117535]\n"
     ]
    }
   ],
   "source": [
    "row_incomplete = np.where(dataraw_masked[\"accidents\"].mask)[0]\n",
    "print(row_incomplete)"
   ]
  },
  {
   "cell_type": "markdown",
   "metadata": {},
   "source": [
    "How many values in total?  \n",
    "Which fields are missing?"
   ]
  },
  {
   "cell_type": "code",
   "execution_count": 21,
   "metadata": {},
   "outputs": [],
   "source": [
    "missingpositions = {}\n",
    "missingvalues = 0\n",
    "missingconfigurations = set()\n",
    "for rowpos in row_incomplete:\n",
    "    missingpositions_thisrow = list(np.where(list(dataraw_masked[\"accidents\"].mask[rowpos]))[0])\n",
    "    missingpositions[rowpos] = missingpositions_thisrow\n",
    "    missingvalues += len(missingpositions_thisrow)\n",
    "    missingconfigurations.add(tuple(missingpositions_thisrow))\n",
    "    \n",
    "missingfieldnames = [np.array(headerraw[\"accidents\"])[c] for c in [list(b) for b in missingconfigurations]]"
   ]
  },
  {
   "cell_type": "markdown",
   "metadata": {},
   "source": [
    "Summary of missing values:"
   ]
  },
  {
   "cell_type": "code",
   "execution_count": 22,
   "metadata": {},
   "outputs": [
    {
     "name": "stdout",
     "output_type": "stream",
     "text": [
      "Incomplete rows: 5776\n",
      "Missing values: 5889\n",
      "\n",
      "Missing field configurations: {(11, 31), (1, 2, 3, 4, 31), (11,), (31,)}\n",
      "['Time' 'LSOA_of_Accident_Location']\n",
      "['Location_Easting_OSGR' 'Location_Northing_OSGR' 'Longitude' 'Latitude'\n",
      " 'LSOA_of_Accident_Location']\n",
      "['Time']\n",
      "['LSOA_of_Accident_Location']\n"
     ]
    }
   ],
   "source": [
    "print(\"Incomplete rows: \" + str(np.count_nonzero(dataraw_masked[\"accidents\"].mask)))\n",
    "print(\"Missing values: \" + str(missingvalues))\n",
    "\n",
    "print(\"\\nMissing field configurations: \" + str(missingconfigurations))\n",
    "for i in missingfieldnames:\n",
    "    print(i)"
   ]
  },
  {
   "cell_type": "markdown",
   "metadata": {},
   "source": [
    "<hr>"
   ]
  },
  {
   "cell_type": "markdown",
   "metadata": {},
   "source": [
    "# Lecture 3: Visual data exploration, Connecting tables, Association test"
   ]
  },
  {
   "cell_type": "markdown",
   "metadata": {},
   "source": [
    "## Visual exploratory data analysis (\"Plot your data\")"
   ]
  },
  {
   "cell_type": "markdown",
   "metadata": {},
   "source": [
    "### Bar plots of categorical variables"
   ]
  },
  {
   "cell_type": "code",
   "execution_count": 23,
   "metadata": {
    "scrolled": true
   },
   "outputs": [
    {
     "data": {
      "text/plain": [
       "['Accident_Index',\n",
       " 'Location_Easting_OSGR',\n",
       " 'Location_Northing_OSGR',\n",
       " 'Longitude',\n",
       " 'Latitude',\n",
       " 'Police_Force',\n",
       " 'Accident_Severity',\n",
       " 'Number_of_Vehicles',\n",
       " 'Number_of_Casualties',\n",
       " 'Date',\n",
       " 'Day_of_Week',\n",
       " 'Time',\n",
       " 'Local_Authority_District',\n",
       " 'Local_Authority_Highway',\n",
       " '1st_Road_Class',\n",
       " '1st_Road_Number',\n",
       " 'Road_Type',\n",
       " 'Speed_limit',\n",
       " 'Junction_Detail',\n",
       " 'Junction_Control',\n",
       " '2nd_Road_Class',\n",
       " '2nd_Road_Number',\n",
       " 'Pedestrian_CrossingHuman_Control',\n",
       " 'Pedestrian_CrossingPhysical_Facilities',\n",
       " 'Light_Conditions',\n",
       " 'Weather_Conditions',\n",
       " 'Road_Surface_Conditions',\n",
       " 'Special_Conditions_at_Site',\n",
       " 'Carriageway_Hazards',\n",
       " 'Urban_or_Rural_Area',\n",
       " 'Did_Police_Officer_Attend_Scene_of_Accident',\n",
       " 'LSOA_of_Accident_Location']"
      ]
     },
     "execution_count": 23,
     "metadata": {},
     "output_type": "execute_result"
    }
   ],
   "source": [
    "headerraw[\"accidents\"]"
   ]
  },
  {
   "cell_type": "code",
   "execution_count": 24,
   "metadata": {},
   "outputs": [
    {
     "data": {
      "image/png": "[encoded data removed]",
      "text/plain": [
       "<Figure size 288x216 with 1 Axes>"
      ]
     },
     "metadata": {
      "needs_background": "light"
     },
     "output_type": "display_data"
    }
   ],
   "source": [
    "field_name = \"Accident_Severity\"\n",
    "field_categories = {1: \"Fatal\", 2: \"Serious\", 3: \"Slight\"}\n",
    "\n",
    "categories, counts = np.unique(dataraw[\"accidents\"][field_name], return_counts=True)\n",
    "\n",
    "fig = plt.figure(figsize=(4, 3))\n",
    "axes = fig.add_axes([0, 0, 1, 1]) # left, bottom, width, height (range 0 to 1)\n",
    "axes.bar(categories, counts, fc=\"gray\") # fc is the face color\n",
    "\n",
    "axes.set_xlabel(\"\")\n",
    "axes.set_ylabel('Count')\n",
    "axes.set_title(field_name)\n",
    "\n",
    "axes.set_xticks(list(field_categories.keys()))\n",
    "axes.set_xticklabels(field_categories.values());"
   ]
  },
  {
   "cell_type": "markdown",
   "metadata": {},
   "source": [
    "We were lucky because the categories 1,2,3 were \"nice\". But usually they aren't, so we need to explicitly map to integers:"
   ]
  },
  {
   "cell_type": "code",
   "execution_count": 25,
   "metadata": {
    "scrolled": true
   },
   "outputs": [
    {
     "data": {
      "image/png": "[encoded data removed]",
      "text/plain": [
       "<Figure size 288x216 with 1 Axes>"
      ]
     },
     "metadata": {
      "needs_background": "light"
     },
     "output_type": "display_data"
    }
   ],
   "source": [
    "field_name = \"Speed_limit\"\n",
    "field_categories = {20: \"20 MPH\", 30: \"30 MPH\", 40: \"40 MPH\", 50: \"50 MPH\", 60: \"60 MPH\", 70: \"70 MPH\", -1: \"N/A\"}\n",
    "\n",
    "categories, counts = np.unique(dataraw[\"accidents\"][field_name], return_counts=True)\n",
    "\n",
    "fig = plt.figure(figsize=(4, 3))\n",
    "axes = fig.add_axes([0, 0, 1, 1]) # left, bottom, width, height (range 0 to 1)\n",
    "axes.bar(range(len(categories)), counts, fc=\"gray\") # fc is the face color\n",
    "\n",
    "axes.set_xlabel(\"\")\n",
    "axes.set_ylabel('Count')\n",
    "axes.set_title(field_name)\n",
    "fig.autofmt_xdate(rotation=45)\n",
    "\n",
    "axes.set_xticks(range(len(categories)))\n",
    "axes.set_xticklabels([field_categories[c] for c in categories]);"
   ]
  },
  {
   "cell_type": "markdown",
   "metadata": {},
   "source": [
    "Instead of copy-pasting code, let's write a function."
   ]
  },
  {
   "cell_type": "code",
   "execution_count": 26,
   "metadata": {
    "scrolled": false
   },
   "outputs": [
    {
     "data": {
      "image/png": "[encoded data removed]",
      "text/plain": [
       "<Figure size 288x216 with 1 Axes>"
      ]
     },
     "metadata": {
      "needs_background": "light"
     },
     "output_type": "display_data"
    }
   ],
   "source": [
    "field_name = \"Light_Conditions\"\n",
    "field_categories = {1: \"Daylight\", 4: \"Darkness - lights lit\", 5: \"Darkness - lights unlit\", 6: \"Darkness - no lighting\", 7: \"Darkness - lighting unknown\", -1: \"Data missing or out of range\"}\n",
    "\n",
    "barplot(dataraw[\"accidents\"], field_name, field_categories)"
   ]
  },
  {
   "cell_type": "markdown",
   "metadata": {},
   "source": [
    "Typing the variable lookup manually is cumbersome. Can we read the excel directly?  \n",
    "pandas can: https://pandas.pydata.org/pandas-docs/stable/reference/api/pandas.read_excel.html"
   ]
  },
  {
   "cell_type": "code",
   "execution_count": 27,
   "metadata": {},
   "outputs": [],
   "source": [
    "variable_lookup = pd.read_excel(\"../references/variable lookup.xls\", sheet_name = None)"
   ]
  },
  {
   "cell_type": "code",
   "execution_count": 28,
   "metadata": {},
   "outputs": [
    {
     "name": "stdout",
     "output_type": "stream",
     "text": [
      "dict_keys(['Introduction', 'Export Variables', 'Police Force', 'Accident Severity', 'Day of Week', 'Local Authority (District)', 'Local Authority (Highway)', '1st Road Class', 'Road Type', 'Speed Limit', 'Junction Detail', 'Junction Control', '2nd Road Class', 'Ped Cross - Human', 'Ped Cross - Physical', 'Light Conditions', 'Weather', 'Road Surface', 'Special Conditions at Site', 'Carriageway Hazards', 'Urban Rural', 'Police Officer Attend', 'Vehicle Type', 'Towing and Articulation', 'Vehicle Manoeuvre', 'Vehicle Location', 'Junction Location', 'Skidding and Overturning', 'Hit Object in Carriageway', 'Veh Leaving Carriageway', 'Hit Object Off Carriageway', '1st Point of Impact', 'Was Vehicle Left Hand Drive', 'Journey Purpose', 'Sex of Driver', 'Age Band', 'Vehicle Propulsion Code', 'Casualty Class', 'Sex of Casualty', 'Age of Casualty', 'Casualty Severity', 'Ped Location', 'Ped Movement', 'Car Passenger', 'Bus Passenger', 'Ped Road Maintenance Worker', 'Casualty Type', 'IMD Decile', 'Home Area Type'])\n",
      "\n",
      "\n",
      "                                          Data Guide\n",
      "0                     Road Accidents and Safety Data\n",
      "1  The data is supplied in comma separated ASCII ...\n",
      "2  The ACC_Index field give a unique index for ea...\n",
      "3  This data guide lists the value labels and for...\n",
      "4  The value “-1” is exported for NULL or out of ...\n",
      "5  The Longitude and Latitude data is based on WG...\n"
     ]
    }
   ],
   "source": [
    "print(variable_lookup.keys())\n",
    "print(\"\\n\")\n",
    "print(variable_lookup[\"Introduction\"])"
   ]
  },
  {
   "cell_type": "markdown",
   "metadata": {},
   "source": [
    "### Histograms of numerical variables"
   ]
  },
  {
   "cell_type": "code",
   "execution_count": 29,
   "metadata": {
    "scrolled": true
   },
   "outputs": [
    {
     "data": {
      "text/plain": [
       "['Accident_Index',\n",
       " 'Vehicle_Reference',\n",
       " 'Casualty_Reference',\n",
       " 'Casualty_Class',\n",
       " 'Sex_of_Casualty',\n",
       " 'Age_of_Casualty',\n",
       " 'Age_Band_of_Casualty',\n",
       " 'Casualty_Severity',\n",
       " 'Pedestrian_Location',\n",
       " 'Pedestrian_Movement',\n",
       " 'Car_Passenger',\n",
       " 'Bus_or_Coach_Passenger',\n",
       " 'Pedestrian_Road_Maintenance_Worker',\n",
       " 'Casualty_Type',\n",
       " 'Casualty_Home_Area_Type',\n",
       " 'Casualty_IMD_Decile']"
      ]
     },
     "execution_count": 29,
     "metadata": {},
     "output_type": "execute_result"
    }
   ],
   "source": [
    "headerraw[\"casualties\"]"
   ]
  },
  {
   "cell_type": "code",
   "execution_count": 30,
   "metadata": {},
   "outputs": [
    {
     "data": {
      "image/png": "[encoded data removed]",
      "text/plain": [
       "<Figure size 288x216 with 1 Axes>"
      ]
     },
     "metadata": {
      "needs_background": "light"
     },
     "output_type": "display_data"
    }
   ],
   "source": [
    "fig = plt.figure(figsize=(4, 3))\n",
    "axes = fig.add_axes([0, 0, 1, 1])\n",
    "axes.hist(dataraw[\"casualties\"][\"Age_of_Casualty\"], bins = np.linspace(-1,121, 123));\n",
    "\n",
    "axes.set_ylabel('Counts')\n",
    "axes.set_title(\"Age_of_Casualty\");"
   ]
  },
  {
   "cell_type": "code",
   "execution_count": 31,
   "metadata": {},
   "outputs": [
    {
     "data": {
      "image/png": "[encoded data removed]",
      "text/plain": [
       "<Figure size 288x216 with 1 Axes>"
      ]
     },
     "metadata": {
      "needs_background": "light"
     },
     "output_type": "display_data"
    }
   ],
   "source": [
    "fig = plt.figure(figsize=(4, 3))\n",
    "axes = fig.add_axes([0, 0, 1, 1])\n",
    "axes.hist(dataraw[\"vehicles\"][\"Age_of_Driver\"], bins = np.linspace(0,121, 122));\n",
    "\n",
    "axes.set_ylabel('Counts')\n",
    "axes.set_title(\"Age_of_Driver\");"
   ]
  },
  {
   "cell_type": "markdown",
   "metadata": {},
   "source": [
    "### Categorical scatterplots"
   ]
  },
  {
   "cell_type": "markdown",
   "metadata": {},
   "source": [
    "Scatterplots are good for relating two numerical variables. If we have one numerical versus one categorical variable, we can do a box plot. But could we also visualize all data points? Yes: https://seaborn.pydata.org/tutorial/categorical.html"
   ]
  },
  {
   "cell_type": "code",
   "execution_count": 32,
   "metadata": {},
   "outputs": [],
   "source": [
    "import seaborn as sns"
   ]
  },
  {
   "cell_type": "code",
   "execution_count": 33,
   "metadata": {
    "scrolled": true
   },
   "outputs": [
    {
     "data": {
      "image/png": "[encoded data removed]",
      "text/plain": [
       "<Figure size 360x360 with 1 Axes>"
      ]
     },
     "metadata": {
      "needs_background": "light"
     },
     "output_type": "display_data"
    }
   ],
   "source": [
    "# Filter\n",
    "mask = (dataraw[\"casualties\"][\"Casualty_Type\"] == 0) | (dataraw[\"casualties\"][\"Casualty_Type\"] == 1) | (dataraw[\"casualties\"][\"Casualty_Type\"] == 9) &    (dataraw[\"casualties\"][\"Age_of_Casualty\"] > -1)\n",
    "mask[600:] = False # Restrict to at most 600 points\n",
    "\n",
    "data_toplot = np.array([dataraw[\"casualties\"][\"Casualty_Type\"][mask], dataraw[\"casualties\"][\"Age_of_Casualty\"][mask]]).T\n",
    "\n",
    "# Plot\n",
    "fig = sns.catplot(x = 'Casualty Type', y = 'Age of Casualty', data = pd.DataFrame(data_toplot, columns=['Casualty Type', 'Age of Casualty']), kind = \"swarm\") # also show: violin\n",
    "fig.set_xticklabels([\"Pedestrian\", \"Cyclist\", \"Car occupant\"]);"
   ]
  },
  {
   "cell_type": "code",
   "execution_count": 34,
   "metadata": {},
   "outputs": [
    {
     "data": {
      "image/png": "[encoded data removed]",
      "text/plain": [
       "<Figure size 445.375x360 with 1 Axes>"
      ]
     },
     "metadata": {
      "needs_background": "light"
     },
     "output_type": "display_data"
    }
   ],
   "source": [
    "mask = (dataraw[\"casualties\"][\"Casualty_Type\"] == 0) | (dataraw[\"casualties\"][\"Casualty_Type\"] == 1) | (dataraw[\"casualties\"][\"Casualty_Type\"] == 9) & (dataraw[\"casualties\"][\"Age_of_Casualty\"] > -1) & (dataraw[\"casualties\"][\"Sex_of_Casualty\"] > -1)\n",
    "mask[600:] = False\n",
    "\n",
    "data_toplot = np.array([dataraw[\"casualties\"][\"Casualty_Type\"][mask], dataraw[\"casualties\"][\"Age_of_Casualty\"][mask], dataraw[\"casualties\"][\"Sex_of_Casualty\"][mask]]).T\n",
    "\n",
    "fig = sns.catplot(x='Casualty Type', y='Age of Casualty', hue='Sex of Casualty', data=pd.DataFrame(data_toplot, columns=['Casualty Type', 'Age of Casualty', 'Sex of Casualty']), kind=\"violin\") # also show: violin\n",
    "fig.set_xticklabels([\"Pedestrian\", \"Cyclist\", \"Car occupant\"]);"
   ]
  },
  {
   "cell_type": "markdown",
   "metadata": {},
   "source": [
    "## Connecting tables with np.isin()"
   ]
  },
  {
   "cell_type": "markdown",
   "metadata": {},
   "source": [
    "**Question: How many babies and toddlers died or got injured on UK roads in June 2019?**"
   ]
  },
  {
   "cell_type": "markdown",
   "metadata": {},
   "source": [
    "1. Get all the accident indices from the accidents table for June\n",
    "2. Filter al casualties for those indices\n",
    "3. Filter those casualties for ages 0-4"
   ]
  },
  {
   "cell_type": "markdown",
   "metadata": {},
   "source": [
    "Numpy has the fucntion isin() to select for a list of indices: https://numpy.org/doc/stable/reference/generated/numpy.isin.html"
   ]
  },
  {
   "cell_type": "code",
   "execution_count": 35,
   "metadata": {},
   "outputs": [
    {
     "data": {
      "text/plain": [
       "196"
      ]
     },
     "execution_count": 35,
     "metadata": {},
     "output_type": "execute_result"
    }
   ],
   "source": [
    "# 1\n",
    "ind = [x[\"Accident_Index\"] for x in dataraw[\"accidents\"] if \"/06/\" in x[\"Date\"]]\n",
    "# 2\n",
    "datafiltered = dataraw[\"casualties\"][np.isin(dataraw[\"casualties\"][\"Accident_Index\"], ind)]\n",
    "# 3\n",
    "datafiltered = datafiltered[(datafiltered[\"Age_of_Casualty\"] >= 0) & (datafiltered[\"Age_of_Casualty\"] <= 4)]\n",
    "\n",
    "len(datafiltered)"
   ]
  },
  {
   "cell_type": "markdown",
   "metadata": {},
   "source": [
    "**Question: Who killed or injured them?**"
   ]
  },
  {
   "cell_type": "markdown",
   "metadata": {},
   "source": [
    "Homework"
   ]
  },
  {
   "cell_type": "markdown",
   "metadata": {},
   "source": [
    "## Association test between two categorical variables \n",
    "**(Pearson $\\chi^2$ test of independence)**"
   ]
  },
  {
   "cell_type": "markdown",
   "metadata": {},
   "source": [
    "Inspired by:  \n",
    "https://peterstatistics.com/CrashCourse/3-TwoVarUnpair/NomNom/NomNom-2a-Test.html  \n",
    "https://bit.ly/3kbwKEL"
   ]
  },
  {
   "cell_type": "markdown",
   "metadata": {},
   "source": [
    "**Let us ask: Is there a statistically significant association between accident severity and speed limit?**  \n",
    "We ask because speed limit is something that the city government can regulate."
   ]
  },
  {
   "cell_type": "markdown",
   "metadata": {},
   "source": [
    "### Hypothesis testing"
   ]
  },
  {
   "cell_type": "markdown",
   "metadata": {},
   "source": [
    "We are now in the realm of [Statistical hypothesis testing](https://en.wikipedia.org/wiki/Statistical_hypothesis_testing). In general, we must first state and compare two hypotheses:\n",
    "\n",
    "- $H_0$ (null hypothesis): There is no statistically significant relationship between accident severity and speed limit.\n",
    "- $H_\\alpha$ (alternative hypothesis): There is a statistically significant relationship between accident severity and speed limit.\n",
    "\n",
    "We must then 1) state+check statistical assumptions, 2) choose an appropriate test and test statistic $T$, 3) derive the distribution for the test statistic, 4) select a significance level $\\alpha$, usually 0.01 or 0.05, 5) calculate the observed test statistic $t_{\\mathrm obs}$, 6) calculate the [p-value](https://en.wikipedia.org/wiki/P-value). \n",
    "\n",
    "If the p-value $< \\alpha$, then the null hypothesis will be rejected."
   ]
  },
  {
   "cell_type": "markdown",
   "metadata": {},
   "source": [
    "### Pearson $\\chi^2$ test of independence"
   ]
  },
  {
   "cell_type": "markdown",
   "metadata": {},
   "source": [
    "To test association between two categorical variables, one uses the [Pearson chi-square test of independence](https://en.wikipedia.org/wiki/Pearson%27s_chi-squared_test). If the significance of this test (p-value) is below a significance level (typically 0.05), the two variables have a significant association.\n",
    "\n",
    "The Pearson chi-square test should only be used if most cells have an expected count above 5, and the minimum expected count is at least 1."
   ]
  },
  {
   "cell_type": "code",
   "execution_count": 36,
   "metadata": {},
   "outputs": [],
   "source": [
    "from scipy.stats import chi2_contingency"
   ]
  },
  {
   "cell_type": "code",
   "execution_count": 37,
   "metadata": {},
   "outputs": [
    {
     "name": "stdout",
     "output_type": "stream",
     "text": [
      "(117456, 2)\n",
      "[[30  3]\n",
      " [30  3]\n",
      " [30  3]\n",
      " ...\n",
      " [60  3]\n",
      " [30  3]\n",
      " [60  2]]\n"
     ]
    }
   ],
   "source": [
    "mask = (dataraw[\"accidents\"][\"Speed_limit\"] != -1)\n",
    "severityspeed = np.array([dataraw[\"accidents\"][\"Speed_limit\"][mask], dataraw[\"accidents\"][\"Accident_Severity\"][mask]]).T\n",
    "print(severityspeed.shape)\n",
    "print(severityspeed)"
   ]
  },
  {
   "cell_type": "markdown",
   "metadata": {},
   "source": [
    "We crosstabulate using pandas:\n",
    "https://pandas.pydata.org/pandas-docs/stable/reference/api/pandas.crosstab.html\n",
    "\n",
    "The cross tabulation is also known as contingency table."
   ]
  },
  {
   "cell_type": "code",
   "execution_count": 38,
   "metadata": {},
   "outputs": [
    {
     "data": {
      "text/html": [
       "<div>\n",
       "<style scoped>\n",
       "    .dataframe tbody tr th:only-of-type {\n",
       "        vertical-align: middle;\n",
       "    }\n",
       "\n",
       "    .dataframe tbody tr th {\n",
       "        vertical-align: top;\n",
       "    }\n",
       "\n",
       "    .dataframe thead th {\n",
       "        text-align: right;\n",
       "    }\n",
       "</style>\n",
       "<table border=\"1\" class=\"dataframe\">\n",
       "  <thead>\n",
       "    <tr style=\"text-align: right;\">\n",
       "      <th>Accident Severity</th>\n",
       "      <th>1</th>\n",
       "      <th>2</th>\n",
       "      <th>3</th>\n",
       "    </tr>\n",
       "    <tr>\n",
       "      <th>Speed limit</th>\n",
       "      <th></th>\n",
       "      <th></th>\n",
       "      <th></th>\n",
       "    </tr>\n",
       "  </thead>\n",
       "  <tbody>\n",
       "    <tr>\n",
       "      <th>20</th>\n",
       "      <td>55</td>\n",
       "      <td>1859</td>\n",
       "      <td>9833</td>\n",
       "    </tr>\n",
       "    <tr>\n",
       "      <th>30</th>\n",
       "      <td>544</td>\n",
       "      <td>12995</td>\n",
       "      <td>55766</td>\n",
       "    </tr>\n",
       "    <tr>\n",
       "      <th>40</th>\n",
       "      <td>185</td>\n",
       "      <td>2115</td>\n",
       "      <td>7721</td>\n",
       "    </tr>\n",
       "    <tr>\n",
       "      <th>50</th>\n",
       "      <td>118</td>\n",
       "      <td>994</td>\n",
       "      <td>3604</td>\n",
       "    </tr>\n",
       "    <tr>\n",
       "      <th>60</th>\n",
       "      <td>551</td>\n",
       "      <td>4091</td>\n",
       "      <td>9872</td>\n",
       "    </tr>\n",
       "    <tr>\n",
       "      <th>70</th>\n",
       "      <td>205</td>\n",
       "      <td>1363</td>\n",
       "      <td>5585</td>\n",
       "    </tr>\n",
       "  </tbody>\n",
       "</table>\n",
       "</div>"
      ],
      "text/plain": [
       "Accident Severity    1      2      3\n",
       "Speed limit                         \n",
       "20                  55   1859   9833\n",
       "30                 544  12995  55766\n",
       "40                 185   2115   7721\n",
       "50                 118    994   3604\n",
       "60                 551   4091   9872\n",
       "70                 205   1363   5585"
      ]
     },
     "execution_count": 38,
     "metadata": {},
     "output_type": "execute_result"
    }
   ],
   "source": [
    "observed_pd = pd.crosstab(severityspeed[:, 0], severityspeed[:, 1], rownames = [\"Speed limit\"], colnames = [\"Accident Severity\"]) \n",
    "observed = observed_pd.to_numpy()\n",
    "observed_pd"
   ]
  },
  {
   "cell_type": "markdown",
   "metadata": {},
   "source": [
    "The idea is now to compare these observed values with expected values.  \n",
    "The expected values can be calculated using:\n",
    "\\begin{equation*}\n",
    "E_{i,j} = \\frac{R_i \\times C_j}{N}\n",
    "\\end{equation*}\n",
    "The $E_{i,j}$ indicates the expected count in row i, column j. The $R_i$ is the row total of row i, and $C_j$ the column total of column j. The $N$ is the grand total."
   ]
  },
  {
   "cell_type": "code",
   "execution_count": 39,
   "metadata": {},
   "outputs": [
    {
     "data": {
      "text/plain": [
       "array([[  165,  2341,  9239],\n",
       "       [  978, 13817, 54509],\n",
       "       [  141,  1997,  7881],\n",
       "       [   66,   940,  3709],\n",
       "       [  204,  2893, 11415],\n",
       "       [  100,  1426,  5625]])"
      ]
     },
     "execution_count": 39,
     "metadata": {},
     "output_type": "execute_result"
    }
   ],
   "source": [
    "expected = np.zeros(observed.shape, dtype=int) # E, int for being more human-readable\n",
    "colTotals = observed.sum(axis = 0) # C\n",
    "rowTotals = observed.sum(axis = 1) # R\n",
    "N = rowTotals.sum()\n",
    "\n",
    "for i in range(observed.shape[0]):\n",
    "    for j in range(observed.shape[1]):\n",
    "        expected[i,j] = (rowTotals[i] * colTotals[j]) / N\n",
    "        \n",
    "expected"
   ]
  },
  {
   "cell_type": "markdown",
   "metadata": {},
   "source": [
    "That was the manual way of doing it. `chi2_contingency()` can do it for us automatically:"
   ]
  },
  {
   "cell_type": "code",
   "execution_count": 40,
   "metadata": {
    "scrolled": false
   },
   "outputs": [
    {
     "data": {
      "text/plain": [
       "(1951.0278960291566,\n",
       " 0.0,\n",
       " 10,\n",
       " array([[  165,  2341,  9239],\n",
       "        [  978, 13817, 54509],\n",
       "        [  141,  1997,  7881],\n",
       "        [   66,   940,  3709],\n",
       "        [  204,  2893, 11415],\n",
       "        [  100,  1426,  5625]]))"
      ]
     },
     "execution_count": 40,
     "metadata": {},
     "output_type": "execute_result"
    }
   ],
   "source": [
    "chiVal, pVal, df, expected = chi2_contingency(observed)\n",
    "chiVal, pVal, df, expected.astype(int)"
   ]
  },
  {
   "cell_type": "markdown",
   "metadata": {},
   "source": [
    "We now know that the association is significant, but how strong is it?  \n",
    "Cramer's V, for example, can give an answer: https://en.wikipedia.org/wiki/Cram%C3%A9r%27s_V\n",
    "\n",
    "The formula is:\n",
    "\\begin{equation*}\n",
    "V=\\sqrt{\\frac{\\chi^{2} / N}{\\min (c-1, r-1)}}\n",
    "\\end{equation*}\n",
    "where $c$ is the number of columns, $r$ is the number of rows."
   ]
  },
  {
   "cell_type": "code",
   "execution_count": 41,
   "metadata": {},
   "outputs": [
    {
     "data": {
      "text/plain": [
       "0.09113372842702146"
      ]
     },
     "execution_count": 41,
     "metadata": {},
     "output_type": "execute_result"
    }
   ],
   "source": [
    "V = np.sqrt( (chiVal/N) / (min(observed.shape)-1) )\n",
    "V"
   ]
  },
  {
   "cell_type": "markdown",
   "metadata": {},
   "source": [
    "A V close to 0 implies a weak effect."
   ]
  },
  {
   "cell_type": "markdown",
   "metadata": {},
   "source": [
    "Let us visualize this and make a human-readable plot and report below."
   ]
  },
  {
   "cell_type": "code",
   "execution_count": 42,
   "metadata": {
    "scrolled": false
   },
   "outputs": [
    {
     "data": {
      "image/png": "[encoded data removed]",
      "text/plain": [
       "<Figure size 864x432 with 6 Axes>"
      ]
     },
     "metadata": {
      "needs_background": "light"
     },
     "output_type": "display_data"
    }
   ],
   "source": [
    "fig, axes = plt.subplots(nrows=2, ncols=3, figsize=(12, 6))\n",
    "\n",
    "severity_labels = [\"Fatal\", \"Serious\", \"Slight\"]\n",
    "speed_categories = {20: \"20 MPH\", 30: \"30 MPH\", 40: \"40 MPH\", 50: \"50 MPH\", 60: \"60 MPH\", 70: \"70 MPH\"}\n",
    "x = np.array(list(speed_categories.keys()))\n",
    "\n",
    "for i, ax in enumerate(axes[0]):\n",
    "    ax.plot(x, observed[:,i], 'ro-', label='Observed')\n",
    "    ax.plot(x, expected[:,i], 'bo-', label='Expected')\n",
    "    if i==0: \n",
    "        ax.set_ylabel('Casualties')\n",
    "        ax.legend(loc='best');\n",
    "    ax.set_title(severity_labels[i])\n",
    "    ax.set_xticks(x)\n",
    "    ax.set_xticklabels(list(speed_categories.values()))\n",
    "    fig.autofmt_xdate(rotation=45)\n",
    "\n",
    "for i, ax in enumerate(axes[1]):\n",
    "    ax.plot(x, observed[:,i]/expected[:,i], 'go-')\n",
    "    ax.plot(x, np.ones(x.shape), 'k:')\n",
    "    \n",
    "    if i==0: \n",
    "        ax.set_ylabel('Observed/Expected')\n",
    "    ax.set_xticks(x)\n",
    "    ax.set_xticklabels(list(speed_categories.values()))\n",
    "    fig.autofmt_xdate(rotation=45)"
   ]
  },
  {
   "cell_type": "markdown",
   "metadata": {},
   "source": [
    "**Conclusion**"
   ]
  },
  {
   "cell_type": "markdown",
   "metadata": {},
   "source": [
    "An association only tells us about correlation, not causation. However, in this case, there is good reason to say that the speed of cars are a cause of the accident severity. Although Cramer's V is low, there is a very clear effect, especially for fatal collisions, $\\chi^2$(10, N = 117456) = 1951.03, p < .001, V = 0.091.\n",
    "\n",
    "The conclusion is therefore that **\"Speed kills\"**:  \n",
    "Fatal collisions are over 2 times more likely than expected for high speeds (>60 mph), and are 2-3 times less likely than expected for low speed limits (<30 mph). An urban planning policy recommendation would therefore be: To reduce fatalities, reduce speed limits."
   ]
  },
  {
   "cell_type": "markdown",
   "metadata": {},
   "source": [
    "What about statistical tests for different combinations of numerical/categorical variables?\n",
    "<img src=\"../references/flowchart-for-choosing-a-statistical-test.png\" width=\"600px\"/>"
   ]
  },
  {
   "cell_type": "markdown",
   "metadata": {},
   "source": [
    "<hr>"
   ]
  },
  {
   "cell_type": "markdown",
   "metadata": {},
   "source": [
    "# Lecture 4: Spatial filtering"
   ]
  },
  {
   "cell_type": "markdown",
   "metadata": {},
   "source": [
    "Data set downloaded on Jan 20th, 2021 from here: https://geoportal.statistics.gov.uk/datasets/lower-layer-super-output-area-december-2011-ew-bsc-v2/data\n",
    "As of feb 19, 2021, the data set is down."
   ]
  },
  {
   "cell_type": "code",
   "execution_count": null,
   "metadata": {},
   "outputs": [],
   "source": [
    "cityname = \"Bristol\"\n",
    "cityid = \"bristol\""
   ]
  },
  {
   "cell_type": "markdown",
   "metadata": {},
   "source": [
    "## Filtering with external table"
   ]
  },
  {
   "cell_type": "code",
   "execution_count": null,
   "metadata": {},
   "outputs": [],
   "source": [
    "lsoa = np.genfromtxt(PATH[\"data_external\"] + \"Lower_Layer_Super_Output_Area__December_2011__EW_BSC_V2.csv\", delimiter=',', dtype=None, names=True, encoding='utf-8-sig')"
   ]
  },
  {
   "cell_type": "code",
   "execution_count": null,
   "metadata": {},
   "outputs": [],
   "source": [
    "lsoa"
   ]
  },
  {
   "cell_type": "markdown",
   "metadata": {},
   "source": [
    "Let's select all rows for the city name:"
   ]
  },
  {
   "cell_type": "code",
   "execution_count": null,
   "metadata": {},
   "outputs": [],
   "source": [
    "np.count_nonzero(lsoa[\"LSOA11NM\"] == cityname)"
   ]
  },
  {
   "cell_type": "markdown",
   "metadata": {},
   "source": [
    "This didn't work. Why? A: We need to find a substring."
   ]
  },
  {
   "cell_type": "markdown",
   "metadata": {},
   "source": [
    "Solution: https://stackoverflow.com/questions/38974168/finding-entries-containing-a-substring-in-a-numpy-array"
   ]
  },
  {
   "cell_type": "code",
   "execution_count": null,
   "metadata": {
    "scrolled": true
   },
   "outputs": [],
   "source": [
    "city_LSOA11CD_rows = np.flatnonzero(np.core.defchararray.find(lsoa['LSOA11NM'],cityname)!=-1)\n",
    "city_LSOA11CD = lsoa['LSOA11CD'][city_LSOA11CD_rows]\n",
    "city_LSOA11CD"
   ]
  },
  {
   "cell_type": "markdown",
   "metadata": {},
   "source": [
    "We want to use this list of LSOA11 codes to restrict our accident data set."
   ]
  },
  {
   "cell_type": "code",
   "execution_count": null,
   "metadata": {},
   "outputs": [],
   "source": [
    "city_accidentindices = dataraw[\"accidents\"][\"Accident_Index\"][np.isin(dataraw[\"accidents\"][\"LSOA_of_Accident_Location\"], city_LSOA11CD)]\n",
    "len(city_accidentindices)"
   ]
  },
  {
   "cell_type": "markdown",
   "metadata": {},
   "source": [
    "Filter"
   ]
  },
  {
   "cell_type": "code",
   "execution_count": null,
   "metadata": {},
   "outputs": [],
   "source": [
    "datacity = {}\n",
    "for tablename in TABLENAMES:\n",
    "    datacity[tablename] = dataraw[tablename][np.isin(dataraw[tablename][\"Accident_Index\"], city_accidentindices)]"
   ]
  },
  {
   "cell_type": "markdown",
   "metadata": {},
   "source": [
    "Export"
   ]
  },
  {
   "cell_type": "code",
   "execution_count": null,
   "metadata": {},
   "outputs": [],
   "source": [
    "for tablename in TABLENAMES:\n",
    "    with open(PATH[\"data_interim\"] + tablename + \"_\" + cityid + \".csv\", \"w\") as f:\n",
    "        w = csv.writer(f)\n",
    "        w.writerow(dataraw[tablename].dtype.names)\n",
    "        w.writerows(datacity[tablename])"
   ]
  },
  {
   "cell_type": "markdown",
   "metadata": {},
   "source": [
    "## Basics of geography (geographical information science)"
   ]
  },
  {
   "cell_type": "markdown",
   "metadata": {},
   "source": [
    "https://en.wikipedia.org/wiki/Latitude  \n",
    "https://en.wikipedia.org/wiki/Prime_meridian  \n",
    "https://en.wikipedia.org/wiki/Map_projection  \n",
    "https://en.wikipedia.org/wiki/Earth_radius  \n",
    "https://en.wikipedia.org/wiki/Geoid  \n",
    "https://en.wikipedia.org/wiki/World_Geodetic_System  \n",
    "https://en.wikipedia.org/wiki/Grid_reference_system"
   ]
  },
  {
   "cell_type": "markdown",
   "metadata": {},
   "source": [
    "Our variables `*_OSGR` are based on this:\n",
    "https://en.wikipedia.org/wiki/Ordnance_Survey_National_Grid"
   ]
  },
  {
   "cell_type": "markdown",
   "metadata": {},
   "source": [
    "## Spatial filtering with shapely"
   ]
  },
  {
   "cell_type": "code",
   "execution_count": null,
   "metadata": {},
   "outputs": [],
   "source": [
    "with open(PATH[\"data_processed\"] + \"citieslad.json\") as f:\n",
    "    cities_json = json.load(f)"
   ]
  },
  {
   "cell_type": "code",
   "execution_count": null,
   "metadata": {
    "scrolled": true
   },
   "outputs": [],
   "source": [
    "cities_json[cityname][\"geometry\"]"
   ]
  },
  {
   "cell_type": "code",
   "execution_count": null,
   "metadata": {},
   "outputs": [],
   "source": [
    "city_boundary = shapely.geometry.shape(cities_json[cityname][\"geometry\"])\n",
    "type(city_boundary)"
   ]
  },
  {
   "cell_type": "markdown",
   "metadata": {},
   "source": [
    "Jupyter visualizes shapely objects!"
   ]
  },
  {
   "cell_type": "code",
   "execution_count": null,
   "metadata": {
    "scrolled": true
   },
   "outputs": [],
   "source": [
    "city_boundary"
   ]
  },
  {
   "cell_type": "code",
   "execution_count": null,
   "metadata": {},
   "outputs": [],
   "source": [
    "city_boundary.geom_type"
   ]
  },
  {
   "cell_type": "markdown",
   "metadata": {},
   "source": [
    "Let's get all accident coordinates (from the whole UK)"
   ]
  },
  {
   "cell_type": "code",
   "execution_count": null,
   "metadata": {},
   "outputs": [],
   "source": [
    "lon_list = dataraw[\"accidents\"][\"Longitude\"]\n",
    "lat_list = dataraw[\"accidents\"][\"Latitude\"]"
   ]
  },
  {
   "cell_type": "markdown",
   "metadata": {},
   "source": [
    "`contains()` and `within()` check for point inclusion:"
   ]
  },
  {
   "cell_type": "code",
   "execution_count": null,
   "metadata": {},
   "outputs": [],
   "source": [
    "print(city_boundary.contains(Point(lon_list[0], lat_list[0])))\n",
    "print(city_boundary.contains(Point(lon_list[102135], lat_list[102135])))"
   ]
  },
  {
   "cell_type": "code",
   "execution_count": null,
   "metadata": {},
   "outputs": [],
   "source": [
    "city_acc_rowindices = []\n",
    "for i in range(len(lon_list)):\n",
    "    if Point(lon_list[i], lat_list[i]).within(city_boundary):\n",
    "        city_acc_rowindices.append(i)"
   ]
  },
  {
   "cell_type": "code",
   "execution_count": null,
   "metadata": {},
   "outputs": [],
   "source": [
    "len(city_acc_rowindices)"
   ]
  },
  {
   "cell_type": "code",
   "execution_count": null,
   "metadata": {},
   "outputs": [],
   "source": [
    "datacity = {}\n",
    "datacity[\"accidents\"] = dataraw[\"accidents\"][city_acc_rowindices]\n",
    "len(datacity[\"accidents\"])"
   ]
  },
  {
   "cell_type": "code",
   "execution_count": null,
   "metadata": {},
   "outputs": [],
   "source": [
    "with open(PATH[\"data_interim\"] + \"accidents_\" + cityid + \"lad.csv\", \"w\") as f:\n",
    "    w = csv.writer(f)\n",
    "    w.writerow(dataraw[\"accidents\"].dtype.names)\n",
    "    w.writerows(datacity[\"accidents\"])"
   ]
  },
  {
   "cell_type": "markdown",
   "metadata": {},
   "source": [
    "Limit vehicles and casualties to these AccidentIndices"
   ]
  },
  {
   "cell_type": "code",
   "execution_count": null,
   "metadata": {},
   "outputs": [],
   "source": [
    "datacity[\"vehicles\"] = dataraw[\"vehicles\"][np.isin(dataraw[\"vehicles\"][\"Accident_Index\"], datacity[\"accidents\"][\"Accident_Index\"])]\n",
    "datacity[\"casualties\"] = dataraw[\"casualties\"][np.isin(dataraw[\"casualties\"][\"Accident_Index\"], datacity[\"accidents\"][\"Accident_Index\"])]"
   ]
  },
  {
   "cell_type": "code",
   "execution_count": null,
   "metadata": {},
   "outputs": [],
   "source": [
    "len(datacity[\"accidents\"]), len(datacity[\"vehicles\"]), len(datacity[\"casualties\"])"
   ]
  },
  {
   "cell_type": "code",
   "execution_count": null,
   "metadata": {},
   "outputs": [],
   "source": [
    "with open(PATH[\"data_interim\"] + \"vehicles_\" + cityid + \"lad.csv\", \"w\") as f:\n",
    "    w = csv.writer(f)\n",
    "    w.writerow(dataraw[\"vehicles\"].dtype.names)\n",
    "    w.writerows(datacity[\"vehicles\"])\n",
    "\n",
    "with open(PATH[\"data_interim\"] + \"casualties_\" + cityid + \"lad.csv\", \"w\") as f:\n",
    "    w = csv.writer(f)\n",
    "    w.writerow(dataraw[\"casualties\"].dtype.names)\n",
    "    w.writerows(datacity[\"casualties\"])"
   ]
  },
  {
   "cell_type": "code",
   "execution_count": null,
   "metadata": {},
   "outputs": [],
   "source": [
    "!diff ../data/interim/accidents_bristol.csv ../data/interim/accidents_bristollad.csv"
   ]
  },
  {
   "cell_type": "markdown",
   "metadata": {},
   "source": [
    "What does it mean?  \n",
    "See: https://www.computerhope.com/unix/udiff.htm"
   ]
  },
  {
   "cell_type": "markdown",
   "metadata": {},
   "source": [
    "<hr>"
   ]
  },
  {
   "cell_type": "markdown",
   "metadata": {},
   "source": [
    "# Lecture 5: Visualizing spatial data"
   ]
  },
  {
   "cell_type": "markdown",
   "metadata": {},
   "source": [
    "Inspired by: https://alysivji.github.io/getting-started-with-folium.html"
   ]
  },
  {
   "cell_type": "code",
   "execution_count": null,
   "metadata": {},
   "outputs": [],
   "source": [
    "latlons = np.vstack((datacity[\"accidents\"]['Latitude'], datacity[\"accidents\"]['Longitude'])).T\n",
    "\n",
    "centroid = list(MultiPoint(latlons).centroid.coords)[0]\n",
    "\n",
    "m1 = folium.Map(centroid, zoom_start=11)\n",
    "\n",
    "for row in datacity[\"accidents\"]:\n",
    "    folium.CircleMarker([row['Latitude'], row['Longitude']],\n",
    "                        radius = 5,\n",
    "                        popup = row['Accident_Index'] + \"\\n\" + row[\"Date\"] + \", \" + row[\"Time\"],\n",
    "                        fill_color = \"#3db7e4\",\n",
    "                       ).add_to(m1)\n",
    "\n",
    "HeatMap(latlons).add_to(folium.FeatureGroup(name='Heat Map').add_to(m1))\n",
    "folium.LayerControl().add_to(m1)\n",
    "m1"
   ]
  },
  {
   "cell_type": "markdown",
   "metadata": {},
   "source": [
    "The heatmap is built with KDE:  \n",
    "https://en.wikipedia.org/wiki/Kernel_density_estimation"
   ]
  },
  {
   "cell_type": "markdown",
   "metadata": {},
   "source": [
    "We can also add automatic clusters:"
   ]
  },
  {
   "cell_type": "code",
   "execution_count": null,
   "metadata": {},
   "outputs": [],
   "source": [
    "latlons = np.vstack( (datacity[\"accidents\"]['Latitude'], datacity[\"accidents\"]['Longitude'])).T\n",
    "\n",
    "centroid = list(MultiPoint(latlons).centroid.coords)[0]\n",
    "\n",
    "m2 = folium.Map(centroid, zoom_start=11)\n",
    "\n",
    "marker_cluster = MarkerCluster().add_to(folium.FeatureGroup(name='Clusters').add_to(m2))\n",
    "\n",
    "for row in datacity[\"accidents\"]:\n",
    "    folium.CircleMarker([row['Latitude'], row['Longitude']],\n",
    "                        radius = 5,\n",
    "                        popup = row['Accident_Index'] + \"\\n\" + row[\"Date\"] + \", \" + row[\"Time\"],\n",
    "                        fill_color = \"#3db7e4\",\n",
    "                       ).add_to(marker_cluster)\n",
    "\n",
    "HeatMap(latlons).add_to(folium.FeatureGroup(name='Heat Map').add_to(m2))\n",
    "folium.LayerControl().add_to(m2)\n",
    "m2"
   ]
  }
 ],
 "metadata": {
  "kernelspec": {
   "display_name": "Python 3",
   "language": "python",
   "name": "python3"
  },
  "language_info": {
   "codemirror_mode": {
    "name": "ipython",
    "version": 3
   },
   "file_extension": ".py",
   "mimetype": "text/x-python",
   "name": "python",
   "nbconvert_exporter": "python",
   "pygments_lexer": "ipython3",
   "version": "3.8.3"
  }
 },
 "nbformat": 4,
 "nbformat_minor": 2
}